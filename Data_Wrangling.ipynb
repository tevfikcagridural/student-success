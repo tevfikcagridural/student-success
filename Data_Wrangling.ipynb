{
  "nbformat": 4,
  "nbformat_minor": 0,
  "metadata": {
    "colab": {
      "name": "Data Wrangling",
      "provenance": [],
      "collapsed_sections": [],
      "toc_visible": true
    },
    "kernelspec": {
      "name": "python3",
      "display_name": "Python 3"
    }
  },
  "cells": [
    {
      "cell_type": "markdown",
      "metadata": {
        "id": "uiY2BrSxiIr_"
      },
      "source": [
        "## Imports"
      ]
    },
    {
      "cell_type": "code",
      "metadata": {
        "id": "mKrgDu8iI3rk"
      },
      "source": [
        "from google.colab import drive\n",
        "import matplotlib.pyplot as plt\n",
        "import numpy as np\n",
        "import pandas as pd"
      ],
      "execution_count": null,
      "outputs": []
    },
    {
      "cell_type": "markdown",
      "metadata": {
        "id": "KJM9jWdRsTRT"
      },
      "source": [
        "# Google Drive connection\n",
        "For this project, I will store the data on my personal google drive and below set up a connection to it. So, I can load the CSV files as they are from a system folder."
      ]
    },
    {
      "cell_type": "code",
      "metadata": {
        "id": "-WkmLXZjkblJ",
        "colab": {
          "base_uri": "https://localhost:8080/"
        },
        "outputId": "60600b3a-275e-4f4c-891c-86d7052f54d5"
      },
      "source": [
        "drive.mount('/gdrive')"
      ],
      "execution_count": null,
      "outputs": [
        {
          "output_type": "stream",
          "text": [
            "Drive already mounted at /gdrive; to attempt to forcibly remount, call drive.mount(\"/gdrive\", force_remount=True).\n"
          ],
          "name": "stdout"
        }
      ]
    },
    {
      "cell_type": "code",
      "metadata": {
        "id": "JVuV4wuyJSny"
      },
      "source": [
        "data_folder =  '/gdrive/My Drive/Data Science Career Track/Unit 7/capstone_two_project_folder/data/'"
      ],
      "execution_count": null,
      "outputs": []
    },
    {
      "cell_type": "markdown",
      "metadata": {
        "id": "bvBnnQHxXwMq"
      },
      "source": [
        "# Data Colleciton\n"
      ]
    },
    {
      "cell_type": "markdown",
      "metadata": {
        "id": "v2H54DPgbday"
      },
      "source": [
        "## Data Loading"
      ]
    },
    {
      "cell_type": "code",
      "metadata": {
        "id": "goTAABH1hCYy"
      },
      "source": [
        "file_assessments  = data_folder + 'assessments.csv'\n",
        "file_courses = data_folder + 'courses.csv'\n",
        "file_student_assessment = data_folder + 'studentAssessment.csv'\n",
        "file_student_info = data_folder + 'studentInfo.csv'\n",
        "file_student_register = data_folder + 'studentRegistration.csv'\n",
        "file_student_vle = data_folder + 'studentVle.csv'\n",
        "file_vle = data_folder + 'vle.csv'"
      ],
      "execution_count": null,
      "outputs": []
    },
    {
      "cell_type": "code",
      "metadata": {
        "id": "UAUHWTHvj_TV"
      },
      "source": [
        "raw_assessments = pd.read_csv(file_assessments)\n",
        "raw_courses = pd.read_csv(file_courses)\n",
        "raw_student_assessment = pd.read_csv(file_student_assessment)\n",
        "raw_student_info = pd.read_csv(file_student_info)\n",
        "raw_student_register = pd.read_csv(file_student_register)\n",
        "raw_student_vle = pd.read_csv(file_student_vle)\n",
        "raw_vle = pd.read_csv(file_vle)"
      ],
      "execution_count": null,
      "outputs": []
    },
    {
      "cell_type": "code",
      "metadata": {
        "id": "J4OA5EJ95RYY",
        "colab": {
          "base_uri": "https://localhost:8080/",
          "height": 206
        },
        "outputId": "269938d9-e910-4d92-bed4-3523f1265316"
      },
      "source": [
        "raw_assessments.head()"
      ],
      "execution_count": null,
      "outputs": [
        {
          "output_type": "execute_result",
          "data": {
            "text/html": [
              "<div>\n",
              "<style scoped>\n",
              "    .dataframe tbody tr th:only-of-type {\n",
              "        vertical-align: middle;\n",
              "    }\n",
              "\n",
              "    .dataframe tbody tr th {\n",
              "        vertical-align: top;\n",
              "    }\n",
              "\n",
              "    .dataframe thead th {\n",
              "        text-align: right;\n",
              "    }\n",
              "</style>\n",
              "<table border=\"1\" class=\"dataframe\">\n",
              "  <thead>\n",
              "    <tr style=\"text-align: right;\">\n",
              "      <th></th>\n",
              "      <th>code_module</th>\n",
              "      <th>code_presentation</th>\n",
              "      <th>id_assessment</th>\n",
              "      <th>assessment_type</th>\n",
              "      <th>date</th>\n",
              "      <th>weight</th>\n",
              "    </tr>\n",
              "  </thead>\n",
              "  <tbody>\n",
              "    <tr>\n",
              "      <th>0</th>\n",
              "      <td>AAA</td>\n",
              "      <td>2013J</td>\n",
              "      <td>1752</td>\n",
              "      <td>TMA</td>\n",
              "      <td>19.0</td>\n",
              "      <td>10.0</td>\n",
              "    </tr>\n",
              "    <tr>\n",
              "      <th>1</th>\n",
              "      <td>AAA</td>\n",
              "      <td>2013J</td>\n",
              "      <td>1753</td>\n",
              "      <td>TMA</td>\n",
              "      <td>54.0</td>\n",
              "      <td>20.0</td>\n",
              "    </tr>\n",
              "    <tr>\n",
              "      <th>2</th>\n",
              "      <td>AAA</td>\n",
              "      <td>2013J</td>\n",
              "      <td>1754</td>\n",
              "      <td>TMA</td>\n",
              "      <td>117.0</td>\n",
              "      <td>20.0</td>\n",
              "    </tr>\n",
              "    <tr>\n",
              "      <th>3</th>\n",
              "      <td>AAA</td>\n",
              "      <td>2013J</td>\n",
              "      <td>1755</td>\n",
              "      <td>TMA</td>\n",
              "      <td>166.0</td>\n",
              "      <td>20.0</td>\n",
              "    </tr>\n",
              "    <tr>\n",
              "      <th>4</th>\n",
              "      <td>AAA</td>\n",
              "      <td>2013J</td>\n",
              "      <td>1756</td>\n",
              "      <td>TMA</td>\n",
              "      <td>215.0</td>\n",
              "      <td>30.0</td>\n",
              "    </tr>\n",
              "  </tbody>\n",
              "</table>\n",
              "</div>"
            ],
            "text/plain": [
              "  code_module code_presentation  id_assessment assessment_type   date  weight\n",
              "0         AAA             2013J           1752             TMA   19.0    10.0\n",
              "1         AAA             2013J           1753             TMA   54.0    20.0\n",
              "2         AAA             2013J           1754             TMA  117.0    20.0\n",
              "3         AAA             2013J           1755             TMA  166.0    20.0\n",
              "4         AAA             2013J           1756             TMA  215.0    30.0"
            ]
          },
          "metadata": {
            "tags": []
          },
          "execution_count": 74
        }
      ]
    },
    {
      "cell_type": "code",
      "metadata": {
        "id": "yTIChlTZ5Tfk",
        "colab": {
          "base_uri": "https://localhost:8080/",
          "height": 206
        },
        "outputId": "e9ef074b-edb3-41b2-f997-f21e3dd2d4eb"
      },
      "source": [
        "raw_courses.head()"
      ],
      "execution_count": null,
      "outputs": [
        {
          "output_type": "execute_result",
          "data": {
            "text/html": [
              "<div>\n",
              "<style scoped>\n",
              "    .dataframe tbody tr th:only-of-type {\n",
              "        vertical-align: middle;\n",
              "    }\n",
              "\n",
              "    .dataframe tbody tr th {\n",
              "        vertical-align: top;\n",
              "    }\n",
              "\n",
              "    .dataframe thead th {\n",
              "        text-align: right;\n",
              "    }\n",
              "</style>\n",
              "<table border=\"1\" class=\"dataframe\">\n",
              "  <thead>\n",
              "    <tr style=\"text-align: right;\">\n",
              "      <th></th>\n",
              "      <th>code_module</th>\n",
              "      <th>code_presentation</th>\n",
              "      <th>module_presentation_length</th>\n",
              "    </tr>\n",
              "  </thead>\n",
              "  <tbody>\n",
              "    <tr>\n",
              "      <th>0</th>\n",
              "      <td>AAA</td>\n",
              "      <td>2013J</td>\n",
              "      <td>268</td>\n",
              "    </tr>\n",
              "    <tr>\n",
              "      <th>1</th>\n",
              "      <td>AAA</td>\n",
              "      <td>2014J</td>\n",
              "      <td>269</td>\n",
              "    </tr>\n",
              "    <tr>\n",
              "      <th>2</th>\n",
              "      <td>BBB</td>\n",
              "      <td>2013J</td>\n",
              "      <td>268</td>\n",
              "    </tr>\n",
              "    <tr>\n",
              "      <th>3</th>\n",
              "      <td>BBB</td>\n",
              "      <td>2014J</td>\n",
              "      <td>262</td>\n",
              "    </tr>\n",
              "    <tr>\n",
              "      <th>4</th>\n",
              "      <td>BBB</td>\n",
              "      <td>2013B</td>\n",
              "      <td>240</td>\n",
              "    </tr>\n",
              "  </tbody>\n",
              "</table>\n",
              "</div>"
            ],
            "text/plain": [
              "  code_module code_presentation  module_presentation_length\n",
              "0         AAA             2013J                         268\n",
              "1         AAA             2014J                         269\n",
              "2         BBB             2013J                         268\n",
              "3         BBB             2014J                         262\n",
              "4         BBB             2013B                         240"
            ]
          },
          "metadata": {
            "tags": []
          },
          "execution_count": 75
        }
      ]
    },
    {
      "cell_type": "code",
      "metadata": {
        "id": "kDTIa2E75VmZ",
        "colab": {
          "base_uri": "https://localhost:8080/",
          "height": 206
        },
        "outputId": "76ddcec7-187e-4900-ed5d-ec6901159a14"
      },
      "source": [
        "raw_student_assessment.head()"
      ],
      "execution_count": null,
      "outputs": [
        {
          "output_type": "execute_result",
          "data": {
            "text/html": [
              "<div>\n",
              "<style scoped>\n",
              "    .dataframe tbody tr th:only-of-type {\n",
              "        vertical-align: middle;\n",
              "    }\n",
              "\n",
              "    .dataframe tbody tr th {\n",
              "        vertical-align: top;\n",
              "    }\n",
              "\n",
              "    .dataframe thead th {\n",
              "        text-align: right;\n",
              "    }\n",
              "</style>\n",
              "<table border=\"1\" class=\"dataframe\">\n",
              "  <thead>\n",
              "    <tr style=\"text-align: right;\">\n",
              "      <th></th>\n",
              "      <th>id_assessment</th>\n",
              "      <th>id_student</th>\n",
              "      <th>date_submitted</th>\n",
              "      <th>is_banked</th>\n",
              "      <th>score</th>\n",
              "    </tr>\n",
              "  </thead>\n",
              "  <tbody>\n",
              "    <tr>\n",
              "      <th>0</th>\n",
              "      <td>1752</td>\n",
              "      <td>11391</td>\n",
              "      <td>18</td>\n",
              "      <td>0</td>\n",
              "      <td>78.0</td>\n",
              "    </tr>\n",
              "    <tr>\n",
              "      <th>1</th>\n",
              "      <td>1752</td>\n",
              "      <td>28400</td>\n",
              "      <td>22</td>\n",
              "      <td>0</td>\n",
              "      <td>70.0</td>\n",
              "    </tr>\n",
              "    <tr>\n",
              "      <th>2</th>\n",
              "      <td>1752</td>\n",
              "      <td>31604</td>\n",
              "      <td>17</td>\n",
              "      <td>0</td>\n",
              "      <td>72.0</td>\n",
              "    </tr>\n",
              "    <tr>\n",
              "      <th>3</th>\n",
              "      <td>1752</td>\n",
              "      <td>32885</td>\n",
              "      <td>26</td>\n",
              "      <td>0</td>\n",
              "      <td>69.0</td>\n",
              "    </tr>\n",
              "    <tr>\n",
              "      <th>4</th>\n",
              "      <td>1752</td>\n",
              "      <td>38053</td>\n",
              "      <td>19</td>\n",
              "      <td>0</td>\n",
              "      <td>79.0</td>\n",
              "    </tr>\n",
              "  </tbody>\n",
              "</table>\n",
              "</div>"
            ],
            "text/plain": [
              "   id_assessment  id_student  date_submitted  is_banked  score\n",
              "0           1752       11391              18          0   78.0\n",
              "1           1752       28400              22          0   70.0\n",
              "2           1752       31604              17          0   72.0\n",
              "3           1752       32885              26          0   69.0\n",
              "4           1752       38053              19          0   79.0"
            ]
          },
          "metadata": {
            "tags": []
          },
          "execution_count": 76
        }
      ]
    },
    {
      "cell_type": "code",
      "metadata": {
        "id": "zDr358eY5Xj7",
        "colab": {
          "base_uri": "https://localhost:8080/",
          "height": 206
        },
        "outputId": "88e149f9-b81c-4762-b4b1-4e65f745206d"
      },
      "source": [
        "raw_student_info.head()"
      ],
      "execution_count": null,
      "outputs": [
        {
          "output_type": "execute_result",
          "data": {
            "text/html": [
              "<div>\n",
              "<style scoped>\n",
              "    .dataframe tbody tr th:only-of-type {\n",
              "        vertical-align: middle;\n",
              "    }\n",
              "\n",
              "    .dataframe tbody tr th {\n",
              "        vertical-align: top;\n",
              "    }\n",
              "\n",
              "    .dataframe thead th {\n",
              "        text-align: right;\n",
              "    }\n",
              "</style>\n",
              "<table border=\"1\" class=\"dataframe\">\n",
              "  <thead>\n",
              "    <tr style=\"text-align: right;\">\n",
              "      <th></th>\n",
              "      <th>code_module</th>\n",
              "      <th>code_presentation</th>\n",
              "      <th>id_student</th>\n",
              "      <th>gender</th>\n",
              "      <th>region</th>\n",
              "      <th>highest_education</th>\n",
              "      <th>imd_band</th>\n",
              "      <th>age_band</th>\n",
              "      <th>num_of_prev_attempts</th>\n",
              "      <th>studied_credits</th>\n",
              "      <th>disability</th>\n",
              "      <th>final_result</th>\n",
              "    </tr>\n",
              "  </thead>\n",
              "  <tbody>\n",
              "    <tr>\n",
              "      <th>0</th>\n",
              "      <td>AAA</td>\n",
              "      <td>2013J</td>\n",
              "      <td>11391</td>\n",
              "      <td>M</td>\n",
              "      <td>East Anglian Region</td>\n",
              "      <td>HE Qualification</td>\n",
              "      <td>90-100%</td>\n",
              "      <td>55&lt;=</td>\n",
              "      <td>0</td>\n",
              "      <td>240</td>\n",
              "      <td>N</td>\n",
              "      <td>Pass</td>\n",
              "    </tr>\n",
              "    <tr>\n",
              "      <th>1</th>\n",
              "      <td>AAA</td>\n",
              "      <td>2013J</td>\n",
              "      <td>28400</td>\n",
              "      <td>F</td>\n",
              "      <td>Scotland</td>\n",
              "      <td>HE Qualification</td>\n",
              "      <td>20-30%</td>\n",
              "      <td>35-55</td>\n",
              "      <td>0</td>\n",
              "      <td>60</td>\n",
              "      <td>N</td>\n",
              "      <td>Pass</td>\n",
              "    </tr>\n",
              "    <tr>\n",
              "      <th>2</th>\n",
              "      <td>AAA</td>\n",
              "      <td>2013J</td>\n",
              "      <td>30268</td>\n",
              "      <td>F</td>\n",
              "      <td>North Western Region</td>\n",
              "      <td>A Level or Equivalent</td>\n",
              "      <td>30-40%</td>\n",
              "      <td>35-55</td>\n",
              "      <td>0</td>\n",
              "      <td>60</td>\n",
              "      <td>Y</td>\n",
              "      <td>Withdrawn</td>\n",
              "    </tr>\n",
              "    <tr>\n",
              "      <th>3</th>\n",
              "      <td>AAA</td>\n",
              "      <td>2013J</td>\n",
              "      <td>31604</td>\n",
              "      <td>F</td>\n",
              "      <td>South East Region</td>\n",
              "      <td>A Level or Equivalent</td>\n",
              "      <td>50-60%</td>\n",
              "      <td>35-55</td>\n",
              "      <td>0</td>\n",
              "      <td>60</td>\n",
              "      <td>N</td>\n",
              "      <td>Pass</td>\n",
              "    </tr>\n",
              "    <tr>\n",
              "      <th>4</th>\n",
              "      <td>AAA</td>\n",
              "      <td>2013J</td>\n",
              "      <td>32885</td>\n",
              "      <td>F</td>\n",
              "      <td>West Midlands Region</td>\n",
              "      <td>Lower Than A Level</td>\n",
              "      <td>50-60%</td>\n",
              "      <td>0-35</td>\n",
              "      <td>0</td>\n",
              "      <td>60</td>\n",
              "      <td>N</td>\n",
              "      <td>Pass</td>\n",
              "    </tr>\n",
              "  </tbody>\n",
              "</table>\n",
              "</div>"
            ],
            "text/plain": [
              "  code_module code_presentation  ...  disability final_result\n",
              "0         AAA             2013J  ...           N         Pass\n",
              "1         AAA             2013J  ...           N         Pass\n",
              "2         AAA             2013J  ...           Y    Withdrawn\n",
              "3         AAA             2013J  ...           N         Pass\n",
              "4         AAA             2013J  ...           N         Pass\n",
              "\n",
              "[5 rows x 12 columns]"
            ]
          },
          "metadata": {
            "tags": []
          },
          "execution_count": 77
        }
      ]
    },
    {
      "cell_type": "code",
      "metadata": {
        "id": "_JOnI3lo5Z0r",
        "colab": {
          "base_uri": "https://localhost:8080/",
          "height": 206
        },
        "outputId": "58a809b4-3f9a-4116-9ecb-7959b8cb9b49"
      },
      "source": [
        "raw_student_register.head()"
      ],
      "execution_count": null,
      "outputs": [
        {
          "output_type": "execute_result",
          "data": {
            "text/html": [
              "<div>\n",
              "<style scoped>\n",
              "    .dataframe tbody tr th:only-of-type {\n",
              "        vertical-align: middle;\n",
              "    }\n",
              "\n",
              "    .dataframe tbody tr th {\n",
              "        vertical-align: top;\n",
              "    }\n",
              "\n",
              "    .dataframe thead th {\n",
              "        text-align: right;\n",
              "    }\n",
              "</style>\n",
              "<table border=\"1\" class=\"dataframe\">\n",
              "  <thead>\n",
              "    <tr style=\"text-align: right;\">\n",
              "      <th></th>\n",
              "      <th>code_module</th>\n",
              "      <th>code_presentation</th>\n",
              "      <th>id_student</th>\n",
              "      <th>date_registration</th>\n",
              "      <th>date_unregistration</th>\n",
              "    </tr>\n",
              "  </thead>\n",
              "  <tbody>\n",
              "    <tr>\n",
              "      <th>0</th>\n",
              "      <td>AAA</td>\n",
              "      <td>2013J</td>\n",
              "      <td>11391</td>\n",
              "      <td>-159.0</td>\n",
              "      <td>NaN</td>\n",
              "    </tr>\n",
              "    <tr>\n",
              "      <th>1</th>\n",
              "      <td>AAA</td>\n",
              "      <td>2013J</td>\n",
              "      <td>28400</td>\n",
              "      <td>-53.0</td>\n",
              "      <td>NaN</td>\n",
              "    </tr>\n",
              "    <tr>\n",
              "      <th>2</th>\n",
              "      <td>AAA</td>\n",
              "      <td>2013J</td>\n",
              "      <td>30268</td>\n",
              "      <td>-92.0</td>\n",
              "      <td>12.0</td>\n",
              "    </tr>\n",
              "    <tr>\n",
              "      <th>3</th>\n",
              "      <td>AAA</td>\n",
              "      <td>2013J</td>\n",
              "      <td>31604</td>\n",
              "      <td>-52.0</td>\n",
              "      <td>NaN</td>\n",
              "    </tr>\n",
              "    <tr>\n",
              "      <th>4</th>\n",
              "      <td>AAA</td>\n",
              "      <td>2013J</td>\n",
              "      <td>32885</td>\n",
              "      <td>-176.0</td>\n",
              "      <td>NaN</td>\n",
              "    </tr>\n",
              "  </tbody>\n",
              "</table>\n",
              "</div>"
            ],
            "text/plain": [
              "  code_module code_presentation  ...  date_registration  date_unregistration\n",
              "0         AAA             2013J  ...             -159.0                  NaN\n",
              "1         AAA             2013J  ...              -53.0                  NaN\n",
              "2         AAA             2013J  ...              -92.0                 12.0\n",
              "3         AAA             2013J  ...              -52.0                  NaN\n",
              "4         AAA             2013J  ...             -176.0                  NaN\n",
              "\n",
              "[5 rows x 5 columns]"
            ]
          },
          "metadata": {
            "tags": []
          },
          "execution_count": 78
        }
      ]
    },
    {
      "cell_type": "code",
      "metadata": {
        "id": "Vt7tGgCR5daB",
        "colab": {
          "base_uri": "https://localhost:8080/",
          "height": 206
        },
        "outputId": "eed72458-1d3e-4976-ee32-f1ccb8b71005"
      },
      "source": [
        "raw_student_vle.head()"
      ],
      "execution_count": null,
      "outputs": [
        {
          "output_type": "execute_result",
          "data": {
            "text/html": [
              "<div>\n",
              "<style scoped>\n",
              "    .dataframe tbody tr th:only-of-type {\n",
              "        vertical-align: middle;\n",
              "    }\n",
              "\n",
              "    .dataframe tbody tr th {\n",
              "        vertical-align: top;\n",
              "    }\n",
              "\n",
              "    .dataframe thead th {\n",
              "        text-align: right;\n",
              "    }\n",
              "</style>\n",
              "<table border=\"1\" class=\"dataframe\">\n",
              "  <thead>\n",
              "    <tr style=\"text-align: right;\">\n",
              "      <th></th>\n",
              "      <th>code_module</th>\n",
              "      <th>code_presentation</th>\n",
              "      <th>id_student</th>\n",
              "      <th>id_site</th>\n",
              "      <th>date</th>\n",
              "      <th>sum_click</th>\n",
              "    </tr>\n",
              "  </thead>\n",
              "  <tbody>\n",
              "    <tr>\n",
              "      <th>0</th>\n",
              "      <td>AAA</td>\n",
              "      <td>2013J</td>\n",
              "      <td>28400</td>\n",
              "      <td>546652</td>\n",
              "      <td>-10</td>\n",
              "      <td>4</td>\n",
              "    </tr>\n",
              "    <tr>\n",
              "      <th>1</th>\n",
              "      <td>AAA</td>\n",
              "      <td>2013J</td>\n",
              "      <td>28400</td>\n",
              "      <td>546652</td>\n",
              "      <td>-10</td>\n",
              "      <td>1</td>\n",
              "    </tr>\n",
              "    <tr>\n",
              "      <th>2</th>\n",
              "      <td>AAA</td>\n",
              "      <td>2013J</td>\n",
              "      <td>28400</td>\n",
              "      <td>546652</td>\n",
              "      <td>-10</td>\n",
              "      <td>1</td>\n",
              "    </tr>\n",
              "    <tr>\n",
              "      <th>3</th>\n",
              "      <td>AAA</td>\n",
              "      <td>2013J</td>\n",
              "      <td>28400</td>\n",
              "      <td>546614</td>\n",
              "      <td>-10</td>\n",
              "      <td>11</td>\n",
              "    </tr>\n",
              "    <tr>\n",
              "      <th>4</th>\n",
              "      <td>AAA</td>\n",
              "      <td>2013J</td>\n",
              "      <td>28400</td>\n",
              "      <td>546714</td>\n",
              "      <td>-10</td>\n",
              "      <td>1</td>\n",
              "    </tr>\n",
              "  </tbody>\n",
              "</table>\n",
              "</div>"
            ],
            "text/plain": [
              "  code_module code_presentation  id_student  id_site  date  sum_click\n",
              "0         AAA             2013J       28400   546652   -10          4\n",
              "1         AAA             2013J       28400   546652   -10          1\n",
              "2         AAA             2013J       28400   546652   -10          1\n",
              "3         AAA             2013J       28400   546614   -10         11\n",
              "4         AAA             2013J       28400   546714   -10          1"
            ]
          },
          "metadata": {
            "tags": []
          },
          "execution_count": 79
        }
      ]
    },
    {
      "cell_type": "markdown",
      "metadata": {
        "id": "pmBQJuHuezkE"
      },
      "source": [
        "There is this one issue here. On the documentation, it says that `\"sum_click – the number of times a student interacts with the material in that day\"`. However, the first three rows are identical to the VLE material and the student but have different `sum_click` values.\n"
      ]
    },
    {
      "cell_type": "code",
      "metadata": {
        "id": "UAeaZq-p5ii2",
        "colab": {
          "base_uri": "https://localhost:8080/",
          "height": 206
        },
        "outputId": "8dd4caad-b55a-4436-82bc-18f5b1b0a273"
      },
      "source": [
        "raw_vle.head()"
      ],
      "execution_count": null,
      "outputs": [
        {
          "output_type": "execute_result",
          "data": {
            "text/html": [
              "<div>\n",
              "<style scoped>\n",
              "    .dataframe tbody tr th:only-of-type {\n",
              "        vertical-align: middle;\n",
              "    }\n",
              "\n",
              "    .dataframe tbody tr th {\n",
              "        vertical-align: top;\n",
              "    }\n",
              "\n",
              "    .dataframe thead th {\n",
              "        text-align: right;\n",
              "    }\n",
              "</style>\n",
              "<table border=\"1\" class=\"dataframe\">\n",
              "  <thead>\n",
              "    <tr style=\"text-align: right;\">\n",
              "      <th></th>\n",
              "      <th>id_site</th>\n",
              "      <th>code_module</th>\n",
              "      <th>code_presentation</th>\n",
              "      <th>activity_type</th>\n",
              "      <th>week_from</th>\n",
              "      <th>week_to</th>\n",
              "    </tr>\n",
              "  </thead>\n",
              "  <tbody>\n",
              "    <tr>\n",
              "      <th>0</th>\n",
              "      <td>546943</td>\n",
              "      <td>AAA</td>\n",
              "      <td>2013J</td>\n",
              "      <td>resource</td>\n",
              "      <td>NaN</td>\n",
              "      <td>NaN</td>\n",
              "    </tr>\n",
              "    <tr>\n",
              "      <th>1</th>\n",
              "      <td>546712</td>\n",
              "      <td>AAA</td>\n",
              "      <td>2013J</td>\n",
              "      <td>oucontent</td>\n",
              "      <td>NaN</td>\n",
              "      <td>NaN</td>\n",
              "    </tr>\n",
              "    <tr>\n",
              "      <th>2</th>\n",
              "      <td>546998</td>\n",
              "      <td>AAA</td>\n",
              "      <td>2013J</td>\n",
              "      <td>resource</td>\n",
              "      <td>NaN</td>\n",
              "      <td>NaN</td>\n",
              "    </tr>\n",
              "    <tr>\n",
              "      <th>3</th>\n",
              "      <td>546888</td>\n",
              "      <td>AAA</td>\n",
              "      <td>2013J</td>\n",
              "      <td>url</td>\n",
              "      <td>NaN</td>\n",
              "      <td>NaN</td>\n",
              "    </tr>\n",
              "    <tr>\n",
              "      <th>4</th>\n",
              "      <td>547035</td>\n",
              "      <td>AAA</td>\n",
              "      <td>2013J</td>\n",
              "      <td>resource</td>\n",
              "      <td>NaN</td>\n",
              "      <td>NaN</td>\n",
              "    </tr>\n",
              "  </tbody>\n",
              "</table>\n",
              "</div>"
            ],
            "text/plain": [
              "   id_site code_module code_presentation activity_type  week_from  week_to\n",
              "0   546943         AAA             2013J      resource        NaN      NaN\n",
              "1   546712         AAA             2013J     oucontent        NaN      NaN\n",
              "2   546998         AAA             2013J      resource        NaN      NaN\n",
              "3   546888         AAA             2013J           url        NaN      NaN\n",
              "4   547035         AAA             2013J      resource        NaN      NaN"
            ]
          },
          "metadata": {
            "tags": []
          },
          "execution_count": 80
        }
      ]
    },
    {
      "cell_type": "markdown",
      "metadata": {
        "id": "JQ6a7xIJbntP"
      },
      "source": [
        "## Data Explore"
      ]
    },
    {
      "cell_type": "markdown",
      "metadata": {
        "id": "hr5WTCrTho5K"
      },
      "source": [
        "### `student_vle`"
      ]
    },
    {
      "cell_type": "markdown",
      "metadata": {
        "id": "1qFYNA17bMsu"
      },
      "source": [
        "First, I will have a look at the issue about `sum_click` and try to understand the issue and group the data by columns `'code_module', 'code_presentation', 'id_student', 'id_site', 'date'`"
      ]
    },
    {
      "cell_type": "code",
      "metadata": {
        "id": "_4Xub2_VhWka"
      },
      "source": [
        "grouped_student_vle = raw_student_vle.groupby(\n",
        "    by=['code_module', 'code_presentation', 'id_student', 'id_site', 'date']\n",
        "    ).sum('sum_click').reset_index()"
      ],
      "execution_count": null,
      "outputs": []
    },
    {
      "cell_type": "code",
      "metadata": {
        "colab": {
          "base_uri": "https://localhost:8080/"
        },
        "id": "DxabukzskCGt",
        "outputId": "42227400-3c4d-4ed9-a5b4-2a6f2b04d726"
      },
      "source": [
        "num_rows_raw = raw_student_vle.shape[0] \n",
        "num_rows_grouped = grouped_student_vle.shape[0]\n",
        "num_rows_diff = num_rows_raw - num_rows_grouped\n",
        "(num_rows_raw, num_rows_grouped, num_rows_diff, (num_rows_diff) * 100 / num_rows_raw)"
      ],
      "execution_count": null,
      "outputs": [
        {
          "output_type": "execute_result",
          "data": {
            "text/plain": [
              "(10655280, 8459320, 2195960, 20.609125241194974)"
            ]
          },
          "metadata": {
            "tags": []
          },
          "execution_count": 82
        }
      ]
    },
    {
      "cell_type": "markdown",
      "metadata": {
        "id": "KFUgfvd6Z4DW"
      },
      "source": [
        "The total num of rows in the raw table is 10'655'280  \n",
        "If the data is groupped by all the columns except `sum_clicks` this is reduced to 8'459'320  \n",
        "This means a **%20.6** shrinkage and the difference is 2'195'960  \n",
        "\n",
        "---  \n",
        "\n",
        "At this point I will assume that the actual total num of clicks is the groupped one. (Actually got reply from Martin Hols -one of data providers- and he suggested the same way))"
      ]
    },
    {
      "cell_type": "code",
      "metadata": {
        "id": "hvqjR2rWRxj7"
      },
      "source": [
        "# Duplicate entries\n",
        "student_vle_duplicate = raw_student_vle.merge(\n",
        "    grouped_student_vle,\n",
        "    indicator = True,\n",
        "    how='left',\n",
        "    ).loc[lambda x : x['_merge']!='both']"
      ],
      "execution_count": null,
      "outputs": []
    },
    {
      "cell_type": "markdown",
      "metadata": {
        "id": "4J8SEpfVjuJu"
      },
      "source": [
        "Cross-check of the group by function, if the summation is correct.  \n",
        "I will randomly select some course (means `code_module`, `code_presentation`),  student, site and date from `student_vle_duplicate`, then find the entry in both raw and grouped tables and compare. So I expect to find more than one row for each student on the `raw_student_vle` table and sum of the `sum_clicks` will be equal to the `sum_clicks` on the `grouped_student_vle`"
      ]
    },
    {
      "cell_type": "code",
      "metadata": {
        "colab": {
          "base_uri": "https://localhost:8080/"
        },
        "id": "PFQ4KugQ_4TD",
        "outputId": "a7a28756-81e4-4048-e1da-7def47a342cc"
      },
      "source": [
        "rand_idx = np.random.choice(student_vle_duplicate.index)\n",
        "rand_row = student_vle_duplicate.loc[rand_idx]\n",
        "\n",
        "multiple = raw_student_vle[\n",
        "                (raw_student_vle['code_module'] == rand_row['code_module']) &\n",
        "                (raw_student_vle['code_presentation'] == rand_row['code_presentation']) &\n",
        "                (raw_student_vle['id_student'] == rand_row['id_student']) &\n",
        "                (raw_student_vle['id_site'] == rand_row['id_site']) &\n",
        "                (raw_student_vle['date'] == rand_row['date']) \n",
        "               ]\n",
        "\n",
        "single = grouped_student_vle[\n",
        "                (grouped_student_vle['code_module'] == rand_row['code_module']) &\n",
        "                (grouped_student_vle['code_presentation'] == rand_row['code_presentation']) &\n",
        "                (grouped_student_vle['id_student'] == rand_row['id_student']) &\n",
        "                (grouped_student_vle['id_site'] == rand_row['id_site']) &\n",
        "                (grouped_student_vle['date'] == rand_row['date']) \n",
        "               ]\n",
        "\n",
        "multiple, single"
      ],
      "execution_count": null,
      "outputs": [
        {
          "output_type": "execute_result",
          "data": {
            "text/plain": [
              "(        code_module code_presentation  id_student  id_site  date  sum_click\n",
              " 6047564         EEE             2014J      684064   832567   100          3\n",
              " 6047565         EEE             2014J      684064   832567   100          2,\n",
              "         code_module code_presentation  id_student  id_site  date  sum_click\n",
              " 4849797         EEE             2014J      684064   832567   100          5)"
            ]
          },
          "metadata": {
            "tags": []
          },
          "execution_count": 84
        }
      ]
    },
    {
      "cell_type": "markdown",
      "metadata": {
        "id": "phUM_p8bKkdj"
      },
      "source": [
        "Sum process looks successful and from now on `grouped_student_vle` will be used instead of `raw_student_vle`"
      ]
    },
    {
      "cell_type": "markdown",
      "metadata": {
        "id": "aLGYdlt6_aZo"
      },
      "source": [
        "### `student_info`"
      ]
    },
    {
      "cell_type": "markdown",
      "metadata": {
        "id": "R8x0oo_YbVFO"
      },
      "source": [
        "How to handle the `num_of_prev_attemts` column?   "
      ]
    },
    {
      "cell_type": "code",
      "metadata": {
        "colab": {
          "base_uri": "https://localhost:8080/"
        },
        "id": "NHhndt2hQTTi",
        "outputId": "ddea63c1-f4f9-492d-fff8-1edbd9b522d8"
      },
      "source": [
        "raw_student_info['num_of_prev_attempts'].unique()"
      ],
      "execution_count": null,
      "outputs": [
        {
          "output_type": "execute_result",
          "data": {
            "text/plain": [
              "array([0, 1, 2, 4, 3, 5, 6])"
            ]
          },
          "metadata": {
            "tags": []
          },
          "execution_count": 85
        }
      ]
    },
    {
      "cell_type": "markdown",
      "metadata": {
        "id": "iI80rDkwTVcM"
      },
      "source": [
        "So there are some students with up to 6th trial.\n",
        "    \n",
        "Does their `id_student`change by trial?\n"
      ]
    },
    {
      "cell_type": "code",
      "metadata": {
        "colab": {
          "base_uri": "https://localhost:8080/"
        },
        "id": "ALEiPeN5W1xp",
        "outputId": "9b6117d5-d7c6-43e8-fbcc-13dc5dab1111"
      },
      "source": [
        "raw_student_info['id_student'].unique().shape[0], raw_student_info.shape[0]"
      ],
      "execution_count": null,
      "outputs": [
        {
          "output_type": "execute_result",
          "data": {
            "text/plain": [
              "(28785, 32593)"
            ]
          },
          "metadata": {
            "tags": []
          },
          "execution_count": 86
        }
      ]
    },
    {
      "cell_type": "markdown",
      "metadata": {
        "id": "ASMgZhX8XqGw"
      },
      "source": [
        "It doesn't. So how should these former attempts be handled? As an additional effect on final trial's result or as an individual trial without any connection?  \n",
        "\n",
        "First o all, data is prepared for the years 2013 and 2014. Are there any students who is taking any course second (or more) time in the first semester of 2013 "
      ]
    },
    {
      "cell_type": "code",
      "metadata": {
        "colab": {
          "base_uri": "https://localhost:8080/",
          "height": 424
        },
        "id": "32_OX4eFW9Jf",
        "outputId": "a0647f66-49d4-4e2e-ccbc-c949f44b9b7b"
      },
      "source": [
        "raw_student_info[\n",
        "                 (raw_student_info['num_of_prev_attempts'] > 1) & \n",
        "                 (raw_student_info['code_presentation'] == '2013B')\n",
        "                 ]"
      ],
      "execution_count": null,
      "outputs": [
        {
          "output_type": "execute_result",
          "data": {
            "text/html": [
              "<div>\n",
              "<style scoped>\n",
              "    .dataframe tbody tr th:only-of-type {\n",
              "        vertical-align: middle;\n",
              "    }\n",
              "\n",
              "    .dataframe tbody tr th {\n",
              "        vertical-align: top;\n",
              "    }\n",
              "\n",
              "    .dataframe thead th {\n",
              "        text-align: right;\n",
              "    }\n",
              "</style>\n",
              "<table border=\"1\" class=\"dataframe\">\n",
              "  <thead>\n",
              "    <tr style=\"text-align: right;\">\n",
              "      <th></th>\n",
              "      <th>code_module</th>\n",
              "      <th>code_presentation</th>\n",
              "      <th>id_student</th>\n",
              "      <th>gender</th>\n",
              "      <th>region</th>\n",
              "      <th>highest_education</th>\n",
              "      <th>imd_band</th>\n",
              "      <th>age_band</th>\n",
              "      <th>num_of_prev_attempts</th>\n",
              "      <th>studied_credits</th>\n",
              "      <th>disability</th>\n",
              "      <th>final_result</th>\n",
              "    </tr>\n",
              "  </thead>\n",
              "  <tbody>\n",
              "    <tr>\n",
              "      <th>748</th>\n",
              "      <td>BBB</td>\n",
              "      <td>2013B</td>\n",
              "      <td>23629</td>\n",
              "      <td>F</td>\n",
              "      <td>East Anglian Region</td>\n",
              "      <td>Lower Than A Level</td>\n",
              "      <td>20-30%</td>\n",
              "      <td>0-35</td>\n",
              "      <td>2</td>\n",
              "      <td>60</td>\n",
              "      <td>N</td>\n",
              "      <td>Fail</td>\n",
              "    </tr>\n",
              "    <tr>\n",
              "      <th>750</th>\n",
              "      <td>BBB</td>\n",
              "      <td>2013B</td>\n",
              "      <td>27891</td>\n",
              "      <td>M</td>\n",
              "      <td>Scotland</td>\n",
              "      <td>Lower Than A Level</td>\n",
              "      <td>0-10%</td>\n",
              "      <td>0-35</td>\n",
              "      <td>2</td>\n",
              "      <td>120</td>\n",
              "      <td>Y</td>\n",
              "      <td>Withdrawn</td>\n",
              "    </tr>\n",
              "    <tr>\n",
              "      <th>754</th>\n",
              "      <td>BBB</td>\n",
              "      <td>2013B</td>\n",
              "      <td>34229</td>\n",
              "      <td>F</td>\n",
              "      <td>Ireland</td>\n",
              "      <td>A Level or Equivalent</td>\n",
              "      <td>0-10%</td>\n",
              "      <td>35-55</td>\n",
              "      <td>2</td>\n",
              "      <td>120</td>\n",
              "      <td>N</td>\n",
              "      <td>Pass</td>\n",
              "    </tr>\n",
              "    <tr>\n",
              "      <th>764</th>\n",
              "      <td>BBB</td>\n",
              "      <td>2013B</td>\n",
              "      <td>58089</td>\n",
              "      <td>F</td>\n",
              "      <td>West Midlands Region</td>\n",
              "      <td>A Level or Equivalent</td>\n",
              "      <td>40-50%</td>\n",
              "      <td>0-35</td>\n",
              "      <td>2</td>\n",
              "      <td>90</td>\n",
              "      <td>N</td>\n",
              "      <td>Fail</td>\n",
              "    </tr>\n",
              "    <tr>\n",
              "      <th>773</th>\n",
              "      <td>BBB</td>\n",
              "      <td>2013B</td>\n",
              "      <td>79378</td>\n",
              "      <td>F</td>\n",
              "      <td>London Region</td>\n",
              "      <td>Lower Than A Level</td>\n",
              "      <td>20-30%</td>\n",
              "      <td>35-55</td>\n",
              "      <td>4</td>\n",
              "      <td>120</td>\n",
              "      <td>Y</td>\n",
              "      <td>Fail</td>\n",
              "    </tr>\n",
              "    <tr>\n",
              "      <th>...</th>\n",
              "      <td>...</td>\n",
              "      <td>...</td>\n",
              "      <td>...</td>\n",
              "      <td>...</td>\n",
              "      <td>...</td>\n",
              "      <td>...</td>\n",
              "      <td>...</td>\n",
              "      <td>...</td>\n",
              "      <td>...</td>\n",
              "      <td>...</td>\n",
              "      <td>...</td>\n",
              "      <td>...</td>\n",
              "    </tr>\n",
              "    <tr>\n",
              "      <th>23706</th>\n",
              "      <td>FFF</td>\n",
              "      <td>2013B</td>\n",
              "      <td>962951</td>\n",
              "      <td>M</td>\n",
              "      <td>South Region</td>\n",
              "      <td>A Level or Equivalent</td>\n",
              "      <td>50-60%</td>\n",
              "      <td>35-55</td>\n",
              "      <td>2</td>\n",
              "      <td>150</td>\n",
              "      <td>N</td>\n",
              "      <td>Withdrawn</td>\n",
              "    </tr>\n",
              "    <tr>\n",
              "      <th>23760</th>\n",
              "      <td>FFF</td>\n",
              "      <td>2013B</td>\n",
              "      <td>1855249</td>\n",
              "      <td>F</td>\n",
              "      <td>South Region</td>\n",
              "      <td>HE Qualification</td>\n",
              "      <td>90-100%</td>\n",
              "      <td>35-55</td>\n",
              "      <td>2</td>\n",
              "      <td>60</td>\n",
              "      <td>N</td>\n",
              "      <td>Withdrawn</td>\n",
              "    </tr>\n",
              "    <tr>\n",
              "      <th>23797</th>\n",
              "      <td>FFF</td>\n",
              "      <td>2013B</td>\n",
              "      <td>2108821</td>\n",
              "      <td>M</td>\n",
              "      <td>Scotland</td>\n",
              "      <td>HE Qualification</td>\n",
              "      <td>90-100%</td>\n",
              "      <td>35-55</td>\n",
              "      <td>2</td>\n",
              "      <td>120</td>\n",
              "      <td>N</td>\n",
              "      <td>Pass</td>\n",
              "    </tr>\n",
              "    <tr>\n",
              "      <th>23832</th>\n",
              "      <td>FFF</td>\n",
              "      <td>2013B</td>\n",
              "      <td>2381745</td>\n",
              "      <td>M</td>\n",
              "      <td>London Region</td>\n",
              "      <td>Lower Than A Level</td>\n",
              "      <td>0-10%</td>\n",
              "      <td>35-55</td>\n",
              "      <td>2</td>\n",
              "      <td>150</td>\n",
              "      <td>N</td>\n",
              "      <td>Withdrawn</td>\n",
              "    </tr>\n",
              "    <tr>\n",
              "      <th>23868</th>\n",
              "      <td>FFF</td>\n",
              "      <td>2013B</td>\n",
              "      <td>2546095</td>\n",
              "      <td>M</td>\n",
              "      <td>North Region</td>\n",
              "      <td>A Level or Equivalent</td>\n",
              "      <td>NaN</td>\n",
              "      <td>0-35</td>\n",
              "      <td>2</td>\n",
              "      <td>150</td>\n",
              "      <td>N</td>\n",
              "      <td>Pass</td>\n",
              "    </tr>\n",
              "  </tbody>\n",
              "</table>\n",
              "<p>185 rows × 12 columns</p>\n",
              "</div>"
            ],
            "text/plain": [
              "      code_module code_presentation  ...  disability final_result\n",
              "748           BBB             2013B  ...           N         Fail\n",
              "750           BBB             2013B  ...           Y    Withdrawn\n",
              "754           BBB             2013B  ...           N         Pass\n",
              "764           BBB             2013B  ...           N         Fail\n",
              "773           BBB             2013B  ...           Y         Fail\n",
              "...           ...               ...  ...         ...          ...\n",
              "23706         FFF             2013B  ...           N    Withdrawn\n",
              "23760         FFF             2013B  ...           N    Withdrawn\n",
              "23797         FFF             2013B  ...           N         Pass\n",
              "23832         FFF             2013B  ...           N    Withdrawn\n",
              "23868         FFF             2013B  ...           N         Pass\n",
              "\n",
              "[185 rows x 12 columns]"
            ]
          },
          "metadata": {
            "tags": []
          },
          "execution_count": 87
        }
      ]
    },
    {
      "cell_type": "markdown",
      "metadata": {
        "id": "D-8aHv9pb46Q"
      },
      "source": [
        "There are such rows, so we don't have any information about their former attempt. Therefore, all attempts will be handled on their own."
      ]
    },
    {
      "cell_type": "markdown",
      "metadata": {
        "id": "bM_KpVs1gHWH"
      },
      "source": [
        "# Data Joining"
      ]
    },
    {
      "cell_type": "markdown",
      "metadata": {
        "id": "CTSpG5XkkYTt"
      },
      "source": [
        "Eventually, all the tables will be joined to `student_info`. But `assessment` and `vle` tables will be preprocessed and joined to `student_assessment` and `student_vle` tables respectively.\n",
        "\n"
      ]
    },
    {
      "cell_type": "markdown",
      "metadata": {
        "id": "v3qKQv33jxuI"
      },
      "source": [
        "### Preparing `student_assesseent`\n",
        "These tables will bring up information about assessments, like if it's tutor marked assignmet (`assessment_type == 'TMA'`) or the student's score on the assignment."
      ]
    },
    {
      "cell_type": "code",
      "metadata": {
        "id": "uz6C6orPisBk"
      },
      "source": [
        "student_assessment = (\n",
        "    raw_student_assessment.set_index('id_assessment')\n",
        "    .join(raw_assessments.set_index('id_assessment'))\n",
        ").set_index(['code_module', 'code_presentation', 'id_student'])"
      ],
      "execution_count": null,
      "outputs": []
    },
    {
      "cell_type": "markdown",
      "metadata": {
        "id": "OLbUXWxKrxEM"
      },
      "source": [
        "At this point there are multiple entries for a `code_module`, `code_presentation`, `id_student`. So this table can not be added to `student_info`. I need to come up with some aggregation for student assessment"
      ]
    },
    {
      "cell_type": "code",
      "metadata": {
        "id": "Sqp0UGyFr3i4"
      },
      "source": [
        "# TODO: Find some aggregations"
      ],
      "execution_count": null,
      "outputs": []
    },
    {
      "cell_type": "markdown",
      "metadata": {
        "id": "j5KQdSsPlA2M"
      },
      "source": [
        "### Preparing `student_vle`\n",
        "Thse table will bring up student activity on virtual learning platform. Such as, `activity_type` or `sum_click`"
      ]
    },
    {
      "cell_type": "code",
      "metadata": {
        "id": "ZK8EGGRFlI9c"
      },
      "source": [
        "student_vle = (\n",
        "    grouped_student_vle.set_index(['code_module', 'code_presentation', 'id_site'])\n",
        "    .join(raw_vle.set_index(['code_module', 'code_presentation', 'id_site']))\n",
        ").reset_index()"
      ],
      "execution_count": null,
      "outputs": []
    },
    {
      "cell_type": "code",
      "metadata": {
        "colab": {
          "base_uri": "https://localhost:8080/",
          "height": 238
        },
        "id": "i7ruFxoLmpkg",
        "outputId": "535bde05-49bb-4528-ad40-2f1f9bc65092"
      },
      "source": [
        "student_vle.head()"
      ],
      "execution_count": null,
      "outputs": [
        {
          "output_type": "execute_result",
          "data": {
            "text/html": [
              "<div>\n",
              "<style scoped>\n",
              "    .dataframe tbody tr th:only-of-type {\n",
              "        vertical-align: middle;\n",
              "    }\n",
              "\n",
              "    .dataframe tbody tr th {\n",
              "        vertical-align: top;\n",
              "    }\n",
              "\n",
              "    .dataframe thead th {\n",
              "        text-align: right;\n",
              "    }\n",
              "</style>\n",
              "<table border=\"1\" class=\"dataframe\">\n",
              "  <thead>\n",
              "    <tr style=\"text-align: right;\">\n",
              "      <th></th>\n",
              "      <th></th>\n",
              "      <th></th>\n",
              "      <th>id_site</th>\n",
              "      <th>date</th>\n",
              "      <th>sum_click</th>\n",
              "      <th>activity_type</th>\n",
              "      <th>week_from</th>\n",
              "      <th>week_to</th>\n",
              "    </tr>\n",
              "    <tr>\n",
              "      <th>code_module</th>\n",
              "      <th>code_presentation</th>\n",
              "      <th>id_student</th>\n",
              "      <th></th>\n",
              "      <th></th>\n",
              "      <th></th>\n",
              "      <th></th>\n",
              "      <th></th>\n",
              "      <th></th>\n",
              "    </tr>\n",
              "  </thead>\n",
              "  <tbody>\n",
              "    <tr>\n",
              "      <th rowspan=\"5\" valign=\"top\">AAA</th>\n",
              "      <th rowspan=\"5\" valign=\"top\">2013J</th>\n",
              "      <th>11391</th>\n",
              "      <td>546614</td>\n",
              "      <td>-5</td>\n",
              "      <td>7</td>\n",
              "      <td>homepage</td>\n",
              "      <td>NaN</td>\n",
              "      <td>NaN</td>\n",
              "    </tr>\n",
              "    <tr>\n",
              "      <th>11391</th>\n",
              "      <td>546614</td>\n",
              "      <td>0</td>\n",
              "      <td>10</td>\n",
              "      <td>homepage</td>\n",
              "      <td>NaN</td>\n",
              "      <td>NaN</td>\n",
              "    </tr>\n",
              "    <tr>\n",
              "      <th>11391</th>\n",
              "      <td>546614</td>\n",
              "      <td>1</td>\n",
              "      <td>9</td>\n",
              "      <td>homepage</td>\n",
              "      <td>NaN</td>\n",
              "      <td>NaN</td>\n",
              "    </tr>\n",
              "    <tr>\n",
              "      <th>11391</th>\n",
              "      <td>546614</td>\n",
              "      <td>2</td>\n",
              "      <td>3</td>\n",
              "      <td>homepage</td>\n",
              "      <td>NaN</td>\n",
              "      <td>NaN</td>\n",
              "    </tr>\n",
              "    <tr>\n",
              "      <th>11391</th>\n",
              "      <td>546614</td>\n",
              "      <td>6</td>\n",
              "      <td>1</td>\n",
              "      <td>homepage</td>\n",
              "      <td>NaN</td>\n",
              "      <td>NaN</td>\n",
              "    </tr>\n",
              "  </tbody>\n",
              "</table>\n",
              "</div>"
            ],
            "text/plain": [
              "                                          id_site  date  ...  week_from week_to\n",
              "code_module code_presentation id_student                 ...                   \n",
              "AAA         2013J             11391        546614    -5  ...        NaN     NaN\n",
              "                              11391        546614     0  ...        NaN     NaN\n",
              "                              11391        546614     1  ...        NaN     NaN\n",
              "                              11391        546614     2  ...        NaN     NaN\n",
              "                              11391        546614     6  ...        NaN     NaN\n",
              "\n",
              "[5 rows x 6 columns]"
            ]
          },
          "metadata": {
            "tags": []
          },
          "execution_count": 111
        }
      ]
    },
    {
      "cell_type": "markdown",
      "metadata": {
        "id": "-bqAbbjEnYCG"
      },
      "source": [
        "At this point there are multiple entries for a `code_module`, `code_presentation`, `id_student`. So this table can not be added to `student_info`. I need to come up with some aggregation for student activity"
      ]
    },
    {
      "cell_type": "code",
      "metadata": {
        "id": "xlp_ow38oLNG"
      },
      "source": [
        "## TODO: Find out aggregate student activity on `student_vle` "
      ],
      "execution_count": null,
      "outputs": []
    },
    {
      "cell_type": "markdown",
      "metadata": {
        "id": "MPPZL4MPkAkb"
      },
      "source": [
        "### Preparing `courses` \n",
        "This table will bring up `module_presentation_length` informaiton"
      ]
    },
    {
      "cell_type": "code",
      "metadata": {
        "id": "WAxeTpTpkPwl"
      },
      "source": [
        "courses = raw_courses.set_index(['code_module', 'code_presentation'])"
      ],
      "execution_count": null,
      "outputs": []
    },
    {
      "cell_type": "markdown",
      "metadata": {
        "id": "iEIFCTrmqeEP"
      },
      "source": [
        "### Preparing `student_register`"
      ]
    },
    {
      "cell_type": "code",
      "metadata": {
        "id": "HuECBqV6qiKo"
      },
      "source": [
        "student_register = raw_student_register.set_index(['code_module', 'code_presentation', 'id_student'])"
      ],
      "execution_count": null,
      "outputs": []
    },
    {
      "cell_type": "markdown",
      "metadata": {
        "id": "Zh6ZVKReqrSf"
      },
      "source": [
        "### Final Join "
      ]
    },
    {
      "cell_type": "code",
      "metadata": {
        "id": "xUwBdx8Oqvj1"
      },
      "source": [
        "attempt = (\n",
        "    raw_student_info\n",
        "    .set_index(['code_module', 'code_presentation', 'id_student'])\n",
        "    .join(courses)\n",
        "    .join(student_register)\n",
        "\n",
        ") "
      ],
      "execution_count": null,
      "outputs": []
    },
    {
      "cell_type": "code",
      "metadata": {
        "colab": {
          "base_uri": "https://localhost:8080/",
          "height": 397
        },
        "id": "kKhOpCIhratt",
        "outputId": "461ec7ba-912e-47e9-95ac-67aaf3ee4d60"
      },
      "source": [
        "attempt.head()"
      ],
      "execution_count": null,
      "outputs": [
        {
          "output_type": "execute_result",
          "data": {
            "text/html": [
              "<div>\n",
              "<style scoped>\n",
              "    .dataframe tbody tr th:only-of-type {\n",
              "        vertical-align: middle;\n",
              "    }\n",
              "\n",
              "    .dataframe tbody tr th {\n",
              "        vertical-align: top;\n",
              "    }\n",
              "\n",
              "    .dataframe thead th {\n",
              "        text-align: right;\n",
              "    }\n",
              "</style>\n",
              "<table border=\"1\" class=\"dataframe\">\n",
              "  <thead>\n",
              "    <tr style=\"text-align: right;\">\n",
              "      <th></th>\n",
              "      <th></th>\n",
              "      <th></th>\n",
              "      <th>gender</th>\n",
              "      <th>region</th>\n",
              "      <th>highest_education</th>\n",
              "      <th>imd_band</th>\n",
              "      <th>age_band</th>\n",
              "      <th>num_of_prev_attempts</th>\n",
              "      <th>studied_credits</th>\n",
              "      <th>disability</th>\n",
              "      <th>final_result</th>\n",
              "      <th>module_presentation_length</th>\n",
              "      <th>date_registration</th>\n",
              "      <th>date_unregistration</th>\n",
              "    </tr>\n",
              "    <tr>\n",
              "      <th>code_module</th>\n",
              "      <th>code_presentation</th>\n",
              "      <th>id_student</th>\n",
              "      <th></th>\n",
              "      <th></th>\n",
              "      <th></th>\n",
              "      <th></th>\n",
              "      <th></th>\n",
              "      <th></th>\n",
              "      <th></th>\n",
              "      <th></th>\n",
              "      <th></th>\n",
              "      <th></th>\n",
              "      <th></th>\n",
              "      <th></th>\n",
              "    </tr>\n",
              "  </thead>\n",
              "  <tbody>\n",
              "    <tr>\n",
              "      <th rowspan=\"5\" valign=\"top\">AAA</th>\n",
              "      <th rowspan=\"5\" valign=\"top\">2013J</th>\n",
              "      <th>11391</th>\n",
              "      <td>M</td>\n",
              "      <td>East Anglian Region</td>\n",
              "      <td>HE Qualification</td>\n",
              "      <td>90-100%</td>\n",
              "      <td>55&lt;=</td>\n",
              "      <td>0</td>\n",
              "      <td>240</td>\n",
              "      <td>N</td>\n",
              "      <td>Pass</td>\n",
              "      <td>268</td>\n",
              "      <td>-159.0</td>\n",
              "      <td>NaN</td>\n",
              "    </tr>\n",
              "    <tr>\n",
              "      <th>28400</th>\n",
              "      <td>F</td>\n",
              "      <td>Scotland</td>\n",
              "      <td>HE Qualification</td>\n",
              "      <td>20-30%</td>\n",
              "      <td>35-55</td>\n",
              "      <td>0</td>\n",
              "      <td>60</td>\n",
              "      <td>N</td>\n",
              "      <td>Pass</td>\n",
              "      <td>268</td>\n",
              "      <td>-53.0</td>\n",
              "      <td>NaN</td>\n",
              "    </tr>\n",
              "    <tr>\n",
              "      <th>30268</th>\n",
              "      <td>F</td>\n",
              "      <td>North Western Region</td>\n",
              "      <td>A Level or Equivalent</td>\n",
              "      <td>30-40%</td>\n",
              "      <td>35-55</td>\n",
              "      <td>0</td>\n",
              "      <td>60</td>\n",
              "      <td>Y</td>\n",
              "      <td>Withdrawn</td>\n",
              "      <td>268</td>\n",
              "      <td>-92.0</td>\n",
              "      <td>12.0</td>\n",
              "    </tr>\n",
              "    <tr>\n",
              "      <th>31604</th>\n",
              "      <td>F</td>\n",
              "      <td>South East Region</td>\n",
              "      <td>A Level or Equivalent</td>\n",
              "      <td>50-60%</td>\n",
              "      <td>35-55</td>\n",
              "      <td>0</td>\n",
              "      <td>60</td>\n",
              "      <td>N</td>\n",
              "      <td>Pass</td>\n",
              "      <td>268</td>\n",
              "      <td>-52.0</td>\n",
              "      <td>NaN</td>\n",
              "    </tr>\n",
              "    <tr>\n",
              "      <th>32885</th>\n",
              "      <td>F</td>\n",
              "      <td>West Midlands Region</td>\n",
              "      <td>Lower Than A Level</td>\n",
              "      <td>50-60%</td>\n",
              "      <td>0-35</td>\n",
              "      <td>0</td>\n",
              "      <td>60</td>\n",
              "      <td>N</td>\n",
              "      <td>Pass</td>\n",
              "      <td>268</td>\n",
              "      <td>-176.0</td>\n",
              "      <td>NaN</td>\n",
              "    </tr>\n",
              "  </tbody>\n",
              "</table>\n",
              "</div>"
            ],
            "text/plain": [
              "                                         gender  ... date_unregistration\n",
              "code_module code_presentation id_student         ...                    \n",
              "AAA         2013J             11391           M  ...                 NaN\n",
              "                              28400           F  ...                 NaN\n",
              "                              30268           F  ...                12.0\n",
              "                              31604           F  ...                 NaN\n",
              "                              32885           F  ...                 NaN\n",
              "\n",
              "[5 rows x 12 columns]"
            ]
          },
          "metadata": {
            "tags": []
          },
          "execution_count": 123
        }
      ]
    },
    {
      "cell_type": "markdown",
      "metadata": {
        "id": "D8McD_w7YE27"
      },
      "source": [
        "# Data Definition\n",
        "* Column names\n",
        "* Data types\n",
        "* Description of the columns\n",
        "* Counts and percents unique values\n",
        "* Ranges of values"
      ]
    },
    {
      "cell_type": "code",
      "metadata": {
        "id": "U8VrT10rraPW"
      },
      "source": [
        ""
      ],
      "execution_count": null,
      "outputs": []
    },
    {
      "cell_type": "markdown",
      "metadata": {
        "id": "QslkcAc2YTXo"
      },
      "source": [
        "# Data Cleaning\n",
        "* NA or missing values\n",
        "* Duplicates"
      ]
    },
    {
      "cell_type": "markdown",
      "metadata": {
        "id": "gf_Zf-75YCuj"
      },
      "source": [
        " `student_info`\n",
        "\n",
        "How a previous attempt should be considered?  Is it someting students build up their understanding in a long time? Or just another individual attempt?\n",
        " \n",
        "Can student's former attempts'  can be added to their final trial. In other words, does student's learn something from failed courses and use it on their next trial?"
      ]
    },
    {
      "cell_type": "code",
      "metadata": {
        "id": "MYwiHlWWZDVp"
      },
      "source": [
        ""
      ],
      "execution_count": null,
      "outputs": []
    }
  ]
}
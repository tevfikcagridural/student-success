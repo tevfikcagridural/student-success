{
  "nbformat": 4,
  "nbformat_minor": 0,
  "metadata": {
    "colab": {
      "name": "Data Wrangling",
      "provenance": [],
      "collapsed_sections": []
    },
    "kernelspec": {
      "name": "python3",
      "display_name": "Python 3"
    }
  },
  "cells": [
    {
      "cell_type": "markdown",
      "metadata": {
        "id": "uiY2BrSxiIr_"
      },
      "source": [
        "## Imports"
      ]
    },
    {
      "cell_type": "code",
      "metadata": {
        "id": "mKrgDu8iI3rk"
      },
      "source": [
        "from google.colab import drive\n",
        "import matplotlib.pyplot as plt\n",
        "import numpy as np\n",
        "import pandas as pd"
      ],
      "execution_count": 1,
      "outputs": []
    },
    {
      "cell_type": "markdown",
      "metadata": {
        "id": "KJM9jWdRsTRT"
      },
      "source": [
        "# Google Drive Connection\n",
        "For this project, I will store the data on my personal google drive and below set up a connection to it. So, I can load the CSV files as they are from a system folder."
      ]
    },
    {
      "cell_type": "code",
      "metadata": {
        "id": "-WkmLXZjkblJ",
        "colab": {
          "base_uri": "https://localhost:8080/"
        },
        "outputId": "a7db7d40-0990-4391-8b59-c4ce3a91653b"
      },
      "source": [
        "drive.mount('/gdrive')"
      ],
      "execution_count": 2,
      "outputs": [
        {
          "output_type": "stream",
          "text": [
            "Mounted at /gdrive\n"
          ],
          "name": "stdout"
        }
      ]
    },
    {
      "cell_type": "code",
      "metadata": {
        "id": "JVuV4wuyJSny"
      },
      "source": [
        "data_folder =  '/gdrive/My Drive/Data Science Career Track/Unit 7/capstone_two_project_folder/data/'"
      ],
      "execution_count": 3,
      "outputs": []
    },
    {
      "cell_type": "markdown",
      "metadata": {
        "id": "bvBnnQHxXwMq"
      },
      "source": [
        "# Data Colleciton\n"
      ]
    },
    {
      "cell_type": "markdown",
      "metadata": {
        "id": "v2H54DPgbday"
      },
      "source": [
        "## Data Loading"
      ]
    },
    {
      "cell_type": "code",
      "metadata": {
        "id": "goTAABH1hCYy"
      },
      "source": [
        "file_assessments  = data_folder + 'assessments.csv'\n",
        "file_courses = data_folder + 'courses.csv'\n",
        "file_student_assessment = data_folder + 'studentAssessment.csv'\n",
        "file_student_info = data_folder + 'studentInfo.csv'\n",
        "file_student_register = data_folder + 'studentRegistration.csv'\n",
        "file_student_vle = data_folder + 'studentVle.csv'\n",
        "file_vle = data_folder + 'vle.csv'"
      ],
      "execution_count": 4,
      "outputs": []
    },
    {
      "cell_type": "code",
      "metadata": {
        "id": "UAUHWTHvj_TV"
      },
      "source": [
        "raw_assessments = pd.read_csv(file_assessments)\n",
        "raw_courses = pd.read_csv(file_courses)\n",
        "raw_student_assessment = pd.read_csv(file_student_assessment)\n",
        "raw_student_info = pd.read_csv(file_student_info)\n",
        "raw_student_register = pd.read_csv(file_student_register)\n",
        "raw_student_vle = pd.read_csv(file_student_vle)\n",
        "raw_vle = pd.read_csv(file_vle)"
      ],
      "execution_count": 5,
      "outputs": []
    },
    {
      "cell_type": "code",
      "metadata": {
        "id": "J4OA5EJ95RYY",
        "colab": {
          "base_uri": "https://localhost:8080/",
          "height": 206
        },
        "outputId": "5cb07859-6902-4bb2-9b70-7f4656a7b2a6"
      },
      "source": [
        "raw_assessments.head()"
      ],
      "execution_count": 6,
      "outputs": [
        {
          "output_type": "execute_result",
          "data": {
            "text/html": [
              "<div>\n",
              "<style scoped>\n",
              "    .dataframe tbody tr th:only-of-type {\n",
              "        vertical-align: middle;\n",
              "    }\n",
              "\n",
              "    .dataframe tbody tr th {\n",
              "        vertical-align: top;\n",
              "    }\n",
              "\n",
              "    .dataframe thead th {\n",
              "        text-align: right;\n",
              "    }\n",
              "</style>\n",
              "<table border=\"1\" class=\"dataframe\">\n",
              "  <thead>\n",
              "    <tr style=\"text-align: right;\">\n",
              "      <th></th>\n",
              "      <th>code_module</th>\n",
              "      <th>code_presentation</th>\n",
              "      <th>id_assessment</th>\n",
              "      <th>assessment_type</th>\n",
              "      <th>date</th>\n",
              "      <th>weight</th>\n",
              "    </tr>\n",
              "  </thead>\n",
              "  <tbody>\n",
              "    <tr>\n",
              "      <th>0</th>\n",
              "      <td>AAA</td>\n",
              "      <td>2013J</td>\n",
              "      <td>1752</td>\n",
              "      <td>TMA</td>\n",
              "      <td>19.0</td>\n",
              "      <td>10.0</td>\n",
              "    </tr>\n",
              "    <tr>\n",
              "      <th>1</th>\n",
              "      <td>AAA</td>\n",
              "      <td>2013J</td>\n",
              "      <td>1753</td>\n",
              "      <td>TMA</td>\n",
              "      <td>54.0</td>\n",
              "      <td>20.0</td>\n",
              "    </tr>\n",
              "    <tr>\n",
              "      <th>2</th>\n",
              "      <td>AAA</td>\n",
              "      <td>2013J</td>\n",
              "      <td>1754</td>\n",
              "      <td>TMA</td>\n",
              "      <td>117.0</td>\n",
              "      <td>20.0</td>\n",
              "    </tr>\n",
              "    <tr>\n",
              "      <th>3</th>\n",
              "      <td>AAA</td>\n",
              "      <td>2013J</td>\n",
              "      <td>1755</td>\n",
              "      <td>TMA</td>\n",
              "      <td>166.0</td>\n",
              "      <td>20.0</td>\n",
              "    </tr>\n",
              "    <tr>\n",
              "      <th>4</th>\n",
              "      <td>AAA</td>\n",
              "      <td>2013J</td>\n",
              "      <td>1756</td>\n",
              "      <td>TMA</td>\n",
              "      <td>215.0</td>\n",
              "      <td>30.0</td>\n",
              "    </tr>\n",
              "  </tbody>\n",
              "</table>\n",
              "</div>"
            ],
            "text/plain": [
              "  code_module code_presentation  id_assessment assessment_type   date  weight\n",
              "0         AAA             2013J           1752             TMA   19.0    10.0\n",
              "1         AAA             2013J           1753             TMA   54.0    20.0\n",
              "2         AAA             2013J           1754             TMA  117.0    20.0\n",
              "3         AAA             2013J           1755             TMA  166.0    20.0\n",
              "4         AAA             2013J           1756             TMA  215.0    30.0"
            ]
          },
          "metadata": {
            "tags": []
          },
          "execution_count": 6
        }
      ]
    },
    {
      "cell_type": "code",
      "metadata": {
        "colab": {
          "base_uri": "https://localhost:8080/"
        },
        "id": "fgP1UUmg0Blp",
        "outputId": "3800d88d-a051-4aaf-b3d0-1bca0bc4b181"
      },
      "source": [
        " raw_assessments.info()"
      ],
      "execution_count": 7,
      "outputs": [
        {
          "output_type": "stream",
          "text": [
            "<class 'pandas.core.frame.DataFrame'>\n",
            "RangeIndex: 206 entries, 0 to 205\n",
            "Data columns (total 6 columns):\n",
            " #   Column             Non-Null Count  Dtype  \n",
            "---  ------             --------------  -----  \n",
            " 0   code_module        206 non-null    object \n",
            " 1   code_presentation  206 non-null    object \n",
            " 2   id_assessment      206 non-null    int64  \n",
            " 3   assessment_type    206 non-null    object \n",
            " 4   date               195 non-null    float64\n",
            " 5   weight             206 non-null    float64\n",
            "dtypes: float64(2), int64(1), object(3)\n",
            "memory usage: 9.8+ KB\n"
          ],
          "name": "stdout"
        }
      ]
    },
    {
      "cell_type": "code",
      "metadata": {
        "id": "yTIChlTZ5Tfk",
        "colab": {
          "base_uri": "https://localhost:8080/",
          "height": 206
        },
        "outputId": "27ab3a29-35d7-4d33-85bc-88be13da0439"
      },
      "source": [
        "raw_courses.head()"
      ],
      "execution_count": 8,
      "outputs": [
        {
          "output_type": "execute_result",
          "data": {
            "text/html": [
              "<div>\n",
              "<style scoped>\n",
              "    .dataframe tbody tr th:only-of-type {\n",
              "        vertical-align: middle;\n",
              "    }\n",
              "\n",
              "    .dataframe tbody tr th {\n",
              "        vertical-align: top;\n",
              "    }\n",
              "\n",
              "    .dataframe thead th {\n",
              "        text-align: right;\n",
              "    }\n",
              "</style>\n",
              "<table border=\"1\" class=\"dataframe\">\n",
              "  <thead>\n",
              "    <tr style=\"text-align: right;\">\n",
              "      <th></th>\n",
              "      <th>code_module</th>\n",
              "      <th>code_presentation</th>\n",
              "      <th>module_presentation_length</th>\n",
              "    </tr>\n",
              "  </thead>\n",
              "  <tbody>\n",
              "    <tr>\n",
              "      <th>0</th>\n",
              "      <td>AAA</td>\n",
              "      <td>2013J</td>\n",
              "      <td>268</td>\n",
              "    </tr>\n",
              "    <tr>\n",
              "      <th>1</th>\n",
              "      <td>AAA</td>\n",
              "      <td>2014J</td>\n",
              "      <td>269</td>\n",
              "    </tr>\n",
              "    <tr>\n",
              "      <th>2</th>\n",
              "      <td>BBB</td>\n",
              "      <td>2013J</td>\n",
              "      <td>268</td>\n",
              "    </tr>\n",
              "    <tr>\n",
              "      <th>3</th>\n",
              "      <td>BBB</td>\n",
              "      <td>2014J</td>\n",
              "      <td>262</td>\n",
              "    </tr>\n",
              "    <tr>\n",
              "      <th>4</th>\n",
              "      <td>BBB</td>\n",
              "      <td>2013B</td>\n",
              "      <td>240</td>\n",
              "    </tr>\n",
              "  </tbody>\n",
              "</table>\n",
              "</div>"
            ],
            "text/plain": [
              "  code_module code_presentation  module_presentation_length\n",
              "0         AAA             2013J                         268\n",
              "1         AAA             2014J                         269\n",
              "2         BBB             2013J                         268\n",
              "3         BBB             2014J                         262\n",
              "4         BBB             2013B                         240"
            ]
          },
          "metadata": {
            "tags": []
          },
          "execution_count": 8
        }
      ]
    },
    {
      "cell_type": "code",
      "metadata": {
        "colab": {
          "base_uri": "https://localhost:8080/"
        },
        "id": "ciAHI2QI0E_L",
        "outputId": "b9ac9a16-70f8-4880-ee3c-36f438419853"
      },
      "source": [
        "raw_courses.info()"
      ],
      "execution_count": 9,
      "outputs": [
        {
          "output_type": "stream",
          "text": [
            "<class 'pandas.core.frame.DataFrame'>\n",
            "RangeIndex: 22 entries, 0 to 21\n",
            "Data columns (total 3 columns):\n",
            " #   Column                      Non-Null Count  Dtype \n",
            "---  ------                      --------------  ----- \n",
            " 0   code_module                 22 non-null     object\n",
            " 1   code_presentation           22 non-null     object\n",
            " 2   module_presentation_length  22 non-null     int64 \n",
            "dtypes: int64(1), object(2)\n",
            "memory usage: 656.0+ bytes\n"
          ],
          "name": "stdout"
        }
      ]
    },
    {
      "cell_type": "code",
      "metadata": {
        "id": "kDTIa2E75VmZ",
        "colab": {
          "base_uri": "https://localhost:8080/",
          "height": 206
        },
        "outputId": "b33e13e6-b6b0-4ee7-baa4-c9eb86387af7"
      },
      "source": [
        "raw_student_assessment.head()"
      ],
      "execution_count": 10,
      "outputs": [
        {
          "output_type": "execute_result",
          "data": {
            "text/html": [
              "<div>\n",
              "<style scoped>\n",
              "    .dataframe tbody tr th:only-of-type {\n",
              "        vertical-align: middle;\n",
              "    }\n",
              "\n",
              "    .dataframe tbody tr th {\n",
              "        vertical-align: top;\n",
              "    }\n",
              "\n",
              "    .dataframe thead th {\n",
              "        text-align: right;\n",
              "    }\n",
              "</style>\n",
              "<table border=\"1\" class=\"dataframe\">\n",
              "  <thead>\n",
              "    <tr style=\"text-align: right;\">\n",
              "      <th></th>\n",
              "      <th>id_assessment</th>\n",
              "      <th>id_student</th>\n",
              "      <th>date_submitted</th>\n",
              "      <th>is_banked</th>\n",
              "      <th>score</th>\n",
              "    </tr>\n",
              "  </thead>\n",
              "  <tbody>\n",
              "    <tr>\n",
              "      <th>0</th>\n",
              "      <td>1752</td>\n",
              "      <td>11391</td>\n",
              "      <td>18</td>\n",
              "      <td>0</td>\n",
              "      <td>78.0</td>\n",
              "    </tr>\n",
              "    <tr>\n",
              "      <th>1</th>\n",
              "      <td>1752</td>\n",
              "      <td>28400</td>\n",
              "      <td>22</td>\n",
              "      <td>0</td>\n",
              "      <td>70.0</td>\n",
              "    </tr>\n",
              "    <tr>\n",
              "      <th>2</th>\n",
              "      <td>1752</td>\n",
              "      <td>31604</td>\n",
              "      <td>17</td>\n",
              "      <td>0</td>\n",
              "      <td>72.0</td>\n",
              "    </tr>\n",
              "    <tr>\n",
              "      <th>3</th>\n",
              "      <td>1752</td>\n",
              "      <td>32885</td>\n",
              "      <td>26</td>\n",
              "      <td>0</td>\n",
              "      <td>69.0</td>\n",
              "    </tr>\n",
              "    <tr>\n",
              "      <th>4</th>\n",
              "      <td>1752</td>\n",
              "      <td>38053</td>\n",
              "      <td>19</td>\n",
              "      <td>0</td>\n",
              "      <td>79.0</td>\n",
              "    </tr>\n",
              "  </tbody>\n",
              "</table>\n",
              "</div>"
            ],
            "text/plain": [
              "   id_assessment  id_student  date_submitted  is_banked  score\n",
              "0           1752       11391              18          0   78.0\n",
              "1           1752       28400              22          0   70.0\n",
              "2           1752       31604              17          0   72.0\n",
              "3           1752       32885              26          0   69.0\n",
              "4           1752       38053              19          0   79.0"
            ]
          },
          "metadata": {
            "tags": []
          },
          "execution_count": 10
        }
      ]
    },
    {
      "cell_type": "code",
      "metadata": {
        "colab": {
          "base_uri": "https://localhost:8080/"
        },
        "id": "dljSE3I-0IF1",
        "outputId": "81fbe118-2f5b-4010-8c3f-c48b78bfea58"
      },
      "source": [
        "raw_student_assessment.info()"
      ],
      "execution_count": 11,
      "outputs": [
        {
          "output_type": "stream",
          "text": [
            "<class 'pandas.core.frame.DataFrame'>\n",
            "RangeIndex: 173912 entries, 0 to 173911\n",
            "Data columns (total 5 columns):\n",
            " #   Column          Non-Null Count   Dtype  \n",
            "---  ------          --------------   -----  \n",
            " 0   id_assessment   173912 non-null  int64  \n",
            " 1   id_student      173912 non-null  int64  \n",
            " 2   date_submitted  173912 non-null  int64  \n",
            " 3   is_banked       173912 non-null  int64  \n",
            " 4   score           173739 non-null  float64\n",
            "dtypes: float64(1), int64(4)\n",
            "memory usage: 6.6 MB\n"
          ],
          "name": "stdout"
        }
      ]
    },
    {
      "cell_type": "code",
      "metadata": {
        "id": "zDr358eY5Xj7",
        "colab": {
          "base_uri": "https://localhost:8080/",
          "height": 206
        },
        "outputId": "6810aa7a-4d79-49dc-ea25-64aae548dd65"
      },
      "source": [
        "raw_student_info.head()"
      ],
      "execution_count": 12,
      "outputs": [
        {
          "output_type": "execute_result",
          "data": {
            "text/html": [
              "<div>\n",
              "<style scoped>\n",
              "    .dataframe tbody tr th:only-of-type {\n",
              "        vertical-align: middle;\n",
              "    }\n",
              "\n",
              "    .dataframe tbody tr th {\n",
              "        vertical-align: top;\n",
              "    }\n",
              "\n",
              "    .dataframe thead th {\n",
              "        text-align: right;\n",
              "    }\n",
              "</style>\n",
              "<table border=\"1\" class=\"dataframe\">\n",
              "  <thead>\n",
              "    <tr style=\"text-align: right;\">\n",
              "      <th></th>\n",
              "      <th>code_module</th>\n",
              "      <th>code_presentation</th>\n",
              "      <th>id_student</th>\n",
              "      <th>gender</th>\n",
              "      <th>region</th>\n",
              "      <th>highest_education</th>\n",
              "      <th>imd_band</th>\n",
              "      <th>age_band</th>\n",
              "      <th>num_of_prev_attempts</th>\n",
              "      <th>studied_credits</th>\n",
              "      <th>disability</th>\n",
              "      <th>final_result</th>\n",
              "    </tr>\n",
              "  </thead>\n",
              "  <tbody>\n",
              "    <tr>\n",
              "      <th>0</th>\n",
              "      <td>AAA</td>\n",
              "      <td>2013J</td>\n",
              "      <td>11391</td>\n",
              "      <td>M</td>\n",
              "      <td>East Anglian Region</td>\n",
              "      <td>HE Qualification</td>\n",
              "      <td>90-100%</td>\n",
              "      <td>55&lt;=</td>\n",
              "      <td>0</td>\n",
              "      <td>240</td>\n",
              "      <td>N</td>\n",
              "      <td>Pass</td>\n",
              "    </tr>\n",
              "    <tr>\n",
              "      <th>1</th>\n",
              "      <td>AAA</td>\n",
              "      <td>2013J</td>\n",
              "      <td>28400</td>\n",
              "      <td>F</td>\n",
              "      <td>Scotland</td>\n",
              "      <td>HE Qualification</td>\n",
              "      <td>20-30%</td>\n",
              "      <td>35-55</td>\n",
              "      <td>0</td>\n",
              "      <td>60</td>\n",
              "      <td>N</td>\n",
              "      <td>Pass</td>\n",
              "    </tr>\n",
              "    <tr>\n",
              "      <th>2</th>\n",
              "      <td>AAA</td>\n",
              "      <td>2013J</td>\n",
              "      <td>30268</td>\n",
              "      <td>F</td>\n",
              "      <td>North Western Region</td>\n",
              "      <td>A Level or Equivalent</td>\n",
              "      <td>30-40%</td>\n",
              "      <td>35-55</td>\n",
              "      <td>0</td>\n",
              "      <td>60</td>\n",
              "      <td>Y</td>\n",
              "      <td>Withdrawn</td>\n",
              "    </tr>\n",
              "    <tr>\n",
              "      <th>3</th>\n",
              "      <td>AAA</td>\n",
              "      <td>2013J</td>\n",
              "      <td>31604</td>\n",
              "      <td>F</td>\n",
              "      <td>South East Region</td>\n",
              "      <td>A Level or Equivalent</td>\n",
              "      <td>50-60%</td>\n",
              "      <td>35-55</td>\n",
              "      <td>0</td>\n",
              "      <td>60</td>\n",
              "      <td>N</td>\n",
              "      <td>Pass</td>\n",
              "    </tr>\n",
              "    <tr>\n",
              "      <th>4</th>\n",
              "      <td>AAA</td>\n",
              "      <td>2013J</td>\n",
              "      <td>32885</td>\n",
              "      <td>F</td>\n",
              "      <td>West Midlands Region</td>\n",
              "      <td>Lower Than A Level</td>\n",
              "      <td>50-60%</td>\n",
              "      <td>0-35</td>\n",
              "      <td>0</td>\n",
              "      <td>60</td>\n",
              "      <td>N</td>\n",
              "      <td>Pass</td>\n",
              "    </tr>\n",
              "  </tbody>\n",
              "</table>\n",
              "</div>"
            ],
            "text/plain": [
              "  code_module code_presentation  ...  disability final_result\n",
              "0         AAA             2013J  ...           N         Pass\n",
              "1         AAA             2013J  ...           N         Pass\n",
              "2         AAA             2013J  ...           Y    Withdrawn\n",
              "3         AAA             2013J  ...           N         Pass\n",
              "4         AAA             2013J  ...           N         Pass\n",
              "\n",
              "[5 rows x 12 columns]"
            ]
          },
          "metadata": {
            "tags": []
          },
          "execution_count": 12
        }
      ]
    },
    {
      "cell_type": "code",
      "metadata": {
        "colab": {
          "base_uri": "https://localhost:8080/"
        },
        "id": "m24m0wOw0MFZ",
        "outputId": "7b346327-ed5d-4e9d-ad82-693d4f95bad1"
      },
      "source": [
        "raw_student_info.info()"
      ],
      "execution_count": 13,
      "outputs": [
        {
          "output_type": "stream",
          "text": [
            "<class 'pandas.core.frame.DataFrame'>\n",
            "RangeIndex: 32593 entries, 0 to 32592\n",
            "Data columns (total 12 columns):\n",
            " #   Column                Non-Null Count  Dtype \n",
            "---  ------                --------------  ----- \n",
            " 0   code_module           32593 non-null  object\n",
            " 1   code_presentation     32593 non-null  object\n",
            " 2   id_student            32593 non-null  int64 \n",
            " 3   gender                32593 non-null  object\n",
            " 4   region                32593 non-null  object\n",
            " 5   highest_education     32593 non-null  object\n",
            " 6   imd_band              31482 non-null  object\n",
            " 7   age_band              32593 non-null  object\n",
            " 8   num_of_prev_attempts  32593 non-null  int64 \n",
            " 9   studied_credits       32593 non-null  int64 \n",
            " 10  disability            32593 non-null  object\n",
            " 11  final_result          32593 non-null  object\n",
            "dtypes: int64(3), object(9)\n",
            "memory usage: 3.0+ MB\n"
          ],
          "name": "stdout"
        }
      ]
    },
    {
      "cell_type": "code",
      "metadata": {
        "id": "_JOnI3lo5Z0r",
        "colab": {
          "base_uri": "https://localhost:8080/",
          "height": 206
        },
        "outputId": "7cc95c72-5d99-4d4a-d989-ab2eac0ee793"
      },
      "source": [
        "raw_student_register.head()"
      ],
      "execution_count": 14,
      "outputs": [
        {
          "output_type": "execute_result",
          "data": {
            "text/html": [
              "<div>\n",
              "<style scoped>\n",
              "    .dataframe tbody tr th:only-of-type {\n",
              "        vertical-align: middle;\n",
              "    }\n",
              "\n",
              "    .dataframe tbody tr th {\n",
              "        vertical-align: top;\n",
              "    }\n",
              "\n",
              "    .dataframe thead th {\n",
              "        text-align: right;\n",
              "    }\n",
              "</style>\n",
              "<table border=\"1\" class=\"dataframe\">\n",
              "  <thead>\n",
              "    <tr style=\"text-align: right;\">\n",
              "      <th></th>\n",
              "      <th>code_module</th>\n",
              "      <th>code_presentation</th>\n",
              "      <th>id_student</th>\n",
              "      <th>date_registration</th>\n",
              "      <th>date_unregistration</th>\n",
              "    </tr>\n",
              "  </thead>\n",
              "  <tbody>\n",
              "    <tr>\n",
              "      <th>0</th>\n",
              "      <td>AAA</td>\n",
              "      <td>2013J</td>\n",
              "      <td>11391</td>\n",
              "      <td>-159.0</td>\n",
              "      <td>NaN</td>\n",
              "    </tr>\n",
              "    <tr>\n",
              "      <th>1</th>\n",
              "      <td>AAA</td>\n",
              "      <td>2013J</td>\n",
              "      <td>28400</td>\n",
              "      <td>-53.0</td>\n",
              "      <td>NaN</td>\n",
              "    </tr>\n",
              "    <tr>\n",
              "      <th>2</th>\n",
              "      <td>AAA</td>\n",
              "      <td>2013J</td>\n",
              "      <td>30268</td>\n",
              "      <td>-92.0</td>\n",
              "      <td>12.0</td>\n",
              "    </tr>\n",
              "    <tr>\n",
              "      <th>3</th>\n",
              "      <td>AAA</td>\n",
              "      <td>2013J</td>\n",
              "      <td>31604</td>\n",
              "      <td>-52.0</td>\n",
              "      <td>NaN</td>\n",
              "    </tr>\n",
              "    <tr>\n",
              "      <th>4</th>\n",
              "      <td>AAA</td>\n",
              "      <td>2013J</td>\n",
              "      <td>32885</td>\n",
              "      <td>-176.0</td>\n",
              "      <td>NaN</td>\n",
              "    </tr>\n",
              "  </tbody>\n",
              "</table>\n",
              "</div>"
            ],
            "text/plain": [
              "  code_module code_presentation  ...  date_registration  date_unregistration\n",
              "0         AAA             2013J  ...             -159.0                  NaN\n",
              "1         AAA             2013J  ...              -53.0                  NaN\n",
              "2         AAA             2013J  ...              -92.0                 12.0\n",
              "3         AAA             2013J  ...              -52.0                  NaN\n",
              "4         AAA             2013J  ...             -176.0                  NaN\n",
              "\n",
              "[5 rows x 5 columns]"
            ]
          },
          "metadata": {
            "tags": []
          },
          "execution_count": 14
        }
      ]
    },
    {
      "cell_type": "code",
      "metadata": {
        "colab": {
          "base_uri": "https://localhost:8080/"
        },
        "id": "qZ-9Vd9G0RB3",
        "outputId": "9736696b-5b97-439b-e3b4-67706194f0f1"
      },
      "source": [
        "raw_student_register.info()"
      ],
      "execution_count": 15,
      "outputs": [
        {
          "output_type": "stream",
          "text": [
            "<class 'pandas.core.frame.DataFrame'>\n",
            "RangeIndex: 32593 entries, 0 to 32592\n",
            "Data columns (total 5 columns):\n",
            " #   Column               Non-Null Count  Dtype  \n",
            "---  ------               --------------  -----  \n",
            " 0   code_module          32593 non-null  object \n",
            " 1   code_presentation    32593 non-null  object \n",
            " 2   id_student           32593 non-null  int64  \n",
            " 3   date_registration    32548 non-null  float64\n",
            " 4   date_unregistration  10072 non-null  float64\n",
            "dtypes: float64(2), int64(1), object(2)\n",
            "memory usage: 1.2+ MB\n"
          ],
          "name": "stdout"
        }
      ]
    },
    {
      "cell_type": "code",
      "metadata": {
        "id": "Vt7tGgCR5daB",
        "colab": {
          "base_uri": "https://localhost:8080/",
          "height": 206
        },
        "outputId": "bd9c0793-0548-4f87-e195-3b08ff689c9e"
      },
      "source": [
        "raw_student_vle.head()"
      ],
      "execution_count": 16,
      "outputs": [
        {
          "output_type": "execute_result",
          "data": {
            "text/html": [
              "<div>\n",
              "<style scoped>\n",
              "    .dataframe tbody tr th:only-of-type {\n",
              "        vertical-align: middle;\n",
              "    }\n",
              "\n",
              "    .dataframe tbody tr th {\n",
              "        vertical-align: top;\n",
              "    }\n",
              "\n",
              "    .dataframe thead th {\n",
              "        text-align: right;\n",
              "    }\n",
              "</style>\n",
              "<table border=\"1\" class=\"dataframe\">\n",
              "  <thead>\n",
              "    <tr style=\"text-align: right;\">\n",
              "      <th></th>\n",
              "      <th>code_module</th>\n",
              "      <th>code_presentation</th>\n",
              "      <th>id_student</th>\n",
              "      <th>id_site</th>\n",
              "      <th>date</th>\n",
              "      <th>sum_click</th>\n",
              "    </tr>\n",
              "  </thead>\n",
              "  <tbody>\n",
              "    <tr>\n",
              "      <th>0</th>\n",
              "      <td>AAA</td>\n",
              "      <td>2013J</td>\n",
              "      <td>28400</td>\n",
              "      <td>546652</td>\n",
              "      <td>-10</td>\n",
              "      <td>4</td>\n",
              "    </tr>\n",
              "    <tr>\n",
              "      <th>1</th>\n",
              "      <td>AAA</td>\n",
              "      <td>2013J</td>\n",
              "      <td>28400</td>\n",
              "      <td>546652</td>\n",
              "      <td>-10</td>\n",
              "      <td>1</td>\n",
              "    </tr>\n",
              "    <tr>\n",
              "      <th>2</th>\n",
              "      <td>AAA</td>\n",
              "      <td>2013J</td>\n",
              "      <td>28400</td>\n",
              "      <td>546652</td>\n",
              "      <td>-10</td>\n",
              "      <td>1</td>\n",
              "    </tr>\n",
              "    <tr>\n",
              "      <th>3</th>\n",
              "      <td>AAA</td>\n",
              "      <td>2013J</td>\n",
              "      <td>28400</td>\n",
              "      <td>546614</td>\n",
              "      <td>-10</td>\n",
              "      <td>11</td>\n",
              "    </tr>\n",
              "    <tr>\n",
              "      <th>4</th>\n",
              "      <td>AAA</td>\n",
              "      <td>2013J</td>\n",
              "      <td>28400</td>\n",
              "      <td>546714</td>\n",
              "      <td>-10</td>\n",
              "      <td>1</td>\n",
              "    </tr>\n",
              "  </tbody>\n",
              "</table>\n",
              "</div>"
            ],
            "text/plain": [
              "  code_module code_presentation  id_student  id_site  date  sum_click\n",
              "0         AAA             2013J       28400   546652   -10          4\n",
              "1         AAA             2013J       28400   546652   -10          1\n",
              "2         AAA             2013J       28400   546652   -10          1\n",
              "3         AAA             2013J       28400   546614   -10         11\n",
              "4         AAA             2013J       28400   546714   -10          1"
            ]
          },
          "metadata": {
            "tags": []
          },
          "execution_count": 16
        }
      ]
    },
    {
      "cell_type": "code",
      "metadata": {
        "colab": {
          "base_uri": "https://localhost:8080/"
        },
        "id": "jl6UVOjP0U65",
        "outputId": "9fca0554-9eeb-474a-e5a1-2dfc38407993"
      },
      "source": [
        "raw_student_vle.info()"
      ],
      "execution_count": 17,
      "outputs": [
        {
          "output_type": "stream",
          "text": [
            "<class 'pandas.core.frame.DataFrame'>\n",
            "RangeIndex: 10655280 entries, 0 to 10655279\n",
            "Data columns (total 6 columns):\n",
            " #   Column             Dtype \n",
            "---  ------             ----- \n",
            " 0   code_module        object\n",
            " 1   code_presentation  object\n",
            " 2   id_student         int64 \n",
            " 3   id_site            int64 \n",
            " 4   date               int64 \n",
            " 5   sum_click          int64 \n",
            "dtypes: int64(4), object(2)\n",
            "memory usage: 487.8+ MB\n"
          ],
          "name": "stdout"
        }
      ]
    },
    {
      "cell_type": "markdown",
      "metadata": {
        "id": "pmBQJuHuezkE"
      },
      "source": [
        "There is this one issue here. On the documentation, it says that `\"sum_click – the number of times a student interacts with the material in that day\"`. However, the first three rows are identical to the VLE material and the student but have different `sum_click` values.\n"
      ]
    },
    {
      "cell_type": "code",
      "metadata": {
        "id": "UAeaZq-p5ii2",
        "colab": {
          "base_uri": "https://localhost:8080/",
          "height": 206
        },
        "outputId": "498ccef2-1ded-4350-8280-7b762d46ae52"
      },
      "source": [
        "raw_vle.head()"
      ],
      "execution_count": 18,
      "outputs": [
        {
          "output_type": "execute_result",
          "data": {
            "text/html": [
              "<div>\n",
              "<style scoped>\n",
              "    .dataframe tbody tr th:only-of-type {\n",
              "        vertical-align: middle;\n",
              "    }\n",
              "\n",
              "    .dataframe tbody tr th {\n",
              "        vertical-align: top;\n",
              "    }\n",
              "\n",
              "    .dataframe thead th {\n",
              "        text-align: right;\n",
              "    }\n",
              "</style>\n",
              "<table border=\"1\" class=\"dataframe\">\n",
              "  <thead>\n",
              "    <tr style=\"text-align: right;\">\n",
              "      <th></th>\n",
              "      <th>id_site</th>\n",
              "      <th>code_module</th>\n",
              "      <th>code_presentation</th>\n",
              "      <th>activity_type</th>\n",
              "      <th>week_from</th>\n",
              "      <th>week_to</th>\n",
              "    </tr>\n",
              "  </thead>\n",
              "  <tbody>\n",
              "    <tr>\n",
              "      <th>0</th>\n",
              "      <td>546943</td>\n",
              "      <td>AAA</td>\n",
              "      <td>2013J</td>\n",
              "      <td>resource</td>\n",
              "      <td>NaN</td>\n",
              "      <td>NaN</td>\n",
              "    </tr>\n",
              "    <tr>\n",
              "      <th>1</th>\n",
              "      <td>546712</td>\n",
              "      <td>AAA</td>\n",
              "      <td>2013J</td>\n",
              "      <td>oucontent</td>\n",
              "      <td>NaN</td>\n",
              "      <td>NaN</td>\n",
              "    </tr>\n",
              "    <tr>\n",
              "      <th>2</th>\n",
              "      <td>546998</td>\n",
              "      <td>AAA</td>\n",
              "      <td>2013J</td>\n",
              "      <td>resource</td>\n",
              "      <td>NaN</td>\n",
              "      <td>NaN</td>\n",
              "    </tr>\n",
              "    <tr>\n",
              "      <th>3</th>\n",
              "      <td>546888</td>\n",
              "      <td>AAA</td>\n",
              "      <td>2013J</td>\n",
              "      <td>url</td>\n",
              "      <td>NaN</td>\n",
              "      <td>NaN</td>\n",
              "    </tr>\n",
              "    <tr>\n",
              "      <th>4</th>\n",
              "      <td>547035</td>\n",
              "      <td>AAA</td>\n",
              "      <td>2013J</td>\n",
              "      <td>resource</td>\n",
              "      <td>NaN</td>\n",
              "      <td>NaN</td>\n",
              "    </tr>\n",
              "  </tbody>\n",
              "</table>\n",
              "</div>"
            ],
            "text/plain": [
              "   id_site code_module code_presentation activity_type  week_from  week_to\n",
              "0   546943         AAA             2013J      resource        NaN      NaN\n",
              "1   546712         AAA             2013J     oucontent        NaN      NaN\n",
              "2   546998         AAA             2013J      resource        NaN      NaN\n",
              "3   546888         AAA             2013J           url        NaN      NaN\n",
              "4   547035         AAA             2013J      resource        NaN      NaN"
            ]
          },
          "metadata": {
            "tags": []
          },
          "execution_count": 18
        }
      ]
    },
    {
      "cell_type": "code",
      "metadata": {
        "colab": {
          "base_uri": "https://localhost:8080/"
        },
        "id": "oSBXeAlF0YtM",
        "outputId": "da19aa25-9773-4d82-c2a2-eb09fb51f89b"
      },
      "source": [
        "raw_vle.info()"
      ],
      "execution_count": 19,
      "outputs": [
        {
          "output_type": "stream",
          "text": [
            "<class 'pandas.core.frame.DataFrame'>\n",
            "RangeIndex: 6364 entries, 0 to 6363\n",
            "Data columns (total 6 columns):\n",
            " #   Column             Non-Null Count  Dtype  \n",
            "---  ------             --------------  -----  \n",
            " 0   id_site            6364 non-null   int64  \n",
            " 1   code_module        6364 non-null   object \n",
            " 2   code_presentation  6364 non-null   object \n",
            " 3   activity_type      6364 non-null   object \n",
            " 4   week_from          1121 non-null   float64\n",
            " 5   week_to            1121 non-null   float64\n",
            "dtypes: float64(2), int64(1), object(3)\n",
            "memory usage: 298.4+ KB\n"
          ],
          "name": "stdout"
        }
      ]
    },
    {
      "cell_type": "markdown",
      "metadata": {
        "id": "JQ6a7xIJbntP"
      },
      "source": [
        "## Data Explore"
      ]
    },
    {
      "cell_type": "markdown",
      "metadata": {
        "id": "hr5WTCrTho5K"
      },
      "source": [
        "### `student_vle`"
      ]
    },
    {
      "cell_type": "markdown",
      "metadata": {
        "id": "1qFYNA17bMsu"
      },
      "source": [
        "First, I will have a look at the issue about `sum_click` and try to understand the issue and group the data by columns `'code_module', 'code_presentation', 'id_student', 'id_site', 'date'`"
      ]
    },
    {
      "cell_type": "code",
      "metadata": {
        "id": "_4Xub2_VhWka"
      },
      "source": [
        "grouped_student_vle = raw_student_vle.groupby(\n",
        "    by=['code_module', 'code_presentation', 'id_student', 'id_site', 'date']\n",
        "    ).sum('sum_click').reset_index()"
      ],
      "execution_count": 20,
      "outputs": []
    },
    {
      "cell_type": "code",
      "metadata": {
        "colab": {
          "base_uri": "https://localhost:8080/"
        },
        "id": "DxabukzskCGt",
        "outputId": "d9bc6d20-ac32-45b1-c462-11cb7472d95c"
      },
      "source": [
        "num_rows_raw = raw_student_vle.shape[0] \n",
        "num_rows_grouped = grouped_student_vle.shape[0]\n",
        "num_rows_diff = num_rows_raw - num_rows_grouped\n",
        "(num_rows_raw, num_rows_grouped, num_rows_diff, (num_rows_diff) * 100 / num_rows_raw)"
      ],
      "execution_count": 21,
      "outputs": [
        {
          "output_type": "execute_result",
          "data": {
            "text/plain": [
              "(10655280, 8459320, 2195960, 20.609125241194974)"
            ]
          },
          "metadata": {
            "tags": []
          },
          "execution_count": 21
        }
      ]
    },
    {
      "cell_type": "markdown",
      "metadata": {
        "id": "KFUgfvd6Z4DW"
      },
      "source": [
        "The total num of rows in the raw table is 10'655'280  \n",
        "If the data is groupped by all the columns except `sum_clicks` this is reduced to 8'459'320  \n",
        "This means a **%20.6** shrinkage and the difference is 2'195'960  \n",
        "\n",
        "---  \n",
        "\n",
        "At this point I will assume that the actual total num of clicks is the groupped one. (Actually got reply from Martin Hols -one of data providers- and he suggested the same way))"
      ]
    },
    {
      "cell_type": "code",
      "metadata": {
        "id": "hvqjR2rWRxj7"
      },
      "source": [
        "# Duplicate entries\n",
        "student_vle_duplicate = raw_student_vle.merge(\n",
        "    grouped_student_vle,\n",
        "    indicator = True,\n",
        "    how='left',\n",
        "    ).loc[lambda x : x['_merge']!='both']"
      ],
      "execution_count": 22,
      "outputs": []
    },
    {
      "cell_type": "markdown",
      "metadata": {
        "id": "4J8SEpfVjuJu"
      },
      "source": [
        "Cross-check of the group by function, if the summation is correct.  \n",
        "I will randomly select some course (means `code_module`, `code_presentation`),  student, site and date from `student_vle_duplicate`, then find the entry in both raw and grouped tables and compare. So I expect to find more than one row for each student on the `raw_student_vle` table and sum of the `sum_clicks` will be equal to the `sum_clicks` on the `grouped_student_vle`"
      ]
    },
    {
      "cell_type": "code",
      "metadata": {
        "colab": {
          "base_uri": "https://localhost:8080/"
        },
        "id": "PFQ4KugQ_4TD",
        "outputId": "e39fd186-790a-4e5b-e531-af7157f63b13"
      },
      "source": [
        "rand_idx = np.random.choice(student_vle_duplicate.index)\n",
        "rand_row = student_vle_duplicate.loc[rand_idx]\n",
        "\n",
        "multiple = raw_student_vle[\n",
        "                (raw_student_vle['code_module'] == rand_row['code_module']) &\n",
        "                (raw_student_vle['code_presentation'] == rand_row['code_presentation']) &\n",
        "                (raw_student_vle['id_student'] == rand_row['id_student']) &\n",
        "                (raw_student_vle['id_site'] == rand_row['id_site']) &\n",
        "                (raw_student_vle['date'] == rand_row['date']) \n",
        "               ]\n",
        "\n",
        "single = grouped_student_vle[\n",
        "                (grouped_student_vle['code_module'] == rand_row['code_module']) &\n",
        "                (grouped_student_vle['code_presentation'] == rand_row['code_presentation']) &\n",
        "                (grouped_student_vle['id_student'] == rand_row['id_student']) &\n",
        "                (grouped_student_vle['id_site'] == rand_row['id_site']) &\n",
        "                (grouped_student_vle['date'] == rand_row['date']) \n",
        "               ]\n",
        "\n",
        "multiple, single"
      ],
      "execution_count": 23,
      "outputs": [
        {
          "output_type": "execute_result",
          "data": {
            "text/plain": [
              "(        code_module code_presentation  id_student  id_site  date  sum_click\n",
              " 2358222         CCC             2014B      585393   729680   206          1\n",
              " 2358225         CCC             2014B      585393   729680   206          1,\n",
              "         code_module code_presentation  id_student  id_site  date  sum_click\n",
              " 1608907         CCC             2014B      585393   729680   206          2)"
            ]
          },
          "metadata": {
            "tags": []
          },
          "execution_count": 23
        }
      ]
    },
    {
      "cell_type": "markdown",
      "metadata": {
        "id": "phUM_p8bKkdj"
      },
      "source": [
        "Sum process looks successful and from now on `grouped_student_vle` will be used instead of `raw_student_vle`"
      ]
    },
    {
      "cell_type": "markdown",
      "metadata": {
        "id": "aLGYdlt6_aZo"
      },
      "source": [
        "### `student_info`"
      ]
    },
    {
      "cell_type": "markdown",
      "metadata": {
        "id": "R8x0oo_YbVFO"
      },
      "source": [
        "How to handle the `num_of_prev_attemts` column?   "
      ]
    },
    {
      "cell_type": "code",
      "metadata": {
        "colab": {
          "base_uri": "https://localhost:8080/"
        },
        "id": "NHhndt2hQTTi",
        "outputId": "9e323885-c976-4bf0-b2ca-8c5472b26ba2"
      },
      "source": [
        "raw_student_info['num_of_prev_attempts'].unique()"
      ],
      "execution_count": 24,
      "outputs": [
        {
          "output_type": "execute_result",
          "data": {
            "text/plain": [
              "array([0, 1, 2, 4, 3, 5, 6])"
            ]
          },
          "metadata": {
            "tags": []
          },
          "execution_count": 24
        }
      ]
    },
    {
      "cell_type": "markdown",
      "metadata": {
        "id": "iI80rDkwTVcM"
      },
      "source": [
        "So there are some students with up to 6th trial.\n",
        "    \n",
        "Does their `id_student`change by trial?\n"
      ]
    },
    {
      "cell_type": "code",
      "metadata": {
        "colab": {
          "base_uri": "https://localhost:8080/"
        },
        "id": "ALEiPeN5W1xp",
        "outputId": "055476c6-c9a7-401c-b6fc-599b67935884"
      },
      "source": [
        "raw_student_info['id_student'].unique().shape[0], raw_student_info.shape[0]"
      ],
      "execution_count": 25,
      "outputs": [
        {
          "output_type": "execute_result",
          "data": {
            "text/plain": [
              "(28785, 32593)"
            ]
          },
          "metadata": {
            "tags": []
          },
          "execution_count": 25
        }
      ]
    },
    {
      "cell_type": "markdown",
      "metadata": {
        "id": "ASMgZhX8XqGw"
      },
      "source": [
        "It doesn't. So how should these former attempts be handled? As an additional effect on final trial's result or as an individual trial without any connection?  \n",
        "\n",
        "First o all, data is prepared for the years 2013 and 2014. Are there any students who is taking any course second (or more) time in the first semester of 2013 "
      ]
    },
    {
      "cell_type": "code",
      "metadata": {
        "colab": {
          "base_uri": "https://localhost:8080/",
          "height": 511
        },
        "id": "32_OX4eFW9Jf",
        "outputId": "5d37db13-847b-4592-ffd6-c3f83c302eaa"
      },
      "source": [
        "raw_student_info[\n",
        "                 (raw_student_info['num_of_prev_attempts'] > 1) & \n",
        "                 (raw_student_info['code_presentation'] == '2013B')\n",
        "                 ]"
      ],
      "execution_count": 26,
      "outputs": [
        {
          "output_type": "execute_result",
          "data": {
            "text/html": [
              "<div>\n",
              "<style scoped>\n",
              "    .dataframe tbody tr th:only-of-type {\n",
              "        vertical-align: middle;\n",
              "    }\n",
              "\n",
              "    .dataframe tbody tr th {\n",
              "        vertical-align: top;\n",
              "    }\n",
              "\n",
              "    .dataframe thead th {\n",
              "        text-align: right;\n",
              "    }\n",
              "</style>\n",
              "<table border=\"1\" class=\"dataframe\">\n",
              "  <thead>\n",
              "    <tr style=\"text-align: right;\">\n",
              "      <th></th>\n",
              "      <th>code_module</th>\n",
              "      <th>code_presentation</th>\n",
              "      <th>id_student</th>\n",
              "      <th>gender</th>\n",
              "      <th>region</th>\n",
              "      <th>highest_education</th>\n",
              "      <th>imd_band</th>\n",
              "      <th>age_band</th>\n",
              "      <th>num_of_prev_attempts</th>\n",
              "      <th>studied_credits</th>\n",
              "      <th>disability</th>\n",
              "      <th>final_result</th>\n",
              "    </tr>\n",
              "  </thead>\n",
              "  <tbody>\n",
              "    <tr>\n",
              "      <th>748</th>\n",
              "      <td>BBB</td>\n",
              "      <td>2013B</td>\n",
              "      <td>23629</td>\n",
              "      <td>F</td>\n",
              "      <td>East Anglian Region</td>\n",
              "      <td>Lower Than A Level</td>\n",
              "      <td>20-30%</td>\n",
              "      <td>0-35</td>\n",
              "      <td>2</td>\n",
              "      <td>60</td>\n",
              "      <td>N</td>\n",
              "      <td>Fail</td>\n",
              "    </tr>\n",
              "    <tr>\n",
              "      <th>750</th>\n",
              "      <td>BBB</td>\n",
              "      <td>2013B</td>\n",
              "      <td>27891</td>\n",
              "      <td>M</td>\n",
              "      <td>Scotland</td>\n",
              "      <td>Lower Than A Level</td>\n",
              "      <td>0-10%</td>\n",
              "      <td>0-35</td>\n",
              "      <td>2</td>\n",
              "      <td>120</td>\n",
              "      <td>Y</td>\n",
              "      <td>Withdrawn</td>\n",
              "    </tr>\n",
              "    <tr>\n",
              "      <th>754</th>\n",
              "      <td>BBB</td>\n",
              "      <td>2013B</td>\n",
              "      <td>34229</td>\n",
              "      <td>F</td>\n",
              "      <td>Ireland</td>\n",
              "      <td>A Level or Equivalent</td>\n",
              "      <td>0-10%</td>\n",
              "      <td>35-55</td>\n",
              "      <td>2</td>\n",
              "      <td>120</td>\n",
              "      <td>N</td>\n",
              "      <td>Pass</td>\n",
              "    </tr>\n",
              "    <tr>\n",
              "      <th>764</th>\n",
              "      <td>BBB</td>\n",
              "      <td>2013B</td>\n",
              "      <td>58089</td>\n",
              "      <td>F</td>\n",
              "      <td>West Midlands Region</td>\n",
              "      <td>A Level or Equivalent</td>\n",
              "      <td>40-50%</td>\n",
              "      <td>0-35</td>\n",
              "      <td>2</td>\n",
              "      <td>90</td>\n",
              "      <td>N</td>\n",
              "      <td>Fail</td>\n",
              "    </tr>\n",
              "    <tr>\n",
              "      <th>773</th>\n",
              "      <td>BBB</td>\n",
              "      <td>2013B</td>\n",
              "      <td>79378</td>\n",
              "      <td>F</td>\n",
              "      <td>London Region</td>\n",
              "      <td>Lower Than A Level</td>\n",
              "      <td>20-30%</td>\n",
              "      <td>35-55</td>\n",
              "      <td>4</td>\n",
              "      <td>120</td>\n",
              "      <td>Y</td>\n",
              "      <td>Fail</td>\n",
              "    </tr>\n",
              "    <tr>\n",
              "      <th>...</th>\n",
              "      <td>...</td>\n",
              "      <td>...</td>\n",
              "      <td>...</td>\n",
              "      <td>...</td>\n",
              "      <td>...</td>\n",
              "      <td>...</td>\n",
              "      <td>...</td>\n",
              "      <td>...</td>\n",
              "      <td>...</td>\n",
              "      <td>...</td>\n",
              "      <td>...</td>\n",
              "      <td>...</td>\n",
              "    </tr>\n",
              "    <tr>\n",
              "      <th>23706</th>\n",
              "      <td>FFF</td>\n",
              "      <td>2013B</td>\n",
              "      <td>962951</td>\n",
              "      <td>M</td>\n",
              "      <td>South Region</td>\n",
              "      <td>A Level or Equivalent</td>\n",
              "      <td>50-60%</td>\n",
              "      <td>35-55</td>\n",
              "      <td>2</td>\n",
              "      <td>150</td>\n",
              "      <td>N</td>\n",
              "      <td>Withdrawn</td>\n",
              "    </tr>\n",
              "    <tr>\n",
              "      <th>23760</th>\n",
              "      <td>FFF</td>\n",
              "      <td>2013B</td>\n",
              "      <td>1855249</td>\n",
              "      <td>F</td>\n",
              "      <td>South Region</td>\n",
              "      <td>HE Qualification</td>\n",
              "      <td>90-100%</td>\n",
              "      <td>35-55</td>\n",
              "      <td>2</td>\n",
              "      <td>60</td>\n",
              "      <td>N</td>\n",
              "      <td>Withdrawn</td>\n",
              "    </tr>\n",
              "    <tr>\n",
              "      <th>23797</th>\n",
              "      <td>FFF</td>\n",
              "      <td>2013B</td>\n",
              "      <td>2108821</td>\n",
              "      <td>M</td>\n",
              "      <td>Scotland</td>\n",
              "      <td>HE Qualification</td>\n",
              "      <td>90-100%</td>\n",
              "      <td>35-55</td>\n",
              "      <td>2</td>\n",
              "      <td>120</td>\n",
              "      <td>N</td>\n",
              "      <td>Pass</td>\n",
              "    </tr>\n",
              "    <tr>\n",
              "      <th>23832</th>\n",
              "      <td>FFF</td>\n",
              "      <td>2013B</td>\n",
              "      <td>2381745</td>\n",
              "      <td>M</td>\n",
              "      <td>London Region</td>\n",
              "      <td>Lower Than A Level</td>\n",
              "      <td>0-10%</td>\n",
              "      <td>35-55</td>\n",
              "      <td>2</td>\n",
              "      <td>150</td>\n",
              "      <td>N</td>\n",
              "      <td>Withdrawn</td>\n",
              "    </tr>\n",
              "    <tr>\n",
              "      <th>23868</th>\n",
              "      <td>FFF</td>\n",
              "      <td>2013B</td>\n",
              "      <td>2546095</td>\n",
              "      <td>M</td>\n",
              "      <td>North Region</td>\n",
              "      <td>A Level or Equivalent</td>\n",
              "      <td>NaN</td>\n",
              "      <td>0-35</td>\n",
              "      <td>2</td>\n",
              "      <td>150</td>\n",
              "      <td>N</td>\n",
              "      <td>Pass</td>\n",
              "    </tr>\n",
              "  </tbody>\n",
              "</table>\n",
              "<p>185 rows × 12 columns</p>\n",
              "</div>"
            ],
            "text/plain": [
              "      code_module code_presentation  ...  disability final_result\n",
              "748           BBB             2013B  ...           N         Fail\n",
              "750           BBB             2013B  ...           Y    Withdrawn\n",
              "754           BBB             2013B  ...           N         Pass\n",
              "764           BBB             2013B  ...           N         Fail\n",
              "773           BBB             2013B  ...           Y         Fail\n",
              "...           ...               ...  ...         ...          ...\n",
              "23706         FFF             2013B  ...           N    Withdrawn\n",
              "23760         FFF             2013B  ...           N    Withdrawn\n",
              "23797         FFF             2013B  ...           N         Pass\n",
              "23832         FFF             2013B  ...           N    Withdrawn\n",
              "23868         FFF             2013B  ...           N         Pass\n",
              "\n",
              "[185 rows x 12 columns]"
            ]
          },
          "metadata": {
            "tags": []
          },
          "execution_count": 26
        }
      ]
    },
    {
      "cell_type": "markdown",
      "metadata": {
        "id": "HteofwGLi5MU"
      },
      "source": [
        "There are such rows, so we don't have any information about their former attempt. Therefore, all attempts will be handled on their own.  \n",
        "I also need to find out if there are any students who takes more than one course in a semester.  \n"
      ]
    },
    {
      "cell_type": "code",
      "metadata": {
        "colab": {
          "base_uri": "https://localhost:8080/",
          "height": 276
        },
        "id": "V7bGfi8pmkxA",
        "outputId": "f389b00a-1bd4-47da-adb9-35b374fac781"
      },
      "source": [
        "students_with_multip_course = raw_student_info[raw_student_info.duplicated(subset=['id_student', 'code_presentation'], keep=False)].sort_values('id_student')\n",
        "students_with_multip_course.head()"
      ],
      "execution_count": 27,
      "outputs": [
        {
          "output_type": "execute_result",
          "data": {
            "text/html": [
              "<div>\n",
              "<style scoped>\n",
              "    .dataframe tbody tr th:only-of-type {\n",
              "        vertical-align: middle;\n",
              "    }\n",
              "\n",
              "    .dataframe tbody tr th {\n",
              "        vertical-align: top;\n",
              "    }\n",
              "\n",
              "    .dataframe thead th {\n",
              "        text-align: right;\n",
              "    }\n",
              "</style>\n",
              "<table border=\"1\" class=\"dataframe\">\n",
              "  <thead>\n",
              "    <tr style=\"text-align: right;\">\n",
              "      <th></th>\n",
              "      <th>code_module</th>\n",
              "      <th>code_presentation</th>\n",
              "      <th>id_student</th>\n",
              "      <th>gender</th>\n",
              "      <th>region</th>\n",
              "      <th>highest_education</th>\n",
              "      <th>imd_band</th>\n",
              "      <th>age_band</th>\n",
              "      <th>num_of_prev_attempts</th>\n",
              "      <th>studied_credits</th>\n",
              "      <th>disability</th>\n",
              "      <th>final_result</th>\n",
              "    </tr>\n",
              "  </thead>\n",
              "  <tbody>\n",
              "    <tr>\n",
              "      <th>20418</th>\n",
              "      <td>EEE</td>\n",
              "      <td>2014B</td>\n",
              "      <td>29820</td>\n",
              "      <td>M</td>\n",
              "      <td>East Anglian Region</td>\n",
              "      <td>HE Qualification</td>\n",
              "      <td>40-50%</td>\n",
              "      <td>0-35</td>\n",
              "      <td>0</td>\n",
              "      <td>60</td>\n",
              "      <td>N</td>\n",
              "      <td>Pass</td>\n",
              "    </tr>\n",
              "    <tr>\n",
              "      <th>8659</th>\n",
              "      <td>CCC</td>\n",
              "      <td>2014B</td>\n",
              "      <td>29820</td>\n",
              "      <td>M</td>\n",
              "      <td>East Anglian Region</td>\n",
              "      <td>HE Qualification</td>\n",
              "      <td>40-50%</td>\n",
              "      <td>0-35</td>\n",
              "      <td>0</td>\n",
              "      <td>60</td>\n",
              "      <td>N</td>\n",
              "      <td>Pass</td>\n",
              "    </tr>\n",
              "    <tr>\n",
              "      <th>6372</th>\n",
              "      <td>BBB</td>\n",
              "      <td>2014J</td>\n",
              "      <td>39208</td>\n",
              "      <td>F</td>\n",
              "      <td>Wales</td>\n",
              "      <td>A Level or Equivalent</td>\n",
              "      <td>90-100%</td>\n",
              "      <td>35-55</td>\n",
              "      <td>0</td>\n",
              "      <td>120</td>\n",
              "      <td>N</td>\n",
              "      <td>Pass</td>\n",
              "    </tr>\n",
              "    <tr>\n",
              "      <th>17569</th>\n",
              "      <td>DDD</td>\n",
              "      <td>2014J</td>\n",
              "      <td>39208</td>\n",
              "      <td>F</td>\n",
              "      <td>Wales</td>\n",
              "      <td>A Level or Equivalent</td>\n",
              "      <td>90-100%</td>\n",
              "      <td>35-55</td>\n",
              "      <td>0</td>\n",
              "      <td>120</td>\n",
              "      <td>N</td>\n",
              "      <td>Withdrawn</td>\n",
              "    </tr>\n",
              "    <tr>\n",
              "      <th>16338</th>\n",
              "      <td>DDD</td>\n",
              "      <td>2014B</td>\n",
              "      <td>49119</td>\n",
              "      <td>M</td>\n",
              "      <td>Ireland</td>\n",
              "      <td>HE Qualification</td>\n",
              "      <td>NaN</td>\n",
              "      <td>0-35</td>\n",
              "      <td>0</td>\n",
              "      <td>90</td>\n",
              "      <td>N</td>\n",
              "      <td>Withdrawn</td>\n",
              "    </tr>\n",
              "  </tbody>\n",
              "</table>\n",
              "</div>"
            ],
            "text/plain": [
              "      code_module code_presentation  ...  disability final_result\n",
              "20418         EEE             2014B  ...           N         Pass\n",
              "8659          CCC             2014B  ...           N         Pass\n",
              "6372          BBB             2014J  ...           N         Pass\n",
              "17569         DDD             2014J  ...           N    Withdrawn\n",
              "16338         DDD             2014B  ...           N    Withdrawn\n",
              "\n",
              "[5 rows x 12 columns]"
            ]
          },
          "metadata": {
            "tags": []
          },
          "execution_count": 27
        }
      ]
    },
    {
      "cell_type": "code",
      "metadata": {
        "colab": {
          "base_uri": "https://localhost:8080/"
        },
        "id": "ZKzqKndAmxeV",
        "outputId": "2a19b7e0-fdae-404e-f0f1-2bc724d44d6f"
      },
      "source": [
        "len(students_with_multip_course['id_student'].unique())"
      ],
      "execution_count": 28,
      "outputs": [
        {
          "output_type": "execute_result",
          "data": {
            "text/plain": [
              "1071"
            ]
          },
          "metadata": {
            "tags": []
          },
          "execution_count": 28
        }
      ]
    },
    {
      "cell_type": "markdown",
      "metadata": {
        "id": "IGTAiYSEm0tF"
      },
      "source": [
        "There are 1071 student who take more than one course at a semester.  "
      ]
    },
    {
      "cell_type": "markdown",
      "metadata": {
        "id": "bM_KpVs1gHWH"
      },
      "source": [
        "# Data Joining"
      ]
    },
    {
      "cell_type": "markdown",
      "metadata": {
        "id": "CTSpG5XkkYTt"
      },
      "source": [
        "Eventually, all the tables will be joined to `student_info`. But `assessment` and `vle` tables will be preprocessed and joined to `student_assessment` and `student_vle` tables respectively.\n",
        "\n"
      ]
    },
    {
      "cell_type": "markdown",
      "metadata": {
        "id": "v3qKQv33jxuI"
      },
      "source": [
        "### Preparing `student_assesseent`\n",
        "These tables will bring up information about assessments, like if it's tutor marked assignmet (`assessment_type == 'TMA'`) or the student's score on the assignment."
      ]
    },
    {
      "cell_type": "code",
      "metadata": {
        "id": "uz6C6orPisBk"
      },
      "source": [
        "student_assessment = (\n",
        "    raw_student_assessment.set_index('id_assessment')\n",
        "    .join(raw_assessments.set_index('id_assessment'))\n",
        ").reset_index()"
      ],
      "execution_count": 29,
      "outputs": []
    },
    {
      "cell_type": "markdown",
      "metadata": {
        "id": "OLbUXWxKrxEM"
      },
      "source": [
        "At this point there are multiple entries for a `code_module`, `code_presentation`, `id_student`. So this table can not be added to `student_info`. I need to come up with some aggregation for student assessment."
      ]
    },
    {
      "cell_type": "code",
      "metadata": {
        "colab": {
          "base_uri": "https://localhost:8080/",
          "height": 206
        },
        "id": "JsSyKJvBcks-",
        "outputId": "8f2adf1c-a1b8-4eb3-8d3d-c61c28bb9012"
      },
      "source": [
        "student_assessment.head()"
      ],
      "execution_count": 30,
      "outputs": [
        {
          "output_type": "execute_result",
          "data": {
            "text/html": [
              "<div>\n",
              "<style scoped>\n",
              "    .dataframe tbody tr th:only-of-type {\n",
              "        vertical-align: middle;\n",
              "    }\n",
              "\n",
              "    .dataframe tbody tr th {\n",
              "        vertical-align: top;\n",
              "    }\n",
              "\n",
              "    .dataframe thead th {\n",
              "        text-align: right;\n",
              "    }\n",
              "</style>\n",
              "<table border=\"1\" class=\"dataframe\">\n",
              "  <thead>\n",
              "    <tr style=\"text-align: right;\">\n",
              "      <th></th>\n",
              "      <th>id_assessment</th>\n",
              "      <th>id_student</th>\n",
              "      <th>date_submitted</th>\n",
              "      <th>is_banked</th>\n",
              "      <th>score</th>\n",
              "      <th>code_module</th>\n",
              "      <th>code_presentation</th>\n",
              "      <th>assessment_type</th>\n",
              "      <th>date</th>\n",
              "      <th>weight</th>\n",
              "    </tr>\n",
              "  </thead>\n",
              "  <tbody>\n",
              "    <tr>\n",
              "      <th>0</th>\n",
              "      <td>1752</td>\n",
              "      <td>11391</td>\n",
              "      <td>18</td>\n",
              "      <td>0</td>\n",
              "      <td>78.0</td>\n",
              "      <td>AAA</td>\n",
              "      <td>2013J</td>\n",
              "      <td>TMA</td>\n",
              "      <td>19.0</td>\n",
              "      <td>10.0</td>\n",
              "    </tr>\n",
              "    <tr>\n",
              "      <th>1</th>\n",
              "      <td>1752</td>\n",
              "      <td>28400</td>\n",
              "      <td>22</td>\n",
              "      <td>0</td>\n",
              "      <td>70.0</td>\n",
              "      <td>AAA</td>\n",
              "      <td>2013J</td>\n",
              "      <td>TMA</td>\n",
              "      <td>19.0</td>\n",
              "      <td>10.0</td>\n",
              "    </tr>\n",
              "    <tr>\n",
              "      <th>2</th>\n",
              "      <td>1752</td>\n",
              "      <td>31604</td>\n",
              "      <td>17</td>\n",
              "      <td>0</td>\n",
              "      <td>72.0</td>\n",
              "      <td>AAA</td>\n",
              "      <td>2013J</td>\n",
              "      <td>TMA</td>\n",
              "      <td>19.0</td>\n",
              "      <td>10.0</td>\n",
              "    </tr>\n",
              "    <tr>\n",
              "      <th>3</th>\n",
              "      <td>1752</td>\n",
              "      <td>32885</td>\n",
              "      <td>26</td>\n",
              "      <td>0</td>\n",
              "      <td>69.0</td>\n",
              "      <td>AAA</td>\n",
              "      <td>2013J</td>\n",
              "      <td>TMA</td>\n",
              "      <td>19.0</td>\n",
              "      <td>10.0</td>\n",
              "    </tr>\n",
              "    <tr>\n",
              "      <th>4</th>\n",
              "      <td>1752</td>\n",
              "      <td>38053</td>\n",
              "      <td>19</td>\n",
              "      <td>0</td>\n",
              "      <td>79.0</td>\n",
              "      <td>AAA</td>\n",
              "      <td>2013J</td>\n",
              "      <td>TMA</td>\n",
              "      <td>19.0</td>\n",
              "      <td>10.0</td>\n",
              "    </tr>\n",
              "  </tbody>\n",
              "</table>\n",
              "</div>"
            ],
            "text/plain": [
              "   id_assessment  id_student  date_submitted  ...  assessment_type  date weight\n",
              "0           1752       11391              18  ...              TMA  19.0   10.0\n",
              "1           1752       28400              22  ...              TMA  19.0   10.0\n",
              "2           1752       31604              17  ...              TMA  19.0   10.0\n",
              "3           1752       32885              26  ...              TMA  19.0   10.0\n",
              "4           1752       38053              19  ...              TMA  19.0   10.0\n",
              "\n",
              "[5 rows x 10 columns]"
            ]
          },
          "metadata": {
            "tags": []
          },
          "execution_count": 30
        }
      ]
    },
    {
      "cell_type": "code",
      "metadata": {
        "colab": {
          "base_uri": "https://localhost:8080/",
          "height": 206
        },
        "id": "qoAOu7IOaqDT",
        "outputId": "d58d3a50-a7f6-4942-fa64-47219b1020ee"
      },
      "source": [
        "student_assessment.query('id_student == 38053')"
      ],
      "execution_count": 31,
      "outputs": [
        {
          "output_type": "execute_result",
          "data": {
            "text/html": [
              "<div>\n",
              "<style scoped>\n",
              "    .dataframe tbody tr th:only-of-type {\n",
              "        vertical-align: middle;\n",
              "    }\n",
              "\n",
              "    .dataframe tbody tr th {\n",
              "        vertical-align: top;\n",
              "    }\n",
              "\n",
              "    .dataframe thead th {\n",
              "        text-align: right;\n",
              "    }\n",
              "</style>\n",
              "<table border=\"1\" class=\"dataframe\">\n",
              "  <thead>\n",
              "    <tr style=\"text-align: right;\">\n",
              "      <th></th>\n",
              "      <th>id_assessment</th>\n",
              "      <th>id_student</th>\n",
              "      <th>date_submitted</th>\n",
              "      <th>is_banked</th>\n",
              "      <th>score</th>\n",
              "      <th>code_module</th>\n",
              "      <th>code_presentation</th>\n",
              "      <th>assessment_type</th>\n",
              "      <th>date</th>\n",
              "      <th>weight</th>\n",
              "    </tr>\n",
              "  </thead>\n",
              "  <tbody>\n",
              "    <tr>\n",
              "      <th>4</th>\n",
              "      <td>1752</td>\n",
              "      <td>38053</td>\n",
              "      <td>19</td>\n",
              "      <td>0</td>\n",
              "      <td>79.0</td>\n",
              "      <td>AAA</td>\n",
              "      <td>2013J</td>\n",
              "      <td>TMA</td>\n",
              "      <td>19.0</td>\n",
              "      <td>10.0</td>\n",
              "    </tr>\n",
              "    <tr>\n",
              "      <th>505</th>\n",
              "      <td>1753</td>\n",
              "      <td>38053</td>\n",
              "      <td>64</td>\n",
              "      <td>0</td>\n",
              "      <td>69.0</td>\n",
              "      <td>AAA</td>\n",
              "      <td>2013J</td>\n",
              "      <td>TMA</td>\n",
              "      <td>54.0</td>\n",
              "      <td>20.0</td>\n",
              "    </tr>\n",
              "    <tr>\n",
              "      <th>846</th>\n",
              "      <td>1754</td>\n",
              "      <td>38053</td>\n",
              "      <td>117</td>\n",
              "      <td>0</td>\n",
              "      <td>74.0</td>\n",
              "      <td>AAA</td>\n",
              "      <td>2013J</td>\n",
              "      <td>TMA</td>\n",
              "      <td>117.0</td>\n",
              "      <td>20.0</td>\n",
              "    </tr>\n",
              "    <tr>\n",
              "      <th>1036</th>\n",
              "      <td>1755</td>\n",
              "      <td>38053</td>\n",
              "      <td>166</td>\n",
              "      <td>0</td>\n",
              "      <td>50.0</td>\n",
              "      <td>AAA</td>\n",
              "      <td>2013J</td>\n",
              "      <td>TMA</td>\n",
              "      <td>166.0</td>\n",
              "      <td>20.0</td>\n",
              "    </tr>\n",
              "    <tr>\n",
              "      <th>1461</th>\n",
              "      <td>1756</td>\n",
              "      <td>38053</td>\n",
              "      <td>215</td>\n",
              "      <td>0</td>\n",
              "      <td>68.0</td>\n",
              "      <td>AAA</td>\n",
              "      <td>2013J</td>\n",
              "      <td>TMA</td>\n",
              "      <td>215.0</td>\n",
              "      <td>30.0</td>\n",
              "    </tr>\n",
              "  </tbody>\n",
              "</table>\n",
              "</div>"
            ],
            "text/plain": [
              "      id_assessment  id_student  date_submitted  ...  assessment_type   date weight\n",
              "4              1752       38053              19  ...              TMA   19.0   10.0\n",
              "505            1753       38053              64  ...              TMA   54.0   20.0\n",
              "846            1754       38053             117  ...              TMA  117.0   20.0\n",
              "1036           1755       38053             166  ...              TMA  166.0   20.0\n",
              "1461           1756       38053             215  ...              TMA  215.0   30.0\n",
              "\n",
              "[5 rows x 10 columns]"
            ]
          },
          "metadata": {
            "tags": []
          },
          "execution_count": 31
        }
      ]
    },
    {
      "cell_type": "code",
      "metadata": {
        "colab": {
          "base_uri": "https://localhost:8080/",
          "height": 206
        },
        "id": "6I1YX5Pggn6S",
        "outputId": "873f392a-5646-4b13-8caa-4098ea68113f"
      },
      "source": [
        "student_assessment.query('id_student == 11391')"
      ],
      "execution_count": 32,
      "outputs": [
        {
          "output_type": "execute_result",
          "data": {
            "text/html": [
              "<div>\n",
              "<style scoped>\n",
              "    .dataframe tbody tr th:only-of-type {\n",
              "        vertical-align: middle;\n",
              "    }\n",
              "\n",
              "    .dataframe tbody tr th {\n",
              "        vertical-align: top;\n",
              "    }\n",
              "\n",
              "    .dataframe thead th {\n",
              "        text-align: right;\n",
              "    }\n",
              "</style>\n",
              "<table border=\"1\" class=\"dataframe\">\n",
              "  <thead>\n",
              "    <tr style=\"text-align: right;\">\n",
              "      <th></th>\n",
              "      <th>id_assessment</th>\n",
              "      <th>id_student</th>\n",
              "      <th>date_submitted</th>\n",
              "      <th>is_banked</th>\n",
              "      <th>score</th>\n",
              "      <th>code_module</th>\n",
              "      <th>code_presentation</th>\n",
              "      <th>assessment_type</th>\n",
              "      <th>date</th>\n",
              "      <th>weight</th>\n",
              "    </tr>\n",
              "  </thead>\n",
              "  <tbody>\n",
              "    <tr>\n",
              "      <th>0</th>\n",
              "      <td>1752</td>\n",
              "      <td>11391</td>\n",
              "      <td>18</td>\n",
              "      <td>0</td>\n",
              "      <td>78.0</td>\n",
              "      <td>AAA</td>\n",
              "      <td>2013J</td>\n",
              "      <td>TMA</td>\n",
              "      <td>19.0</td>\n",
              "      <td>10.0</td>\n",
              "    </tr>\n",
              "    <tr>\n",
              "      <th>501</th>\n",
              "      <td>1753</td>\n",
              "      <td>11391</td>\n",
              "      <td>53</td>\n",
              "      <td>0</td>\n",
              "      <td>85.0</td>\n",
              "      <td>AAA</td>\n",
              "      <td>2013J</td>\n",
              "      <td>TMA</td>\n",
              "      <td>54.0</td>\n",
              "      <td>20.0</td>\n",
              "    </tr>\n",
              "    <tr>\n",
              "      <th>842</th>\n",
              "      <td>1754</td>\n",
              "      <td>11391</td>\n",
              "      <td>115</td>\n",
              "      <td>0</td>\n",
              "      <td>80.0</td>\n",
              "      <td>AAA</td>\n",
              "      <td>2013J</td>\n",
              "      <td>TMA</td>\n",
              "      <td>117.0</td>\n",
              "      <td>20.0</td>\n",
              "    </tr>\n",
              "    <tr>\n",
              "      <th>1032</th>\n",
              "      <td>1755</td>\n",
              "      <td>11391</td>\n",
              "      <td>164</td>\n",
              "      <td>0</td>\n",
              "      <td>85.0</td>\n",
              "      <td>AAA</td>\n",
              "      <td>2013J</td>\n",
              "      <td>TMA</td>\n",
              "      <td>166.0</td>\n",
              "      <td>20.0</td>\n",
              "    </tr>\n",
              "    <tr>\n",
              "      <th>1457</th>\n",
              "      <td>1756</td>\n",
              "      <td>11391</td>\n",
              "      <td>212</td>\n",
              "      <td>0</td>\n",
              "      <td>82.0</td>\n",
              "      <td>AAA</td>\n",
              "      <td>2013J</td>\n",
              "      <td>TMA</td>\n",
              "      <td>215.0</td>\n",
              "      <td>30.0</td>\n",
              "    </tr>\n",
              "  </tbody>\n",
              "</table>\n",
              "</div>"
            ],
            "text/plain": [
              "      id_assessment  id_student  date_submitted  ...  assessment_type   date weight\n",
              "0              1752       11391              18  ...              TMA   19.0   10.0\n",
              "501            1753       11391              53  ...              TMA   54.0   20.0\n",
              "842            1754       11391             115  ...              TMA  117.0   20.0\n",
              "1032           1755       11391             164  ...              TMA  166.0   20.0\n",
              "1457           1756       11391             212  ...              TMA  215.0   30.0\n",
              "\n",
              "[5 rows x 10 columns]"
            ]
          },
          "metadata": {
            "tags": []
          },
          "execution_count": 32
        }
      ]
    },
    {
      "cell_type": "markdown",
      "metadata": {
        "id": "C4I1AWq4gv8d"
      },
      "source": [
        "Looks like not all courses have all types of assessments "
      ]
    },
    {
      "cell_type": "code",
      "metadata": {
        "colab": {
          "base_uri": "https://localhost:8080/",
          "height": 771
        },
        "id": "0g8-zjCghFXA",
        "outputId": "9397676e-3563-4b03-cf44-750701d58047"
      },
      "source": [
        "student_assessment.groupby(['code_module', 'code_presentation']).nunique()"
      ],
      "execution_count": 33,
      "outputs": [
        {
          "output_type": "execute_result",
          "data": {
            "text/html": [
              "<div>\n",
              "<style scoped>\n",
              "    .dataframe tbody tr th:only-of-type {\n",
              "        vertical-align: middle;\n",
              "    }\n",
              "\n",
              "    .dataframe tbody tr th {\n",
              "        vertical-align: top;\n",
              "    }\n",
              "\n",
              "    .dataframe thead th {\n",
              "        text-align: right;\n",
              "    }\n",
              "</style>\n",
              "<table border=\"1\" class=\"dataframe\">\n",
              "  <thead>\n",
              "    <tr style=\"text-align: right;\">\n",
              "      <th></th>\n",
              "      <th></th>\n",
              "      <th>id_assessment</th>\n",
              "      <th>id_student</th>\n",
              "      <th>date_submitted</th>\n",
              "      <th>is_banked</th>\n",
              "      <th>score</th>\n",
              "      <th>assessment_type</th>\n",
              "      <th>date</th>\n",
              "      <th>weight</th>\n",
              "    </tr>\n",
              "    <tr>\n",
              "      <th>code_module</th>\n",
              "      <th>code_presentation</th>\n",
              "      <th></th>\n",
              "      <th></th>\n",
              "      <th></th>\n",
              "      <th></th>\n",
              "      <th></th>\n",
              "      <th></th>\n",
              "      <th></th>\n",
              "      <th></th>\n",
              "    </tr>\n",
              "  </thead>\n",
              "  <tbody>\n",
              "    <tr>\n",
              "      <th rowspan=\"2\" valign=\"top\">AAA</th>\n",
              "      <th>2013J</th>\n",
              "      <td>5</td>\n",
              "      <td>365</td>\n",
              "      <td>147</td>\n",
              "      <td>1</td>\n",
              "      <td>72</td>\n",
              "      <td>1</td>\n",
              "      <td>5</td>\n",
              "      <td>3</td>\n",
              "    </tr>\n",
              "    <tr>\n",
              "      <th>2014J</th>\n",
              "      <td>5</td>\n",
              "      <td>340</td>\n",
              "      <td>146</td>\n",
              "      <td>2</td>\n",
              "      <td>73</td>\n",
              "      <td>1</td>\n",
              "      <td>5</td>\n",
              "      <td>3</td>\n",
              "    </tr>\n",
              "    <tr>\n",
              "      <th rowspan=\"4\" valign=\"top\">BBB</th>\n",
              "      <th>2013B</th>\n",
              "      <td>11</td>\n",
              "      <td>1369</td>\n",
              "      <td>212</td>\n",
              "      <td>2</td>\n",
              "      <td>94</td>\n",
              "      <td>2</td>\n",
              "      <td>7</td>\n",
              "      <td>3</td>\n",
              "    </tr>\n",
              "    <tr>\n",
              "      <th>2013J</th>\n",
              "      <td>11</td>\n",
              "      <td>1710</td>\n",
              "      <td>231</td>\n",
              "      <td>2</td>\n",
              "      <td>91</td>\n",
              "      <td>2</td>\n",
              "      <td>7</td>\n",
              "      <td>3</td>\n",
              "    </tr>\n",
              "    <tr>\n",
              "      <th>2014B</th>\n",
              "      <td>11</td>\n",
              "      <td>1205</td>\n",
              "      <td>210</td>\n",
              "      <td>2</td>\n",
              "      <td>91</td>\n",
              "      <td>2</td>\n",
              "      <td>7</td>\n",
              "      <td>3</td>\n",
              "    </tr>\n",
              "    <tr>\n",
              "      <th>2014J</th>\n",
              "      <td>5</td>\n",
              "      <td>1793</td>\n",
              "      <td>220</td>\n",
              "      <td>1</td>\n",
              "      <td>83</td>\n",
              "      <td>1</td>\n",
              "      <td>5</td>\n",
              "      <td>4</td>\n",
              "    </tr>\n",
              "    <tr>\n",
              "      <th rowspan=\"2\" valign=\"top\">CCC</th>\n",
              "      <th>2014B</th>\n",
              "      <td>9</td>\n",
              "      <td>1415</td>\n",
              "      <td>183</td>\n",
              "      <td>1</td>\n",
              "      <td>100</td>\n",
              "      <td>3</td>\n",
              "      <td>8</td>\n",
              "      <td>6</td>\n",
              "    </tr>\n",
              "    <tr>\n",
              "      <th>2014J</th>\n",
              "      <td>9</td>\n",
              "      <td>1998</td>\n",
              "      <td>204</td>\n",
              "      <td>2</td>\n",
              "      <td>100</td>\n",
              "      <td>3</td>\n",
              "      <td>8</td>\n",
              "      <td>6</td>\n",
              "    </tr>\n",
              "    <tr>\n",
              "      <th rowspan=\"4\" valign=\"top\">DDD</th>\n",
              "      <th>2013B</th>\n",
              "      <td>14</td>\n",
              "      <td>1065</td>\n",
              "      <td>210</td>\n",
              "      <td>2</td>\n",
              "      <td>101</td>\n",
              "      <td>3</td>\n",
              "      <td>14</td>\n",
              "      <td>9</td>\n",
              "    </tr>\n",
              "    <tr>\n",
              "      <th>2013J</th>\n",
              "      <td>7</td>\n",
              "      <td>1507</td>\n",
              "      <td>229</td>\n",
              "      <td>2</td>\n",
              "      <td>98</td>\n",
              "      <td>2</td>\n",
              "      <td>7</td>\n",
              "      <td>5</td>\n",
              "    </tr>\n",
              "    <tr>\n",
              "      <th>2014B</th>\n",
              "      <td>7</td>\n",
              "      <td>944</td>\n",
              "      <td>211</td>\n",
              "      <td>2</td>\n",
              "      <td>99</td>\n",
              "      <td>2</td>\n",
              "      <td>7</td>\n",
              "      <td>5</td>\n",
              "    </tr>\n",
              "    <tr>\n",
              "      <th>2014J</th>\n",
              "      <td>7</td>\n",
              "      <td>1428</td>\n",
              "      <td>213</td>\n",
              "      <td>2</td>\n",
              "      <td>99</td>\n",
              "      <td>2</td>\n",
              "      <td>6</td>\n",
              "      <td>4</td>\n",
              "    </tr>\n",
              "    <tr>\n",
              "      <th rowspan=\"3\" valign=\"top\">EEE</th>\n",
              "      <th>2013J</th>\n",
              "      <td>4</td>\n",
              "      <td>827</td>\n",
              "      <td>128</td>\n",
              "      <td>1</td>\n",
              "      <td>85</td>\n",
              "      <td>1</td>\n",
              "      <td>4</td>\n",
              "      <td>2</td>\n",
              "    </tr>\n",
              "    <tr>\n",
              "      <th>2014B</th>\n",
              "      <td>4</td>\n",
              "      <td>536</td>\n",
              "      <td>129</td>\n",
              "      <td>2</td>\n",
              "      <td>82</td>\n",
              "      <td>1</td>\n",
              "      <td>4</td>\n",
              "      <td>2</td>\n",
              "    </tr>\n",
              "    <tr>\n",
              "      <th>2014J</th>\n",
              "      <td>4</td>\n",
              "      <td>935</td>\n",
              "      <td>149</td>\n",
              "      <td>2</td>\n",
              "      <td>81</td>\n",
              "      <td>1</td>\n",
              "      <td>4</td>\n",
              "      <td>2</td>\n",
              "    </tr>\n",
              "    <tr>\n",
              "      <th rowspan=\"4\" valign=\"top\">FFF</th>\n",
              "      <th>2013B</th>\n",
              "      <td>12</td>\n",
              "      <td>1371</td>\n",
              "      <td>234</td>\n",
              "      <td>2</td>\n",
              "      <td>95</td>\n",
              "      <td>2</td>\n",
              "      <td>6</td>\n",
              "      <td>3</td>\n",
              "    </tr>\n",
              "    <tr>\n",
              "      <th>2013J</th>\n",
              "      <td>12</td>\n",
              "      <td>1874</td>\n",
              "      <td>245</td>\n",
              "      <td>2</td>\n",
              "      <td>99</td>\n",
              "      <td>2</td>\n",
              "      <td>6</td>\n",
              "      <td>3</td>\n",
              "    </tr>\n",
              "    <tr>\n",
              "      <th>2014B</th>\n",
              "      <td>12</td>\n",
              "      <td>1206</td>\n",
              "      <td>231</td>\n",
              "      <td>2</td>\n",
              "      <td>92</td>\n",
              "      <td>2</td>\n",
              "      <td>6</td>\n",
              "      <td>3</td>\n",
              "    </tr>\n",
              "    <tr>\n",
              "      <th>2014J</th>\n",
              "      <td>12</td>\n",
              "      <td>1843</td>\n",
              "      <td>243</td>\n",
              "      <td>2</td>\n",
              "      <td>94</td>\n",
              "      <td>2</td>\n",
              "      <td>6</td>\n",
              "      <td>3</td>\n",
              "    </tr>\n",
              "    <tr>\n",
              "      <th rowspan=\"3\" valign=\"top\">GGG</th>\n",
              "      <th>2013J</th>\n",
              "      <td>9</td>\n",
              "      <td>819</td>\n",
              "      <td>192</td>\n",
              "      <td>1</td>\n",
              "      <td>76</td>\n",
              "      <td>2</td>\n",
              "      <td>4</td>\n",
              "      <td>1</td>\n",
              "    </tr>\n",
              "    <tr>\n",
              "      <th>2014B</th>\n",
              "      <td>9</td>\n",
              "      <td>689</td>\n",
              "      <td>194</td>\n",
              "      <td>1</td>\n",
              "      <td>80</td>\n",
              "      <td>2</td>\n",
              "      <td>4</td>\n",
              "      <td>1</td>\n",
              "    </tr>\n",
              "    <tr>\n",
              "      <th>2014J</th>\n",
              "      <td>9</td>\n",
              "      <td>604</td>\n",
              "      <td>200</td>\n",
              "      <td>2</td>\n",
              "      <td>77</td>\n",
              "      <td>2</td>\n",
              "      <td>4</td>\n",
              "      <td>1</td>\n",
              "    </tr>\n",
              "  </tbody>\n",
              "</table>\n",
              "</div>"
            ],
            "text/plain": [
              "                               id_assessment  id_student  ...  date  weight\n",
              "code_module code_presentation                             ...              \n",
              "AAA         2013J                          5         365  ...     5       3\n",
              "            2014J                          5         340  ...     5       3\n",
              "BBB         2013B                         11        1369  ...     7       3\n",
              "            2013J                         11        1710  ...     7       3\n",
              "            2014B                         11        1205  ...     7       3\n",
              "            2014J                          5        1793  ...     5       4\n",
              "CCC         2014B                          9        1415  ...     8       6\n",
              "            2014J                          9        1998  ...     8       6\n",
              "DDD         2013B                         14        1065  ...    14       9\n",
              "            2013J                          7        1507  ...     7       5\n",
              "            2014B                          7         944  ...     7       5\n",
              "            2014J                          7        1428  ...     6       4\n",
              "EEE         2013J                          4         827  ...     4       2\n",
              "            2014B                          4         536  ...     4       2\n",
              "            2014J                          4         935  ...     4       2\n",
              "FFF         2013B                         12        1371  ...     6       3\n",
              "            2013J                         12        1874  ...     6       3\n",
              "            2014B                         12        1206  ...     6       3\n",
              "            2014J                         12        1843  ...     6       3\n",
              "GGG         2013J                          9         819  ...     4       1\n",
              "            2014B                          9         689  ...     4       1\n",
              "            2014J                          9         604  ...     4       1\n",
              "\n",
              "[22 rows x 8 columns]"
            ]
          },
          "metadata": {
            "tags": []
          },
          "execution_count": 33
        }
      ]
    },
    {
      "cell_type": "markdown",
      "metadata": {
        "id": "DaIWtAtBzSSe"
      },
      "source": [
        "Yes, they do and this varies from 4 to 14. It doesn't make sense to add all assessments information to the related students. It would end up having around 6 columns with NaN values up to ~97% of the data.\n",
        "  \n",
        "So, I need to engineer the features and come up with new features anonymous to assessment number in a course"
      ]
    },
    {
      "cell_type": "code",
      "metadata": {
        "id": "juUDZvLbdkdz"
      },
      "source": [
        "# avg_score: Student's avg score calculated with weights\n",
        "# first_score: Student's first score\n",
        "# mean_score: Average of the student's all scores (calculated without weights)\n",
        "# last_score: Student's last score\n",
        "# score_std: Standard deviation of the student's scores\n",
        "# min_weight_score: Student's score on min weighted assignment\n",
        "# max_weight_score: Student's score on max weighted assignment\n",
        "# submit_delta: Total difference from student's submit days to the actual deadline\n",
        "# submit_delta_std: Standard deviation of `submit_delta`\n",
        "# num_banked: Total number of banked scores\n",
        "# has_exam: `True` if course has an exam and `False` if not\n",
        "# num_of_assmnt: Total number of assessments student takes at the course"
      ],
      "execution_count": 34,
      "outputs": []
    },
    {
      "cell_type": "markdown",
      "metadata": {
        "id": "pj8FDp92mZj6"
      },
      "source": [
        "#### NaN date values on `Exam` column\n",
        "Some exams have no date. And for such rows its commented as _\"If the information about the final exam date is missing, it is at the end of the last presentation week.\"_ So I need to fill with final date of the presentation to the NaN values.  \n",
        "Does all values with date NaN are exams or are there any other missing info?"
      ]
    },
    {
      "cell_type": "code",
      "metadata": {
        "colab": {
          "base_uri": "https://localhost:8080/"
        },
        "id": "DFbNQGmdbE-a",
        "outputId": "bf78e57d-5f61-40a5-a95e-1ac60b7cc345"
      },
      "source": [
        "student_assessment[student_assessment['date'].isna()]['assessment_type'].unique()"
      ],
      "execution_count": 35,
      "outputs": [
        {
          "output_type": "execute_result",
          "data": {
            "text/plain": [
              "array(['Exam'], dtype=object)"
            ]
          },
          "metadata": {
            "tags": []
          },
          "execution_count": 35
        }
      ]
    },
    {
      "cell_type": "markdown",
      "metadata": {
        "id": "tUUAEPnlcNz9"
      },
      "source": [
        "Since all the NaN values are only on exams these valuese can be filled with final date from course table"
      ]
    },
    {
      "cell_type": "code",
      "metadata": {
        "id": "1ExC8Av8cbI3"
      },
      "source": [
        "_idx = ['code_module', 'code_presentation']\n",
        "end_dates = raw_courses.set_index(_idx)['module_presentation_length']\n",
        "student_assessment.set_index(_idx, inplace=True)\n",
        "student_assessment['date'].fillna(end_dates, inplace=True)\n",
        "student_assessment.reset_index(inplace=True)"
      ],
      "execution_count": 36,
      "outputs": []
    },
    {
      "cell_type": "code",
      "metadata": {
        "colab": {
          "base_uri": "https://localhost:8080/"
        },
        "id": "t3MiSdv6pRf_",
        "outputId": "2c45100c-ce7c-458b-8b7a-773a1179b3d6"
      },
      "source": [
        "student_assessment['date'].isna().sum()"
      ],
      "execution_count": 37,
      "outputs": [
        {
          "output_type": "execute_result",
          "data": {
            "text/plain": [
              "0"
            ]
          },
          "metadata": {
            "tags": []
          },
          "execution_count": 37
        }
      ]
    },
    {
      "cell_type": "markdown",
      "metadata": {
        "id": "YT7lnVaepVUl"
      },
      "source": [
        "Filled all NaN values on `date` column with presentation end date\n"
      ]
    },
    {
      "cell_type": "markdown",
      "metadata": {
        "id": "fnlNsBOLszmU"
      },
      "source": [
        "#### Calculating student specific features"
      ]
    },
    {
      "cell_type": "markdown",
      "metadata": {
        "id": "p-KP__49Olq1"
      },
      "source": [
        "##### TODO: Find a better naming\n"
      ]
    },
    {
      "cell_type": "code",
      "metadata": {
        "id": "jG1mD2aRPxVT"
      },
      "source": [
        "# Setting up the new DataFrame\n",
        "student_assessment_reduced = pd.DataFrame()\n",
        "\n",
        "# The new Dataframe will be created by grouping and aggregations of some \n",
        "# features in `student_assessment` table\n",
        "_grouper = ['id_student', 'code_presentation', 'code_module']\n",
        "grouped_assessment = student_assessment.groupby(_grouper)\n",
        "\n",
        "# Calculating `avg_score`\n",
        "_score = student_assessment.set_index(_grouper).score\n",
        "_weight = student_assessment.set_index(_grouper).weight\n",
        "# Total weight is not 100 for all courses\n",
        "_total_weight = (student_assessment\n",
        "                 .groupby(_grouper)\n",
        "                 .sum()\n",
        "                 .weight)\n",
        "student_assessment_reduced['avg_score'] = ((_score *_weight / _total_weight)\n",
        "                                            .groupby(_grouper)\n",
        "                                            .sum())\n",
        "\n",
        "# Calculating `first_score`\n",
        "student_assessment_reduced['first_score'] = (grouped_assessment\n",
        "                                             .first()\n",
        "                                             .score)\n",
        "\n",
        "# Calculating `mean_score`\n",
        "student_assessment_reduced['mean_score'] = (grouped_assessment\n",
        "                                           .mean()\n",
        "                                           .score)\n",
        "\n",
        "# Calculating `last_score`\n",
        "student_assessment_reduced['last_score'] = (grouped_assessment\n",
        "                                            .last()\n",
        "                                            .score)\n",
        "\n",
        "# Calculating `score_std`\n",
        "student_assessment_reduced['score_std'] = (grouped_assessment\n",
        "                                           .std()\n",
        "                                           .score)\n",
        "\n",
        "# Calculating `min_weight_score`\n",
        "student_assessment_reduced['min_weight_score'] = (grouped_assessment\n",
        "                                                  .min('weight')\n",
        "                                                  .score)\n",
        "\n",
        "# Calculating `max_weight_score`\n",
        "student_assessment_reduced['max_weight_score'] = (grouped_assessment\n",
        "                                                  .max('weight')\n",
        "                                                  .score)\n",
        "\n",
        "# `submit_delta`, `submit_delta_std` \n",
        "delta = (student_assessment.set_index(_grouper).date - student_assessment.set_index(_grouper).date_submitted)\n",
        "student_assessment_reduced['submit_delta'] = delta.groupby(by=_grouper).sum()\n",
        "student_assessment_reduced['submit_delta_std'] = delta.groupby(by=_grouper).std()\n",
        "\n",
        "# `num_banked`\n",
        "student_assessment_reduced['num_banked'] = (grouped_assessment\n",
        "                                            .sum()\n",
        "                                            .is_banked)\n",
        "\n",
        "# `has_exam`\n",
        "student_assessment_reduced['has_exam'] = (student_assessment.set_index(_grouper)['assessment_type'] == 'Exam').groupby(_grouper).sum()\n",
        "\n",
        "# `num_of_assmnt`\n",
        "student_assessment_reduced['num_of_assmnt'] = (grouped_assessment\n",
        "                                               .nunique()\n",
        "                                               .id_assessment)"
      ],
      "execution_count": 101,
      "outputs": []
    },
    {
      "cell_type": "markdown",
      "metadata": {
        "id": "4MxxHWRqp0iL"
      },
      "source": [
        "#### Cross check for aggregated values"
      ]
    },
    {
      "cell_type": "code",
      "metadata": {
        "colab": {
          "base_uri": "https://localhost:8080/",
          "height": 163
        },
        "id": "X5QLEG3Th5UN",
        "outputId": "6b762007-20e5-48d4-d690-783fadcbc520"
      },
      "source": [
        "student_assessment_reduced.loc[49119]"
      ],
      "execution_count": 102,
      "outputs": [
        {
          "output_type": "execute_result",
          "data": {
            "text/html": [
              "<div>\n",
              "<style scoped>\n",
              "    .dataframe tbody tr th:only-of-type {\n",
              "        vertical-align: middle;\n",
              "    }\n",
              "\n",
              "    .dataframe tbody tr th {\n",
              "        vertical-align: top;\n",
              "    }\n",
              "\n",
              "    .dataframe thead th {\n",
              "        text-align: right;\n",
              "    }\n",
              "</style>\n",
              "<table border=\"1\" class=\"dataframe\">\n",
              "  <thead>\n",
              "    <tr style=\"text-align: right;\">\n",
              "      <th></th>\n",
              "      <th></th>\n",
              "      <th>avg_score</th>\n",
              "      <th>first_score</th>\n",
              "      <th>mean_score</th>\n",
              "      <th>last_score</th>\n",
              "      <th>score_std</th>\n",
              "      <th>min_weight_score</th>\n",
              "      <th>max_weight_score</th>\n",
              "      <th>submit_delta</th>\n",
              "      <th>submit_delta_std</th>\n",
              "      <th>num_banked</th>\n",
              "      <th>has_exam</th>\n",
              "      <th>num_of_assmnt</th>\n",
              "    </tr>\n",
              "    <tr>\n",
              "      <th>code_presentation</th>\n",
              "      <th>code_module</th>\n",
              "      <th></th>\n",
              "      <th></th>\n",
              "      <th></th>\n",
              "      <th></th>\n",
              "      <th></th>\n",
              "      <th></th>\n",
              "      <th></th>\n",
              "      <th></th>\n",
              "      <th></th>\n",
              "      <th></th>\n",
              "      <th></th>\n",
              "      <th></th>\n",
              "    </tr>\n",
              "  </thead>\n",
              "  <tbody>\n",
              "    <tr>\n",
              "      <th rowspan=\"2\" valign=\"top\">2014B</th>\n",
              "      <th>CCC</th>\n",
              "      <td>95.705000</td>\n",
              "      <td>98.0</td>\n",
              "      <td>88.0</td>\n",
              "      <td>100.0</td>\n",
              "      <td>15.668440</td>\n",
              "      <td>50.0</td>\n",
              "      <td>100.0</td>\n",
              "      <td>-5.0</td>\n",
              "      <td>3.126944</td>\n",
              "      <td>0</td>\n",
              "      <td>1</td>\n",
              "      <td>9</td>\n",
              "    </tr>\n",
              "    <tr>\n",
              "      <th>DDD</th>\n",
              "      <td>71.222222</td>\n",
              "      <td>69.0</td>\n",
              "      <td>71.0</td>\n",
              "      <td>73.0</td>\n",
              "      <td>2.828427</td>\n",
              "      <td>69.0</td>\n",
              "      <td>73.0</td>\n",
              "      <td>-2.0</td>\n",
              "      <td>0.000000</td>\n",
              "      <td>0</td>\n",
              "      <td>0</td>\n",
              "      <td>2</td>\n",
              "    </tr>\n",
              "  </tbody>\n",
              "</table>\n",
              "</div>"
            ],
            "text/plain": [
              "                               avg_score  first_score  ...  has_exam  num_of_assmnt\n",
              "code_presentation code_module                          ...                         \n",
              "2014B             CCC          95.705000         98.0  ...         1              9\n",
              "                  DDD          71.222222         69.0  ...         0              2\n",
              "\n",
              "[2 rows x 12 columns]"
            ]
          },
          "metadata": {
            "tags": []
          },
          "execution_count": 102
        }
      ]
    },
    {
      "cell_type": "code",
      "metadata": {
        "colab": {
          "base_uri": "https://localhost:8080/",
          "height": 426
        },
        "id": "tH6JxiIjtGwF",
        "outputId": "7ef45b40-cfa8-4b1e-a62b-fbc4d4b7720d"
      },
      "source": [
        "student_assessment.set_index('id_student').loc[49119]"
      ],
      "execution_count": 103,
      "outputs": [
        {
          "output_type": "execute_result",
          "data": {
            "text/html": [
              "<div>\n",
              "<style scoped>\n",
              "    .dataframe tbody tr th:only-of-type {\n",
              "        vertical-align: middle;\n",
              "    }\n",
              "\n",
              "    .dataframe tbody tr th {\n",
              "        vertical-align: top;\n",
              "    }\n",
              "\n",
              "    .dataframe thead th {\n",
              "        text-align: right;\n",
              "    }\n",
              "</style>\n",
              "<table border=\"1\" class=\"dataframe\">\n",
              "  <thead>\n",
              "    <tr style=\"text-align: right;\">\n",
              "      <th></th>\n",
              "      <th>code_module</th>\n",
              "      <th>code_presentation</th>\n",
              "      <th>id_assessment</th>\n",
              "      <th>date_submitted</th>\n",
              "      <th>is_banked</th>\n",
              "      <th>score</th>\n",
              "      <th>assessment_type</th>\n",
              "      <th>date</th>\n",
              "      <th>weight</th>\n",
              "    </tr>\n",
              "    <tr>\n",
              "      <th>id_student</th>\n",
              "      <th></th>\n",
              "      <th></th>\n",
              "      <th></th>\n",
              "      <th></th>\n",
              "      <th></th>\n",
              "      <th></th>\n",
              "      <th></th>\n",
              "      <th></th>\n",
              "      <th></th>\n",
              "    </tr>\n",
              "  </thead>\n",
              "  <tbody>\n",
              "    <tr>\n",
              "      <th>49119</th>\n",
              "      <td>CCC</td>\n",
              "      <td>2014B</td>\n",
              "      <td>24282</td>\n",
              "      <td>32</td>\n",
              "      <td>0</td>\n",
              "      <td>98.0</td>\n",
              "      <td>TMA</td>\n",
              "      <td>32.0</td>\n",
              "      <td>9.0</td>\n",
              "    </tr>\n",
              "    <tr>\n",
              "      <th>49119</th>\n",
              "      <td>CCC</td>\n",
              "      <td>2014B</td>\n",
              "      <td>24283</td>\n",
              "      <td>106</td>\n",
              "      <td>0</td>\n",
              "      <td>92.0</td>\n",
              "      <td>TMA</td>\n",
              "      <td>102.0</td>\n",
              "      <td>22.0</td>\n",
              "    </tr>\n",
              "    <tr>\n",
              "      <th>49119</th>\n",
              "      <td>CCC</td>\n",
              "      <td>2014B</td>\n",
              "      <td>24284</td>\n",
              "      <td>151</td>\n",
              "      <td>0</td>\n",
              "      <td>95.0</td>\n",
              "      <td>TMA</td>\n",
              "      <td>151.0</td>\n",
              "      <td>22.0</td>\n",
              "    </tr>\n",
              "    <tr>\n",
              "      <th>49119</th>\n",
              "      <td>CCC</td>\n",
              "      <td>2014B</td>\n",
              "      <td>24285</td>\n",
              "      <td>200</td>\n",
              "      <td>0</td>\n",
              "      <td>91.0</td>\n",
              "      <td>TMA</td>\n",
              "      <td>200.0</td>\n",
              "      <td>22.0</td>\n",
              "    </tr>\n",
              "    <tr>\n",
              "      <th>49119</th>\n",
              "      <td>CCC</td>\n",
              "      <td>2014B</td>\n",
              "      <td>24286</td>\n",
              "      <td>20</td>\n",
              "      <td>0</td>\n",
              "      <td>50.0</td>\n",
              "      <td>CMA</td>\n",
              "      <td>18.0</td>\n",
              "      <td>2.0</td>\n",
              "    </tr>\n",
              "    <tr>\n",
              "      <th>49119</th>\n",
              "      <td>CCC</td>\n",
              "      <td>2014B</td>\n",
              "      <td>24287</td>\n",
              "      <td>69</td>\n",
              "      <td>0</td>\n",
              "      <td>85.0</td>\n",
              "      <td>CMA</td>\n",
              "      <td>67.0</td>\n",
              "      <td>7.0</td>\n",
              "    </tr>\n",
              "    <tr>\n",
              "      <th>49119</th>\n",
              "      <td>CCC</td>\n",
              "      <td>2014B</td>\n",
              "      <td>24288</td>\n",
              "      <td>139</td>\n",
              "      <td>0</td>\n",
              "      <td>81.0</td>\n",
              "      <td>CMA</td>\n",
              "      <td>137.0</td>\n",
              "      <td>8.0</td>\n",
              "    </tr>\n",
              "    <tr>\n",
              "      <th>49119</th>\n",
              "      <td>CCC</td>\n",
              "      <td>2014B</td>\n",
              "      <td>24289</td>\n",
              "      <td>209</td>\n",
              "      <td>0</td>\n",
              "      <td>100.0</td>\n",
              "      <td>CMA</td>\n",
              "      <td>207.0</td>\n",
              "      <td>8.0</td>\n",
              "    </tr>\n",
              "    <tr>\n",
              "      <th>49119</th>\n",
              "      <td>CCC</td>\n",
              "      <td>2014B</td>\n",
              "      <td>24290</td>\n",
              "      <td>234</td>\n",
              "      <td>0</td>\n",
              "      <td>100.0</td>\n",
              "      <td>Exam</td>\n",
              "      <td>241.0</td>\n",
              "      <td>100.0</td>\n",
              "    </tr>\n",
              "    <tr>\n",
              "      <th>49119</th>\n",
              "      <td>DDD</td>\n",
              "      <td>2014B</td>\n",
              "      <td>25355</td>\n",
              "      <td>26</td>\n",
              "      <td>0</td>\n",
              "      <td>69.0</td>\n",
              "      <td>TMA</td>\n",
              "      <td>25.0</td>\n",
              "      <td>10.0</td>\n",
              "    </tr>\n",
              "    <tr>\n",
              "      <th>49119</th>\n",
              "      <td>DDD</td>\n",
              "      <td>2014B</td>\n",
              "      <td>25356</td>\n",
              "      <td>54</td>\n",
              "      <td>0</td>\n",
              "      <td>73.0</td>\n",
              "      <td>TMA</td>\n",
              "      <td>53.0</td>\n",
              "      <td>12.5</td>\n",
              "    </tr>\n",
              "  </tbody>\n",
              "</table>\n",
              "</div>"
            ],
            "text/plain": [
              "           code_module code_presentation  ...   date  weight\n",
              "id_student                                ...               \n",
              "49119              CCC             2014B  ...   32.0     9.0\n",
              "49119              CCC             2014B  ...  102.0    22.0\n",
              "49119              CCC             2014B  ...  151.0    22.0\n",
              "49119              CCC             2014B  ...  200.0    22.0\n",
              "49119              CCC             2014B  ...   18.0     2.0\n",
              "49119              CCC             2014B  ...   67.0     7.0\n",
              "49119              CCC             2014B  ...  137.0     8.0\n",
              "49119              CCC             2014B  ...  207.0     8.0\n",
              "49119              CCC             2014B  ...  241.0   100.0\n",
              "49119              DDD             2014B  ...   25.0    10.0\n",
              "49119              DDD             2014B  ...   53.0    12.5\n",
              "\n",
              "[11 rows x 9 columns]"
            ]
          },
          "metadata": {
            "tags": []
          },
          "execution_count": 103
        }
      ]
    },
    {
      "cell_type": "markdown",
      "metadata": {
        "id": "j5KQdSsPlA2M"
      },
      "source": [
        "### Preparing `student_vle`\n",
        "Thse table will bring up student activity on virtual learning platform. Such as, `activity_type` or `sum_click`"
      ]
    },
    {
      "cell_type": "code",
      "metadata": {
        "id": "ZK8EGGRFlI9c"
      },
      "source": [
        "student_vle = (\n",
        "    grouped_student_vle.set_index(['code_module', 'code_presentation', 'id_site'])\n",
        "    .join(raw_vle.set_index(['code_module', 'code_presentation', 'id_site']))\n",
        ").reset_index()"
      ],
      "execution_count": null,
      "outputs": []
    },
    {
      "cell_type": "code",
      "metadata": {
        "colab": {
          "base_uri": "https://localhost:8080/",
          "height": 206
        },
        "id": "i7ruFxoLmpkg",
        "outputId": "a32a5dd8-0903-49eb-f589-415bc780a855"
      },
      "source": [
        "student_vle.head()"
      ],
      "execution_count": null,
      "outputs": [
        {
          "output_type": "execute_result",
          "data": {
            "text/html": [
              "<div>\n",
              "<style scoped>\n",
              "    .dataframe tbody tr th:only-of-type {\n",
              "        vertical-align: middle;\n",
              "    }\n",
              "\n",
              "    .dataframe tbody tr th {\n",
              "        vertical-align: top;\n",
              "    }\n",
              "\n",
              "    .dataframe thead th {\n",
              "        text-align: right;\n",
              "    }\n",
              "</style>\n",
              "<table border=\"1\" class=\"dataframe\">\n",
              "  <thead>\n",
              "    <tr style=\"text-align: right;\">\n",
              "      <th></th>\n",
              "      <th>code_module</th>\n",
              "      <th>code_presentation</th>\n",
              "      <th>id_site</th>\n",
              "      <th>id_student</th>\n",
              "      <th>date</th>\n",
              "      <th>sum_click</th>\n",
              "      <th>activity_type</th>\n",
              "      <th>week_from</th>\n",
              "      <th>week_to</th>\n",
              "    </tr>\n",
              "  </thead>\n",
              "  <tbody>\n",
              "    <tr>\n",
              "      <th>0</th>\n",
              "      <td>AAA</td>\n",
              "      <td>2013J</td>\n",
              "      <td>546614</td>\n",
              "      <td>11391</td>\n",
              "      <td>-5</td>\n",
              "      <td>7</td>\n",
              "      <td>homepage</td>\n",
              "      <td>NaN</td>\n",
              "      <td>NaN</td>\n",
              "    </tr>\n",
              "    <tr>\n",
              "      <th>1</th>\n",
              "      <td>AAA</td>\n",
              "      <td>2013J</td>\n",
              "      <td>546614</td>\n",
              "      <td>11391</td>\n",
              "      <td>0</td>\n",
              "      <td>10</td>\n",
              "      <td>homepage</td>\n",
              "      <td>NaN</td>\n",
              "      <td>NaN</td>\n",
              "    </tr>\n",
              "    <tr>\n",
              "      <th>2</th>\n",
              "      <td>AAA</td>\n",
              "      <td>2013J</td>\n",
              "      <td>546614</td>\n",
              "      <td>11391</td>\n",
              "      <td>1</td>\n",
              "      <td>9</td>\n",
              "      <td>homepage</td>\n",
              "      <td>NaN</td>\n",
              "      <td>NaN</td>\n",
              "    </tr>\n",
              "    <tr>\n",
              "      <th>3</th>\n",
              "      <td>AAA</td>\n",
              "      <td>2013J</td>\n",
              "      <td>546614</td>\n",
              "      <td>11391</td>\n",
              "      <td>2</td>\n",
              "      <td>3</td>\n",
              "      <td>homepage</td>\n",
              "      <td>NaN</td>\n",
              "      <td>NaN</td>\n",
              "    </tr>\n",
              "    <tr>\n",
              "      <th>4</th>\n",
              "      <td>AAA</td>\n",
              "      <td>2013J</td>\n",
              "      <td>546614</td>\n",
              "      <td>11391</td>\n",
              "      <td>6</td>\n",
              "      <td>1</td>\n",
              "      <td>homepage</td>\n",
              "      <td>NaN</td>\n",
              "      <td>NaN</td>\n",
              "    </tr>\n",
              "  </tbody>\n",
              "</table>\n",
              "</div>"
            ],
            "text/plain": [
              "  code_module code_presentation  id_site  ...  activity_type  week_from  week_to\n",
              "0         AAA             2013J   546614  ...       homepage        NaN      NaN\n",
              "1         AAA             2013J   546614  ...       homepage        NaN      NaN\n",
              "2         AAA             2013J   546614  ...       homepage        NaN      NaN\n",
              "3         AAA             2013J   546614  ...       homepage        NaN      NaN\n",
              "4         AAA             2013J   546614  ...       homepage        NaN      NaN\n",
              "\n",
              "[5 rows x 9 columns]"
            ]
          },
          "metadata": {
            "tags": []
          },
          "execution_count": 99
        }
      ]
    },
    {
      "cell_type": "markdown",
      "metadata": {
        "id": "-bqAbbjEnYCG"
      },
      "source": [
        "At this point there are multiple entries for a `code_module`, `code_presentation`, `id_student`. So this table can not be added to `student_info`. I need to come up with some aggregation for student activity"
      ]
    },
    {
      "cell_type": "code",
      "metadata": {
        "id": "xlp_ow38oLNG"
      },
      "source": [
        "## TODO: Find out aggregate student activity on `student_vle` "
      ],
      "execution_count": null,
      "outputs": []
    },
    {
      "cell_type": "markdown",
      "metadata": {
        "id": "MPPZL4MPkAkb"
      },
      "source": [
        "### Preparing `courses` \n",
        "This table will bring up `module_presentation_length` informaiton"
      ]
    },
    {
      "cell_type": "code",
      "metadata": {
        "id": "WAxeTpTpkPwl"
      },
      "source": [
        "courses = raw_courses.set_index(['code_module', 'code_presentation'])"
      ],
      "execution_count": null,
      "outputs": []
    },
    {
      "cell_type": "markdown",
      "metadata": {
        "id": "iEIFCTrmqeEP"
      },
      "source": [
        "### Preparing `student_register`"
      ]
    },
    {
      "cell_type": "code",
      "metadata": {
        "id": "HuECBqV6qiKo"
      },
      "source": [
        "student_register = raw_student_register.set_index(['code_module', 'code_presentation', 'id_student'])"
      ],
      "execution_count": null,
      "outputs": []
    },
    {
      "cell_type": "markdown",
      "metadata": {
        "id": "Zh6ZVKReqrSf"
      },
      "source": [
        "### Final Join "
      ]
    },
    {
      "cell_type": "code",
      "metadata": {
        "id": "xUwBdx8Oqvj1"
      },
      "source": [
        "attempt = (\n",
        "    raw_student_info\n",
        "    .set_index(['code_module', 'code_presentation', 'id_student'])\n",
        "    .join(courses)\n",
        "    .join(student_register)\n",
        "\n",
        ") "
      ],
      "execution_count": null,
      "outputs": []
    },
    {
      "cell_type": "code",
      "metadata": {
        "id": "kKhOpCIhratt"
      },
      "source": [
        "attempt.head()"
      ],
      "execution_count": null,
      "outputs": []
    },
    {
      "cell_type": "markdown",
      "metadata": {
        "id": "D8McD_w7YE27"
      },
      "source": [
        "# Data Definition\n",
        "* Column names\n",
        "* Data types\n",
        "* Description of the columns\n",
        "* Counts and percents unique values\n",
        "* Ranges of values"
      ]
    },
    {
      "cell_type": "code",
      "metadata": {
        "id": "U8VrT10rraPW"
      },
      "source": [
        ""
      ],
      "execution_count": null,
      "outputs": []
    },
    {
      "cell_type": "markdown",
      "metadata": {
        "id": "QslkcAc2YTXo"
      },
      "source": [
        "# Data Cleaning\n",
        "* NA or missing values\n",
        "* Duplicates"
      ]
    },
    {
      "cell_type": "markdown",
      "metadata": {
        "id": "gf_Zf-75YCuj"
      },
      "source": [
        " `student_info`\n",
        "\n",
        "How a previous attempt should be considered?  Is it someting students build up their understanding in a long time? Or just another individual attempt?\n",
        " \n",
        "Can student's former attempts'  can be added to their final trial. In other words, does student's learn something from failed courses and use it on their next trial?"
      ]
    },
    {
      "cell_type": "code",
      "metadata": {
        "id": "MYwiHlWWZDVp"
      },
      "source": [
        ""
      ],
      "execution_count": null,
      "outputs": []
    }
  ]
}
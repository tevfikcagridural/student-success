{
  "nbformat": 4,
  "nbformat_minor": 0,
  "metadata": {
    "colab": {
      "name": "Data Wrangling",
      "provenance": [],
      "collapsed_sections": [],
      "toc_visible": true
    },
    "kernelspec": {
      "name": "python3",
      "display_name": "Python 3"
    }
  },
  "cells": [
    {
      "cell_type": "markdown",
      "metadata": {
        "id": "uiY2BrSxiIr_"
      },
      "source": [
        "## Imports"
      ]
    },
    {
      "cell_type": "code",
      "metadata": {
        "id": "mKrgDu8iI3rk"
      },
      "source": [
        "from google.colab import drive\n",
        "import matplotlib.pyplot as plt\n",
        "import numpy as np\n",
        "import pandas as pd"
      ],
      "execution_count": null,
      "outputs": []
    },
    {
      "cell_type": "markdown",
      "metadata": {
        "id": "KJM9jWdRsTRT"
      },
      "source": [
        "# Google Drive Connection\n",
        "For this project, I will store the data on my personal google drive and below set up a connection to it. So, I can load the CSV files as they are from a system folder."
      ]
    },
    {
      "cell_type": "code",
      "metadata": {
        "id": "-WkmLXZjkblJ",
        "colab": {
          "base_uri": "https://localhost:8080/"
        },
        "outputId": "ebda9f66-6997-42df-9d68-5d1353eefb9c"
      },
      "source": [
        "drive.mount('/gdrive')"
      ],
      "execution_count": null,
      "outputs": [
        {
          "output_type": "stream",
          "text": [
            "Mounted at /gdrive\n"
          ],
          "name": "stdout"
        }
      ]
    },
    {
      "cell_type": "code",
      "metadata": {
        "id": "JVuV4wuyJSny"
      },
      "source": [
        "data_folder =  '/gdrive/My Drive/Data Science Career Track/Unit 7/capstone_two_project_folder/data/'"
      ],
      "execution_count": null,
      "outputs": []
    },
    {
      "cell_type": "markdown",
      "metadata": {
        "id": "bvBnnQHxXwMq"
      },
      "source": [
        "# Data Colleciton\n"
      ]
    },
    {
      "cell_type": "markdown",
      "metadata": {
        "id": "v2H54DPgbday"
      },
      "source": [
        "## Data Loading"
      ]
    },
    {
      "cell_type": "code",
      "metadata": {
        "id": "goTAABH1hCYy"
      },
      "source": [
        "file_assessments  = data_folder + 'assessments.csv'\n",
        "file_courses = data_folder + 'courses.csv'\n",
        "file_student_assessment = data_folder + 'studentAssessment.csv'\n",
        "file_student_info = data_folder + 'studentInfo.csv'\n",
        "file_student_register = data_folder + 'studentRegistration.csv'\n",
        "file_student_vle = data_folder + 'studentVle.csv'\n",
        "file_vle = data_folder + 'vle.csv'"
      ],
      "execution_count": null,
      "outputs": []
    },
    {
      "cell_type": "code",
      "metadata": {
        "id": "UAUHWTHvj_TV"
      },
      "source": [
        "raw_assessments = pd.read_csv(file_assessments)\n",
        "raw_courses = pd.read_csv(file_courses)\n",
        "raw_student_assessment = pd.read_csv(file_student_assessment)\n",
        "raw_student_info = pd.read_csv(file_student_info)\n",
        "raw_student_register = pd.read_csv(file_student_register)\n",
        "raw_student_vle = pd.read_csv(file_student_vle)\n",
        "raw_vle = pd.read_csv(file_vle)"
      ],
      "execution_count": null,
      "outputs": []
    },
    {
      "cell_type": "code",
      "metadata": {
        "id": "J4OA5EJ95RYY",
        "colab": {
          "base_uri": "https://localhost:8080/",
          "height": 206
        },
        "outputId": "a8b52499-ce80-4248-d655-f341a2ea60bf"
      },
      "source": [
        "raw_assessments.head()"
      ],
      "execution_count": null,
      "outputs": [
        {
          "output_type": "execute_result",
          "data": {
            "text/html": [
              "<div>\n",
              "<style scoped>\n",
              "    .dataframe tbody tr th:only-of-type {\n",
              "        vertical-align: middle;\n",
              "    }\n",
              "\n",
              "    .dataframe tbody tr th {\n",
              "        vertical-align: top;\n",
              "    }\n",
              "\n",
              "    .dataframe thead th {\n",
              "        text-align: right;\n",
              "    }\n",
              "</style>\n",
              "<table border=\"1\" class=\"dataframe\">\n",
              "  <thead>\n",
              "    <tr style=\"text-align: right;\">\n",
              "      <th></th>\n",
              "      <th>code_module</th>\n",
              "      <th>code_presentation</th>\n",
              "      <th>id_assessment</th>\n",
              "      <th>assessment_type</th>\n",
              "      <th>date</th>\n",
              "      <th>weight</th>\n",
              "    </tr>\n",
              "  </thead>\n",
              "  <tbody>\n",
              "    <tr>\n",
              "      <th>0</th>\n",
              "      <td>AAA</td>\n",
              "      <td>2013J</td>\n",
              "      <td>1752</td>\n",
              "      <td>TMA</td>\n",
              "      <td>19.0</td>\n",
              "      <td>10.0</td>\n",
              "    </tr>\n",
              "    <tr>\n",
              "      <th>1</th>\n",
              "      <td>AAA</td>\n",
              "      <td>2013J</td>\n",
              "      <td>1753</td>\n",
              "      <td>TMA</td>\n",
              "      <td>54.0</td>\n",
              "      <td>20.0</td>\n",
              "    </tr>\n",
              "    <tr>\n",
              "      <th>2</th>\n",
              "      <td>AAA</td>\n",
              "      <td>2013J</td>\n",
              "      <td>1754</td>\n",
              "      <td>TMA</td>\n",
              "      <td>117.0</td>\n",
              "      <td>20.0</td>\n",
              "    </tr>\n",
              "    <tr>\n",
              "      <th>3</th>\n",
              "      <td>AAA</td>\n",
              "      <td>2013J</td>\n",
              "      <td>1755</td>\n",
              "      <td>TMA</td>\n",
              "      <td>166.0</td>\n",
              "      <td>20.0</td>\n",
              "    </tr>\n",
              "    <tr>\n",
              "      <th>4</th>\n",
              "      <td>AAA</td>\n",
              "      <td>2013J</td>\n",
              "      <td>1756</td>\n",
              "      <td>TMA</td>\n",
              "      <td>215.0</td>\n",
              "      <td>30.0</td>\n",
              "    </tr>\n",
              "  </tbody>\n",
              "</table>\n",
              "</div>"
            ],
            "text/plain": [
              "  code_module code_presentation  id_assessment assessment_type   date  weight\n",
              "0         AAA             2013J           1752             TMA   19.0    10.0\n",
              "1         AAA             2013J           1753             TMA   54.0    20.0\n",
              "2         AAA             2013J           1754             TMA  117.0    20.0\n",
              "3         AAA             2013J           1755             TMA  166.0    20.0\n",
              "4         AAA             2013J           1756             TMA  215.0    30.0"
            ]
          },
          "metadata": {
            "tags": []
          },
          "execution_count": 6
        }
      ]
    },
    {
      "cell_type": "code",
      "metadata": {
        "colab": {
          "base_uri": "https://localhost:8080/"
        },
        "id": "fgP1UUmg0Blp",
        "outputId": "9dd0be8c-bc41-43d5-9a0e-794103fc8daf"
      },
      "source": [
        " raw_assessments.info()"
      ],
      "execution_count": null,
      "outputs": [
        {
          "output_type": "stream",
          "text": [
            "<class 'pandas.core.frame.DataFrame'>\n",
            "RangeIndex: 206 entries, 0 to 205\n",
            "Data columns (total 6 columns):\n",
            " #   Column             Non-Null Count  Dtype  \n",
            "---  ------             --------------  -----  \n",
            " 0   code_module        206 non-null    object \n",
            " 1   code_presentation  206 non-null    object \n",
            " 2   id_assessment      206 non-null    int64  \n",
            " 3   assessment_type    206 non-null    object \n",
            " 4   date               195 non-null    float64\n",
            " 5   weight             206 non-null    float64\n",
            "dtypes: float64(2), int64(1), object(3)\n",
            "memory usage: 9.8+ KB\n"
          ],
          "name": "stdout"
        }
      ]
    },
    {
      "cell_type": "code",
      "metadata": {
        "id": "yTIChlTZ5Tfk",
        "colab": {
          "base_uri": "https://localhost:8080/",
          "height": 206
        },
        "outputId": "8b8d4a78-19ab-4837-e8fe-2032656f7ada"
      },
      "source": [
        "raw_courses.head()"
      ],
      "execution_count": null,
      "outputs": [
        {
          "output_type": "execute_result",
          "data": {
            "text/html": [
              "<div>\n",
              "<style scoped>\n",
              "    .dataframe tbody tr th:only-of-type {\n",
              "        vertical-align: middle;\n",
              "    }\n",
              "\n",
              "    .dataframe tbody tr th {\n",
              "        vertical-align: top;\n",
              "    }\n",
              "\n",
              "    .dataframe thead th {\n",
              "        text-align: right;\n",
              "    }\n",
              "</style>\n",
              "<table border=\"1\" class=\"dataframe\">\n",
              "  <thead>\n",
              "    <tr style=\"text-align: right;\">\n",
              "      <th></th>\n",
              "      <th>code_module</th>\n",
              "      <th>code_presentation</th>\n",
              "      <th>module_presentation_length</th>\n",
              "    </tr>\n",
              "  </thead>\n",
              "  <tbody>\n",
              "    <tr>\n",
              "      <th>0</th>\n",
              "      <td>AAA</td>\n",
              "      <td>2013J</td>\n",
              "      <td>268</td>\n",
              "    </tr>\n",
              "    <tr>\n",
              "      <th>1</th>\n",
              "      <td>AAA</td>\n",
              "      <td>2014J</td>\n",
              "      <td>269</td>\n",
              "    </tr>\n",
              "    <tr>\n",
              "      <th>2</th>\n",
              "      <td>BBB</td>\n",
              "      <td>2013J</td>\n",
              "      <td>268</td>\n",
              "    </tr>\n",
              "    <tr>\n",
              "      <th>3</th>\n",
              "      <td>BBB</td>\n",
              "      <td>2014J</td>\n",
              "      <td>262</td>\n",
              "    </tr>\n",
              "    <tr>\n",
              "      <th>4</th>\n",
              "      <td>BBB</td>\n",
              "      <td>2013B</td>\n",
              "      <td>240</td>\n",
              "    </tr>\n",
              "  </tbody>\n",
              "</table>\n",
              "</div>"
            ],
            "text/plain": [
              "  code_module code_presentation  module_presentation_length\n",
              "0         AAA             2013J                         268\n",
              "1         AAA             2014J                         269\n",
              "2         BBB             2013J                         268\n",
              "3         BBB             2014J                         262\n",
              "4         BBB             2013B                         240"
            ]
          },
          "metadata": {
            "tags": []
          },
          "execution_count": 8
        }
      ]
    },
    {
      "cell_type": "code",
      "metadata": {
        "colab": {
          "base_uri": "https://localhost:8080/"
        },
        "id": "ciAHI2QI0E_L",
        "outputId": "b38828a9-5dd7-49d9-cc11-5aa5db17a1cb"
      },
      "source": [
        "raw_courses.info()"
      ],
      "execution_count": null,
      "outputs": [
        {
          "output_type": "stream",
          "text": [
            "<class 'pandas.core.frame.DataFrame'>\n",
            "RangeIndex: 22 entries, 0 to 21\n",
            "Data columns (total 3 columns):\n",
            " #   Column                      Non-Null Count  Dtype \n",
            "---  ------                      --------------  ----- \n",
            " 0   code_module                 22 non-null     object\n",
            " 1   code_presentation           22 non-null     object\n",
            " 2   module_presentation_length  22 non-null     int64 \n",
            "dtypes: int64(1), object(2)\n",
            "memory usage: 656.0+ bytes\n"
          ],
          "name": "stdout"
        }
      ]
    },
    {
      "cell_type": "code",
      "metadata": {
        "id": "kDTIa2E75VmZ",
        "colab": {
          "base_uri": "https://localhost:8080/",
          "height": 206
        },
        "outputId": "0d1e689b-2a4a-424d-83fd-d47180a3fcc7"
      },
      "source": [
        "raw_student_assessment.head()"
      ],
      "execution_count": null,
      "outputs": [
        {
          "output_type": "execute_result",
          "data": {
            "text/html": [
              "<div>\n",
              "<style scoped>\n",
              "    .dataframe tbody tr th:only-of-type {\n",
              "        vertical-align: middle;\n",
              "    }\n",
              "\n",
              "    .dataframe tbody tr th {\n",
              "        vertical-align: top;\n",
              "    }\n",
              "\n",
              "    .dataframe thead th {\n",
              "        text-align: right;\n",
              "    }\n",
              "</style>\n",
              "<table border=\"1\" class=\"dataframe\">\n",
              "  <thead>\n",
              "    <tr style=\"text-align: right;\">\n",
              "      <th></th>\n",
              "      <th>id_assessment</th>\n",
              "      <th>id_student</th>\n",
              "      <th>date_submitted</th>\n",
              "      <th>is_banked</th>\n",
              "      <th>score</th>\n",
              "    </tr>\n",
              "  </thead>\n",
              "  <tbody>\n",
              "    <tr>\n",
              "      <th>0</th>\n",
              "      <td>1752</td>\n",
              "      <td>11391</td>\n",
              "      <td>18</td>\n",
              "      <td>0</td>\n",
              "      <td>78.0</td>\n",
              "    </tr>\n",
              "    <tr>\n",
              "      <th>1</th>\n",
              "      <td>1752</td>\n",
              "      <td>28400</td>\n",
              "      <td>22</td>\n",
              "      <td>0</td>\n",
              "      <td>70.0</td>\n",
              "    </tr>\n",
              "    <tr>\n",
              "      <th>2</th>\n",
              "      <td>1752</td>\n",
              "      <td>31604</td>\n",
              "      <td>17</td>\n",
              "      <td>0</td>\n",
              "      <td>72.0</td>\n",
              "    </tr>\n",
              "    <tr>\n",
              "      <th>3</th>\n",
              "      <td>1752</td>\n",
              "      <td>32885</td>\n",
              "      <td>26</td>\n",
              "      <td>0</td>\n",
              "      <td>69.0</td>\n",
              "    </tr>\n",
              "    <tr>\n",
              "      <th>4</th>\n",
              "      <td>1752</td>\n",
              "      <td>38053</td>\n",
              "      <td>19</td>\n",
              "      <td>0</td>\n",
              "      <td>79.0</td>\n",
              "    </tr>\n",
              "  </tbody>\n",
              "</table>\n",
              "</div>"
            ],
            "text/plain": [
              "   id_assessment  id_student  date_submitted  is_banked  score\n",
              "0           1752       11391              18          0   78.0\n",
              "1           1752       28400              22          0   70.0\n",
              "2           1752       31604              17          0   72.0\n",
              "3           1752       32885              26          0   69.0\n",
              "4           1752       38053              19          0   79.0"
            ]
          },
          "metadata": {
            "tags": []
          },
          "execution_count": 10
        }
      ]
    },
    {
      "cell_type": "code",
      "metadata": {
        "colab": {
          "base_uri": "https://localhost:8080/"
        },
        "id": "dljSE3I-0IF1",
        "outputId": "86dc476c-2223-4fc5-9aa0-0555a60028c7"
      },
      "source": [
        "raw_student_assessment.info()"
      ],
      "execution_count": null,
      "outputs": [
        {
          "output_type": "stream",
          "text": [
            "<class 'pandas.core.frame.DataFrame'>\n",
            "RangeIndex: 173912 entries, 0 to 173911\n",
            "Data columns (total 5 columns):\n",
            " #   Column          Non-Null Count   Dtype  \n",
            "---  ------          --------------   -----  \n",
            " 0   id_assessment   173912 non-null  int64  \n",
            " 1   id_student      173912 non-null  int64  \n",
            " 2   date_submitted  173912 non-null  int64  \n",
            " 3   is_banked       173912 non-null  int64  \n",
            " 4   score           173739 non-null  float64\n",
            "dtypes: float64(1), int64(4)\n",
            "memory usage: 6.6 MB\n"
          ],
          "name": "stdout"
        }
      ]
    },
    {
      "cell_type": "code",
      "metadata": {
        "id": "zDr358eY5Xj7",
        "colab": {
          "base_uri": "https://localhost:8080/",
          "height": 206
        },
        "outputId": "c3b373fe-301c-47c1-e180-fb85de66b076"
      },
      "source": [
        "raw_student_info.head()"
      ],
      "execution_count": null,
      "outputs": [
        {
          "output_type": "execute_result",
          "data": {
            "text/html": [
              "<div>\n",
              "<style scoped>\n",
              "    .dataframe tbody tr th:only-of-type {\n",
              "        vertical-align: middle;\n",
              "    }\n",
              "\n",
              "    .dataframe tbody tr th {\n",
              "        vertical-align: top;\n",
              "    }\n",
              "\n",
              "    .dataframe thead th {\n",
              "        text-align: right;\n",
              "    }\n",
              "</style>\n",
              "<table border=\"1\" class=\"dataframe\">\n",
              "  <thead>\n",
              "    <tr style=\"text-align: right;\">\n",
              "      <th></th>\n",
              "      <th>code_module</th>\n",
              "      <th>code_presentation</th>\n",
              "      <th>id_student</th>\n",
              "      <th>gender</th>\n",
              "      <th>region</th>\n",
              "      <th>highest_education</th>\n",
              "      <th>imd_band</th>\n",
              "      <th>age_band</th>\n",
              "      <th>num_of_prev_attempts</th>\n",
              "      <th>studied_credits</th>\n",
              "      <th>disability</th>\n",
              "      <th>final_result</th>\n",
              "    </tr>\n",
              "  </thead>\n",
              "  <tbody>\n",
              "    <tr>\n",
              "      <th>0</th>\n",
              "      <td>AAA</td>\n",
              "      <td>2013J</td>\n",
              "      <td>11391</td>\n",
              "      <td>M</td>\n",
              "      <td>East Anglian Region</td>\n",
              "      <td>HE Qualification</td>\n",
              "      <td>90-100%</td>\n",
              "      <td>55&lt;=</td>\n",
              "      <td>0</td>\n",
              "      <td>240</td>\n",
              "      <td>N</td>\n",
              "      <td>Pass</td>\n",
              "    </tr>\n",
              "    <tr>\n",
              "      <th>1</th>\n",
              "      <td>AAA</td>\n",
              "      <td>2013J</td>\n",
              "      <td>28400</td>\n",
              "      <td>F</td>\n",
              "      <td>Scotland</td>\n",
              "      <td>HE Qualification</td>\n",
              "      <td>20-30%</td>\n",
              "      <td>35-55</td>\n",
              "      <td>0</td>\n",
              "      <td>60</td>\n",
              "      <td>N</td>\n",
              "      <td>Pass</td>\n",
              "    </tr>\n",
              "    <tr>\n",
              "      <th>2</th>\n",
              "      <td>AAA</td>\n",
              "      <td>2013J</td>\n",
              "      <td>30268</td>\n",
              "      <td>F</td>\n",
              "      <td>North Western Region</td>\n",
              "      <td>A Level or Equivalent</td>\n",
              "      <td>30-40%</td>\n",
              "      <td>35-55</td>\n",
              "      <td>0</td>\n",
              "      <td>60</td>\n",
              "      <td>Y</td>\n",
              "      <td>Withdrawn</td>\n",
              "    </tr>\n",
              "    <tr>\n",
              "      <th>3</th>\n",
              "      <td>AAA</td>\n",
              "      <td>2013J</td>\n",
              "      <td>31604</td>\n",
              "      <td>F</td>\n",
              "      <td>South East Region</td>\n",
              "      <td>A Level or Equivalent</td>\n",
              "      <td>50-60%</td>\n",
              "      <td>35-55</td>\n",
              "      <td>0</td>\n",
              "      <td>60</td>\n",
              "      <td>N</td>\n",
              "      <td>Pass</td>\n",
              "    </tr>\n",
              "    <tr>\n",
              "      <th>4</th>\n",
              "      <td>AAA</td>\n",
              "      <td>2013J</td>\n",
              "      <td>32885</td>\n",
              "      <td>F</td>\n",
              "      <td>West Midlands Region</td>\n",
              "      <td>Lower Than A Level</td>\n",
              "      <td>50-60%</td>\n",
              "      <td>0-35</td>\n",
              "      <td>0</td>\n",
              "      <td>60</td>\n",
              "      <td>N</td>\n",
              "      <td>Pass</td>\n",
              "    </tr>\n",
              "  </tbody>\n",
              "</table>\n",
              "</div>"
            ],
            "text/plain": [
              "  code_module code_presentation  ...  disability final_result\n",
              "0         AAA             2013J  ...           N         Pass\n",
              "1         AAA             2013J  ...           N         Pass\n",
              "2         AAA             2013J  ...           Y    Withdrawn\n",
              "3         AAA             2013J  ...           N         Pass\n",
              "4         AAA             2013J  ...           N         Pass\n",
              "\n",
              "[5 rows x 12 columns]"
            ]
          },
          "metadata": {
            "tags": []
          },
          "execution_count": 12
        }
      ]
    },
    {
      "cell_type": "code",
      "metadata": {
        "colab": {
          "base_uri": "https://localhost:8080/"
        },
        "id": "m24m0wOw0MFZ",
        "outputId": "b06f4abe-7c14-422b-c60b-dd7bbc240c57"
      },
      "source": [
        "raw_student_info.info()"
      ],
      "execution_count": null,
      "outputs": [
        {
          "output_type": "stream",
          "text": [
            "<class 'pandas.core.frame.DataFrame'>\n",
            "RangeIndex: 32593 entries, 0 to 32592\n",
            "Data columns (total 12 columns):\n",
            " #   Column                Non-Null Count  Dtype \n",
            "---  ------                --------------  ----- \n",
            " 0   code_module           32593 non-null  object\n",
            " 1   code_presentation     32593 non-null  object\n",
            " 2   id_student            32593 non-null  int64 \n",
            " 3   gender                32593 non-null  object\n",
            " 4   region                32593 non-null  object\n",
            " 5   highest_education     32593 non-null  object\n",
            " 6   imd_band              31482 non-null  object\n",
            " 7   age_band              32593 non-null  object\n",
            " 8   num_of_prev_attempts  32593 non-null  int64 \n",
            " 9   studied_credits       32593 non-null  int64 \n",
            " 10  disability            32593 non-null  object\n",
            " 11  final_result          32593 non-null  object\n",
            "dtypes: int64(3), object(9)\n",
            "memory usage: 3.0+ MB\n"
          ],
          "name": "stdout"
        }
      ]
    },
    {
      "cell_type": "code",
      "metadata": {
        "id": "_JOnI3lo5Z0r",
        "colab": {
          "base_uri": "https://localhost:8080/",
          "height": 206
        },
        "outputId": "55443719-bc05-43e5-fedc-990e414bb5e9"
      },
      "source": [
        "raw_student_register.head()"
      ],
      "execution_count": null,
      "outputs": [
        {
          "output_type": "execute_result",
          "data": {
            "text/html": [
              "<div>\n",
              "<style scoped>\n",
              "    .dataframe tbody tr th:only-of-type {\n",
              "        vertical-align: middle;\n",
              "    }\n",
              "\n",
              "    .dataframe tbody tr th {\n",
              "        vertical-align: top;\n",
              "    }\n",
              "\n",
              "    .dataframe thead th {\n",
              "        text-align: right;\n",
              "    }\n",
              "</style>\n",
              "<table border=\"1\" class=\"dataframe\">\n",
              "  <thead>\n",
              "    <tr style=\"text-align: right;\">\n",
              "      <th></th>\n",
              "      <th>code_module</th>\n",
              "      <th>code_presentation</th>\n",
              "      <th>id_student</th>\n",
              "      <th>date_registration</th>\n",
              "      <th>date_unregistration</th>\n",
              "    </tr>\n",
              "  </thead>\n",
              "  <tbody>\n",
              "    <tr>\n",
              "      <th>0</th>\n",
              "      <td>AAA</td>\n",
              "      <td>2013J</td>\n",
              "      <td>11391</td>\n",
              "      <td>-159.0</td>\n",
              "      <td>NaN</td>\n",
              "    </tr>\n",
              "    <tr>\n",
              "      <th>1</th>\n",
              "      <td>AAA</td>\n",
              "      <td>2013J</td>\n",
              "      <td>28400</td>\n",
              "      <td>-53.0</td>\n",
              "      <td>NaN</td>\n",
              "    </tr>\n",
              "    <tr>\n",
              "      <th>2</th>\n",
              "      <td>AAA</td>\n",
              "      <td>2013J</td>\n",
              "      <td>30268</td>\n",
              "      <td>-92.0</td>\n",
              "      <td>12.0</td>\n",
              "    </tr>\n",
              "    <tr>\n",
              "      <th>3</th>\n",
              "      <td>AAA</td>\n",
              "      <td>2013J</td>\n",
              "      <td>31604</td>\n",
              "      <td>-52.0</td>\n",
              "      <td>NaN</td>\n",
              "    </tr>\n",
              "    <tr>\n",
              "      <th>4</th>\n",
              "      <td>AAA</td>\n",
              "      <td>2013J</td>\n",
              "      <td>32885</td>\n",
              "      <td>-176.0</td>\n",
              "      <td>NaN</td>\n",
              "    </tr>\n",
              "  </tbody>\n",
              "</table>\n",
              "</div>"
            ],
            "text/plain": [
              "  code_module code_presentation  ...  date_registration  date_unregistration\n",
              "0         AAA             2013J  ...             -159.0                  NaN\n",
              "1         AAA             2013J  ...              -53.0                  NaN\n",
              "2         AAA             2013J  ...              -92.0                 12.0\n",
              "3         AAA             2013J  ...              -52.0                  NaN\n",
              "4         AAA             2013J  ...             -176.0                  NaN\n",
              "\n",
              "[5 rows x 5 columns]"
            ]
          },
          "metadata": {
            "tags": []
          },
          "execution_count": 14
        }
      ]
    },
    {
      "cell_type": "code",
      "metadata": {
        "colab": {
          "base_uri": "https://localhost:8080/"
        },
        "id": "qZ-9Vd9G0RB3",
        "outputId": "8db08280-ee23-4243-d483-d44a13c70ea3"
      },
      "source": [
        "raw_student_register.info()"
      ],
      "execution_count": null,
      "outputs": [
        {
          "output_type": "stream",
          "text": [
            "<class 'pandas.core.frame.DataFrame'>\n",
            "RangeIndex: 32593 entries, 0 to 32592\n",
            "Data columns (total 5 columns):\n",
            " #   Column               Non-Null Count  Dtype  \n",
            "---  ------               --------------  -----  \n",
            " 0   code_module          32593 non-null  object \n",
            " 1   code_presentation    32593 non-null  object \n",
            " 2   id_student           32593 non-null  int64  \n",
            " 3   date_registration    32548 non-null  float64\n",
            " 4   date_unregistration  10072 non-null  float64\n",
            "dtypes: float64(2), int64(1), object(2)\n",
            "memory usage: 1.2+ MB\n"
          ],
          "name": "stdout"
        }
      ]
    },
    {
      "cell_type": "code",
      "metadata": {
        "id": "Vt7tGgCR5daB",
        "colab": {
          "base_uri": "https://localhost:8080/",
          "height": 206
        },
        "outputId": "decd044e-341a-48c1-965b-889588500e08"
      },
      "source": [
        "raw_student_vle.head()"
      ],
      "execution_count": null,
      "outputs": [
        {
          "output_type": "execute_result",
          "data": {
            "text/html": [
              "<div>\n",
              "<style scoped>\n",
              "    .dataframe tbody tr th:only-of-type {\n",
              "        vertical-align: middle;\n",
              "    }\n",
              "\n",
              "    .dataframe tbody tr th {\n",
              "        vertical-align: top;\n",
              "    }\n",
              "\n",
              "    .dataframe thead th {\n",
              "        text-align: right;\n",
              "    }\n",
              "</style>\n",
              "<table border=\"1\" class=\"dataframe\">\n",
              "  <thead>\n",
              "    <tr style=\"text-align: right;\">\n",
              "      <th></th>\n",
              "      <th>code_module</th>\n",
              "      <th>code_presentation</th>\n",
              "      <th>id_student</th>\n",
              "      <th>id_site</th>\n",
              "      <th>date</th>\n",
              "      <th>sum_click</th>\n",
              "    </tr>\n",
              "  </thead>\n",
              "  <tbody>\n",
              "    <tr>\n",
              "      <th>0</th>\n",
              "      <td>AAA</td>\n",
              "      <td>2013J</td>\n",
              "      <td>28400</td>\n",
              "      <td>546652</td>\n",
              "      <td>-10</td>\n",
              "      <td>4</td>\n",
              "    </tr>\n",
              "    <tr>\n",
              "      <th>1</th>\n",
              "      <td>AAA</td>\n",
              "      <td>2013J</td>\n",
              "      <td>28400</td>\n",
              "      <td>546652</td>\n",
              "      <td>-10</td>\n",
              "      <td>1</td>\n",
              "    </tr>\n",
              "    <tr>\n",
              "      <th>2</th>\n",
              "      <td>AAA</td>\n",
              "      <td>2013J</td>\n",
              "      <td>28400</td>\n",
              "      <td>546652</td>\n",
              "      <td>-10</td>\n",
              "      <td>1</td>\n",
              "    </tr>\n",
              "    <tr>\n",
              "      <th>3</th>\n",
              "      <td>AAA</td>\n",
              "      <td>2013J</td>\n",
              "      <td>28400</td>\n",
              "      <td>546614</td>\n",
              "      <td>-10</td>\n",
              "      <td>11</td>\n",
              "    </tr>\n",
              "    <tr>\n",
              "      <th>4</th>\n",
              "      <td>AAA</td>\n",
              "      <td>2013J</td>\n",
              "      <td>28400</td>\n",
              "      <td>546714</td>\n",
              "      <td>-10</td>\n",
              "      <td>1</td>\n",
              "    </tr>\n",
              "  </tbody>\n",
              "</table>\n",
              "</div>"
            ],
            "text/plain": [
              "  code_module code_presentation  id_student  id_site  date  sum_click\n",
              "0         AAA             2013J       28400   546652   -10          4\n",
              "1         AAA             2013J       28400   546652   -10          1\n",
              "2         AAA             2013J       28400   546652   -10          1\n",
              "3         AAA             2013J       28400   546614   -10         11\n",
              "4         AAA             2013J       28400   546714   -10          1"
            ]
          },
          "metadata": {
            "tags": []
          },
          "execution_count": 16
        }
      ]
    },
    {
      "cell_type": "code",
      "metadata": {
        "colab": {
          "base_uri": "https://localhost:8080/"
        },
        "id": "jl6UVOjP0U65",
        "outputId": "76db40e5-1e44-4c77-84b5-6a8d45f5a8ac"
      },
      "source": [
        "raw_student_vle.info()"
      ],
      "execution_count": null,
      "outputs": [
        {
          "output_type": "stream",
          "text": [
            "<class 'pandas.core.frame.DataFrame'>\n",
            "RangeIndex: 10655280 entries, 0 to 10655279\n",
            "Data columns (total 6 columns):\n",
            " #   Column             Dtype \n",
            "---  ------             ----- \n",
            " 0   code_module        object\n",
            " 1   code_presentation  object\n",
            " 2   id_student         int64 \n",
            " 3   id_site            int64 \n",
            " 4   date               int64 \n",
            " 5   sum_click          int64 \n",
            "dtypes: int64(4), object(2)\n",
            "memory usage: 487.8+ MB\n"
          ],
          "name": "stdout"
        }
      ]
    },
    {
      "cell_type": "markdown",
      "metadata": {
        "id": "pmBQJuHuezkE"
      },
      "source": [
        "There is this one issue here. On the documentation, it says that `\"sum_click – the number of times a student interacts with the material in that day\"`. However, the first three rows are identical to the VLE material and the student but have different `sum_click` values.\n"
      ]
    },
    {
      "cell_type": "code",
      "metadata": {
        "id": "UAeaZq-p5ii2",
        "colab": {
          "base_uri": "https://localhost:8080/",
          "height": 206
        },
        "outputId": "db3acef3-6f7a-40ac-883f-1f7f17aef93c"
      },
      "source": [
        "raw_vle.head()"
      ],
      "execution_count": null,
      "outputs": [
        {
          "output_type": "execute_result",
          "data": {
            "text/html": [
              "<div>\n",
              "<style scoped>\n",
              "    .dataframe tbody tr th:only-of-type {\n",
              "        vertical-align: middle;\n",
              "    }\n",
              "\n",
              "    .dataframe tbody tr th {\n",
              "        vertical-align: top;\n",
              "    }\n",
              "\n",
              "    .dataframe thead th {\n",
              "        text-align: right;\n",
              "    }\n",
              "</style>\n",
              "<table border=\"1\" class=\"dataframe\">\n",
              "  <thead>\n",
              "    <tr style=\"text-align: right;\">\n",
              "      <th></th>\n",
              "      <th>id_site</th>\n",
              "      <th>code_module</th>\n",
              "      <th>code_presentation</th>\n",
              "      <th>activity_type</th>\n",
              "      <th>week_from</th>\n",
              "      <th>week_to</th>\n",
              "    </tr>\n",
              "  </thead>\n",
              "  <tbody>\n",
              "    <tr>\n",
              "      <th>0</th>\n",
              "      <td>546943</td>\n",
              "      <td>AAA</td>\n",
              "      <td>2013J</td>\n",
              "      <td>resource</td>\n",
              "      <td>NaN</td>\n",
              "      <td>NaN</td>\n",
              "    </tr>\n",
              "    <tr>\n",
              "      <th>1</th>\n",
              "      <td>546712</td>\n",
              "      <td>AAA</td>\n",
              "      <td>2013J</td>\n",
              "      <td>oucontent</td>\n",
              "      <td>NaN</td>\n",
              "      <td>NaN</td>\n",
              "    </tr>\n",
              "    <tr>\n",
              "      <th>2</th>\n",
              "      <td>546998</td>\n",
              "      <td>AAA</td>\n",
              "      <td>2013J</td>\n",
              "      <td>resource</td>\n",
              "      <td>NaN</td>\n",
              "      <td>NaN</td>\n",
              "    </tr>\n",
              "    <tr>\n",
              "      <th>3</th>\n",
              "      <td>546888</td>\n",
              "      <td>AAA</td>\n",
              "      <td>2013J</td>\n",
              "      <td>url</td>\n",
              "      <td>NaN</td>\n",
              "      <td>NaN</td>\n",
              "    </tr>\n",
              "    <tr>\n",
              "      <th>4</th>\n",
              "      <td>547035</td>\n",
              "      <td>AAA</td>\n",
              "      <td>2013J</td>\n",
              "      <td>resource</td>\n",
              "      <td>NaN</td>\n",
              "      <td>NaN</td>\n",
              "    </tr>\n",
              "  </tbody>\n",
              "</table>\n",
              "</div>"
            ],
            "text/plain": [
              "   id_site code_module code_presentation activity_type  week_from  week_to\n",
              "0   546943         AAA             2013J      resource        NaN      NaN\n",
              "1   546712         AAA             2013J     oucontent        NaN      NaN\n",
              "2   546998         AAA             2013J      resource        NaN      NaN\n",
              "3   546888         AAA             2013J           url        NaN      NaN\n",
              "4   547035         AAA             2013J      resource        NaN      NaN"
            ]
          },
          "metadata": {
            "tags": []
          },
          "execution_count": 18
        }
      ]
    },
    {
      "cell_type": "code",
      "metadata": {
        "colab": {
          "base_uri": "https://localhost:8080/"
        },
        "id": "oSBXeAlF0YtM",
        "outputId": "74ede8fe-82d0-4c8c-ba55-275a5a024ce1"
      },
      "source": [
        "raw_vle.info()"
      ],
      "execution_count": null,
      "outputs": [
        {
          "output_type": "stream",
          "text": [
            "<class 'pandas.core.frame.DataFrame'>\n",
            "RangeIndex: 6364 entries, 0 to 6363\n",
            "Data columns (total 6 columns):\n",
            " #   Column             Non-Null Count  Dtype  \n",
            "---  ------             --------------  -----  \n",
            " 0   id_site            6364 non-null   int64  \n",
            " 1   code_module        6364 non-null   object \n",
            " 2   code_presentation  6364 non-null   object \n",
            " 3   activity_type      6364 non-null   object \n",
            " 4   week_from          1121 non-null   float64\n",
            " 5   week_to            1121 non-null   float64\n",
            "dtypes: float64(2), int64(1), object(3)\n",
            "memory usage: 298.4+ KB\n"
          ],
          "name": "stdout"
        }
      ]
    },
    {
      "cell_type": "markdown",
      "metadata": {
        "id": "JQ6a7xIJbntP"
      },
      "source": [
        "## Data Explore"
      ]
    },
    {
      "cell_type": "markdown",
      "metadata": {
        "id": "hr5WTCrTho5K"
      },
      "source": [
        "### `student_vle`"
      ]
    },
    {
      "cell_type": "markdown",
      "metadata": {
        "id": "1qFYNA17bMsu"
      },
      "source": [
        "First, I will have a look at the issue about `sum_click` and try to understand the issue and group the data by columns `'code_module', 'code_presentation', 'id_student', 'id_site', 'date'`"
      ]
    },
    {
      "cell_type": "code",
      "metadata": {
        "id": "_4Xub2_VhWka"
      },
      "source": [
        "grouped_student_vle = raw_student_vle.groupby(\n",
        "    by=['code_module', 'code_presentation', 'id_student', 'id_site', 'date']\n",
        "    ).sum('sum_click').reset_index()"
      ],
      "execution_count": null,
      "outputs": []
    },
    {
      "cell_type": "code",
      "metadata": {
        "colab": {
          "base_uri": "https://localhost:8080/"
        },
        "id": "DxabukzskCGt",
        "outputId": "a1c3cf0d-61fe-4b58-f264-7b46330155a7"
      },
      "source": [
        "num_rows_raw = raw_student_vle.shape[0] \n",
        "num_rows_grouped = grouped_student_vle.shape[0]\n",
        "num_rows_diff = num_rows_raw - num_rows_grouped\n",
        "(num_rows_raw, num_rows_grouped, num_rows_diff, (num_rows_diff) * 100 / num_rows_raw)"
      ],
      "execution_count": null,
      "outputs": [
        {
          "output_type": "execute_result",
          "data": {
            "text/plain": [
              "(10655280, 8459320, 2195960, 20.609125241194974)"
            ]
          },
          "metadata": {
            "tags": []
          },
          "execution_count": 21
        }
      ]
    },
    {
      "cell_type": "markdown",
      "metadata": {
        "id": "KFUgfvd6Z4DW"
      },
      "source": [
        "The total num of rows in the raw table is 10'655'280  \n",
        "If the data is groupped by all the columns except `sum_clicks` this is reduced to 8'459'320  \n",
        "This means a **%20.6** shrinkage and the difference is 2'195'960  \n",
        "\n",
        "---  \n",
        "\n",
        "At this point I will assume that the actual total num of clicks is the groupped one. (Actually got reply from Martin Hols -one of data providers- and he suggested the same way))"
      ]
    },
    {
      "cell_type": "code",
      "metadata": {
        "id": "hvqjR2rWRxj7"
      },
      "source": [
        "# Duplicate entries\n",
        "student_vle_duplicate = raw_student_vle.merge(\n",
        "    grouped_student_vle,\n",
        "    indicator = True,\n",
        "    how='left',\n",
        "    ).loc[lambda x : x['_merge']!='both']"
      ],
      "execution_count": null,
      "outputs": []
    },
    {
      "cell_type": "markdown",
      "metadata": {
        "id": "4J8SEpfVjuJu"
      },
      "source": [
        "Cross-check of the group by function, if the summation is correct.  \n",
        "I will randomly select some course (means `code_module`, `code_presentation`),  student, site and date from `student_vle_duplicate`, then find the entry in both raw and grouped tables and compare. So I expect to find more than one row for each student on the `raw_student_vle` table and sum of the `sum_clicks` will be equal to the `sum_clicks` on the `grouped_student_vle`"
      ]
    },
    {
      "cell_type": "code",
      "metadata": {
        "colab": {
          "base_uri": "https://localhost:8080/"
        },
        "id": "PFQ4KugQ_4TD",
        "outputId": "85eb2fe8-7f3d-4210-8713-104125ca608d"
      },
      "source": [
        "rand_idx = np.random.choice(student_vle_duplicate.index)\n",
        "rand_row = student_vle_duplicate.loc[rand_idx]\n",
        "\n",
        "multiple = raw_student_vle[\n",
        "                (raw_student_vle['code_module'] == rand_row['code_module']) &\n",
        "                (raw_student_vle['code_presentation'] == rand_row['code_presentation']) &\n",
        "                (raw_student_vle['id_student'] == rand_row['id_student']) &\n",
        "                (raw_student_vle['id_site'] == rand_row['id_site']) &\n",
        "                (raw_student_vle['date'] == rand_row['date']) \n",
        "               ]\n",
        "\n",
        "single = grouped_student_vle[\n",
        "                (grouped_student_vle['code_module'] == rand_row['code_module']) &\n",
        "                (grouped_student_vle['code_presentation'] == rand_row['code_presentation']) &\n",
        "                (grouped_student_vle['id_student'] == rand_row['id_student']) &\n",
        "                (grouped_student_vle['id_site'] == rand_row['id_site']) &\n",
        "                (grouped_student_vle['date'] == rand_row['date']) \n",
        "               ]\n",
        "\n",
        "multiple, single"
      ],
      "execution_count": null,
      "outputs": [
        {
          "output_type": "execute_result",
          "data": {
            "text/plain": [
              "(        code_module code_presentation  id_student  id_site  date  sum_click\n",
              " 5651186         EEE             2014B      620414   790740   -15          3\n",
              " 5651191         EEE             2014B      620414   790740   -15          3,\n",
              "         code_module code_presentation  id_student  id_site  date  sum_click\n",
              " 4556155         EEE             2014B      620414   790740   -15          6)"
            ]
          },
          "metadata": {
            "tags": []
          },
          "execution_count": 23
        }
      ]
    },
    {
      "cell_type": "markdown",
      "metadata": {
        "id": "phUM_p8bKkdj"
      },
      "source": [
        "Sum process looks successful and from now on `grouped_student_vle` will be used instead of `raw_student_vle`"
      ]
    },
    {
      "cell_type": "markdown",
      "metadata": {
        "id": "aLGYdlt6_aZo"
      },
      "source": [
        "### `student_info`"
      ]
    },
    {
      "cell_type": "markdown",
      "metadata": {
        "id": "R8x0oo_YbVFO"
      },
      "source": [
        "How to handle the `num_of_prev_attemts` column?   "
      ]
    },
    {
      "cell_type": "code",
      "metadata": {
        "colab": {
          "base_uri": "https://localhost:8080/"
        },
        "id": "NHhndt2hQTTi",
        "outputId": "879f3ac0-c28a-4a8d-b16f-aa9bb8390664"
      },
      "source": [
        "raw_student_info['num_of_prev_attempts'].unique()"
      ],
      "execution_count": null,
      "outputs": [
        {
          "output_type": "execute_result",
          "data": {
            "text/plain": [
              "array([0, 1, 2, 4, 3, 5, 6])"
            ]
          },
          "metadata": {
            "tags": []
          },
          "execution_count": 24
        }
      ]
    },
    {
      "cell_type": "markdown",
      "metadata": {
        "id": "iI80rDkwTVcM"
      },
      "source": [
        "So there are some students with up to 6th trial.\n",
        "    \n",
        "Does their `id_student`change by trial?\n"
      ]
    },
    {
      "cell_type": "code",
      "metadata": {
        "colab": {
          "base_uri": "https://localhost:8080/"
        },
        "id": "ALEiPeN5W1xp",
        "outputId": "214dc8e5-df4b-4cfd-f10f-e23a35830cdb"
      },
      "source": [
        "raw_student_info['id_student'].unique().shape[0], raw_student_info.shape[0]"
      ],
      "execution_count": null,
      "outputs": [
        {
          "output_type": "execute_result",
          "data": {
            "text/plain": [
              "(28785, 32593)"
            ]
          },
          "metadata": {
            "tags": []
          },
          "execution_count": 25
        }
      ]
    },
    {
      "cell_type": "markdown",
      "metadata": {
        "id": "ASMgZhX8XqGw"
      },
      "source": [
        "It doesn't. So how should these former attempts be handled? As an additional effect on final trial's result or as an individual trial without any connection?  \n",
        "\n",
        "First o all, data is prepared for the years 2013 and 2014. Are there any students who is taking any course second (or more) time in the first semester of 2013 "
      ]
    },
    {
      "cell_type": "code",
      "metadata": {
        "colab": {
          "base_uri": "https://localhost:8080/",
          "height": 424
        },
        "id": "32_OX4eFW9Jf",
        "outputId": "6538673d-112a-46a8-b358-0f87d43a0c92"
      },
      "source": [
        "raw_student_info[\n",
        "                 (raw_student_info['num_of_prev_attempts'] > 1) & \n",
        "                 (raw_student_info['code_presentation'] == '2013B')\n",
        "                 ]"
      ],
      "execution_count": null,
      "outputs": [
        {
          "output_type": "execute_result",
          "data": {
            "text/html": [
              "<div>\n",
              "<style scoped>\n",
              "    .dataframe tbody tr th:only-of-type {\n",
              "        vertical-align: middle;\n",
              "    }\n",
              "\n",
              "    .dataframe tbody tr th {\n",
              "        vertical-align: top;\n",
              "    }\n",
              "\n",
              "    .dataframe thead th {\n",
              "        text-align: right;\n",
              "    }\n",
              "</style>\n",
              "<table border=\"1\" class=\"dataframe\">\n",
              "  <thead>\n",
              "    <tr style=\"text-align: right;\">\n",
              "      <th></th>\n",
              "      <th>code_module</th>\n",
              "      <th>code_presentation</th>\n",
              "      <th>id_student</th>\n",
              "      <th>gender</th>\n",
              "      <th>region</th>\n",
              "      <th>highest_education</th>\n",
              "      <th>imd_band</th>\n",
              "      <th>age_band</th>\n",
              "      <th>num_of_prev_attempts</th>\n",
              "      <th>studied_credits</th>\n",
              "      <th>disability</th>\n",
              "      <th>final_result</th>\n",
              "    </tr>\n",
              "  </thead>\n",
              "  <tbody>\n",
              "    <tr>\n",
              "      <th>748</th>\n",
              "      <td>BBB</td>\n",
              "      <td>2013B</td>\n",
              "      <td>23629</td>\n",
              "      <td>F</td>\n",
              "      <td>East Anglian Region</td>\n",
              "      <td>Lower Than A Level</td>\n",
              "      <td>20-30%</td>\n",
              "      <td>0-35</td>\n",
              "      <td>2</td>\n",
              "      <td>60</td>\n",
              "      <td>N</td>\n",
              "      <td>Fail</td>\n",
              "    </tr>\n",
              "    <tr>\n",
              "      <th>750</th>\n",
              "      <td>BBB</td>\n",
              "      <td>2013B</td>\n",
              "      <td>27891</td>\n",
              "      <td>M</td>\n",
              "      <td>Scotland</td>\n",
              "      <td>Lower Than A Level</td>\n",
              "      <td>0-10%</td>\n",
              "      <td>0-35</td>\n",
              "      <td>2</td>\n",
              "      <td>120</td>\n",
              "      <td>Y</td>\n",
              "      <td>Withdrawn</td>\n",
              "    </tr>\n",
              "    <tr>\n",
              "      <th>754</th>\n",
              "      <td>BBB</td>\n",
              "      <td>2013B</td>\n",
              "      <td>34229</td>\n",
              "      <td>F</td>\n",
              "      <td>Ireland</td>\n",
              "      <td>A Level or Equivalent</td>\n",
              "      <td>0-10%</td>\n",
              "      <td>35-55</td>\n",
              "      <td>2</td>\n",
              "      <td>120</td>\n",
              "      <td>N</td>\n",
              "      <td>Pass</td>\n",
              "    </tr>\n",
              "    <tr>\n",
              "      <th>764</th>\n",
              "      <td>BBB</td>\n",
              "      <td>2013B</td>\n",
              "      <td>58089</td>\n",
              "      <td>F</td>\n",
              "      <td>West Midlands Region</td>\n",
              "      <td>A Level or Equivalent</td>\n",
              "      <td>40-50%</td>\n",
              "      <td>0-35</td>\n",
              "      <td>2</td>\n",
              "      <td>90</td>\n",
              "      <td>N</td>\n",
              "      <td>Fail</td>\n",
              "    </tr>\n",
              "    <tr>\n",
              "      <th>773</th>\n",
              "      <td>BBB</td>\n",
              "      <td>2013B</td>\n",
              "      <td>79378</td>\n",
              "      <td>F</td>\n",
              "      <td>London Region</td>\n",
              "      <td>Lower Than A Level</td>\n",
              "      <td>20-30%</td>\n",
              "      <td>35-55</td>\n",
              "      <td>4</td>\n",
              "      <td>120</td>\n",
              "      <td>Y</td>\n",
              "      <td>Fail</td>\n",
              "    </tr>\n",
              "    <tr>\n",
              "      <th>...</th>\n",
              "      <td>...</td>\n",
              "      <td>...</td>\n",
              "      <td>...</td>\n",
              "      <td>...</td>\n",
              "      <td>...</td>\n",
              "      <td>...</td>\n",
              "      <td>...</td>\n",
              "      <td>...</td>\n",
              "      <td>...</td>\n",
              "      <td>...</td>\n",
              "      <td>...</td>\n",
              "      <td>...</td>\n",
              "    </tr>\n",
              "    <tr>\n",
              "      <th>23706</th>\n",
              "      <td>FFF</td>\n",
              "      <td>2013B</td>\n",
              "      <td>962951</td>\n",
              "      <td>M</td>\n",
              "      <td>South Region</td>\n",
              "      <td>A Level or Equivalent</td>\n",
              "      <td>50-60%</td>\n",
              "      <td>35-55</td>\n",
              "      <td>2</td>\n",
              "      <td>150</td>\n",
              "      <td>N</td>\n",
              "      <td>Withdrawn</td>\n",
              "    </tr>\n",
              "    <tr>\n",
              "      <th>23760</th>\n",
              "      <td>FFF</td>\n",
              "      <td>2013B</td>\n",
              "      <td>1855249</td>\n",
              "      <td>F</td>\n",
              "      <td>South Region</td>\n",
              "      <td>HE Qualification</td>\n",
              "      <td>90-100%</td>\n",
              "      <td>35-55</td>\n",
              "      <td>2</td>\n",
              "      <td>60</td>\n",
              "      <td>N</td>\n",
              "      <td>Withdrawn</td>\n",
              "    </tr>\n",
              "    <tr>\n",
              "      <th>23797</th>\n",
              "      <td>FFF</td>\n",
              "      <td>2013B</td>\n",
              "      <td>2108821</td>\n",
              "      <td>M</td>\n",
              "      <td>Scotland</td>\n",
              "      <td>HE Qualification</td>\n",
              "      <td>90-100%</td>\n",
              "      <td>35-55</td>\n",
              "      <td>2</td>\n",
              "      <td>120</td>\n",
              "      <td>N</td>\n",
              "      <td>Pass</td>\n",
              "    </tr>\n",
              "    <tr>\n",
              "      <th>23832</th>\n",
              "      <td>FFF</td>\n",
              "      <td>2013B</td>\n",
              "      <td>2381745</td>\n",
              "      <td>M</td>\n",
              "      <td>London Region</td>\n",
              "      <td>Lower Than A Level</td>\n",
              "      <td>0-10%</td>\n",
              "      <td>35-55</td>\n",
              "      <td>2</td>\n",
              "      <td>150</td>\n",
              "      <td>N</td>\n",
              "      <td>Withdrawn</td>\n",
              "    </tr>\n",
              "    <tr>\n",
              "      <th>23868</th>\n",
              "      <td>FFF</td>\n",
              "      <td>2013B</td>\n",
              "      <td>2546095</td>\n",
              "      <td>M</td>\n",
              "      <td>North Region</td>\n",
              "      <td>A Level or Equivalent</td>\n",
              "      <td>NaN</td>\n",
              "      <td>0-35</td>\n",
              "      <td>2</td>\n",
              "      <td>150</td>\n",
              "      <td>N</td>\n",
              "      <td>Pass</td>\n",
              "    </tr>\n",
              "  </tbody>\n",
              "</table>\n",
              "<p>185 rows × 12 columns</p>\n",
              "</div>"
            ],
            "text/plain": [
              "      code_module code_presentation  ...  disability final_result\n",
              "748           BBB             2013B  ...           N         Fail\n",
              "750           BBB             2013B  ...           Y    Withdrawn\n",
              "754           BBB             2013B  ...           N         Pass\n",
              "764           BBB             2013B  ...           N         Fail\n",
              "773           BBB             2013B  ...           Y         Fail\n",
              "...           ...               ...  ...         ...          ...\n",
              "23706         FFF             2013B  ...           N    Withdrawn\n",
              "23760         FFF             2013B  ...           N    Withdrawn\n",
              "23797         FFF             2013B  ...           N         Pass\n",
              "23832         FFF             2013B  ...           N    Withdrawn\n",
              "23868         FFF             2013B  ...           N         Pass\n",
              "\n",
              "[185 rows x 12 columns]"
            ]
          },
          "metadata": {
            "tags": []
          },
          "execution_count": 26
        }
      ]
    },
    {
      "cell_type": "markdown",
      "metadata": {
        "id": "HteofwGLi5MU"
      },
      "source": [
        "There are such rows, so we don't have any information about their former attempt. Therefore, all attempts will be handled on their own.  \n",
        "I also need to find out if there are any students who takes more than one course in a semester.  \n"
      ]
    },
    {
      "cell_type": "code",
      "metadata": {
        "colab": {
          "base_uri": "https://localhost:8080/",
          "height": 206
        },
        "id": "V7bGfi8pmkxA",
        "outputId": "b4bd2189-28de-46da-f811-0ba62f829085"
      },
      "source": [
        "students_with_multip_course = raw_student_info[raw_student_info.duplicated(subset=['id_student', 'code_presentation'], keep=False)].sort_values('id_student')\n",
        "students_with_multip_course.head()"
      ],
      "execution_count": null,
      "outputs": [
        {
          "output_type": "execute_result",
          "data": {
            "text/html": [
              "<div>\n",
              "<style scoped>\n",
              "    .dataframe tbody tr th:only-of-type {\n",
              "        vertical-align: middle;\n",
              "    }\n",
              "\n",
              "    .dataframe tbody tr th {\n",
              "        vertical-align: top;\n",
              "    }\n",
              "\n",
              "    .dataframe thead th {\n",
              "        text-align: right;\n",
              "    }\n",
              "</style>\n",
              "<table border=\"1\" class=\"dataframe\">\n",
              "  <thead>\n",
              "    <tr style=\"text-align: right;\">\n",
              "      <th></th>\n",
              "      <th>code_module</th>\n",
              "      <th>code_presentation</th>\n",
              "      <th>id_student</th>\n",
              "      <th>gender</th>\n",
              "      <th>region</th>\n",
              "      <th>highest_education</th>\n",
              "      <th>imd_band</th>\n",
              "      <th>age_band</th>\n",
              "      <th>num_of_prev_attempts</th>\n",
              "      <th>studied_credits</th>\n",
              "      <th>disability</th>\n",
              "      <th>final_result</th>\n",
              "    </tr>\n",
              "  </thead>\n",
              "  <tbody>\n",
              "    <tr>\n",
              "      <th>20418</th>\n",
              "      <td>EEE</td>\n",
              "      <td>2014B</td>\n",
              "      <td>29820</td>\n",
              "      <td>M</td>\n",
              "      <td>East Anglian Region</td>\n",
              "      <td>HE Qualification</td>\n",
              "      <td>40-50%</td>\n",
              "      <td>0-35</td>\n",
              "      <td>0</td>\n",
              "      <td>60</td>\n",
              "      <td>N</td>\n",
              "      <td>Pass</td>\n",
              "    </tr>\n",
              "    <tr>\n",
              "      <th>8659</th>\n",
              "      <td>CCC</td>\n",
              "      <td>2014B</td>\n",
              "      <td>29820</td>\n",
              "      <td>M</td>\n",
              "      <td>East Anglian Region</td>\n",
              "      <td>HE Qualification</td>\n",
              "      <td>40-50%</td>\n",
              "      <td>0-35</td>\n",
              "      <td>0</td>\n",
              "      <td>60</td>\n",
              "      <td>N</td>\n",
              "      <td>Pass</td>\n",
              "    </tr>\n",
              "    <tr>\n",
              "      <th>6372</th>\n",
              "      <td>BBB</td>\n",
              "      <td>2014J</td>\n",
              "      <td>39208</td>\n",
              "      <td>F</td>\n",
              "      <td>Wales</td>\n",
              "      <td>A Level or Equivalent</td>\n",
              "      <td>90-100%</td>\n",
              "      <td>35-55</td>\n",
              "      <td>0</td>\n",
              "      <td>120</td>\n",
              "      <td>N</td>\n",
              "      <td>Pass</td>\n",
              "    </tr>\n",
              "    <tr>\n",
              "      <th>17569</th>\n",
              "      <td>DDD</td>\n",
              "      <td>2014J</td>\n",
              "      <td>39208</td>\n",
              "      <td>F</td>\n",
              "      <td>Wales</td>\n",
              "      <td>A Level or Equivalent</td>\n",
              "      <td>90-100%</td>\n",
              "      <td>35-55</td>\n",
              "      <td>0</td>\n",
              "      <td>120</td>\n",
              "      <td>N</td>\n",
              "      <td>Withdrawn</td>\n",
              "    </tr>\n",
              "    <tr>\n",
              "      <th>16338</th>\n",
              "      <td>DDD</td>\n",
              "      <td>2014B</td>\n",
              "      <td>49119</td>\n",
              "      <td>M</td>\n",
              "      <td>Ireland</td>\n",
              "      <td>HE Qualification</td>\n",
              "      <td>NaN</td>\n",
              "      <td>0-35</td>\n",
              "      <td>0</td>\n",
              "      <td>90</td>\n",
              "      <td>N</td>\n",
              "      <td>Withdrawn</td>\n",
              "    </tr>\n",
              "  </tbody>\n",
              "</table>\n",
              "</div>"
            ],
            "text/plain": [
              "      code_module code_presentation  ...  disability final_result\n",
              "20418         EEE             2014B  ...           N         Pass\n",
              "8659          CCC             2014B  ...           N         Pass\n",
              "6372          BBB             2014J  ...           N         Pass\n",
              "17569         DDD             2014J  ...           N    Withdrawn\n",
              "16338         DDD             2014B  ...           N    Withdrawn\n",
              "\n",
              "[5 rows x 12 columns]"
            ]
          },
          "metadata": {
            "tags": []
          },
          "execution_count": 27
        }
      ]
    },
    {
      "cell_type": "code",
      "metadata": {
        "colab": {
          "base_uri": "https://localhost:8080/"
        },
        "id": "ZKzqKndAmxeV",
        "outputId": "ded69a3f-966a-4731-f42a-902b14a90188"
      },
      "source": [
        "len(students_with_multip_course['id_student'].unique())"
      ],
      "execution_count": null,
      "outputs": [
        {
          "output_type": "execute_result",
          "data": {
            "text/plain": [
              "1071"
            ]
          },
          "metadata": {
            "tags": []
          },
          "execution_count": 28
        }
      ]
    },
    {
      "cell_type": "markdown",
      "metadata": {
        "id": "IGTAiYSEm0tF"
      },
      "source": [
        "There are 1071 student who take more than one course at a semester.  "
      ]
    },
    {
      "cell_type": "markdown",
      "metadata": {
        "id": "bM_KpVs1gHWH"
      },
      "source": [
        "# Data Joining"
      ]
    },
    {
      "cell_type": "markdown",
      "metadata": {
        "id": "CTSpG5XkkYTt"
      },
      "source": [
        "Eventually, all the tables will be joined to `student_info`. But `assessment` and `vle` tables will be preprocessed and joined to `student_assessment` and `student_vle` tables respectively.\n",
        "\n"
      ]
    },
    {
      "cell_type": "markdown",
      "metadata": {
        "id": "v3qKQv33jxuI"
      },
      "source": [
        "### Preparing `student_assesseent`\n",
        "These tables will bring up information about assessments, like if it's tutor marked assignmet (`assessment_type == 'TMA'`) or the student's score on the assignment."
      ]
    },
    {
      "cell_type": "code",
      "metadata": {
        "id": "uz6C6orPisBk"
      },
      "source": [
        "student_assessment = (\n",
        "    raw_student_assessment.set_index('id_assessment')\n",
        "    .join(raw_assessments.set_index('id_assessment'))\n",
        ").reset_index()"
      ],
      "execution_count": null,
      "outputs": []
    },
    {
      "cell_type": "markdown",
      "metadata": {
        "id": "OLbUXWxKrxEM"
      },
      "source": [
        "At this point there are multiple entries for a `code_module`, `code_presentation`, `id_student`. So this table can not be added to `student_info`. I need to come up with some aggregation for student assessment."
      ]
    },
    {
      "cell_type": "code",
      "metadata": {
        "colab": {
          "base_uri": "https://localhost:8080/",
          "height": 206
        },
        "id": "JsSyKJvBcks-",
        "outputId": "2939b83b-07ae-4eec-bd33-7b35d6ed11ef"
      },
      "source": [
        "student_assessment.head()"
      ],
      "execution_count": null,
      "outputs": [
        {
          "output_type": "execute_result",
          "data": {
            "text/html": [
              "<div>\n",
              "<style scoped>\n",
              "    .dataframe tbody tr th:only-of-type {\n",
              "        vertical-align: middle;\n",
              "    }\n",
              "\n",
              "    .dataframe tbody tr th {\n",
              "        vertical-align: top;\n",
              "    }\n",
              "\n",
              "    .dataframe thead th {\n",
              "        text-align: right;\n",
              "    }\n",
              "</style>\n",
              "<table border=\"1\" class=\"dataframe\">\n",
              "  <thead>\n",
              "    <tr style=\"text-align: right;\">\n",
              "      <th></th>\n",
              "      <th>id_assessment</th>\n",
              "      <th>id_student</th>\n",
              "      <th>date_submitted</th>\n",
              "      <th>is_banked</th>\n",
              "      <th>score</th>\n",
              "      <th>code_module</th>\n",
              "      <th>code_presentation</th>\n",
              "      <th>assessment_type</th>\n",
              "      <th>date</th>\n",
              "      <th>weight</th>\n",
              "    </tr>\n",
              "  </thead>\n",
              "  <tbody>\n",
              "    <tr>\n",
              "      <th>0</th>\n",
              "      <td>1752</td>\n",
              "      <td>11391</td>\n",
              "      <td>18</td>\n",
              "      <td>0</td>\n",
              "      <td>78.0</td>\n",
              "      <td>AAA</td>\n",
              "      <td>2013J</td>\n",
              "      <td>TMA</td>\n",
              "      <td>19.0</td>\n",
              "      <td>10.0</td>\n",
              "    </tr>\n",
              "    <tr>\n",
              "      <th>1</th>\n",
              "      <td>1752</td>\n",
              "      <td>28400</td>\n",
              "      <td>22</td>\n",
              "      <td>0</td>\n",
              "      <td>70.0</td>\n",
              "      <td>AAA</td>\n",
              "      <td>2013J</td>\n",
              "      <td>TMA</td>\n",
              "      <td>19.0</td>\n",
              "      <td>10.0</td>\n",
              "    </tr>\n",
              "    <tr>\n",
              "      <th>2</th>\n",
              "      <td>1752</td>\n",
              "      <td>31604</td>\n",
              "      <td>17</td>\n",
              "      <td>0</td>\n",
              "      <td>72.0</td>\n",
              "      <td>AAA</td>\n",
              "      <td>2013J</td>\n",
              "      <td>TMA</td>\n",
              "      <td>19.0</td>\n",
              "      <td>10.0</td>\n",
              "    </tr>\n",
              "    <tr>\n",
              "      <th>3</th>\n",
              "      <td>1752</td>\n",
              "      <td>32885</td>\n",
              "      <td>26</td>\n",
              "      <td>0</td>\n",
              "      <td>69.0</td>\n",
              "      <td>AAA</td>\n",
              "      <td>2013J</td>\n",
              "      <td>TMA</td>\n",
              "      <td>19.0</td>\n",
              "      <td>10.0</td>\n",
              "    </tr>\n",
              "    <tr>\n",
              "      <th>4</th>\n",
              "      <td>1752</td>\n",
              "      <td>38053</td>\n",
              "      <td>19</td>\n",
              "      <td>0</td>\n",
              "      <td>79.0</td>\n",
              "      <td>AAA</td>\n",
              "      <td>2013J</td>\n",
              "      <td>TMA</td>\n",
              "      <td>19.0</td>\n",
              "      <td>10.0</td>\n",
              "    </tr>\n",
              "  </tbody>\n",
              "</table>\n",
              "</div>"
            ],
            "text/plain": [
              "   id_assessment  id_student  date_submitted  ...  assessment_type  date weight\n",
              "0           1752       11391              18  ...              TMA  19.0   10.0\n",
              "1           1752       28400              22  ...              TMA  19.0   10.0\n",
              "2           1752       31604              17  ...              TMA  19.0   10.0\n",
              "3           1752       32885              26  ...              TMA  19.0   10.0\n",
              "4           1752       38053              19  ...              TMA  19.0   10.0\n",
              "\n",
              "[5 rows x 10 columns]"
            ]
          },
          "metadata": {
            "tags": []
          },
          "execution_count": 30
        }
      ]
    },
    {
      "cell_type": "code",
      "metadata": {
        "colab": {
          "base_uri": "https://localhost:8080/",
          "height": 206
        },
        "id": "qoAOu7IOaqDT",
        "outputId": "a810e72e-dd02-4eea-e4e1-254ebff81a3d"
      },
      "source": [
        "student_assessment.query('id_student == 38053')"
      ],
      "execution_count": null,
      "outputs": [
        {
          "output_type": "execute_result",
          "data": {
            "text/html": [
              "<div>\n",
              "<style scoped>\n",
              "    .dataframe tbody tr th:only-of-type {\n",
              "        vertical-align: middle;\n",
              "    }\n",
              "\n",
              "    .dataframe tbody tr th {\n",
              "        vertical-align: top;\n",
              "    }\n",
              "\n",
              "    .dataframe thead th {\n",
              "        text-align: right;\n",
              "    }\n",
              "</style>\n",
              "<table border=\"1\" class=\"dataframe\">\n",
              "  <thead>\n",
              "    <tr style=\"text-align: right;\">\n",
              "      <th></th>\n",
              "      <th>id_assessment</th>\n",
              "      <th>id_student</th>\n",
              "      <th>date_submitted</th>\n",
              "      <th>is_banked</th>\n",
              "      <th>score</th>\n",
              "      <th>code_module</th>\n",
              "      <th>code_presentation</th>\n",
              "      <th>assessment_type</th>\n",
              "      <th>date</th>\n",
              "      <th>weight</th>\n",
              "    </tr>\n",
              "  </thead>\n",
              "  <tbody>\n",
              "    <tr>\n",
              "      <th>4</th>\n",
              "      <td>1752</td>\n",
              "      <td>38053</td>\n",
              "      <td>19</td>\n",
              "      <td>0</td>\n",
              "      <td>79.0</td>\n",
              "      <td>AAA</td>\n",
              "      <td>2013J</td>\n",
              "      <td>TMA</td>\n",
              "      <td>19.0</td>\n",
              "      <td>10.0</td>\n",
              "    </tr>\n",
              "    <tr>\n",
              "      <th>505</th>\n",
              "      <td>1753</td>\n",
              "      <td>38053</td>\n",
              "      <td>64</td>\n",
              "      <td>0</td>\n",
              "      <td>69.0</td>\n",
              "      <td>AAA</td>\n",
              "      <td>2013J</td>\n",
              "      <td>TMA</td>\n",
              "      <td>54.0</td>\n",
              "      <td>20.0</td>\n",
              "    </tr>\n",
              "    <tr>\n",
              "      <th>846</th>\n",
              "      <td>1754</td>\n",
              "      <td>38053</td>\n",
              "      <td>117</td>\n",
              "      <td>0</td>\n",
              "      <td>74.0</td>\n",
              "      <td>AAA</td>\n",
              "      <td>2013J</td>\n",
              "      <td>TMA</td>\n",
              "      <td>117.0</td>\n",
              "      <td>20.0</td>\n",
              "    </tr>\n",
              "    <tr>\n",
              "      <th>1036</th>\n",
              "      <td>1755</td>\n",
              "      <td>38053</td>\n",
              "      <td>166</td>\n",
              "      <td>0</td>\n",
              "      <td>50.0</td>\n",
              "      <td>AAA</td>\n",
              "      <td>2013J</td>\n",
              "      <td>TMA</td>\n",
              "      <td>166.0</td>\n",
              "      <td>20.0</td>\n",
              "    </tr>\n",
              "    <tr>\n",
              "      <th>1461</th>\n",
              "      <td>1756</td>\n",
              "      <td>38053</td>\n",
              "      <td>215</td>\n",
              "      <td>0</td>\n",
              "      <td>68.0</td>\n",
              "      <td>AAA</td>\n",
              "      <td>2013J</td>\n",
              "      <td>TMA</td>\n",
              "      <td>215.0</td>\n",
              "      <td>30.0</td>\n",
              "    </tr>\n",
              "  </tbody>\n",
              "</table>\n",
              "</div>"
            ],
            "text/plain": [
              "      id_assessment  id_student  date_submitted  ...  assessment_type   date weight\n",
              "4              1752       38053              19  ...              TMA   19.0   10.0\n",
              "505            1753       38053              64  ...              TMA   54.0   20.0\n",
              "846            1754       38053             117  ...              TMA  117.0   20.0\n",
              "1036           1755       38053             166  ...              TMA  166.0   20.0\n",
              "1461           1756       38053             215  ...              TMA  215.0   30.0\n",
              "\n",
              "[5 rows x 10 columns]"
            ]
          },
          "metadata": {
            "tags": []
          },
          "execution_count": 31
        }
      ]
    },
    {
      "cell_type": "code",
      "metadata": {
        "colab": {
          "base_uri": "https://localhost:8080/",
          "height": 206
        },
        "id": "6I1YX5Pggn6S",
        "outputId": "160cfdeb-b0b8-4289-9494-d577b1ebc1e0"
      },
      "source": [
        "student_assessment.query('id_student == 11391')"
      ],
      "execution_count": null,
      "outputs": [
        {
          "output_type": "execute_result",
          "data": {
            "text/html": [
              "<div>\n",
              "<style scoped>\n",
              "    .dataframe tbody tr th:only-of-type {\n",
              "        vertical-align: middle;\n",
              "    }\n",
              "\n",
              "    .dataframe tbody tr th {\n",
              "        vertical-align: top;\n",
              "    }\n",
              "\n",
              "    .dataframe thead th {\n",
              "        text-align: right;\n",
              "    }\n",
              "</style>\n",
              "<table border=\"1\" class=\"dataframe\">\n",
              "  <thead>\n",
              "    <tr style=\"text-align: right;\">\n",
              "      <th></th>\n",
              "      <th>id_assessment</th>\n",
              "      <th>id_student</th>\n",
              "      <th>date_submitted</th>\n",
              "      <th>is_banked</th>\n",
              "      <th>score</th>\n",
              "      <th>code_module</th>\n",
              "      <th>code_presentation</th>\n",
              "      <th>assessment_type</th>\n",
              "      <th>date</th>\n",
              "      <th>weight</th>\n",
              "    </tr>\n",
              "  </thead>\n",
              "  <tbody>\n",
              "    <tr>\n",
              "      <th>0</th>\n",
              "      <td>1752</td>\n",
              "      <td>11391</td>\n",
              "      <td>18</td>\n",
              "      <td>0</td>\n",
              "      <td>78.0</td>\n",
              "      <td>AAA</td>\n",
              "      <td>2013J</td>\n",
              "      <td>TMA</td>\n",
              "      <td>19.0</td>\n",
              "      <td>10.0</td>\n",
              "    </tr>\n",
              "    <tr>\n",
              "      <th>501</th>\n",
              "      <td>1753</td>\n",
              "      <td>11391</td>\n",
              "      <td>53</td>\n",
              "      <td>0</td>\n",
              "      <td>85.0</td>\n",
              "      <td>AAA</td>\n",
              "      <td>2013J</td>\n",
              "      <td>TMA</td>\n",
              "      <td>54.0</td>\n",
              "      <td>20.0</td>\n",
              "    </tr>\n",
              "    <tr>\n",
              "      <th>842</th>\n",
              "      <td>1754</td>\n",
              "      <td>11391</td>\n",
              "      <td>115</td>\n",
              "      <td>0</td>\n",
              "      <td>80.0</td>\n",
              "      <td>AAA</td>\n",
              "      <td>2013J</td>\n",
              "      <td>TMA</td>\n",
              "      <td>117.0</td>\n",
              "      <td>20.0</td>\n",
              "    </tr>\n",
              "    <tr>\n",
              "      <th>1032</th>\n",
              "      <td>1755</td>\n",
              "      <td>11391</td>\n",
              "      <td>164</td>\n",
              "      <td>0</td>\n",
              "      <td>85.0</td>\n",
              "      <td>AAA</td>\n",
              "      <td>2013J</td>\n",
              "      <td>TMA</td>\n",
              "      <td>166.0</td>\n",
              "      <td>20.0</td>\n",
              "    </tr>\n",
              "    <tr>\n",
              "      <th>1457</th>\n",
              "      <td>1756</td>\n",
              "      <td>11391</td>\n",
              "      <td>212</td>\n",
              "      <td>0</td>\n",
              "      <td>82.0</td>\n",
              "      <td>AAA</td>\n",
              "      <td>2013J</td>\n",
              "      <td>TMA</td>\n",
              "      <td>215.0</td>\n",
              "      <td>30.0</td>\n",
              "    </tr>\n",
              "  </tbody>\n",
              "</table>\n",
              "</div>"
            ],
            "text/plain": [
              "      id_assessment  id_student  date_submitted  ...  assessment_type   date weight\n",
              "0              1752       11391              18  ...              TMA   19.0   10.0\n",
              "501            1753       11391              53  ...              TMA   54.0   20.0\n",
              "842            1754       11391             115  ...              TMA  117.0   20.0\n",
              "1032           1755       11391             164  ...              TMA  166.0   20.0\n",
              "1457           1756       11391             212  ...              TMA  215.0   30.0\n",
              "\n",
              "[5 rows x 10 columns]"
            ]
          },
          "metadata": {
            "tags": []
          },
          "execution_count": 32
        }
      ]
    },
    {
      "cell_type": "markdown",
      "metadata": {
        "id": "C4I1AWq4gv8d"
      },
      "source": [
        "Looks like not all courses have all types of assessments "
      ]
    },
    {
      "cell_type": "code",
      "metadata": {
        "colab": {
          "base_uri": "https://localhost:8080/",
          "height": 771
        },
        "id": "0g8-zjCghFXA",
        "outputId": "a42b906f-f65a-478f-ebfc-79b17f26707d"
      },
      "source": [
        "student_assessment.groupby(['code_module', 'code_presentation']).nunique()"
      ],
      "execution_count": null,
      "outputs": [
        {
          "output_type": "execute_result",
          "data": {
            "text/html": [
              "<div>\n",
              "<style scoped>\n",
              "    .dataframe tbody tr th:only-of-type {\n",
              "        vertical-align: middle;\n",
              "    }\n",
              "\n",
              "    .dataframe tbody tr th {\n",
              "        vertical-align: top;\n",
              "    }\n",
              "\n",
              "    .dataframe thead th {\n",
              "        text-align: right;\n",
              "    }\n",
              "</style>\n",
              "<table border=\"1\" class=\"dataframe\">\n",
              "  <thead>\n",
              "    <tr style=\"text-align: right;\">\n",
              "      <th></th>\n",
              "      <th></th>\n",
              "      <th>id_assessment</th>\n",
              "      <th>id_student</th>\n",
              "      <th>date_submitted</th>\n",
              "      <th>is_banked</th>\n",
              "      <th>score</th>\n",
              "      <th>assessment_type</th>\n",
              "      <th>date</th>\n",
              "      <th>weight</th>\n",
              "    </tr>\n",
              "    <tr>\n",
              "      <th>code_module</th>\n",
              "      <th>code_presentation</th>\n",
              "      <th></th>\n",
              "      <th></th>\n",
              "      <th></th>\n",
              "      <th></th>\n",
              "      <th></th>\n",
              "      <th></th>\n",
              "      <th></th>\n",
              "      <th></th>\n",
              "    </tr>\n",
              "  </thead>\n",
              "  <tbody>\n",
              "    <tr>\n",
              "      <th rowspan=\"2\" valign=\"top\">AAA</th>\n",
              "      <th>2013J</th>\n",
              "      <td>5</td>\n",
              "      <td>365</td>\n",
              "      <td>147</td>\n",
              "      <td>1</td>\n",
              "      <td>72</td>\n",
              "      <td>1</td>\n",
              "      <td>5</td>\n",
              "      <td>3</td>\n",
              "    </tr>\n",
              "    <tr>\n",
              "      <th>2014J</th>\n",
              "      <td>5</td>\n",
              "      <td>340</td>\n",
              "      <td>146</td>\n",
              "      <td>2</td>\n",
              "      <td>73</td>\n",
              "      <td>1</td>\n",
              "      <td>5</td>\n",
              "      <td>3</td>\n",
              "    </tr>\n",
              "    <tr>\n",
              "      <th rowspan=\"4\" valign=\"top\">BBB</th>\n",
              "      <th>2013B</th>\n",
              "      <td>11</td>\n",
              "      <td>1369</td>\n",
              "      <td>212</td>\n",
              "      <td>2</td>\n",
              "      <td>94</td>\n",
              "      <td>2</td>\n",
              "      <td>7</td>\n",
              "      <td>3</td>\n",
              "    </tr>\n",
              "    <tr>\n",
              "      <th>2013J</th>\n",
              "      <td>11</td>\n",
              "      <td>1710</td>\n",
              "      <td>231</td>\n",
              "      <td>2</td>\n",
              "      <td>91</td>\n",
              "      <td>2</td>\n",
              "      <td>7</td>\n",
              "      <td>3</td>\n",
              "    </tr>\n",
              "    <tr>\n",
              "      <th>2014B</th>\n",
              "      <td>11</td>\n",
              "      <td>1205</td>\n",
              "      <td>210</td>\n",
              "      <td>2</td>\n",
              "      <td>91</td>\n",
              "      <td>2</td>\n",
              "      <td>7</td>\n",
              "      <td>3</td>\n",
              "    </tr>\n",
              "    <tr>\n",
              "      <th>2014J</th>\n",
              "      <td>5</td>\n",
              "      <td>1793</td>\n",
              "      <td>220</td>\n",
              "      <td>1</td>\n",
              "      <td>83</td>\n",
              "      <td>1</td>\n",
              "      <td>5</td>\n",
              "      <td>4</td>\n",
              "    </tr>\n",
              "    <tr>\n",
              "      <th rowspan=\"2\" valign=\"top\">CCC</th>\n",
              "      <th>2014B</th>\n",
              "      <td>9</td>\n",
              "      <td>1415</td>\n",
              "      <td>183</td>\n",
              "      <td>1</td>\n",
              "      <td>100</td>\n",
              "      <td>3</td>\n",
              "      <td>8</td>\n",
              "      <td>6</td>\n",
              "    </tr>\n",
              "    <tr>\n",
              "      <th>2014J</th>\n",
              "      <td>9</td>\n",
              "      <td>1998</td>\n",
              "      <td>204</td>\n",
              "      <td>2</td>\n",
              "      <td>100</td>\n",
              "      <td>3</td>\n",
              "      <td>8</td>\n",
              "      <td>6</td>\n",
              "    </tr>\n",
              "    <tr>\n",
              "      <th rowspan=\"4\" valign=\"top\">DDD</th>\n",
              "      <th>2013B</th>\n",
              "      <td>14</td>\n",
              "      <td>1065</td>\n",
              "      <td>210</td>\n",
              "      <td>2</td>\n",
              "      <td>101</td>\n",
              "      <td>3</td>\n",
              "      <td>14</td>\n",
              "      <td>9</td>\n",
              "    </tr>\n",
              "    <tr>\n",
              "      <th>2013J</th>\n",
              "      <td>7</td>\n",
              "      <td>1507</td>\n",
              "      <td>229</td>\n",
              "      <td>2</td>\n",
              "      <td>98</td>\n",
              "      <td>2</td>\n",
              "      <td>7</td>\n",
              "      <td>5</td>\n",
              "    </tr>\n",
              "    <tr>\n",
              "      <th>2014B</th>\n",
              "      <td>7</td>\n",
              "      <td>944</td>\n",
              "      <td>211</td>\n",
              "      <td>2</td>\n",
              "      <td>99</td>\n",
              "      <td>2</td>\n",
              "      <td>7</td>\n",
              "      <td>5</td>\n",
              "    </tr>\n",
              "    <tr>\n",
              "      <th>2014J</th>\n",
              "      <td>7</td>\n",
              "      <td>1428</td>\n",
              "      <td>213</td>\n",
              "      <td>2</td>\n",
              "      <td>99</td>\n",
              "      <td>2</td>\n",
              "      <td>6</td>\n",
              "      <td>4</td>\n",
              "    </tr>\n",
              "    <tr>\n",
              "      <th rowspan=\"3\" valign=\"top\">EEE</th>\n",
              "      <th>2013J</th>\n",
              "      <td>4</td>\n",
              "      <td>827</td>\n",
              "      <td>128</td>\n",
              "      <td>1</td>\n",
              "      <td>85</td>\n",
              "      <td>1</td>\n",
              "      <td>4</td>\n",
              "      <td>2</td>\n",
              "    </tr>\n",
              "    <tr>\n",
              "      <th>2014B</th>\n",
              "      <td>4</td>\n",
              "      <td>536</td>\n",
              "      <td>129</td>\n",
              "      <td>2</td>\n",
              "      <td>82</td>\n",
              "      <td>1</td>\n",
              "      <td>4</td>\n",
              "      <td>2</td>\n",
              "    </tr>\n",
              "    <tr>\n",
              "      <th>2014J</th>\n",
              "      <td>4</td>\n",
              "      <td>935</td>\n",
              "      <td>149</td>\n",
              "      <td>2</td>\n",
              "      <td>81</td>\n",
              "      <td>1</td>\n",
              "      <td>4</td>\n",
              "      <td>2</td>\n",
              "    </tr>\n",
              "    <tr>\n",
              "      <th rowspan=\"4\" valign=\"top\">FFF</th>\n",
              "      <th>2013B</th>\n",
              "      <td>12</td>\n",
              "      <td>1371</td>\n",
              "      <td>234</td>\n",
              "      <td>2</td>\n",
              "      <td>95</td>\n",
              "      <td>2</td>\n",
              "      <td>6</td>\n",
              "      <td>3</td>\n",
              "    </tr>\n",
              "    <tr>\n",
              "      <th>2013J</th>\n",
              "      <td>12</td>\n",
              "      <td>1874</td>\n",
              "      <td>245</td>\n",
              "      <td>2</td>\n",
              "      <td>99</td>\n",
              "      <td>2</td>\n",
              "      <td>6</td>\n",
              "      <td>3</td>\n",
              "    </tr>\n",
              "    <tr>\n",
              "      <th>2014B</th>\n",
              "      <td>12</td>\n",
              "      <td>1206</td>\n",
              "      <td>231</td>\n",
              "      <td>2</td>\n",
              "      <td>92</td>\n",
              "      <td>2</td>\n",
              "      <td>6</td>\n",
              "      <td>3</td>\n",
              "    </tr>\n",
              "    <tr>\n",
              "      <th>2014J</th>\n",
              "      <td>12</td>\n",
              "      <td>1843</td>\n",
              "      <td>243</td>\n",
              "      <td>2</td>\n",
              "      <td>94</td>\n",
              "      <td>2</td>\n",
              "      <td>6</td>\n",
              "      <td>3</td>\n",
              "    </tr>\n",
              "    <tr>\n",
              "      <th rowspan=\"3\" valign=\"top\">GGG</th>\n",
              "      <th>2013J</th>\n",
              "      <td>9</td>\n",
              "      <td>819</td>\n",
              "      <td>192</td>\n",
              "      <td>1</td>\n",
              "      <td>76</td>\n",
              "      <td>2</td>\n",
              "      <td>4</td>\n",
              "      <td>1</td>\n",
              "    </tr>\n",
              "    <tr>\n",
              "      <th>2014B</th>\n",
              "      <td>9</td>\n",
              "      <td>689</td>\n",
              "      <td>194</td>\n",
              "      <td>1</td>\n",
              "      <td>80</td>\n",
              "      <td>2</td>\n",
              "      <td>4</td>\n",
              "      <td>1</td>\n",
              "    </tr>\n",
              "    <tr>\n",
              "      <th>2014J</th>\n",
              "      <td>9</td>\n",
              "      <td>604</td>\n",
              "      <td>200</td>\n",
              "      <td>2</td>\n",
              "      <td>77</td>\n",
              "      <td>2</td>\n",
              "      <td>4</td>\n",
              "      <td>1</td>\n",
              "    </tr>\n",
              "  </tbody>\n",
              "</table>\n",
              "</div>"
            ],
            "text/plain": [
              "                               id_assessment  id_student  ...  date  weight\n",
              "code_module code_presentation                             ...              \n",
              "AAA         2013J                          5         365  ...     5       3\n",
              "            2014J                          5         340  ...     5       3\n",
              "BBB         2013B                         11        1369  ...     7       3\n",
              "            2013J                         11        1710  ...     7       3\n",
              "            2014B                         11        1205  ...     7       3\n",
              "            2014J                          5        1793  ...     5       4\n",
              "CCC         2014B                          9        1415  ...     8       6\n",
              "            2014J                          9        1998  ...     8       6\n",
              "DDD         2013B                         14        1065  ...    14       9\n",
              "            2013J                          7        1507  ...     7       5\n",
              "            2014B                          7         944  ...     7       5\n",
              "            2014J                          7        1428  ...     6       4\n",
              "EEE         2013J                          4         827  ...     4       2\n",
              "            2014B                          4         536  ...     4       2\n",
              "            2014J                          4         935  ...     4       2\n",
              "FFF         2013B                         12        1371  ...     6       3\n",
              "            2013J                         12        1874  ...     6       3\n",
              "            2014B                         12        1206  ...     6       3\n",
              "            2014J                         12        1843  ...     6       3\n",
              "GGG         2013J                          9         819  ...     4       1\n",
              "            2014B                          9         689  ...     4       1\n",
              "            2014J                          9         604  ...     4       1\n",
              "\n",
              "[22 rows x 8 columns]"
            ]
          },
          "metadata": {
            "tags": []
          },
          "execution_count": 33
        }
      ]
    },
    {
      "cell_type": "markdown",
      "metadata": {
        "id": "DaIWtAtBzSSe"
      },
      "source": [
        "Yes, they do and this varies from 4 to 14. It doesn't make sense to add all assessments information to the related students. It would end up having around 6 columns with NaN values up to ~97% of the data.\n",
        "  \n",
        "So, I need to engineer the features and come up with new features anonymous to assessment number in a course"
      ]
    },
    {
      "cell_type": "code",
      "metadata": {
        "id": "juUDZvLbdkdz"
      },
      "source": [
        "# avg_score: Student's avg score calculated with weights\n",
        "# first_score: Student's first score\n",
        "# mean_score: Average of the student's all scores (calculated without weights)\n",
        "# last_score: Student's last score\n",
        "# score_std: Standard deviation of the student's scores\n",
        "# min_weight_score: Student's score on min weighted assignment\n",
        "# max_weight_score: Student's score on max weighted assignment\n",
        "# submit_delta: Total difference from student's submit days to the actual deadline\n",
        "# submit_delta_std: Standard deviation of `submit_delta`\n",
        "# num_banked: Total number of banked scores\n",
        "# has_exam: `True` if course has an exam and `False` if not\n",
        "# num_of_assmnt: Total number of assessments student takes at the course"
      ],
      "execution_count": null,
      "outputs": []
    },
    {
      "cell_type": "markdown",
      "metadata": {
        "id": "pj8FDp92mZj6"
      },
      "source": [
        "#### NaN date values on `Exam` column\n",
        "Some exams have no date. And for such rows its commented as _\"If the information about the final exam date is missing, it is at the end of the last presentation week.\"_ So I need to fill with final date of the presentation to the NaN values.  \n",
        "Does all values with date NaN are exams or are there any other missing info?"
      ]
    },
    {
      "cell_type": "code",
      "metadata": {
        "colab": {
          "base_uri": "https://localhost:8080/"
        },
        "id": "DFbNQGmdbE-a",
        "outputId": "e516e7db-bd9a-42e0-b392-3a940d12bf67"
      },
      "source": [
        "student_assessment[student_assessment['date'].isna()]['assessment_type'].unique()"
      ],
      "execution_count": null,
      "outputs": [
        {
          "output_type": "execute_result",
          "data": {
            "text/plain": [
              "array(['Exam'], dtype=object)"
            ]
          },
          "metadata": {
            "tags": []
          },
          "execution_count": 35
        }
      ]
    },
    {
      "cell_type": "markdown",
      "metadata": {
        "id": "tUUAEPnlcNz9"
      },
      "source": [
        "Since all the NaN values are only on exams these valuese can be filled with final date from course table"
      ]
    },
    {
      "cell_type": "code",
      "metadata": {
        "id": "1ExC8Av8cbI3"
      },
      "source": [
        "_idx = ['code_module', 'code_presentation']\n",
        "end_dates = raw_courses.set_index(_idx)['module_presentation_length']\n",
        "student_assessment.set_index(_idx, inplace=True)\n",
        "student_assessment['date'].fillna(end_dates, inplace=True)\n",
        "student_assessment.reset_index(inplace=True)"
      ],
      "execution_count": null,
      "outputs": []
    },
    {
      "cell_type": "code",
      "metadata": {
        "colab": {
          "base_uri": "https://localhost:8080/"
        },
        "id": "t3MiSdv6pRf_",
        "outputId": "dc5dfb0f-be7b-45b3-d15b-6a5308df3059"
      },
      "source": [
        "student_assessment['date'].isna().sum()"
      ],
      "execution_count": null,
      "outputs": [
        {
          "output_type": "execute_result",
          "data": {
            "text/plain": [
              "0"
            ]
          },
          "metadata": {
            "tags": []
          },
          "execution_count": 37
        }
      ]
    },
    {
      "cell_type": "markdown",
      "metadata": {
        "id": "YT7lnVaepVUl"
      },
      "source": [
        "Filled all NaN values on `date` column with presentation end date\n"
      ]
    },
    {
      "cell_type": "markdown",
      "metadata": {
        "id": "fnlNsBOLszmU"
      },
      "source": [
        "#### Calculating student specific features"
      ]
    },
    {
      "cell_type": "markdown",
      "metadata": {
        "id": "p-KP__49Olq1"
      },
      "source": [
        "##### TODO: Find a better naming\n"
      ]
    },
    {
      "cell_type": "code",
      "metadata": {
        "id": "jG1mD2aRPxVT"
      },
      "source": [
        "# Setting up the new DataFrame\n",
        "student_assessment_reduced = pd.DataFrame()\n",
        "\n",
        "# The new Dataframe will be created by grouping and aggregations of some \n",
        "# features in `student_assessment` table\n",
        "_grouper = ['id_student', 'code_presentation', 'code_module']\n",
        "grouped_assessment = student_assessment.groupby(_grouper)\n",
        "\n",
        "# Calculating `avg_score`\n",
        "_score = student_assessment.set_index(_grouper).score\n",
        "_weight = student_assessment.set_index(_grouper).weight\n",
        "# Total weight is not 100 for all courses\n",
        "_total_weight = (student_assessment\n",
        "                 .groupby(_grouper)\n",
        "                 .sum()\n",
        "                 .weight)\n",
        "student_assessment_reduced['avg_score'] = ((_score *_weight / _total_weight)\n",
        "                                            .groupby(_grouper)\n",
        "                                            .sum())\n",
        "\n",
        "# Calculating `first_score`\n",
        "student_assessment_reduced['first_score'] = (grouped_assessment\n",
        "                                             .first()\n",
        "                                             .score)\n",
        "\n",
        "# Calculating `mean_score`\n",
        "student_assessment_reduced['mean_score'] = (grouped_assessment\n",
        "                                           .mean()\n",
        "                                           .score)\n",
        "\n",
        "# Calculating `last_score`\n",
        "student_assessment_reduced['last_score'] = (grouped_assessment\n",
        "                                            .last()\n",
        "                                            .score)\n",
        "\n",
        "# Calculating `score_std`\n",
        "student_assessment_reduced['score_std'] = (grouped_assessment\n",
        "                                           .std()\n",
        "                                           .score)\n",
        "\n",
        "# Calculating `min_weight_score`\n",
        "student_assessment_reduced['min_weight_score'] = (grouped_assessment\n",
        "                                                  .min('weight')\n",
        "                                                  .score)\n",
        "\n",
        "# Calculating `max_weight_score`\n",
        "student_assessment_reduced['max_weight_score'] = (grouped_assessment\n",
        "                                                  .max('weight')\n",
        "                                                  .score)\n",
        "\n",
        "# `submit_delta`, `submit_delta_std` \n",
        "delta = (student_assessment.set_index(_grouper).date - student_assessment.set_index(_grouper).date_submitted)\n",
        "student_assessment_reduced['submit_delta'] = delta.groupby(by=_grouper).sum()\n",
        "student_assessment_reduced['submit_delta_std'] = delta.groupby(by=_grouper).std()\n",
        "\n",
        "# `num_banked`\n",
        "student_assessment_reduced['num_banked'] = (grouped_assessment\n",
        "                                            .sum()\n",
        "                                            .is_banked)\n",
        "\n",
        "# `has_exam`\n",
        "student_assessment_reduced['has_exam'] = (student_assessment.set_index(_grouper)['assessment_type'] == 'Exam').groupby(_grouper).sum()\n",
        "\n",
        "# `num_of_assmnt`\n",
        "student_assessment_reduced['num_of_assmnt'] = (grouped_assessment\n",
        "                                               .nunique()\n",
        "                                               .id_assessment)"
      ],
      "execution_count": null,
      "outputs": []
    },
    {
      "cell_type": "markdown",
      "metadata": {
        "id": "4MxxHWRqp0iL"
      },
      "source": [
        "#### Check for aggregated values"
      ]
    },
    {
      "cell_type": "code",
      "metadata": {
        "id": "sxvpcZc154r1"
      },
      "source": [
        "_rand_stud = np.random.choice(students_with_multip_course['id_student'])"
      ],
      "execution_count": null,
      "outputs": []
    },
    {
      "cell_type": "code",
      "metadata": {
        "colab": {
          "base_uri": "https://localhost:8080/",
          "height": 195
        },
        "id": "X5QLEG3Th5UN",
        "outputId": "88af7174-4d0f-4a8b-d82c-d4ef67195ea9"
      },
      "source": [
        "student_assessment_reduced.loc[_rand_stud]"
      ],
      "execution_count": null,
      "outputs": [
        {
          "output_type": "execute_result",
          "data": {
            "text/html": [
              "<div>\n",
              "<style scoped>\n",
              "    .dataframe tbody tr th:only-of-type {\n",
              "        vertical-align: middle;\n",
              "    }\n",
              "\n",
              "    .dataframe tbody tr th {\n",
              "        vertical-align: top;\n",
              "    }\n",
              "\n",
              "    .dataframe thead th {\n",
              "        text-align: right;\n",
              "    }\n",
              "</style>\n",
              "<table border=\"1\" class=\"dataframe\">\n",
              "  <thead>\n",
              "    <tr style=\"text-align: right;\">\n",
              "      <th></th>\n",
              "      <th></th>\n",
              "      <th>avg_score</th>\n",
              "      <th>first_score</th>\n",
              "      <th>mean_score</th>\n",
              "      <th>last_score</th>\n",
              "      <th>score_std</th>\n",
              "      <th>min_weight_score</th>\n",
              "      <th>max_weight_score</th>\n",
              "      <th>submit_delta</th>\n",
              "      <th>submit_delta_std</th>\n",
              "      <th>num_banked</th>\n",
              "      <th>has_exam</th>\n",
              "      <th>num_of_assmnt</th>\n",
              "    </tr>\n",
              "    <tr>\n",
              "      <th>code_presentation</th>\n",
              "      <th>code_module</th>\n",
              "      <th></th>\n",
              "      <th></th>\n",
              "      <th></th>\n",
              "      <th></th>\n",
              "      <th></th>\n",
              "      <th></th>\n",
              "      <th></th>\n",
              "      <th></th>\n",
              "      <th></th>\n",
              "      <th></th>\n",
              "      <th></th>\n",
              "      <th></th>\n",
              "    </tr>\n",
              "  </thead>\n",
              "  <tbody>\n",
              "    <tr>\n",
              "      <th rowspan=\"2\" valign=\"top\">2014B</th>\n",
              "      <th>CCC</th>\n",
              "      <td>45.454545</td>\n",
              "      <td>40.0</td>\n",
              "      <td>55.0</td>\n",
              "      <td>70.0</td>\n",
              "      <td>21.213203</td>\n",
              "      <td>40.0</td>\n",
              "      <td>70.0</td>\n",
              "      <td>-2.0</td>\n",
              "      <td>1.414214</td>\n",
              "      <td>0</td>\n",
              "      <td>0</td>\n",
              "      <td>2</td>\n",
              "    </tr>\n",
              "    <tr>\n",
              "      <th>FFF</th>\n",
              "      <td>88.000000</td>\n",
              "      <td>88.0</td>\n",
              "      <td>88.0</td>\n",
              "      <td>88.0</td>\n",
              "      <td>NaN</td>\n",
              "      <td>88.0</td>\n",
              "      <td>88.0</td>\n",
              "      <td>1.0</td>\n",
              "      <td>NaN</td>\n",
              "      <td>0</td>\n",
              "      <td>0</td>\n",
              "      <td>1</td>\n",
              "    </tr>\n",
              "    <tr>\n",
              "      <th>2014J</th>\n",
              "      <th>FFF</th>\n",
              "      <td>64.000000</td>\n",
              "      <td>66.0</td>\n",
              "      <td>62.0</td>\n",
              "      <td>60.0</td>\n",
              "      <td>12.543258</td>\n",
              "      <td>46.0</td>\n",
              "      <td>76.0</td>\n",
              "      <td>-16.0</td>\n",
              "      <td>6.879922</td>\n",
              "      <td>0</td>\n",
              "      <td>0</td>\n",
              "      <td>4</td>\n",
              "    </tr>\n",
              "  </tbody>\n",
              "</table>\n",
              "</div>"
            ],
            "text/plain": [
              "                               avg_score  first_score  ...  has_exam  num_of_assmnt\n",
              "code_presentation code_module                          ...                         \n",
              "2014B             CCC          45.454545         40.0  ...         0              2\n",
              "                  FFF          88.000000         88.0  ...         0              1\n",
              "2014J             FFF          64.000000         66.0  ...         0              4\n",
              "\n",
              "[3 rows x 12 columns]"
            ]
          },
          "metadata": {
            "tags": []
          },
          "execution_count": 60
        }
      ]
    },
    {
      "cell_type": "code",
      "metadata": {
        "colab": {
          "base_uri": "https://localhost:8080/",
          "height": 300
        },
        "id": "tH6JxiIjtGwF",
        "outputId": "a5e105b1-06ca-4437-f68d-a0c30db84f27"
      },
      "source": [
        "student_assessment.set_index('id_student').loc[_rand_stud]"
      ],
      "execution_count": null,
      "outputs": [
        {
          "output_type": "execute_result",
          "data": {
            "text/html": [
              "<div>\n",
              "<style scoped>\n",
              "    .dataframe tbody tr th:only-of-type {\n",
              "        vertical-align: middle;\n",
              "    }\n",
              "\n",
              "    .dataframe tbody tr th {\n",
              "        vertical-align: top;\n",
              "    }\n",
              "\n",
              "    .dataframe thead th {\n",
              "        text-align: right;\n",
              "    }\n",
              "</style>\n",
              "<table border=\"1\" class=\"dataframe\">\n",
              "  <thead>\n",
              "    <tr style=\"text-align: right;\">\n",
              "      <th></th>\n",
              "      <th>code_module</th>\n",
              "      <th>code_presentation</th>\n",
              "      <th>id_assessment</th>\n",
              "      <th>date_submitted</th>\n",
              "      <th>is_banked</th>\n",
              "      <th>score</th>\n",
              "      <th>assessment_type</th>\n",
              "      <th>date</th>\n",
              "      <th>weight</th>\n",
              "    </tr>\n",
              "    <tr>\n",
              "      <th>id_student</th>\n",
              "      <th></th>\n",
              "      <th></th>\n",
              "      <th></th>\n",
              "      <th></th>\n",
              "      <th></th>\n",
              "      <th></th>\n",
              "      <th></th>\n",
              "      <th></th>\n",
              "      <th></th>\n",
              "    </tr>\n",
              "  </thead>\n",
              "  <tbody>\n",
              "    <tr>\n",
              "      <th>2558365</th>\n",
              "      <td>CCC</td>\n",
              "      <td>2014B</td>\n",
              "      <td>24282</td>\n",
              "      <td>32</td>\n",
              "      <td>0</td>\n",
              "      <td>40.0</td>\n",
              "      <td>TMA</td>\n",
              "      <td>32.0</td>\n",
              "      <td>9.0</td>\n",
              "    </tr>\n",
              "    <tr>\n",
              "      <th>2558365</th>\n",
              "      <td>CCC</td>\n",
              "      <td>2014B</td>\n",
              "      <td>24286</td>\n",
              "      <td>20</td>\n",
              "      <td>0</td>\n",
              "      <td>70.0</td>\n",
              "      <td>CMA</td>\n",
              "      <td>18.0</td>\n",
              "      <td>2.0</td>\n",
              "    </tr>\n",
              "    <tr>\n",
              "      <th>2558365</th>\n",
              "      <td>FFF</td>\n",
              "      <td>2014B</td>\n",
              "      <td>34886</td>\n",
              "      <td>23</td>\n",
              "      <td>0</td>\n",
              "      <td>88.0</td>\n",
              "      <td>TMA</td>\n",
              "      <td>24.0</td>\n",
              "      <td>12.5</td>\n",
              "    </tr>\n",
              "    <tr>\n",
              "      <th>2558365</th>\n",
              "      <td>FFF</td>\n",
              "      <td>2014J</td>\n",
              "      <td>34899</td>\n",
              "      <td>38</td>\n",
              "      <td>0</td>\n",
              "      <td>66.0</td>\n",
              "      <td>TMA</td>\n",
              "      <td>24.0</td>\n",
              "      <td>12.5</td>\n",
              "    </tr>\n",
              "    <tr>\n",
              "      <th>2558365</th>\n",
              "      <td>FFF</td>\n",
              "      <td>2014J</td>\n",
              "      <td>34900</td>\n",
              "      <td>51</td>\n",
              "      <td>0</td>\n",
              "      <td>46.0</td>\n",
              "      <td>TMA</td>\n",
              "      <td>52.0</td>\n",
              "      <td>12.5</td>\n",
              "    </tr>\n",
              "    <tr>\n",
              "      <th>2558365</th>\n",
              "      <td>FFF</td>\n",
              "      <td>2014J</td>\n",
              "      <td>34901</td>\n",
              "      <td>97</td>\n",
              "      <td>0</td>\n",
              "      <td>76.0</td>\n",
              "      <td>TMA</td>\n",
              "      <td>94.0</td>\n",
              "      <td>25.0</td>\n",
              "    </tr>\n",
              "    <tr>\n",
              "      <th>2558365</th>\n",
              "      <td>FFF</td>\n",
              "      <td>2014J</td>\n",
              "      <td>34902</td>\n",
              "      <td>136</td>\n",
              "      <td>0</td>\n",
              "      <td>60.0</td>\n",
              "      <td>TMA</td>\n",
              "      <td>136.0</td>\n",
              "      <td>25.0</td>\n",
              "    </tr>\n",
              "  </tbody>\n",
              "</table>\n",
              "</div>"
            ],
            "text/plain": [
              "           code_module code_presentation  ...   date  weight\n",
              "id_student                                ...               \n",
              "2558365            CCC             2014B  ...   32.0     9.0\n",
              "2558365            CCC             2014B  ...   18.0     2.0\n",
              "2558365            FFF             2014B  ...   24.0    12.5\n",
              "2558365            FFF             2014J  ...   24.0    12.5\n",
              "2558365            FFF             2014J  ...   52.0    12.5\n",
              "2558365            FFF             2014J  ...   94.0    25.0\n",
              "2558365            FFF             2014J  ...  136.0    25.0\n",
              "\n",
              "[7 rows x 9 columns]"
            ]
          },
          "metadata": {
            "tags": []
          },
          "execution_count": 61
        }
      ]
    },
    {
      "cell_type": "markdown",
      "metadata": {
        "id": "j5KQdSsPlA2M"
      },
      "source": [
        "### Preparing `student_vle`\n",
        "Thse table will bring up student activity on virtual learning platform. Such as, `activity_type` or `sum_click`"
      ]
    },
    {
      "cell_type": "code",
      "metadata": {
        "id": "ZK8EGGRFlI9c"
      },
      "source": [
        "student_vle = (\n",
        "    grouped_student_vle.set_index(['code_module', 'code_presentation', 'id_site'])\n",
        "    .join(raw_vle.set_index(['code_module', 'code_presentation', 'id_site']))\n",
        ").reset_index()"
      ],
      "execution_count": null,
      "outputs": []
    },
    {
      "cell_type": "code",
      "metadata": {
        "colab": {
          "base_uri": "https://localhost:8080/",
          "height": 206
        },
        "id": "i7ruFxoLmpkg",
        "outputId": "a10b024e-9803-4862-90f2-c0f43f7b01e6"
      },
      "source": [
        "student_vle.head()"
      ],
      "execution_count": null,
      "outputs": [
        {
          "output_type": "execute_result",
          "data": {
            "text/html": [
              "<div>\n",
              "<style scoped>\n",
              "    .dataframe tbody tr th:only-of-type {\n",
              "        vertical-align: middle;\n",
              "    }\n",
              "\n",
              "    .dataframe tbody tr th {\n",
              "        vertical-align: top;\n",
              "    }\n",
              "\n",
              "    .dataframe thead th {\n",
              "        text-align: right;\n",
              "    }\n",
              "</style>\n",
              "<table border=\"1\" class=\"dataframe\">\n",
              "  <thead>\n",
              "    <tr style=\"text-align: right;\">\n",
              "      <th></th>\n",
              "      <th>code_module</th>\n",
              "      <th>code_presentation</th>\n",
              "      <th>id_site</th>\n",
              "      <th>id_student</th>\n",
              "      <th>date</th>\n",
              "      <th>sum_click</th>\n",
              "      <th>activity_type</th>\n",
              "      <th>week_from</th>\n",
              "      <th>week_to</th>\n",
              "    </tr>\n",
              "  </thead>\n",
              "  <tbody>\n",
              "    <tr>\n",
              "      <th>0</th>\n",
              "      <td>AAA</td>\n",
              "      <td>2013J</td>\n",
              "      <td>546614</td>\n",
              "      <td>11391</td>\n",
              "      <td>-5</td>\n",
              "      <td>7</td>\n",
              "      <td>homepage</td>\n",
              "      <td>NaN</td>\n",
              "      <td>NaN</td>\n",
              "    </tr>\n",
              "    <tr>\n",
              "      <th>1</th>\n",
              "      <td>AAA</td>\n",
              "      <td>2013J</td>\n",
              "      <td>546614</td>\n",
              "      <td>11391</td>\n",
              "      <td>0</td>\n",
              "      <td>10</td>\n",
              "      <td>homepage</td>\n",
              "      <td>NaN</td>\n",
              "      <td>NaN</td>\n",
              "    </tr>\n",
              "    <tr>\n",
              "      <th>2</th>\n",
              "      <td>AAA</td>\n",
              "      <td>2013J</td>\n",
              "      <td>546614</td>\n",
              "      <td>11391</td>\n",
              "      <td>1</td>\n",
              "      <td>9</td>\n",
              "      <td>homepage</td>\n",
              "      <td>NaN</td>\n",
              "      <td>NaN</td>\n",
              "    </tr>\n",
              "    <tr>\n",
              "      <th>3</th>\n",
              "      <td>AAA</td>\n",
              "      <td>2013J</td>\n",
              "      <td>546614</td>\n",
              "      <td>11391</td>\n",
              "      <td>2</td>\n",
              "      <td>3</td>\n",
              "      <td>homepage</td>\n",
              "      <td>NaN</td>\n",
              "      <td>NaN</td>\n",
              "    </tr>\n",
              "    <tr>\n",
              "      <th>4</th>\n",
              "      <td>AAA</td>\n",
              "      <td>2013J</td>\n",
              "      <td>546614</td>\n",
              "      <td>11391</td>\n",
              "      <td>6</td>\n",
              "      <td>1</td>\n",
              "      <td>homepage</td>\n",
              "      <td>NaN</td>\n",
              "      <td>NaN</td>\n",
              "    </tr>\n",
              "  </tbody>\n",
              "</table>\n",
              "</div>"
            ],
            "text/plain": [
              "  code_module code_presentation  id_site  ...  activity_type  week_from  week_to\n",
              "0         AAA             2013J   546614  ...       homepage        NaN      NaN\n",
              "1         AAA             2013J   546614  ...       homepage        NaN      NaN\n",
              "2         AAA             2013J   546614  ...       homepage        NaN      NaN\n",
              "3         AAA             2013J   546614  ...       homepage        NaN      NaN\n",
              "4         AAA             2013J   546614  ...       homepage        NaN      NaN\n",
              "\n",
              "[5 rows x 9 columns]"
            ]
          },
          "metadata": {
            "tags": []
          },
          "execution_count": 42
        }
      ]
    },
    {
      "cell_type": "markdown",
      "metadata": {
        "id": "-bqAbbjEnYCG"
      },
      "source": [
        "At this point there are multiple entries for a `code_module`, `code_presentation`, `id_student`. So this table can not be added to `student_info`. I need to come up with some aggregation for student activity"
      ]
    },
    {
      "cell_type": "markdown",
      "metadata": {
        "id": "d1EbPui3zKZz"
      },
      "source": [
        "What are the most common activity types?"
      ]
    },
    {
      "cell_type": "code",
      "metadata": {
        "colab": {
          "base_uri": "https://localhost:8080/",
          "height": 343
        },
        "id": "GCJmGDBldnlV",
        "outputId": "dbd9f9ea-a64c-4a7b-bcba-65669f0c1971"
      },
      "source": [
        "(student_vle['activity_type']\r\n",
        " .value_counts()\r\n",
        " .plot(kind='bar')\r\n",
        " );"
      ],
      "execution_count": null,
      "outputs": [
        {
          "output_type": "display_data",
          "data": {
            "image/png": "[encoded data removed]",
            "text/plain": [
              "<Figure size 432x288 with 1 Axes>"
            ]
          },
          "metadata": {
            "tags": [],
            "needs_background": "light"
          }
        }
      ]
    },
    {
      "cell_type": "markdown",
      "metadata": {
        "id": "vgJ2HqQizOLW"
      },
      "source": [
        "What are the most clicked activity types?"
      ]
    },
    {
      "cell_type": "code",
      "metadata": {
        "colab": {
          "base_uri": "https://localhost:8080/",
          "height": 358
        },
        "id": "VFgdeH8ozTS6",
        "outputId": "8e9f1f53-6188-4329-f06f-4f4c30647221"
      },
      "source": [
        "(student_vle\r\n",
        " .groupby('activity_type')\r\n",
        " .sum()\r\n",
        " .sort_values('sum_click', ascending=False)\r\n",
        " .sum_click\r\n",
        " .plot(kind='bar')\r\n",
        " );"
      ],
      "execution_count": null,
      "outputs": [
        {
          "output_type": "display_data",
          "data": {
            "image/png": "[encoded data removed]",
            "text/plain": [
              "<Figure size 432x288 with 1 Axes>"
            ]
          },
          "metadata": {
            "tags": [],
            "needs_background": "light"
          }
        }
      ]
    },
    {
      "cell_type": "markdown",
      "metadata": {
        "id": "3PjceYqX0hq-"
      },
      "source": [
        "Eight columns carries the most of the data. So, I'll use only them"
      ]
    },
    {
      "cell_type": "code",
      "metadata": {
        "id": "i84LYeLqeB28"
      },
      "source": [
        "_df = student_vle.groupby(['id_student', 'code_module', 'code_presentation', 'activity_type']).sum('sum_click').reset_index()\n",
        "student_vle_activity = _df.pivot(index= ['id_student', 'code_module', 'code_presentation'], columns='activity_type', values='sum_click')\n",
        "student_vle_activity = student_vle_activity[['subpage', 'forumng', 'homepage', 'oucontent', 'ouwiki', 'quiz', 'resource', 'subpage', 'url']]"
      ],
      "execution_count": null,
      "outputs": []
    },
    {
      "cell_type": "code",
      "metadata": {
        "colab": {
          "base_uri": "https://localhost:8080/",
          "height": 238
        },
        "id": "rpcyB1gZymwC",
        "outputId": "211a27ea-da70-4b20-f664-95faa4af2d47"
      },
      "source": [
        "student_vle_activity.fillna(0, inplace=True)\r\n",
        "student_vle_activity.head()"
      ],
      "execution_count": null,
      "outputs": [
        {
          "output_type": "execute_result",
          "data": {
            "text/html": [
              "<div>\n",
              "<style scoped>\n",
              "    .dataframe tbody tr th:only-of-type {\n",
              "        vertical-align: middle;\n",
              "    }\n",
              "\n",
              "    .dataframe tbody tr th {\n",
              "        vertical-align: top;\n",
              "    }\n",
              "\n",
              "    .dataframe thead th {\n",
              "        text-align: right;\n",
              "    }\n",
              "</style>\n",
              "<table border=\"1\" class=\"dataframe\">\n",
              "  <thead>\n",
              "    <tr style=\"text-align: right;\">\n",
              "      <th></th>\n",
              "      <th></th>\n",
              "      <th>activity_type</th>\n",
              "      <th>subpage</th>\n",
              "      <th>forumng</th>\n",
              "      <th>homepage</th>\n",
              "      <th>oucontent</th>\n",
              "      <th>ouwiki</th>\n",
              "      <th>quiz</th>\n",
              "      <th>resource</th>\n",
              "      <th>subpage</th>\n",
              "      <th>url</th>\n",
              "    </tr>\n",
              "    <tr>\n",
              "      <th>id_student</th>\n",
              "      <th>code_module</th>\n",
              "      <th>code_presentation</th>\n",
              "      <th></th>\n",
              "      <th></th>\n",
              "      <th></th>\n",
              "      <th></th>\n",
              "      <th></th>\n",
              "      <th></th>\n",
              "      <th></th>\n",
              "      <th></th>\n",
              "      <th></th>\n",
              "    </tr>\n",
              "  </thead>\n",
              "  <tbody>\n",
              "    <tr>\n",
              "      <th>6516</th>\n",
              "      <th>AAA</th>\n",
              "      <th>2014J</th>\n",
              "      <td>143.0</td>\n",
              "      <td>451.0</td>\n",
              "      <td>497.0</td>\n",
              "      <td>1505.0</td>\n",
              "      <td>0.0</td>\n",
              "      <td>0.0</td>\n",
              "      <td>31.0</td>\n",
              "      <td>143.0</td>\n",
              "      <td>143.0</td>\n",
              "    </tr>\n",
              "    <tr>\n",
              "      <th rowspan=\"2\" valign=\"top\">8462</th>\n",
              "      <th rowspan=\"2\" valign=\"top\">DDD</th>\n",
              "      <th>2013J</th>\n",
              "      <td>227.0</td>\n",
              "      <td>36.0</td>\n",
              "      <td>184.0</td>\n",
              "      <td>64.0</td>\n",
              "      <td>18.0</td>\n",
              "      <td>0.0</td>\n",
              "      <td>70.0</td>\n",
              "      <td>227.0</td>\n",
              "      <td>23.0</td>\n",
              "    </tr>\n",
              "    <tr>\n",
              "      <th>2014J</th>\n",
              "      <td>0.0</td>\n",
              "      <td>2.0</td>\n",
              "      <td>7.0</td>\n",
              "      <td>0.0</td>\n",
              "      <td>0.0</td>\n",
              "      <td>0.0</td>\n",
              "      <td>0.0</td>\n",
              "      <td>0.0</td>\n",
              "      <td>0.0</td>\n",
              "    </tr>\n",
              "    <tr>\n",
              "      <th>11391</th>\n",
              "      <th>AAA</th>\n",
              "      <th>2013J</th>\n",
              "      <td>32.0</td>\n",
              "      <td>193.0</td>\n",
              "      <td>138.0</td>\n",
              "      <td>553.0</td>\n",
              "      <td>0.0</td>\n",
              "      <td>0.0</td>\n",
              "      <td>13.0</td>\n",
              "      <td>32.0</td>\n",
              "      <td>5.0</td>\n",
              "    </tr>\n",
              "    <tr>\n",
              "      <th>23629</th>\n",
              "      <th>BBB</th>\n",
              "      <th>2013B</th>\n",
              "      <td>5.0</td>\n",
              "      <td>87.0</td>\n",
              "      <td>36.0</td>\n",
              "      <td>0.0</td>\n",
              "      <td>0.0</td>\n",
              "      <td>31.0</td>\n",
              "      <td>2.0</td>\n",
              "      <td>5.0</td>\n",
              "      <td>0.0</td>\n",
              "    </tr>\n",
              "  </tbody>\n",
              "</table>\n",
              "</div>"
            ],
            "text/plain": [
              "activity_type                             subpage  forumng  ...  subpage    url\n",
              "id_student code_module code_presentation                    ...                \n",
              "6516       AAA         2014J                143.0    451.0  ...    143.0  143.0\n",
              "8462       DDD         2013J                227.0     36.0  ...    227.0   23.0\n",
              "                       2014J                  0.0      2.0  ...      0.0    0.0\n",
              "11391      AAA         2013J                 32.0    193.0  ...     32.0    5.0\n",
              "23629      BBB         2013B                  5.0     87.0  ...      5.0    0.0\n",
              "\n",
              "[5 rows x 9 columns]"
            ]
          },
          "metadata": {
            "tags": []
          },
          "execution_count": 46
        }
      ]
    },
    {
      "cell_type": "markdown",
      "metadata": {
        "id": "MPPZL4MPkAkb"
      },
      "source": [
        "### Preparing `courses` \n",
        "This table will bring up `module_presentation_length` informaiton"
      ]
    },
    {
      "cell_type": "code",
      "metadata": {
        "id": "WAxeTpTpkPwl"
      },
      "source": [
        "courses = raw_courses.set_index(['code_module', 'code_presentation'])"
      ],
      "execution_count": null,
      "outputs": []
    },
    {
      "cell_type": "markdown",
      "metadata": {
        "id": "iEIFCTrmqeEP"
      },
      "source": [
        "### Preparing `student_register`"
      ]
    },
    {
      "cell_type": "code",
      "metadata": {
        "id": "HuECBqV6qiKo"
      },
      "source": [
        "student_register = raw_student_register.set_index(['code_module', 'code_presentation', 'id_student'])"
      ],
      "execution_count": null,
      "outputs": []
    },
    {
      "cell_type": "markdown",
      "metadata": {
        "id": "Zh6ZVKReqrSf"
      },
      "source": [
        "### Final Join "
      ]
    },
    {
      "cell_type": "code",
      "metadata": {
        "id": "xUwBdx8Oqvj1"
      },
      "source": [
        "attempt = (\n",
        "    raw_student_info\n",
        "    .set_index(['code_module', 'code_presentation', 'id_student'])\n",
        "    .join(courses)\n",
        "    .join(student_register)\n",
        "    .join(student_assessment_reduced)\n",
        "    .join(student_vle_activity)\n",
        ") "
      ],
      "execution_count": null,
      "outputs": []
    },
    {
      "cell_type": "code",
      "metadata": {
        "id": "kKhOpCIhratt",
        "colab": {
          "base_uri": "https://localhost:8080/",
          "height": 397
        },
        "outputId": "4e5f556e-9dcf-4dc4-8d11-ca5e5bbd3e4b"
      },
      "source": [
        "attempt.head()"
      ],
      "execution_count": null,
      "outputs": [
        {
          "output_type": "execute_result",
          "data": {
            "text/html": [
              "<div>\n",
              "<style scoped>\n",
              "    .dataframe tbody tr th:only-of-type {\n",
              "        vertical-align: middle;\n",
              "    }\n",
              "\n",
              "    .dataframe tbody tr th {\n",
              "        vertical-align: top;\n",
              "    }\n",
              "\n",
              "    .dataframe thead th {\n",
              "        text-align: right;\n",
              "    }\n",
              "</style>\n",
              "<table border=\"1\" class=\"dataframe\">\n",
              "  <thead>\n",
              "    <tr style=\"text-align: right;\">\n",
              "      <th></th>\n",
              "      <th></th>\n",
              "      <th></th>\n",
              "      <th>gender</th>\n",
              "      <th>region</th>\n",
              "      <th>highest_education</th>\n",
              "      <th>imd_band</th>\n",
              "      <th>age_band</th>\n",
              "      <th>num_of_prev_attempts</th>\n",
              "      <th>studied_credits</th>\n",
              "      <th>disability</th>\n",
              "      <th>final_result</th>\n",
              "      <th>module_presentation_length</th>\n",
              "      <th>date_registration</th>\n",
              "      <th>date_unregistration</th>\n",
              "      <th>avg_score</th>\n",
              "      <th>first_score</th>\n",
              "      <th>mean_score</th>\n",
              "      <th>last_score</th>\n",
              "      <th>score_std</th>\n",
              "      <th>min_weight_score</th>\n",
              "      <th>max_weight_score</th>\n",
              "      <th>submit_delta</th>\n",
              "      <th>submit_delta_std</th>\n",
              "      <th>num_banked</th>\n",
              "      <th>has_exam</th>\n",
              "      <th>num_of_assmnt</th>\n",
              "      <th>subpage</th>\n",
              "      <th>forumng</th>\n",
              "      <th>homepage</th>\n",
              "      <th>oucontent</th>\n",
              "      <th>ouwiki</th>\n",
              "      <th>quiz</th>\n",
              "      <th>resource</th>\n",
              "      <th>subpage</th>\n",
              "      <th>url</th>\n",
              "    </tr>\n",
              "    <tr>\n",
              "      <th>code_module</th>\n",
              "      <th>code_presentation</th>\n",
              "      <th>id_student</th>\n",
              "      <th></th>\n",
              "      <th></th>\n",
              "      <th></th>\n",
              "      <th></th>\n",
              "      <th></th>\n",
              "      <th></th>\n",
              "      <th></th>\n",
              "      <th></th>\n",
              "      <th></th>\n",
              "      <th></th>\n",
              "      <th></th>\n",
              "      <th></th>\n",
              "      <th></th>\n",
              "      <th></th>\n",
              "      <th></th>\n",
              "      <th></th>\n",
              "      <th></th>\n",
              "      <th></th>\n",
              "      <th></th>\n",
              "      <th></th>\n",
              "      <th></th>\n",
              "      <th></th>\n",
              "      <th></th>\n",
              "      <th></th>\n",
              "      <th></th>\n",
              "      <th></th>\n",
              "      <th></th>\n",
              "      <th></th>\n",
              "      <th></th>\n",
              "      <th></th>\n",
              "      <th></th>\n",
              "      <th></th>\n",
              "      <th></th>\n",
              "    </tr>\n",
              "  </thead>\n",
              "  <tbody>\n",
              "    <tr>\n",
              "      <th rowspan=\"5\" valign=\"top\">AAA</th>\n",
              "      <th rowspan=\"5\" valign=\"top\">2013J</th>\n",
              "      <th>11391</th>\n",
              "      <td>M</td>\n",
              "      <td>East Anglian Region</td>\n",
              "      <td>HE Qualification</td>\n",
              "      <td>90-100%</td>\n",
              "      <td>55&lt;=</td>\n",
              "      <td>0</td>\n",
              "      <td>240</td>\n",
              "      <td>N</td>\n",
              "      <td>Pass</td>\n",
              "      <td>268</td>\n",
              "      <td>-159.0</td>\n",
              "      <td>NaN</td>\n",
              "      <td>82.4</td>\n",
              "      <td>78.0</td>\n",
              "      <td>82.0</td>\n",
              "      <td>82.0</td>\n",
              "      <td>3.082207</td>\n",
              "      <td>78.0</td>\n",
              "      <td>85.0</td>\n",
              "      <td>9.0</td>\n",
              "      <td>0.836660</td>\n",
              "      <td>0.0</td>\n",
              "      <td>0.0</td>\n",
              "      <td>5.0</td>\n",
              "      <td>32.0</td>\n",
              "      <td>193.0</td>\n",
              "      <td>138.0</td>\n",
              "      <td>553.0</td>\n",
              "      <td>0.0</td>\n",
              "      <td>0.0</td>\n",
              "      <td>13.0</td>\n",
              "      <td>32.0</td>\n",
              "      <td>5.0</td>\n",
              "    </tr>\n",
              "    <tr>\n",
              "      <th>28400</th>\n",
              "      <td>F</td>\n",
              "      <td>Scotland</td>\n",
              "      <td>HE Qualification</td>\n",
              "      <td>20-30%</td>\n",
              "      <td>35-55</td>\n",
              "      <td>0</td>\n",
              "      <td>60</td>\n",
              "      <td>N</td>\n",
              "      <td>Pass</td>\n",
              "      <td>268</td>\n",
              "      <td>-53.0</td>\n",
              "      <td>NaN</td>\n",
              "      <td>65.4</td>\n",
              "      <td>70.0</td>\n",
              "      <td>66.4</td>\n",
              "      <td>60.0</td>\n",
              "      <td>4.335897</td>\n",
              "      <td>60.0</td>\n",
              "      <td>70.0</td>\n",
              "      <td>0.0</td>\n",
              "      <td>3.240370</td>\n",
              "      <td>0.0</td>\n",
              "      <td>0.0</td>\n",
              "      <td>5.0</td>\n",
              "      <td>87.0</td>\n",
              "      <td>417.0</td>\n",
              "      <td>324.0</td>\n",
              "      <td>537.0</td>\n",
              "      <td>0.0</td>\n",
              "      <td>0.0</td>\n",
              "      <td>12.0</td>\n",
              "      <td>87.0</td>\n",
              "      <td>48.0</td>\n",
              "    </tr>\n",
              "    <tr>\n",
              "      <th>30268</th>\n",
              "      <td>F</td>\n",
              "      <td>North Western Region</td>\n",
              "      <td>A Level or Equivalent</td>\n",
              "      <td>30-40%</td>\n",
              "      <td>35-55</td>\n",
              "      <td>0</td>\n",
              "      <td>60</td>\n",
              "      <td>Y</td>\n",
              "      <td>Withdrawn</td>\n",
              "      <td>268</td>\n",
              "      <td>-92.0</td>\n",
              "      <td>12.0</td>\n",
              "      <td>NaN</td>\n",
              "      <td>NaN</td>\n",
              "      <td>NaN</td>\n",
              "      <td>NaN</td>\n",
              "      <td>NaN</td>\n",
              "      <td>NaN</td>\n",
              "      <td>NaN</td>\n",
              "      <td>NaN</td>\n",
              "      <td>NaN</td>\n",
              "      <td>NaN</td>\n",
              "      <td>NaN</td>\n",
              "      <td>NaN</td>\n",
              "      <td>22.0</td>\n",
              "      <td>126.0</td>\n",
              "      <td>59.0</td>\n",
              "      <td>66.0</td>\n",
              "      <td>0.0</td>\n",
              "      <td>0.0</td>\n",
              "      <td>4.0</td>\n",
              "      <td>22.0</td>\n",
              "      <td>4.0</td>\n",
              "    </tr>\n",
              "    <tr>\n",
              "      <th>31604</th>\n",
              "      <td>F</td>\n",
              "      <td>South East Region</td>\n",
              "      <td>A Level or Equivalent</td>\n",
              "      <td>50-60%</td>\n",
              "      <td>35-55</td>\n",
              "      <td>0</td>\n",
              "      <td>60</td>\n",
              "      <td>N</td>\n",
              "      <td>Pass</td>\n",
              "      <td>268</td>\n",
              "      <td>-52.0</td>\n",
              "      <td>NaN</td>\n",
              "      <td>76.3</td>\n",
              "      <td>72.0</td>\n",
              "      <td>76.0</td>\n",
              "      <td>75.0</td>\n",
              "      <td>6.892024</td>\n",
              "      <td>71.0</td>\n",
              "      <td>88.0</td>\n",
              "      <td>10.0</td>\n",
              "      <td>0.707107</td>\n",
              "      <td>0.0</td>\n",
              "      <td>0.0</td>\n",
              "      <td>5.0</td>\n",
              "      <td>144.0</td>\n",
              "      <td>634.0</td>\n",
              "      <td>432.0</td>\n",
              "      <td>836.0</td>\n",
              "      <td>0.0</td>\n",
              "      <td>0.0</td>\n",
              "      <td>19.0</td>\n",
              "      <td>144.0</td>\n",
              "      <td>90.0</td>\n",
              "    </tr>\n",
              "    <tr>\n",
              "      <th>32885</th>\n",
              "      <td>F</td>\n",
              "      <td>West Midlands Region</td>\n",
              "      <td>Lower Than A Level</td>\n",
              "      <td>50-60%</td>\n",
              "      <td>0-35</td>\n",
              "      <td>0</td>\n",
              "      <td>60</td>\n",
              "      <td>N</td>\n",
              "      <td>Pass</td>\n",
              "      <td>268</td>\n",
              "      <td>-176.0</td>\n",
              "      <td>NaN</td>\n",
              "      <td>55.0</td>\n",
              "      <td>69.0</td>\n",
              "      <td>54.4</td>\n",
              "      <td>75.0</td>\n",
              "      <td>20.513410</td>\n",
              "      <td>30.0</td>\n",
              "      <td>75.0</td>\n",
              "      <td>-57.0</td>\n",
              "      <td>6.387488</td>\n",
              "      <td>0.0</td>\n",
              "      <td>0.0</td>\n",
              "      <td>5.0</td>\n",
              "      <td>79.0</td>\n",
              "      <td>194.0</td>\n",
              "      <td>204.0</td>\n",
              "      <td>494.0</td>\n",
              "      <td>0.0</td>\n",
              "      <td>0.0</td>\n",
              "      <td>45.0</td>\n",
              "      <td>79.0</td>\n",
              "      <td>14.0</td>\n",
              "    </tr>\n",
              "  </tbody>\n",
              "</table>\n",
              "</div>"
            ],
            "text/plain": [
              "                                         gender  ...   url\n",
              "code_module code_presentation id_student         ...      \n",
              "AAA         2013J             11391           M  ...   5.0\n",
              "                              28400           F  ...  48.0\n",
              "                              30268           F  ...   4.0\n",
              "                              31604           F  ...  90.0\n",
              "                              32885           F  ...  14.0\n",
              "\n",
              "[5 rows x 33 columns]"
            ]
          },
          "metadata": {
            "tags": []
          },
          "execution_count": 70
        }
      ]
    },
    {
      "cell_type": "markdown",
      "metadata": {
        "id": "D8McD_w7YE27"
      },
      "source": [
        "# Data Definition\n",
        "* Column names\n",
        "* Data types\n",
        "* Description of the columns\n",
        "* Counts and percents unique values\n",
        "* Ranges of values"
      ]
    },
    {
      "cell_type": "code",
      "metadata": {
        "id": "U8VrT10rraPW"
      },
      "source": [
        ""
      ],
      "execution_count": null,
      "outputs": []
    },
    {
      "cell_type": "markdown",
      "metadata": {
        "id": "QslkcAc2YTXo"
      },
      "source": [
        "# Data Cleaning\n",
        "* NA or missing values\n",
        "* Duplicates"
      ]
    },
    {
      "cell_type": "markdown",
      "metadata": {
        "id": "gf_Zf-75YCuj"
      },
      "source": [
        " `student_info`\n",
        "\n",
        "How a previous attempt should be considered?  Is it someting students build up their understanding in a long time? Or just another individual attempt?\n",
        " \n",
        "Can student's former attempts'  can be added to their final trial. In other words, does students learn something from failed attepmts and use it on their next trial?"
      ]
    },
    {
      "cell_type": "code",
      "metadata": {
        "id": "MYwiHlWWZDVp"
      },
      "source": [
        ""
      ],
      "execution_count": null,
      "outputs": []
    }
  ]
}
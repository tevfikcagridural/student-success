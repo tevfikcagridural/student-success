{
  "nbformat": 4,
  "nbformat_minor": 0,
  "metadata": {
    "colab": {
      "name": "Modelling.ipynb",
      "provenance": [],
      "collapsed_sections": [],
      "toc_visible": true,
      "authorship_tag": "ABX9TyNitZKUYqjeDQTZgXXl2/Ra",
      "include_colab_link": true
    },
    "kernelspec": {
      "name": "python3",
      "display_name": "Python 3"
    }
  },
  "cells": [
    {
      "cell_type": "markdown",
      "metadata": {
        "id": "view-in-github",
        "colab_type": "text"
      },
      "source": [
        "<a href=\"https://colab.research.google.com/github/tevfikcagridural/student-success/blob/master/Modelling.ipynb\" target=\"_parent\"><img src=\"https://colab.research.google.com/assets/colab-badge.svg\" alt=\"Open In Colab\"/></a>"
      ]
    },
    {
      "cell_type": "markdown",
      "metadata": {
        "id": "h7VAcsYanDrk"
      },
      "source": [
        "#Modelling\n",
        "\n",
        "---\n",
        "\n",
        "TODO: write an intro\n",
        "\n",
        "---"
      ]
    },
    {
      "cell_type": "code",
      "metadata": {
        "id": "Phv4ARoKnBMx"
      },
      "source": [
        "import time\n",
        "import numpy as np \n",
        "import pandas as pd\n",
        "import matplotlib.pyplot as plt\n",
        "import seaborn as sns\n",
        "import itertools\n",
        "from sklearn.model_selection import train_test_split\n",
        "from sklearn.model_selection import cross_val_score\n",
        "from sklearn.compose import make_column_transformer\n",
        "from sklearn.impute import SimpleImputer\n",
        "from sklearn.preprocessing import OneHotEncoder\n",
        "from sklearn.preprocessing import OrdinalEncoder\n",
        "from sklearn.preprocessing import StandardScaler\n",
        "from sklearn.pipeline import Pipeline\n",
        "from sklearn.pipeline import make_pipeline\n",
        "from sklearn.linear_model import LogisticRegression\n",
        "from sklearn.neighbors import KNeighborsClassifier\n",
        "from sklearn.svm import SVC\n",
        "from sklearn.ensemble import RandomForestClassifier\n",
        "from sklearn.ensemble import GradientBoostingClassifier\n",
        "from sklearn.naive_bayes import GaussianNB\n",
        "from sklearn.metrics import confusion_matrix\n",
        "from sklearn.metrics import f1_score\n",
        "from sklearn.metrics import accuracy_score\n",
        "from sklearn.metrics import matthews_corrcoef\n",
        "from sklearn.metrics import make_scorer "
      ],
      "execution_count": 1,
      "outputs": []
    },
    {
      "cell_type": "code",
      "metadata": {
        "id": "SGW69RU2nNv6"
      },
      "source": [
        "data = pd.read_csv('https://raw.githubusercontent.com/tevfikcagridural/student-success/master/data/interim/engineered_feature.csv',index_col=0)"
      ],
      "execution_count": 2,
      "outputs": []
    },
    {
      "cell_type": "code",
      "metadata": {
        "colab": {
          "base_uri": "https://localhost:8080/",
          "height": 167
        },
        "id": "rhAepsW9i449",
        "outputId": "1968bfb0-3aa0-44c0-a1cf-4b7e21e4c81d"
      },
      "source": [
        "data.head(2)"
      ],
      "execution_count": 3,
      "outputs": [
        {
          "output_type": "execute_result",
          "data": {
            "text/html": [
              "<div>\n",
              "<style scoped>\n",
              "    .dataframe tbody tr th:only-of-type {\n",
              "        vertical-align: middle;\n",
              "    }\n",
              "\n",
              "    .dataframe tbody tr th {\n",
              "        vertical-align: top;\n",
              "    }\n",
              "\n",
              "    .dataframe thead th {\n",
              "        text-align: right;\n",
              "    }\n",
              "</style>\n",
              "<table border=\"1\" class=\"dataframe\">\n",
              "  <thead>\n",
              "    <tr style=\"text-align: right;\">\n",
              "      <th></th>\n",
              "      <th>gender</th>\n",
              "      <th>region</th>\n",
              "      <th>highest_education</th>\n",
              "      <th>imd_band</th>\n",
              "      <th>age_band</th>\n",
              "      <th>num_of_prev_attempts</th>\n",
              "      <th>studied_credits</th>\n",
              "      <th>disability</th>\n",
              "      <th>final_result</th>\n",
              "      <th>module_presentation_length</th>\n",
              "      <th>date_registration</th>\n",
              "      <th>first_score</th>\n",
              "      <th>mean_score</th>\n",
              "      <th>last_score</th>\n",
              "      <th>min_weight_score</th>\n",
              "      <th>max_weight_score</th>\n",
              "      <th>has_exam</th>\n",
              "      <th>subpage_clicks</th>\n",
              "      <th>forumng_clicks</th>\n",
              "      <th>homepage_clicks</th>\n",
              "      <th>oucontent_clicks</th>\n",
              "      <th>ouwiki_clicks</th>\n",
              "      <th>quiz_clicks</th>\n",
              "      <th>resource_clicks</th>\n",
              "      <th>url_clicks</th>\n",
              "      <th>code_module_presentation</th>\n",
              "    </tr>\n",
              "  </thead>\n",
              "  <tbody>\n",
              "    <tr>\n",
              "      <th>0</th>\n",
              "      <td>M</td>\n",
              "      <td>East Anglian Region</td>\n",
              "      <td>HE Qualification</td>\n",
              "      <td>90-100%</td>\n",
              "      <td>55&lt;=</td>\n",
              "      <td>0</td>\n",
              "      <td>240</td>\n",
              "      <td>0</td>\n",
              "      <td>Pass</td>\n",
              "      <td>268</td>\n",
              "      <td>-159.0</td>\n",
              "      <td>78.0</td>\n",
              "      <td>82.0</td>\n",
              "      <td>82.0</td>\n",
              "      <td>78.0</td>\n",
              "      <td>85.0</td>\n",
              "      <td>0.0</td>\n",
              "      <td>32.0</td>\n",
              "      <td>193.0</td>\n",
              "      <td>138.0</td>\n",
              "      <td>553.0</td>\n",
              "      <td>0.0</td>\n",
              "      <td>0.0</td>\n",
              "      <td>13.0</td>\n",
              "      <td>5.0</td>\n",
              "      <td>AAA2013J</td>\n",
              "    </tr>\n",
              "    <tr>\n",
              "      <th>1</th>\n",
              "      <td>F</td>\n",
              "      <td>Scotland</td>\n",
              "      <td>HE Qualification</td>\n",
              "      <td>20-30%</td>\n",
              "      <td>35-55</td>\n",
              "      <td>0</td>\n",
              "      <td>60</td>\n",
              "      <td>0</td>\n",
              "      <td>Pass</td>\n",
              "      <td>268</td>\n",
              "      <td>-53.0</td>\n",
              "      <td>70.0</td>\n",
              "      <td>66.4</td>\n",
              "      <td>60.0</td>\n",
              "      <td>60.0</td>\n",
              "      <td>70.0</td>\n",
              "      <td>0.0</td>\n",
              "      <td>87.0</td>\n",
              "      <td>417.0</td>\n",
              "      <td>324.0</td>\n",
              "      <td>537.0</td>\n",
              "      <td>0.0</td>\n",
              "      <td>0.0</td>\n",
              "      <td>12.0</td>\n",
              "      <td>48.0</td>\n",
              "      <td>AAA2013J</td>\n",
              "    </tr>\n",
              "  </tbody>\n",
              "</table>\n",
              "</div>"
            ],
            "text/plain": [
              "  gender               region  ... url_clicks code_module_presentation\n",
              "0      M  East Anglian Region  ...        5.0                 AAA2013J\n",
              "1      F             Scotland  ...       48.0                 AAA2013J\n",
              "\n",
              "[2 rows x 26 columns]"
            ]
          },
          "metadata": {
            "tags": []
          },
          "execution_count": 3
        }
      ]
    },
    {
      "cell_type": "markdown",
      "metadata": {
        "id": "e-EhX0iUnTbc"
      },
      "source": [
        "# Train Test Split"
      ]
    },
    {
      "cell_type": "code",
      "metadata": {
        "id": "Pgs8B75Un0VD"
      },
      "source": [
        "X = data.drop(columns='final_result')\n",
        "y = data['final_result']"
      ],
      "execution_count": 4,
      "outputs": []
    },
    {
      "cell_type": "code",
      "metadata": {
        "id": "OwWklPyynVN9"
      },
      "source": [
        "X_train, X_test, y_train, y_test = train_test_split(X, y, test_size=0.25)"
      ],
      "execution_count": 5,
      "outputs": []
    },
    {
      "cell_type": "code",
      "metadata": {
        "colab": {
          "base_uri": "https://localhost:8080/"
        },
        "id": "DwwABm3anuyf",
        "outputId": "5213f829-b03e-45d5-c0a4-a35b706d248e"
      },
      "source": [
        "X_train.shape, X_test.shape  "
      ],
      "execution_count": 6,
      "outputs": [
        {
          "output_type": "execute_result",
          "data": {
            "text/plain": [
              "((24409, 25), (8137, 25))"
            ]
          },
          "metadata": {
            "tags": []
          },
          "execution_count": 6
        }
      ]
    },
    {
      "cell_type": "code",
      "metadata": {
        "colab": {
          "base_uri": "https://localhost:8080/"
        },
        "id": "Bzc6P4YfoC7K",
        "outputId": "c31cbe94-6e59-4942-80ce-0f4a40db59e8"
      },
      "source": [
        "y_train.shape, y_test.shape"
      ],
      "execution_count": 7,
      "outputs": [
        {
          "output_type": "execute_result",
          "data": {
            "text/plain": [
              "((24409,), (8137,))"
            ]
          },
          "metadata": {
            "tags": []
          },
          "execution_count": 7
        }
      ]
    },
    {
      "cell_type": "code",
      "metadata": {
        "colab": {
          "base_uri": "https://localhost:8080/"
        },
        "id": "Wduk_70she5g",
        "outputId": "1d6b3c65-fd5b-4fb6-b779-9c3cdbfed1e7"
      },
      "source": [
        "round(y_train.value_counts() / y_train.shape[0], 2)"
      ],
      "execution_count": 8,
      "outputs": [
        {
          "output_type": "execute_result",
          "data": {
            "text/plain": [
              "Pass           0.38\n",
              "Withdrawn      0.31\n",
              "Fail           0.22\n",
              "Distinction    0.09\n",
              "Name: final_result, dtype: float64"
            ]
          },
          "metadata": {
            "tags": []
          },
          "execution_count": 8
        }
      ]
    },
    {
      "cell_type": "markdown",
      "metadata": {
        "id": "x8Dae_1RoGkZ"
      },
      "source": [
        "# Preprocessing"
      ]
    },
    {
      "cell_type": "code",
      "metadata": {
        "id": "niiDSHdyoNSG"
      },
      "source": [
        "def X_preprocessor(X):\n",
        "  \"\"\"\n",
        "  Transforms given X and returns a new transformed X as a DataFrame \n",
        "  \"\"\"\n",
        "\n",
        "\n",
        "  # Identify ordinal features to be used in Ordinal Encoder\n",
        "  ordinal_features = ['age_band', 'highest_education']\n",
        "\n",
        "  # Identify nominal and binary features to be used in One Hot Encoder\n",
        "  nominal_features = ['code_module_presentation', 'region', 'gender']\n",
        "\n",
        "  # Identify numerical features to be scaled\n",
        "  numerical_features = ['num_of_prev_attempts', 'studied_credits', 'disability',\n",
        "                        'module_presentation_length', 'date_registration', \n",
        "                        'first_score','mean_score', 'last_score', \n",
        "                        'min_weight_score', 'max_weight_score','has_exam', \n",
        "                        'subpage_clicks', 'forumng_clicks', 'homepage_clicks',\n",
        "                        'oucontent_clicks', 'ouwiki_clicks', 'quiz_clicks', \n",
        "                          'resource_clicks','url_clicks']\n",
        "\n",
        "  \n",
        "  # Impute imd_band\n",
        "  si = SimpleImputer(strategy='most_frequent')\n",
        "  si.fit(X_train[['imd_band']]) # Fit it to X_train\n",
        "\n",
        "  # Transform given X's imd_band and store in transformed_imd_band\n",
        "  imd_band_imputed = si.transform(X[['imd_band']])\n",
        "  \n",
        "  # Encode imd_band\n",
        "  ord_encoder = OrdinalEncoder()\n",
        "  ord_encoder.fit(imd_band_imputed)\n",
        "\n",
        "  # Transform given X's ordinal features and store in transformed_ordinal\n",
        "  imd_band_data = ord_encoder.transform(imd_band_imputed)\n",
        "  transformed_imd_band = pd.DataFrame(imd_band_data, \n",
        "                                     columns=['imd_band'])\n",
        "\n",
        "  # Encode ordinal features\n",
        "  ord_encoder = OrdinalEncoder()\n",
        "  ord_encoder.fit(X_train[ordinal_features])\n",
        "\n",
        "  # Transform given X's ordinal features and store in transformed_ordinal\n",
        "  ordinal_data = ord_encoder.transform(X[ordinal_features])\n",
        "  transformed_ordinal = pd.DataFrame(ordinal_data, \n",
        "                                     columns=ordinal_features)\n",
        "  \n",
        "  #Encode nominal features\n",
        "  one_encoder = OneHotEncoder(drop='first', sparse=False)\n",
        "  one_encoder.fit(X_train[nominal_features])\n",
        "  \n",
        "  # Transform given X's nominal features and store in transformed_nominal\n",
        "  nominal_data = one_encoder.transform(X[nominal_features])\n",
        "  transformed_nominal = pd.DataFrame(nominal_data,\n",
        "                                     columns=one_encoder.get_feature_names())\n",
        "\n",
        "\n",
        "  # Scale numerical feature\n",
        "  ss = StandardScaler()\n",
        "  ss.fit(X_train[numerical_features])\n",
        "\n",
        "  # Transform given X's numerical features and store in transformed_numerical\n",
        "  numerical_data = ss.transform(X[numerical_features])\n",
        "  transformed_numerical = pd.DataFrame(numerical_data,\n",
        "                                       columns=numerical_features)\n",
        "  \n",
        "\n",
        "  # Merge all transformed data\n",
        "  processed_X = pd.concat([\n",
        "                           transformed_imd_band,\n",
        "                           transformed_ordinal,\n",
        "                           transformed_nominal,\n",
        "                           transformed_numerical\n",
        "  ], axis=1)\n",
        "\n",
        "\n",
        "  return processed_X"
      ],
      "execution_count": 9,
      "outputs": []
    },
    {
      "cell_type": "markdown",
      "metadata": {
        "id": "kV1AkYknoWqW"
      },
      "source": [
        "# Models\n",
        "- Logistic regression\n",
        "- K Nearest Neighbors\n",
        "- Support Vector Machine\n",
        "- Random Forest\n",
        "- Gradient Boost\n",
        "- Naive Bayes\n",
        "\n",
        "I'll build each model with some basic hyperparameter tuning and compare their results to decide which model to build with more sophisticated hyperparameter tuning. \n",
        "My data is both multi-class and imbalanced. I should evaluate and choose my model considering this.\n"
      ]
    },
    {
      "cell_type": "markdown",
      "metadata": {
        "id": "72nX1Gri1K3b"
      },
      "source": [
        "Reasons to chose these metrics:\n",
        "\n",
        "\n",
        "---\n",
        "\n",
        "TODO: Explain the process\n",
        "\n",
        "1.   MCC\n",
        "2.   ACC\n",
        "\n",
        "\n",
        "\n",
        "F1 will be computed with micro-average https://www.kdnuggets.com/2018/06/right-metric-evaluating-machine-learning-models-2.html\n",
        "\n",
        "---"
      ]
    },
    {
      "cell_type": "code",
      "metadata": {
        "id": "eIe0Y0PRKZyn"
      },
      "source": [
        "def estimator_metrics(estimator):\r\n",
        "  \"\"\"Builds estimator in a random search cv with given parameters\r\n",
        "  then calculates the best estimators' metric.\"\"\"\r\n",
        "\r\n",
        "  # Get the name of the model\r\n",
        "  model_name = str(type(estimator)).split('.')[-1][:-2]\r\n",
        "\r\n",
        "  processed_X_train = X_preprocessor(X_train)\r\n",
        "  processed_X_test = X_preprocessor(X_test)\r\n",
        "\r\n",
        "  # Fit the data\r\n",
        "  estimator.fit(processed_X_train, y_train)\r\n",
        "\r\n",
        "  # Predict train data with the estimator\r\n",
        "  y_predict_train = estimator.predict(processed_X_train)\r\n",
        "\r\n",
        "  # Calculate the train metrics of the model\r\n",
        "  optimal_mcc_train = matthews_corrcoef(y_train, y_predict_train)\r\n",
        "  optimal_accuracy_train = accuracy_score(y_train, y_predict_train)\r\n",
        "  optimal_f1_train = f1_score(y_train, y_predict_train, average='micro')\r\n",
        "  optimal_conf_matx_train = confusion_matrix(y_train, y_predict_train)\r\n",
        "\r\n",
        "  # Predict test data with the estimator\r\n",
        "\r\n",
        "  y_predict_test = estimator.predict(processed_X_test)\r\n",
        "\r\n",
        "  # Calculate the test metrics of the model\r\n",
        "  optimal_mcc_test = matthews_corrcoef(y_test, y_predict_test)\r\n",
        "  optimal_accuracy_test = accuracy_score(y_test, y_predict_test)\r\n",
        "  optimal_f1_test = f1_score(y_test, y_predict_test, average='micro')\r\n",
        "  optimal_conf_matx_test = confusion_matrix(y_test, y_predict_test)\r\n",
        "\r\n",
        "  # Set metrics as dataframe\r\n",
        "  metrics =  np.array([[model_name,\r\n",
        "                       'train',\r\n",
        "                       optimal_mcc_train,\r\n",
        "                       optimal_accuracy_train, \r\n",
        "                       optimal_f1_train,\r\n",
        "                       optimal_conf_matx_train],\r\n",
        "                       [model_name,\r\n",
        "                       'test',\r\n",
        "                       optimal_mcc_test,\r\n",
        "                       optimal_accuracy_test, \r\n",
        "                       optimal_f1_test,\r\n",
        "                       optimal_conf_matx_test]], dtype='object')\r\n",
        "\r\n",
        "  return metrics"
      ],
      "execution_count": 10,
      "outputs": []
    },
    {
      "cell_type": "code",
      "metadata": {
        "id": "58x3imTPQ8zE"
      },
      "source": [
        "# Logistic regression\r\n",
        "lr = LogisticRegression(n_jobs=-1)\r\n",
        "\r\n",
        "lr_metrics = estimator_metrics(lr)"
      ],
      "execution_count": 11,
      "outputs": []
    },
    {
      "cell_type": "code",
      "metadata": {
        "id": "yvZ0GkUTOPjI"
      },
      "source": [
        "# K Nearest Neighbor\r\n",
        "knn = KNeighborsClassifier(n_jobs=-1)\r\n",
        "\r\n",
        "knn_metrics = estimator_metrics(knn)"
      ],
      "execution_count": 12,
      "outputs": []
    },
    {
      "cell_type": "code",
      "metadata": {
        "id": "dRSGybC9VOsK"
      },
      "source": [
        "# Support Vector Machine\r\n",
        "svc = SVC(C=1.0)\r\n",
        "\r\n",
        "svc_metrics = estimator_metrics(svc)"
      ],
      "execution_count": 13,
      "outputs": []
    },
    {
      "cell_type": "code",
      "metadata": {
        "id": "_HGuGrncQ0uP"
      },
      "source": [
        "# Random Forest\r\n",
        "rf = RandomForestClassifier(n_jobs=-1)\r\n",
        "\r\n",
        "rf_metrics = estimator_metrics(rf)"
      ],
      "execution_count": 14,
      "outputs": []
    },
    {
      "cell_type": "code",
      "metadata": {
        "id": "Wub8aGg8Ntcr"
      },
      "source": [
        "# Gradient Boost\r\n",
        "gb = GradientBoostingClassifier()\r\n",
        "\r\n",
        "gb_metrics = estimator_metrics(gb)"
      ],
      "execution_count": 15,
      "outputs": []
    },
    {
      "cell_type": "code",
      "metadata": {
        "id": "cMCjljibuaJM"
      },
      "source": [
        "# Naive Bayes\r\n",
        "nb = GaussianNB()\r\n",
        "\r\n",
        "nb_metrics = estimator_metrics(nb)"
      ],
      "execution_count": 16,
      "outputs": []
    },
    {
      "cell_type": "markdown",
      "metadata": {
        "id": "nBZ2ctegN6jU"
      },
      "source": [
        "## Comparison of Models\n",
        "\n",
        "---\n",
        "\n",
        "TODO: explain the process\n",
        "\n",
        "\n",
        "---"
      ]
    },
    {
      "cell_type": "code",
      "metadata": {
        "id": "BFyrxTA6b6z3"
      },
      "source": [
        "# Build a Dataframe to store the evaluation metrics\r\n",
        "all_metrics = np.concatenate((lr_metrics, knn_metrics, \r\n",
        "                              svc_metrics, rf_metrics, \r\n",
        "                              gb_metrics, nb_metrics))\r\n",
        "\r\n",
        "df_evaluation = pd.DataFrame(all_metrics, \r\n",
        "                             columns=['Model', 'Split', 'MCC', 'Accuracy',\r\n",
        "                                      'F1', 'Confusion Matrix'])\r\n",
        "\r\n",
        "df_evaluation = df_evaluation.set_index(['Model', 'Split'])"
      ],
      "execution_count": 17,
      "outputs": []
    },
    {
      "cell_type": "code",
      "metadata": {
        "colab": {
          "base_uri": "https://localhost:8080/",
          "height": 399
        },
        "id": "1hz62erp4Ti7",
        "outputId": "ca70cb35-2821-4539-e264-08d9dce17e71"
      },
      "source": [
        "_ = sns.catplot(data=df_evaluation.reset_index(), kind=\"bar\",\r\n",
        "                x=\"Accuracy\", y=\"Model\", hue=\"Split\",\r\n",
        "                palette=\"tab10\", alpha=.6, aspect=1.5)\r\n",
        "_ = plt.title(\"Accuracies of Models\")\r\n",
        "_ = plt.grid(which='both', axis='x', color='w')"
      ],
      "execution_count": 18,
      "outputs": [
        {
          "output_type": "display_data",
          "data": {
            "image/png": "[encoded data removed]",
            "text/plain": [
              "<Figure size 599.375x360 with 1 Axes>"
            ]
          },
          "metadata": {
            "tags": [],
            "needs_background": "light"
          }
        }
      ]
    },
    {
      "cell_type": "code",
      "metadata": {
        "colab": {
          "base_uri": "https://localhost:8080/",
          "height": 399
        },
        "id": "xjT24Zis2xCC",
        "outputId": "80342942-d946-44eb-f9a6-7b6fa7d6239b"
      },
      "source": [
        "_ = sns.catplot(data=df_evaluation.reset_index(), kind=\"bar\",\r\n",
        "                x=\"MCC\", y=\"Model\", hue=\"Split\",\r\n",
        "                palette=\"tab10\", alpha=.6, aspect=1.5)\r\n",
        "_ = plt.title(\"MCC Scores of Models\")\r\n",
        "_ = plt.grid(which='both', axis='x', color='w')"
      ],
      "execution_count": 19,
      "outputs": [
        {
          "output_type": "display_data",
          "data": {
            "image/png": "[encoded data removed]",
            "text/plain": [
              "<Figure size 599.375x360 with 1 Axes>"
            ]
          },
          "metadata": {
            "tags": [],
            "needs_background": "light"
          }
        }
      ]
    },
    {
      "cell_type": "code",
      "metadata": {
        "colab": {
          "base_uri": "https://localhost:8080/",
          "height": 400
        },
        "id": "i82fC-hAIBN7",
        "outputId": "4afa335e-b1ef-4f10-f09a-2f8e56c486d7"
      },
      "source": [
        "_ = sns.catplot(data=df_evaluation.reset_index(), kind=\"bar\",\r\n",
        "                x=\"F1\", y=\"Model\", hue=\"Split\",\r\n",
        "                palette=\"tab10\", alpha=.6, aspect=1.5)\r\n",
        "_ = plt.title(\"$F1$ Scores of Models\")\r\n",
        "_ = plt.grid(which='both', axis='x', color='w')"
      ],
      "execution_count": 20,
      "outputs": [
        {
          "output_type": "display_data",
          "data": {
            "image/png": "[encoded data removed]",
            "text/plain": [
              "<Figure size 599.375x360 with 1 Axes>"
            ]
          },
          "metadata": {
            "tags": [],
            "needs_background": "light"
          }
        }
      ]
    },
    {
      "cell_type": "markdown",
      "metadata": {
        "id": "d2yGj8hmmelw"
      },
      "source": [
        "So far the best options seems to be Gradient Boost and Random Forest. Random Forest obvisouly overfitted but this can be tuned."
      ]
    },
    {
      "cell_type": "code",
      "metadata": {
        "id": "i1DRaY61N78g"
      },
      "source": [
        "\"\"\"Resource: https://scikit-learn.org/0.21/auto_examples/model_selection/plot_confusion_matrix.html\"\"\"\n",
        "def plot_confusion_matrix(cm, classes,\n",
        "                          normalize=False,\n",
        "                          title='Confusion matrix',\n",
        "                          cmap=plt.cm.Blues):\n",
        "    \"\"\"\n",
        "    This function prints and plots the confusion matrix.\n",
        "    Normalization can be applied by setting `normalize=True`.\n",
        "    \"\"\"\n",
        "    if normalize:\n",
        "        cm = cm.astype('float') / cm.sum(axis=1)[:, np.newaxis]\n",
        "\n",
        "    plt.imshow(cm, interpolation='nearest', cmap=cmap)\n",
        "    plt.title(title)\n",
        "    plt.colorbar()\n",
        "    tick_marks = np.arange(len(classes))\n",
        "    plt.xticks(tick_marks, classes, rotation=45)\n",
        "    plt.yticks(tick_marks, classes)\n",
        "\n",
        "    fmt = '.2f' if normalize else 'd'\n",
        "    thresh = cm.max() / 2.\n",
        "    for i, j in itertools.product(range(cm.shape[0]), range(cm.shape[1])):\n",
        "        plt.text(j, i, format(cm[i, j], fmt),\n",
        "                 horizontalalignment=\"center\",\n",
        "                 color=\"white\" if cm[i, j] > thresh else \"black\")\n",
        "\n",
        "    plt.tight_layout()\n",
        "    plt.ylabel('True label')\n",
        "    plt.xlabel('Predicted label')"
      ],
      "execution_count": 21,
      "outputs": []
    },
    {
      "cell_type": "code",
      "metadata": {
        "id": "jo_bb26uulJ4",
        "colab": {
          "base_uri": "https://localhost:8080/",
          "height": 311
        },
        "outputId": "96a0a612-87ff-4217-8fa9-b590b878d083"
      },
      "source": [
        "class_names = ['Distinction', 'Fail', 'Pass', 'Withdrawn']\n",
        "\n",
        "plot_confusion_matrix(df_evaluation.loc['GradientBoostingClassifier', 'test']['Confusion Matrix'],\n",
        "                      classes=class_names,\n",
        "                      title='Normalized Gradient Boost Confusion Matrix on Test Split',\n",
        "                      normalize=True)"
      ],
      "execution_count": 22,
      "outputs": [
        {
          "output_type": "display_data",
          "data": {
            "image/png": "[encoded data removed]",
            "text/plain": [
              "<Figure size 432x288 with 2 Axes>"
            ]
          },
          "metadata": {
            "tags": [],
            "needs_background": "light"
          }
        }
      ]
    },
    {
      "cell_type": "code",
      "metadata": {
        "colab": {
          "base_uri": "https://localhost:8080/",
          "height": 311
        },
        "id": "nN8_h8Pfqc4V",
        "outputId": "fae45801-27f2-47d1-fc1f-523fad69fd33"
      },
      "source": [
        "plot_confusion_matrix(df_evaluation.loc['RandomForestClassifier', 'test']['Confusion Matrix'],\r\n",
        "                      classes=class_names,\r\n",
        "                      title=' Normalized Random Forest Confusion Matrix on Test Split',\r\n",
        "                      normalize=True)"
      ],
      "execution_count": 23,
      "outputs": [
        {
          "output_type": "display_data",
          "data": {
            "image/png": "[encoded data removed]",
            "text/plain": [
              "<Figure size 432x288 with 2 Axes>"
            ]
          },
          "metadata": {
            "tags": [],
            "needs_background": "light"
          }
        }
      ]
    },
    {
      "cell_type": "markdown",
      "metadata": {
        "id": "6EpnQp2nZoqc"
      },
      "source": [
        "Both estimators had problems on distinction and fail labels. They misclassifed them as pass and withdrawn respectively. Which actually makes sense. So I'll work on these and and compare the results again with tuned hyperparamaters with bayesian optimization"
      ]
    },
    {
      "cell_type": "markdown",
      "metadata": {
        "id": "LgKQQygdOB42"
      },
      "source": [
        "# Hyperparameter Tuning\r\n",
        "I'll use Bayesian Optimization for hyperparameter tuning.\r\n"
      ]
    },
    {
      "cell_type": "code",
      "metadata": {
        "colab": {
          "base_uri": "https://localhost:8080/"
        },
        "id": "9c9oqcwLihGO",
        "outputId": "11c6e2a1-52fd-4ed2-b7dd-7664fec59a12"
      },
      "source": [
        "pip install bayesian-optimization"
      ],
      "execution_count": 24,
      "outputs": [
        {
          "output_type": "stream",
          "text": [
            "Collecting bayesian-optimization\n",
            "  Downloading https://files.pythonhosted.org/packages/bb/7a/fd8059a3881d3ab37ac8f72f56b73937a14e8bb14a9733e68cc8b17dbe3c/bayesian-optimization-1.2.0.tar.gz\n",
            "Requirement already satisfied: numpy>=1.9.0 in /usr/local/lib/python3.7/dist-packages (from bayesian-optimization) (1.19.5)\n",
            "Requirement already satisfied: scipy>=0.14.0 in /usr/local/lib/python3.7/dist-packages (from bayesian-optimization) (1.4.1)\n",
            "Requirement already satisfied: scikit-learn>=0.18.0 in /usr/local/lib/python3.7/dist-packages (from bayesian-optimization) (0.22.2.post1)\n",
            "Requirement already satisfied: joblib>=0.11 in /usr/local/lib/python3.7/dist-packages (from scikit-learn>=0.18.0->bayesian-optimization) (1.0.1)\n",
            "Building wheels for collected packages: bayesian-optimization\n",
            "  Building wheel for bayesian-optimization (setup.py) ... \u001b[?25l\u001b[?25hdone\n",
            "  Created wheel for bayesian-optimization: filename=bayesian_optimization-1.2.0-cp37-none-any.whl size=11687 sha256=7407601c6a9aa319da15f774ef22772fe0d397c41ae20bbe50ea763dbdb2e589\n",
            "  Stored in directory: /root/.cache/pip/wheels/5a/56/ae/e0e3c1fc1954dc3ec712e2df547235ed072b448094d8f94aec\n",
            "Successfully built bayesian-optimization\n",
            "Installing collected packages: bayesian-optimization\n",
            "Successfully installed bayesian-optimization-1.2.0\n"
          ],
          "name": "stdout"
        }
      ]
    },
    {
      "cell_type": "code",
      "metadata": {
        "id": "DvKJ_35Otcv4"
      },
      "source": [
        "from bayes_opt import BayesianOptimization"
      ],
      "execution_count": 25,
      "outputs": []
    },
    {
      "cell_type": "markdown",
      "metadata": {
        "id": "cMH9pRx8iyAz"
      },
      "source": [
        "## Random Forest Tuning\n",
        "---\n",
        "\n",
        "<div class=\"span5 alert alert-info\">\n",
        "TODO: Explain what you will do\n",
        "<div>\n",
        "\n",
        "---"
      ]
    },
    {
      "cell_type": "code",
      "metadata": {
        "id": "koP6bwW1xcI6"
      },
      "source": [
        "\"\"\"Resource: https://github.com/fmfn/BayesianOptimization/blob/master/examples/sklearn_example.py\r\n",
        "tuned accordingly to this problem's needs\"\"\"\r\n",
        "def rfc_cv(n_estimators, criterion, min_samples_split, max_features, data, targets):\r\n",
        "    \"\"\"Random Forest cross validation.\r\n",
        "    This function will instantiate a random forest classifier with parameters\r\n",
        "    n_estimators, min_samples_split, and max_features. Combined with data and\r\n",
        "    targets this will in turn be used to perform cross validation. The result\r\n",
        "    of cross validation is returned.\r\n",
        "    Our goal is to find combinations of n_estimators, min_samples_split, and\r\n",
        "    max_features that minimzes the log loss.\r\n",
        "    \"\"\"\r\n",
        "    estimator = RandomForestClassifier(\r\n",
        "        n_estimators=n_estimators,\r\n",
        "        criterion=criterion,\r\n",
        "        min_samples_split=min_samples_split,\r\n",
        "        max_features=max_features,\r\n",
        "        n_jobs=-1\r\n",
        "    )\r\n",
        "    scorer = make_scorer(matthews_corrcoef)\r\n",
        "\r\n",
        "    cval = cross_val_score(estimator, data, targets,\r\n",
        "                           scoring=scorer, cv=4)\r\n",
        "    return cval.mean()\r\n",
        "\r\n",
        "    \r\n",
        "def optimize_rfc(data, targets):\r\n",
        "    \"\"\"Apply Bayesian Optimization to Random Forest parameters.\"\"\"\r\n",
        "    def rfc_crossval(n_estimators, criterion, min_samples_split, max_features):\r\n",
        "        \"\"\"Wrapper of RandomForest cross validation.\r\n",
        "        Notice how we ensure n_estimators and min_samples_split are casted\r\n",
        "        to integer before we pass them along. Moreover, to avoid max_features\r\n",
        "        taking values outside the (0, 1) range, we also ensure it is capped\r\n",
        "        accordingly.\r\n",
        "        \"\"\"\r\n",
        "        if int(criterion) == 1:\r\n",
        "          criterion = 'gini'\r\n",
        "        elif int(criterion) == 2:\r\n",
        "          criterion = 'entropy'\r\n",
        "        else:\r\n",
        "            raise MyError(\"Criterion is out of bounds. Must be either 1 or 2\")\r\n",
        "\r\n",
        "        return rfc_cv(\r\n",
        "            n_estimators=int(n_estimators),\r\n",
        "            criterion=criterion,\r\n",
        "            min_samples_split=int(min_samples_split),\r\n",
        "            max_features=max(min(max_features, 0.999), 1e-3),\r\n",
        "            data=data,\r\n",
        "            targets=targets,\r\n",
        "        )\r\n",
        "\r\n",
        "    optimizer = BayesianOptimization(\r\n",
        "        f=rfc_crossval,\r\n",
        "        pbounds={\r\n",
        "            \"n_estimators\": (100, 500),\r\n",
        "            \"criterion\": (1, 3),\r\n",
        "            \"min_samples_split\": (10, 50),\r\n",
        "            \"max_features\": (0.1, 0.999),\r\n",
        "        },\r\n",
        "        verbose=2\r\n",
        "    )\r\n",
        "    optimizer.maximize(init_points=2, n_iter=10)\r\n",
        "\r\n",
        "    print(\"Final result:\", optimizer.max)"
      ],
      "execution_count": 26,
      "outputs": []
    },
    {
      "cell_type": "code",
      "metadata": {
        "id": "fNHtgIXhPtSr"
      },
      "source": [
        "# Transform X_train\n",
        "X_train_transformed = X_preprocessor(X_train)\n",
        "\n",
        "# Transform X_test\n",
        "X_test_transformed = X_preprocessor(X_test)"
      ],
      "execution_count": 10,
      "outputs": []
    },
    {
      "cell_type": "code",
      "metadata": {
        "colab": {
          "base_uri": "https://localhost:8080/"
        },
        "id": "nPHz2PoHP1vV",
        "outputId": "fb26cd3e-918f-40f6-efc0-9ad5a436b3cd"
      },
      "source": [
        "optimize_rfc(X_train_transformed, y_train)"
      ],
      "execution_count": 28,
      "outputs": [
        {
          "output_type": "stream",
          "text": [
            "|   iter    |  target   | criterion | max_fe... | min_sa... | n_esti... |\n",
            "-------------------------------------------------------------------------\n",
            "| \u001b[0m 1       \u001b[0m | \u001b[0m 0.5803  \u001b[0m | \u001b[0m 1.778   \u001b[0m | \u001b[0m 0.2384  \u001b[0m | \u001b[0m 39.33   \u001b[0m | \u001b[0m 262.0   \u001b[0m |\n",
            "| \u001b[95m 2       \u001b[0m | \u001b[95m 0.5815  \u001b[0m | \u001b[95m 1.707   \u001b[0m | \u001b[95m 0.8122  \u001b[0m | \u001b[95m 20.71   \u001b[0m | \u001b[95m 217.1   \u001b[0m |\n",
            "| \u001b[0m 3       \u001b[0m | \u001b[0m 0.5815  \u001b[0m | \u001b[0m 2.919   \u001b[0m | \u001b[0m 0.7694  \u001b[0m | \u001b[0m 10.18   \u001b[0m | \u001b[0m 500.0   \u001b[0m |\n",
            "| \u001b[0m 4       \u001b[0m | \u001b[0m 0.5737  \u001b[0m | \u001b[0m 2.704   \u001b[0m | \u001b[0m 0.1437  \u001b[0m | \u001b[0m 49.06   \u001b[0m | \u001b[0m 499.7   \u001b[0m |\n",
            "| \u001b[95m 5       \u001b[0m | \u001b[95m 0.5855  \u001b[0m | \u001b[95m 2.763   \u001b[0m | \u001b[95m 0.2064  \u001b[0m | \u001b[95m 10.29   \u001b[0m | \u001b[95m 100.2   \u001b[0m |\n",
            "| \u001b[0m 6       \u001b[0m | \u001b[0m 0.5825  \u001b[0m | \u001b[0m 2.317   \u001b[0m | \u001b[0m 0.7016  \u001b[0m | \u001b[0m 10.28   \u001b[0m | \u001b[0m 100.9   \u001b[0m |\n",
            "| \u001b[0m 7       \u001b[0m | \u001b[0m 0.5826  \u001b[0m | \u001b[0m 1.569   \u001b[0m | \u001b[0m 0.3309  \u001b[0m | \u001b[0m 10.29   \u001b[0m | \u001b[0m 101.8   \u001b[0m |\n",
            "| \u001b[95m 8       \u001b[0m | \u001b[95m 0.5857  \u001b[0m | \u001b[95m 1.481   \u001b[0m | \u001b[95m 0.2886  \u001b[0m | \u001b[95m 10.0    \u001b[0m | \u001b[95m 279.5   \u001b[0m |\n",
            "| \u001b[0m 9       \u001b[0m | \u001b[0m 0.5826  \u001b[0m | \u001b[0m 2.779   \u001b[0m | \u001b[0m 0.154   \u001b[0m | \u001b[0m 10.21   \u001b[0m | \u001b[0m 284.3   \u001b[0m |\n",
            "| \u001b[0m 10      \u001b[0m | \u001b[0m 0.5849  \u001b[0m | \u001b[0m 1.023   \u001b[0m | \u001b[0m 0.2679  \u001b[0m | \u001b[0m 10.09   \u001b[0m | \u001b[0m 268.6   \u001b[0m |\n",
            "| \u001b[0m 11      \u001b[0m | \u001b[0m 0.5801  \u001b[0m | \u001b[0m 1.128   \u001b[0m | \u001b[0m 0.9208  \u001b[0m | \u001b[0m 10.08   \u001b[0m | \u001b[0m 251.7   \u001b[0m |\n",
            "| \u001b[0m 12      \u001b[0m | \u001b[0m 0.5767  \u001b[0m | \u001b[0m 1.867   \u001b[0m | \u001b[0m 0.1056  \u001b[0m | \u001b[0m 10.17   \u001b[0m | \u001b[0m 102.8   \u001b[0m |\n",
            "=========================================================================\n",
            "Final result: {'target': 0.585744247318787, 'params': {'criterion': 1.4805766695678093, 'max_features': 0.2886480615517103, 'min_samples_split': 10.000756900228872, 'n_estimators': 279.5146294270395}}\n"
          ],
          "name": "stdout"
        }
      ]
    },
    {
      "cell_type": "code",
      "metadata": {
        "id": "IZb2ak6SV137"
      },
      "source": [
        "# Build the tuned random forest with tuned hyperparameters\r\n",
        "best_rf = RandomForestClassifier(n_estimators=279, \r\n",
        "                                 criterion = 'gini',\r\n",
        "                                 max_features=0.2886,\r\n",
        "                                 min_samples_split=10,\r\n",
        "                                 n_jobs=-1)"
      ],
      "execution_count": 11,
      "outputs": []
    },
    {
      "cell_type": "code",
      "metadata": {
        "colab": {
          "base_uri": "https://localhost:8080/"
        },
        "id": "DgzaWNh5V6G1",
        "outputId": "b98e688f-48f0-4a28-88f2-fb544383380c"
      },
      "source": [
        "# Fit estimator to train data\r\n",
        "best_rf.fit(X_train_transformed, y_train)"
      ],
      "execution_count": 12,
      "outputs": [
        {
          "output_type": "execute_result",
          "data": {
            "text/plain": [
              "RandomForestClassifier(bootstrap=True, ccp_alpha=0.0, class_weight=None,\n",
              "                       criterion='gini', max_depth=None, max_features=0.2886,\n",
              "                       max_leaf_nodes=None, max_samples=None,\n",
              "                       min_impurity_decrease=0.0, min_impurity_split=None,\n",
              "                       min_samples_leaf=1, min_samples_split=10,\n",
              "                       min_weight_fraction_leaf=0.0, n_estimators=279,\n",
              "                       n_jobs=-1, oob_score=False, random_state=None, verbose=0,\n",
              "                       warm_start=False)"
            ]
          },
          "metadata": {
            "tags": []
          },
          "execution_count": 12
        }
      ]
    },
    {
      "cell_type": "code",
      "metadata": {
        "id": "qtQNh2nsV7PE"
      },
      "source": [
        "# Predict y_test\r\n",
        "rf_y_pred_test = best_rf.predict(X_test_transformed)"
      ],
      "execution_count": 13,
      "outputs": []
    },
    {
      "cell_type": "markdown",
      "metadata": {
        "id": "sulgG-ZBqvid"
      },
      "source": [
        "### Changes of te metrics after hyperparameter tuning"
      ]
    },
    {
      "cell_type": "code",
      "metadata": {
        "id": "HhfDkTjmzrb5"
      },
      "source": [
        "# Compute the accuracy and MCC of Best RF\n",
        "rf_accuracy = accuracy_score(y_test, rf_y_pred_test)\n",
        "rf_mcc = matthews_corrcoef(y_test, rf_y_pred_test)"
      ],
      "execution_count": 14,
      "outputs": []
    },
    {
      "cell_type": "code",
      "metadata": {
        "colab": {
          "base_uri": "https://localhost:8080/"
        },
        "id": "bsoFLfjNtW4f",
        "outputId": "b3803a62-745c-42f7-bfb3-ca076b50ba28"
      },
      "source": [
        "# Final Metrics\r\n",
        "rf_accuracy, rf_mcc"
      ],
      "execution_count": 15,
      "outputs": [
        {
          "output_type": "execute_result",
          "data": {
            "text/plain": [
              "(0.7099668182376797, 0.5822410059945812)"
            ]
          },
          "metadata": {
            "tags": []
          },
          "execution_count": 15
        }
      ]
    },
    {
      "cell_type": "code",
      "metadata": {
        "colab": {
          "base_uri": "https://localhost:8080/"
        },
        "id": "bTZwsncQZ4ub",
        "outputId": "d1e18956-99a1-436b-e970-a14b28b0a3b1"
      },
      "source": [
        "# Accuracy Change\r\n",
        "rf_accuracy - df_evaluation.loc['RandomForestClassifier', 'test']['Accuracy']"
      ],
      "execution_count": 33,
      "outputs": [
        {
          "output_type": "execute_result",
          "data": {
            "text/plain": [
              "0.00503871205604034"
            ]
          },
          "metadata": {
            "tags": []
          },
          "execution_count": 33
        }
      ]
    },
    {
      "cell_type": "code",
      "metadata": {
        "colab": {
          "base_uri": "https://localhost:8080/"
        },
        "id": "l8KyPo-5qhjC",
        "outputId": "96f5c1d5-cebd-4175-bac1-221e1216fae4"
      },
      "source": [
        "# MCC Change\r\n",
        "rf_mcc - df_evaluation.loc['RandomForestClassifier', 'test']['MCC']"
      ],
      "execution_count": 34,
      "outputs": [
        {
          "output_type": "execute_result",
          "data": {
            "text/plain": [
              "0.007430457297401771"
            ]
          },
          "metadata": {
            "tags": []
          },
          "execution_count": 34
        }
      ]
    },
    {
      "cell_type": "markdown",
      "metadata": {
        "id": "hDPbZAX7ts2T"
      },
      "source": [
        "### Feature Importances\n",
        "I' will build a dataframe of feature importances. But need to sum up encoded features. `code_module_presentation` and `region` since they are divided as different columns with One Hot Encoder"
      ]
    },
    {
      "cell_type": "code",
      "metadata": {
        "id": "yWSmBJj8uM-N"
      },
      "source": [
        "# Build DataFrame with column names\n",
        "feature_importances = pd.DataFrame(data=best_rf.feature_importances_,\n",
        "                                   index=X_train_transformed.columns).T"
      ],
      "execution_count": 16,
      "outputs": []
    },
    {
      "cell_type": "code",
      "metadata": {
        "id": "7tlPryh5z_uO"
      },
      "source": [
        "# Columns of code_module_presentation feature\n",
        "class_features = feature_importances.columns.str.extractall(\"(x0_.*)\")[0]\n",
        "\n",
        "# Columns of region\n",
        "region_features = feature_importances.columns.str.extractall(\"(x1_.*)\")[0]"
      ],
      "execution_count": 17,
      "outputs": []
    },
    {
      "cell_type": "code",
      "metadata": {
        "id": "ENfNMnWrzLGs"
      },
      "source": [
        "# Sum up the columns as they were before encoding\n",
        "feature_importances['code_module_presentation'] = feature_importances[class_features].sum(axis=1)\n",
        "feature_importances['region'] = feature_importances[region_features].sum(axis=1)"
      ],
      "execution_count": 18,
      "outputs": []
    },
    {
      "cell_type": "code",
      "metadata": {
        "id": "L-Pdp6yq_eld"
      },
      "source": [
        "# Drop columns encoding process created\n",
        "feature_importances = feature_importances.drop(class_features, axis=1).drop(region_features, axis=1)"
      ],
      "execution_count": 19,
      "outputs": []
    },
    {
      "cell_type": "code",
      "metadata": {
        "id": "7zBg8WOz_tZg"
      },
      "source": [
        "# Rename gender column\n",
        "feature_importances.rename({'x2_M': 'gender'}, axis=1, inplace=True)"
      ],
      "execution_count": 20,
      "outputs": []
    },
    {
      "cell_type": "code",
      "metadata": {
        "colab": {
          "base_uri": "https://localhost:8080/",
          "height": 592
        },
        "id": "GnKz7jcXAAoy",
        "outputId": "150f2a46-e7b8-4c7b-f62c-a3859e0e8e46"
      },
      "source": [
        "# Plot the feature importances\n",
        "_ = feature_importances.T.sort_values(0).plot(kind='barh', figsize=(10,10))"
      ],
      "execution_count": 22,
      "outputs": [
        {
          "output_type": "display_data",
          "data": {
            "image/png": "[encoded data removed]",
            "text/plain": [
              "<Figure size 720x720 with 1 Axes>"
            ]
          },
          "metadata": {
            "tags": [],
            "needs_background": "light"
          }
        }
      ]
    },
    {
      "cell_type": "markdown",
      "metadata": {
        "id": "gVZdcg8mi6FU"
      },
      "source": [
        "## Gradient Boost Tuning"
      ]
    },
    {
      "cell_type": "markdown",
      "metadata": {
        "id": "MgKKczy4odm4"
      },
      "source": [
        "---\n",
        "\n",
        "TODO: Comment the functions and explain what do they do\n",
        "\n",
        "---"
      ]
    },
    {
      "cell_type": "code",
      "metadata": {
        "id": "gn8l5C_rXC6O"
      },
      "source": [
        "def gbc_cv(n_estimators, learning_rate, min_samples_split, max_features, data, targets):\n",
        "    estimator = GradientBoostingClassifier(\n",
        "        n_estimators=n_estimators,\n",
        "        learning_rate=learning_rate,\n",
        "        min_samples_split=min_samples_split,\n",
        "        max_features=max_features\n",
        "    )\n",
        "    \n",
        "    scorer = make_scorer(matthews_corrcoef)\n",
        "\n",
        "    cval = cross_val_score(estimator, data, targets,\n",
        "                           scoring=scorer, cv=4)\n",
        "    return cval.mean()\n",
        "\n",
        "    \n",
        "def optimize_gbc(data, targets):\n",
        "    def gbc_crossval(n_estimators, learning_rate, min_samples_split, max_features):\n",
        "        \n",
        "        return gbc_cv(\n",
        "            n_estimators=int(n_estimators),\n",
        "            learning_rate=learning_rate,\n",
        "            min_samples_split=int(min_samples_split),\n",
        "            max_features=max(min(max_features, 0.999), 1e-3),\n",
        "            data=data,\n",
        "            targets=targets,\n",
        "        )\n",
        "\n",
        "    optimizer = BayesianOptimization(\n",
        "        f=gbc_crossval,\n",
        "        pbounds={\n",
        "            \"n_estimators\": (100, 500),\n",
        "            \"learning_rate\": (0.1, 1),\n",
        "            \"min_samples_split\": (10, 50),\n",
        "            \"max_features\": (0.1, 0.999),\n",
        "        },\n",
        "        verbose=2\n",
        "    )\n",
        "    optimizer.maximize(init_points=2, n_iter=10)\n",
        "\n",
        "    print(\"Final result:\", optimizer.max)"
      ],
      "execution_count": 42,
      "outputs": []
    },
    {
      "cell_type": "code",
      "metadata": {
        "colab": {
          "base_uri": "https://localhost:8080/"
        },
        "id": "W_Xc-3Esk5P4",
        "outputId": "fe70d94d-1e46-4693-e614-612562367820"
      },
      "source": [
        "optimize_gbc(X_train_transformed, y_train)"
      ],
      "execution_count": 43,
      "outputs": [
        {
          "output_type": "stream",
          "text": [
            "|   iter    |  target   | learni... | max_fe... | min_sa... | n_esti... |\n",
            "-------------------------------------------------------------------------\n",
            "| \u001b[0m 1       \u001b[0m | \u001b[0m 0.5643  \u001b[0m | \u001b[0m 0.6777  \u001b[0m | \u001b[0m 0.4434  \u001b[0m | \u001b[0m 36.04   \u001b[0m | \u001b[0m 214.1   \u001b[0m |\n",
            "| \u001b[0m 2       \u001b[0m | \u001b[0m 0.5472  \u001b[0m | \u001b[0m 0.9368  \u001b[0m | \u001b[0m 0.7274  \u001b[0m | \u001b[0m 24.56   \u001b[0m | \u001b[0m 164.7   \u001b[0m |\n",
            "| \u001b[0m 3       \u001b[0m | \u001b[0m 0.5594  \u001b[0m | \u001b[0m 0.788   \u001b[0m | \u001b[0m 0.7391  \u001b[0m | \u001b[0m 10.84   \u001b[0m | \u001b[0m 499.7   \u001b[0m |\n",
            "| \u001b[95m 4       \u001b[0m | \u001b[95m 0.5657  \u001b[0m | \u001b[95m 0.4305  \u001b[0m | \u001b[95m 0.5112  \u001b[0m | \u001b[95m 49.97   \u001b[0m | \u001b[95m 499.5   \u001b[0m |\n",
            "| \u001b[95m 5       \u001b[0m | \u001b[95m 0.581   \u001b[0m | \u001b[95m 0.2806  \u001b[0m | \u001b[95m 0.4152  \u001b[0m | \u001b[95m 49.88   \u001b[0m | \u001b[95m 369.9   \u001b[0m |\n",
            "| \u001b[95m 6       \u001b[0m | \u001b[95m 0.5901  \u001b[0m | \u001b[95m 0.1317  \u001b[0m | \u001b[95m 0.9832  \u001b[0m | \u001b[95m 49.18   \u001b[0m | \u001b[95m 328.4   \u001b[0m |\n",
            "| \u001b[0m 7       \u001b[0m | \u001b[0m 0.5622  \u001b[0m | \u001b[0m 0.8536  \u001b[0m | \u001b[0m 0.152   \u001b[0m | \u001b[0m 49.01   \u001b[0m | \u001b[0m 101.2   \u001b[0m |\n",
            "| \u001b[0m 8       \u001b[0m | \u001b[0m 0.5713  \u001b[0m | \u001b[0m 0.4823  \u001b[0m | \u001b[0m 0.9449  \u001b[0m | \u001b[0m 10.34   \u001b[0m | \u001b[0m 322.1   \u001b[0m |\n",
            "| \u001b[0m 9       \u001b[0m | \u001b[0m 0.5453  \u001b[0m | \u001b[0m 0.9223  \u001b[0m | \u001b[0m 0.5081  \u001b[0m | \u001b[0m 49.6    \u001b[0m | \u001b[0m 299.4   \u001b[0m |\n",
            "| \u001b[0m 10      \u001b[0m | \u001b[0m 0.5733  \u001b[0m | \u001b[0m 0.1     \u001b[0m | \u001b[0m 0.999   \u001b[0m | \u001b[0m 10.0    \u001b[0m | \u001b[0m 100.0   \u001b[0m |\n",
            "| \u001b[0m 11      \u001b[0m | \u001b[0m 0.5769  \u001b[0m | \u001b[0m 0.2944  \u001b[0m | \u001b[0m 0.5552  \u001b[0m | \u001b[0m 10.33   \u001b[0m | \u001b[0m 427.5   \u001b[0m |\n",
            "| \u001b[0m 12      \u001b[0m | \u001b[0m 0.5798  \u001b[0m | \u001b[0m 0.316   \u001b[0m | \u001b[0m 0.5077  \u001b[0m | \u001b[0m 49.65   \u001b[0m | \u001b[0m 332.0   \u001b[0m |\n",
            "=========================================================================\n",
            "Final result: {'target': 0.5901369904081908, 'params': {'learning_rate': 0.13167783703910463, 'max_features': 0.9832169511345847, 'min_samples_split': 49.17591461914948, 'n_estimators': 328.39533415446033}}\n"
          ],
          "name": "stdout"
        }
      ]
    },
    {
      "cell_type": "code",
      "metadata": {
        "id": "UQlAuQaklGDA"
      },
      "source": [
        "# Build the tuned Gradient Boosting Classifer\r\n",
        "best_gb = GradientBoostingClassifier(learning_rate= 0.1317, \r\n",
        "                                     max_features= 0.9832, \r\n",
        "                                     min_samples_split= 49,\r\n",
        "                                     n_estimators= 328)"
      ],
      "execution_count": 23,
      "outputs": []
    },
    {
      "cell_type": "code",
      "metadata": {
        "colab": {
          "base_uri": "https://localhost:8080/"
        },
        "id": "pBIU_yiD0nx9",
        "outputId": "56613918-31d1-483f-e515-bd0b6ff32da3"
      },
      "source": [
        "# Fit Estimator to train data\r\n",
        "best_gb.fit(X_train_transformed, y_train)"
      ],
      "execution_count": 24,
      "outputs": [
        {
          "output_type": "execute_result",
          "data": {
            "text/plain": [
              "GradientBoostingClassifier(ccp_alpha=0.0, criterion='friedman_mse', init=None,\n",
              "                           learning_rate=0.1317, loss='deviance', max_depth=3,\n",
              "                           max_features=0.9832, max_leaf_nodes=None,\n",
              "                           min_impurity_decrease=0.0, min_impurity_split=None,\n",
              "                           min_samples_leaf=1, min_samples_split=49,\n",
              "                           min_weight_fraction_leaf=0.0, n_estimators=328,\n",
              "                           n_iter_no_change=None, presort='deprecated',\n",
              "                           random_state=None, subsample=1.0, tol=0.0001,\n",
              "                           validation_fraction=0.1, verbose=0,\n",
              "                           warm_start=False)"
            ]
          },
          "metadata": {
            "tags": []
          },
          "execution_count": 24
        }
      ]
    },
    {
      "cell_type": "code",
      "metadata": {
        "id": "61aweMpU0rSt"
      },
      "source": [
        "# Predict y_test\r\n",
        "gb_y_pred_test = best_gb.predict(X_test_transformed)"
      ],
      "execution_count": 27,
      "outputs": []
    },
    {
      "cell_type": "markdown",
      "metadata": {
        "id": "bcveWqtlrkD5"
      },
      "source": [
        "### Changes of metrics after hyperparameter tuning"
      ]
    },
    {
      "cell_type": "code",
      "metadata": {
        "id": "bxOPVLN12MEX"
      },
      "source": [
        "# Compute the mecric for tuned Gradient Boosting\n",
        "gb_accuracy = accuracy_score(y_test, gb_y_pred_test)\n",
        "gb_mcc = matthews_corrcoef(y_test, gb_y_pred_test)"
      ],
      "execution_count": 26,
      "outputs": []
    },
    {
      "cell_type": "code",
      "metadata": {
        "colab": {
          "base_uri": "https://localhost:8080/"
        },
        "id": "8fgufeDeseJN",
        "outputId": "a4629b2e-7716-42c2-ad90-bcd5b3a701dd"
      },
      "source": [
        "# Final metrics\r\n",
        "gb_accuracy, gb_mcc"
      ],
      "execution_count": 50,
      "outputs": [
        {
          "output_type": "execute_result",
          "data": {
            "text/plain": [
              "(0.7193068698537545, 0.5961876256182056)"
            ]
          },
          "metadata": {
            "tags": []
          },
          "execution_count": 50
        }
      ]
    },
    {
      "cell_type": "code",
      "metadata": {
        "colab": {
          "base_uri": "https://localhost:8080/"
        },
        "id": "54QvEP1UQT9b",
        "outputId": "d3ac992d-52a0-4e77-e9bc-49d3277c10b9"
      },
      "source": [
        "# Accuracy Change\r\n",
        "gb_accuracy - df_evaluation.loc['GradientBoostingClassifier', 'test']['Accuracy']"
      ],
      "execution_count": 48,
      "outputs": [
        {
          "output_type": "execute_result",
          "data": {
            "text/plain": [
              "0.006636352464053141"
            ]
          },
          "metadata": {
            "tags": []
          },
          "execution_count": 48
        }
      ]
    },
    {
      "cell_type": "code",
      "metadata": {
        "colab": {
          "base_uri": "https://localhost:8080/"
        },
        "id": "LgtlxRgqsPby",
        "outputId": "cc8000a9-d65d-4d43-d6f8-e5c04f03492f"
      },
      "source": [
        "# MCC Cnage\r\n",
        "gb_mcc - df_evaluation.loc['GradientBoostingClassifier', 'test']['MCC']"
      ],
      "execution_count": 49,
      "outputs": [
        {
          "output_type": "execute_result",
          "data": {
            "text/plain": [
              "0.009140703073447609"
            ]
          },
          "metadata": {
            "tags": []
          },
          "execution_count": 49
        }
      ]
    },
    {
      "cell_type": "code",
      "metadata": {
        "id": "CMn9VR3IuIu6",
        "colab": {
          "base_uri": "https://localhost:8080/",
          "height": 592
        },
        "outputId": "14a10e90-bbf8-44c7-88d0-06bf1f58b637"
      },
      "source": [
        "# Build DataFrame with column names\r\n",
        "feature_importances = pd.DataFrame(data=best_gb.feature_importances_,\r\n",
        "                                   index=X_train_transformed.columns).T\r\n",
        "\r\n",
        "# Columns of code_module_presentation feature\r\n",
        "class_features = feature_importances.columns.str.extractall(\"(x0_.*)\")[0]\r\n",
        "\r\n",
        "# Columns of region\r\n",
        "region_features = feature_importances.columns.str.extractall(\"(x1_.*)\")[0]\r\n",
        "\r\n",
        "# Sum up the columns as they were before encoding\r\n",
        "feature_importances['code_module_presentation'] = feature_importances[class_features].sum(axis=1)\r\n",
        "feature_importances['region'] = feature_importances[region_features].sum(axis=1)\r\n",
        "\r\n",
        "# Drop columns encoding process created\r\n",
        "feature_importances = feature_importances.drop(class_features, axis=1).drop(region_features, axis=1)\r\n",
        "\r\n",
        "# Rename gender column\r\n",
        "feature_importances.rename({'x2_M': 'gender'}, axis=1, inplace=True)\r\n",
        "\r\n",
        "# Plot the feature importances\r\n",
        "_ = feature_importances.T.sort_values(0).plot(kind='barh', figsize=(10,10))"
      ],
      "execution_count": 28,
      "outputs": [
        {
          "output_type": "display_data",
          "data": {
            "image/png": "[encoded data removed]",
            "text/plain": [
              "<Figure size 720x720 with 1 Axes>"
            ]
          },
          "metadata": {
            "tags": [],
            "needs_background": "light"
          }
        }
      ]
    },
    {
      "cell_type": "code",
      "metadata": {
        "id": "5FLeZ4kcebl5"
      },
      "source": [
        ""
      ],
      "execution_count": null,
      "outputs": []
    }
  ]
}
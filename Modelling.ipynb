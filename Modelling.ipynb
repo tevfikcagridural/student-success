{
  "nbformat": 4,
  "nbformat_minor": 0,
  "metadata": {
    "colab": {
      "name": "Modelling.ipynb",
      "provenance": [],
      "collapsed_sections": [],
      "toc_visible": true,
      "authorship_tag": "ABX9TyOF+etZy49OOeogkHILukrE",
      "include_colab_link": true
    },
    "kernelspec": {
      "name": "python3",
      "display_name": "Python 3"
    }
  },
  "cells": [
    {
      "cell_type": "markdown",
      "metadata": {
        "id": "view-in-github",
        "colab_type": "text"
      },
      "source": [
        "<a href=\"https://colab.research.google.com/github/tevfikcagridural/student-success/blob/master/Modelling.ipynb\" target=\"_parent\"><img src=\"https://colab.research.google.com/assets/colab-badge.svg\" alt=\"Open In Colab\"/></a>"
      ]
    },
    {
      "cell_type": "markdown",
      "metadata": {
        "id": "h7VAcsYanDrk"
      },
      "source": [
        "#Modelling\n",
        "\n",
        "---\n",
        "\n",
        "TODO: write an intro\n",
        "\n",
        "---"
      ]
    },
    {
      "cell_type": "code",
      "metadata": {
        "id": "Phv4ARoKnBMx"
      },
      "source": [
        "import time\n",
        "import numpy as np \n",
        "import pandas as pd\n",
        "import matplotlib.pyplot as plt\n",
        "import seaborn as sns\n",
        "import itertools\n",
        "from sklearn.model_selection import train_test_split\n",
        "from sklearn.model_selection import cross_val_score\n",
        "from sklearn.compose import make_column_transformer\n",
        "from sklearn.impute import SimpleImputer\n",
        "from sklearn.preprocessing import OneHotEncoder\n",
        "from sklearn.preprocessing import OrdinalEncoder\n",
        "from sklearn.preprocessing import StandardScaler\n",
        "from sklearn.pipeline import Pipeline\n",
        "from sklearn.pipeline import make_pipeline\n",
        "from sklearn.linear_model import LogisticRegression\n",
        "from sklearn.neighbors import KNeighborsClassifier\n",
        "from sklearn.svm import SVC\n",
        "from sklearn.ensemble import RandomForestClassifier\n",
        "from sklearn.ensemble import GradientBoostingClassifier\n",
        "from sklearn.naive_bayes import GaussianNB\n",
        "from sklearn.metrics import confusion_matrix\n",
        "from sklearn.metrics import f1_score\n",
        "from sklearn.metrics import accuracy_score\n",
        "from sklearn.metrics import matthews_corrcoef\n",
        "from sklearn.metrics import make_scorer "
      ],
      "execution_count": 1,
      "outputs": []
    },
    {
      "cell_type": "code",
      "metadata": {
        "id": "SGW69RU2nNv6"
      },
      "source": [
        "data = pd.read_csv('https://raw.githubusercontent.com/tevfikcagridural/student-success/master/data/interim/engineered_feature.csv')"
      ],
      "execution_count": 2,
      "outputs": []
    },
    {
      "cell_type": "markdown",
      "metadata": {
        "id": "e-EhX0iUnTbc"
      },
      "source": [
        "# Train Test Split"
      ]
    },
    {
      "cell_type": "code",
      "metadata": {
        "id": "Pgs8B75Un0VD"
      },
      "source": [
        "X = data.drop(columns='final_result')\n",
        "y = data['final_result']"
      ],
      "execution_count": 3,
      "outputs": []
    },
    {
      "cell_type": "code",
      "metadata": {
        "id": "OwWklPyynVN9"
      },
      "source": [
        "X_train, X_test, y_train, y_test = train_test_split(X, y, test_size=0.25)"
      ],
      "execution_count": 4,
      "outputs": []
    },
    {
      "cell_type": "code",
      "metadata": {
        "colab": {
          "base_uri": "https://localhost:8080/"
        },
        "id": "DwwABm3anuyf",
        "outputId": "69724637-a64f-4143-b453-886eff3c5855"
      },
      "source": [
        "X_train.shape, X_test.shape  "
      ],
      "execution_count": 5,
      "outputs": [
        {
          "output_type": "execute_result",
          "data": {
            "text/plain": [
              "((24409, 26), (8137, 26))"
            ]
          },
          "metadata": {
            "tags": []
          },
          "execution_count": 5
        }
      ]
    },
    {
      "cell_type": "code",
      "metadata": {
        "colab": {
          "base_uri": "https://localhost:8080/"
        },
        "id": "Bzc6P4YfoC7K",
        "outputId": "2de537f1-0388-4b7c-d4e0-609b5a09153b"
      },
      "source": [
        "y_train.shape, y_test.shape"
      ],
      "execution_count": 6,
      "outputs": [
        {
          "output_type": "execute_result",
          "data": {
            "text/plain": [
              "((24409,), (8137,))"
            ]
          },
          "metadata": {
            "tags": []
          },
          "execution_count": 6
        }
      ]
    },
    {
      "cell_type": "code",
      "metadata": {
        "colab": {
          "base_uri": "https://localhost:8080/"
        },
        "id": "Wduk_70she5g",
        "outputId": "cd95abfe-3e1e-487b-cf2b-64352280d034"
      },
      "source": [
        "round(y_train.value_counts() / y_train.shape[0], 2)"
      ],
      "execution_count": 7,
      "outputs": [
        {
          "output_type": "execute_result",
          "data": {
            "text/plain": [
              "Pass           0.38\n",
              "Withdrawn      0.31\n",
              "Fail           0.22\n",
              "Distinction    0.09\n",
              "Name: final_result, dtype: float64"
            ]
          },
          "metadata": {
            "tags": []
          },
          "execution_count": 7
        }
      ]
    },
    {
      "cell_type": "markdown",
      "metadata": {
        "id": "x8Dae_1RoGkZ"
      },
      "source": [
        "# Preprocessing"
      ]
    },
    {
      "cell_type": "code",
      "metadata": {
        "id": "niiDSHdyoNSG"
      },
      "source": [
        "def X_preprocessor():\n",
        "  \"\"\"Builds the column tranformer of X\n",
        "  returns column transformer to be used to transform X\"\"\"\n",
        "  \n",
        "  # Identify ordinal features to be used in Ordinal Encoder\n",
        "  ordinal_features = ['age_band', 'highest_education', 'imd_band']\n",
        "\n",
        "  # Identify nominal and binary features to be used in One Hot Encoder\n",
        "  nominal_features = ['code_module_presentation', 'region', 'gender']\n",
        "\n",
        "  # Identify numerical features to be scaled\n",
        "  numerical_features = ['num_of_prev_attempts', 'studied_credits', 'disability',\n",
        "                        'module_presentation_length', 'date_registration', \n",
        "                        'first_score','mean_score', 'last_score', \n",
        "                        'min_weight_score', 'max_weight_score','has_exam', \n",
        "                        'subpage_clicks', 'forumng_clicks', 'homepage_clicks',\n",
        "                        'oucontent_clicks', 'ouwiki_clicks', 'quiz_clicks', \n",
        "                        'resource_clicks','url_clicks']\n",
        "\n",
        "\n",
        "  # Make a piple for Ordinal features to be encoded and impute\n",
        "  ordinal_procedure = make_pipeline(\n",
        "      SimpleImputer(strategy='most_frequent'), # To impute imd_band NaN values \n",
        "      OrdinalEncoder())\n",
        "  \n",
        "  # Set final transformer for all features and their related transformations\n",
        "  preprocessor = make_column_transformer((ordinal_procedure, ordinal_features),\n",
        "                          (OneHotEncoder(drop='first'), nominal_features),\n",
        "                          (StandardScaler(), numerical_features),\n",
        "                          remainder='passthrough')\n",
        "\n",
        "\n",
        "  return preprocessor"
      ],
      "execution_count": 8,
      "outputs": []
    },
    {
      "cell_type": "markdown",
      "metadata": {
        "id": "kV1AkYknoWqW"
      },
      "source": [
        "# Models\n",
        "- Logistic regression\n",
        "- K Nearest Neighbors\n",
        "- Support Vector Machine\n",
        "- Random Forest\n",
        "- Gradient Boost\n",
        "- Naive Bayes\n",
        "\n",
        "I'll build each model with some basic hyperparameter tuning and compare their results to decide which model to build with more sophisticated hyperparameter tuning. \n",
        "My data is both multi-class and imbalanced. I should evaluate and choose my model considering this.\n"
      ]
    },
    {
      "cell_type": "markdown",
      "metadata": {
        "id": "72nX1Gri1K3b"
      },
      "source": [
        "Reasons to chose these metrics:\n",
        "\n",
        "\n",
        "---\n",
        "\n",
        "TODO: Explain the process\n",
        "\n",
        "1.   MCC\n",
        "2.   ACC\n",
        "\n",
        "\n",
        "\n",
        "F1 will be computed with micro-average https://www.kdnuggets.com/2018/06/right-metric-evaluating-machine-learning-models-2.html\n",
        "\n",
        "---"
      ]
    },
    {
      "cell_type": "code",
      "metadata": {
        "id": "eIe0Y0PRKZyn"
      },
      "source": [
        "def estimator_metrics(estimator):\r\n",
        "  \"\"\"Builds estimator in a random search cv with given parameters\r\n",
        "  then calculates the best estimators' metric.\"\"\"\r\n",
        "\r\n",
        "  # Get the name of the model\r\n",
        "  model_name = str(type(estimator)).split('.')[-1][:-2]\r\n",
        "\r\n",
        "  # Build a pipline with estimator and column transformator\r\n",
        "  model_pipe = Pipeline([('preprocessor', X_preprocessor()),\r\n",
        "                         (model_name, estimator)])\r\n",
        "  \r\n",
        "  # Fit the data\r\n",
        "  model_pipe.fit(X_train, y_train)\r\n",
        "\r\n",
        "  # Predict train data with the estimator\r\n",
        "  y_predict_train = model_pipe.predict(X_train)\r\n",
        "\r\n",
        "  # Calculate the train metrics of the model\r\n",
        "  optimal_mcc_train = matthews_corrcoef(y_train, y_predict_train)\r\n",
        "  optimal_accuracy_train = accuracy_score(y_train, y_predict_train)\r\n",
        "  optimal_f1_train = f1_score(y_train, y_predict_train, average='micro')\r\n",
        "  optimal_conf_matx_train = confusion_matrix(y_train, y_predict_train)\r\n",
        "\r\n",
        "  # Predict test data with the estimator\r\n",
        "  y_predict_test = model_pipe.predict(X_test)\r\n",
        "\r\n",
        "  # Calculate the test metrics of the model\r\n",
        "  optimal_mcc_test = matthews_corrcoef(y_test, y_predict_test)\r\n",
        "  optimal_accuracy_test = accuracy_score(y_test, y_predict_test)\r\n",
        "  optimal_f1_test = f1_score(y_test, y_predict_test, average='micro')\r\n",
        "  optimal_conf_matx_test = confusion_matrix(y_test, y_predict_test)\r\n",
        "\r\n",
        "  # Set metrics as dataframe\r\n",
        "  metrics =  np.array([[model_name,\r\n",
        "                       'train',\r\n",
        "                       optimal_mcc_train,\r\n",
        "                       optimal_accuracy_train, \r\n",
        "                       optimal_f1_train,\r\n",
        "                       optimal_conf_matx_train],\r\n",
        "                       [model_name,\r\n",
        "                       'test',\r\n",
        "                       optimal_mcc_test,\r\n",
        "                       optimal_accuracy_test, \r\n",
        "                       optimal_f1_test,\r\n",
        "                       optimal_conf_matx_test]], dtype='object')\r\n",
        "\r\n",
        "  return metrics"
      ],
      "execution_count": 9,
      "outputs": []
    },
    {
      "cell_type": "code",
      "metadata": {
        "id": "58x3imTPQ8zE"
      },
      "source": [
        "# Logistic regression\r\n",
        "lr = LogisticRegression(n_jobs=-1)\r\n",
        "\r\n",
        "lr_metrics = estimator_metrics(lr)"
      ],
      "execution_count": 10,
      "outputs": []
    },
    {
      "cell_type": "code",
      "metadata": {
        "id": "yvZ0GkUTOPjI"
      },
      "source": [
        "# K Nearest Neighbor\r\n",
        "knn = KNeighborsClassifier(n_jobs=-1)\r\n",
        "\r\n",
        "knn_metrics = estimator_metrics(knn)"
      ],
      "execution_count": 11,
      "outputs": []
    },
    {
      "cell_type": "code",
      "metadata": {
        "id": "dRSGybC9VOsK"
      },
      "source": [
        "# Support Vector Machine\r\n",
        "svc = SVC(C=1.0)\r\n",
        "\r\n",
        "svc_metrics = estimator_metrics(svc)"
      ],
      "execution_count": 12,
      "outputs": []
    },
    {
      "cell_type": "code",
      "metadata": {
        "id": "_HGuGrncQ0uP"
      },
      "source": [
        "# Random Forest\r\n",
        "rf = RandomForestClassifier(n_jobs=-1)\r\n",
        "\r\n",
        "rf_metrics = estimator_metrics(rf)"
      ],
      "execution_count": 13,
      "outputs": []
    },
    {
      "cell_type": "code",
      "metadata": {
        "id": "Wub8aGg8Ntcr"
      },
      "source": [
        "# Gradient Boost\r\n",
        "gb = GradientBoostingClassifier()\r\n",
        "\r\n",
        "gb_metrics = estimator_metrics(gb)"
      ],
      "execution_count": 14,
      "outputs": []
    },
    {
      "cell_type": "code",
      "metadata": {
        "id": "cMCjljibuaJM"
      },
      "source": [
        "# Naive Bayes\r\n",
        "nb = GaussianNB()\r\n",
        "\r\n",
        "nb_metrics = estimator_metrics(nb)"
      ],
      "execution_count": 15,
      "outputs": []
    },
    {
      "cell_type": "markdown",
      "metadata": {
        "id": "nBZ2ctegN6jU"
      },
      "source": [
        "# Comparison of Models\n",
        "---\n",
        "\n",
        "**TODO: explain the process**\n",
        "\n",
        "\n",
        "---"
      ]
    },
    {
      "cell_type": "code",
      "metadata": {
        "id": "BFyrxTA6b6z3"
      },
      "source": [
        "# Build a Dataframe to store the evaluation metrics\r\n",
        "all_metrics = np.concatenate((lr_metrics, knn_metrics, \r\n",
        "                              svc_metrics, rf_metrics, \r\n",
        "                              gb_metrics, nb_metrics))\r\n",
        "\r\n",
        "df_evaluation = pd.DataFrame(all_metrics, \r\n",
        "                             columns=['Model', 'Split', 'MCC', 'Accuracy',\r\n",
        "                                      'F1', 'Confusion Matrix'])\r\n",
        "df_evaluation = df_evaluation.set_index(['Model', 'Split'])"
      ],
      "execution_count": 57,
      "outputs": []
    },
    {
      "cell_type": "code",
      "metadata": {
        "colab": {
          "base_uri": "https://localhost:8080/",
          "height": 399
        },
        "id": "1hz62erp4Ti7",
        "outputId": "3651e95d-be76-4500-a130-e98a6b305ca2"
      },
      "source": [
        "_ = sns.catplot(data=df_evaluation.reset_index(), kind=\"bar\",\r\n",
        "                x=\"Accuracy\", y=\"Model\", hue=\"Split\",\r\n",
        "                palette=\"tab10\", alpha=.6, aspect=1.5)\r\n",
        "_ = plt.title(\"Accuracies of Models\")"
      ],
      "execution_count": 59,
      "outputs": [
        {
          "output_type": "display_data",
          "data": {
            "image/png": "[encoded data removed]",
            "text/plain": [
              "<Figure size 599.375x360 with 1 Axes>"
            ]
          },
          "metadata": {
            "tags": [],
            "needs_background": "light"
          }
        }
      ]
    },
    {
      "cell_type": "code",
      "metadata": {
        "colab": {
          "base_uri": "https://localhost:8080/",
          "height": 399
        },
        "id": "xjT24Zis2xCC",
        "outputId": "de4c1faf-3db8-4ee5-9b24-7ca2ba10cc56"
      },
      "source": [
        "_ = sns.catplot(data=df_evaluation.reset_index(), kind=\"bar\",\r\n",
        "                x=\"MCC\", y=\"Model\", hue=\"Split\",\r\n",
        "                palette=\"tab10\", alpha=.6, aspect=1.5)\r\n",
        "_ = plt.title(\"MCC Scores of Models\")"
      ],
      "execution_count": 18,
      "outputs": [
        {
          "output_type": "display_data",
          "data": {
            "image/png": "[encoded data removed]",
            "text/plain": [
              "<Figure size 599.375x360 with 1 Axes>"
            ]
          },
          "metadata": {
            "tags": [],
            "needs_background": "light"
          }
        }
      ]
    },
    {
      "cell_type": "code",
      "metadata": {
        "colab": {
          "base_uri": "https://localhost:8080/",
          "height": 400
        },
        "id": "i82fC-hAIBN7",
        "outputId": "daa1eae5-7472-4ad7-f0f8-50738db7b5ca"
      },
      "source": [
        "_ = sns.catplot(data=df_evaluation.reset_index(), kind=\"bar\",\r\n",
        "                x=\"F1\", y=\"Model\", hue=\"Split\",\r\n",
        "                palette=\"tab10\", alpha=.6, aspect=1.5)\r\n",
        "_ = plt.title(\"$F1$ Scores of Models\")"
      ],
      "execution_count": 19,
      "outputs": [
        {
          "output_type": "display_data",
          "data": {
            "image/png": "[encoded data removed]",
            "text/plain": [
              "<Figure size 599.375x360 with 1 Axes>"
            ]
          },
          "metadata": {
            "tags": [],
            "needs_background": "light"
          }
        }
      ]
    },
    {
      "cell_type": "markdown",
      "metadata": {
        "id": "d2yGj8hmmelw"
      },
      "source": [
        "So far the best options seems to be Gradient Boost and Random Forest. Random Forest obvisouly overfitted but this can be tuned."
      ]
    },
    {
      "cell_type": "code",
      "metadata": {
        "id": "i1DRaY61N78g"
      },
      "source": [
        "\"\"\"Resource: https://scikit-learn.org/0.21/auto_examples/model_selection/plot_confusion_matrix.html\"\"\"\n",
        "def plot_confusion_matrix(cm, classes,\n",
        "                          normalize=False,\n",
        "                          title='Confusion matrix',\n",
        "                          cmap=plt.cm.Blues):\n",
        "    \"\"\"\n",
        "    This function prints and plots the confusion matrix.\n",
        "    Normalization can be applied by setting `normalize=True`.\n",
        "    \"\"\"\n",
        "    if normalize:\n",
        "        cm = cm.astype('float') / cm.sum(axis=1)[:, np.newaxis]\n",
        "\n",
        "    plt.imshow(cm, interpolation='nearest', cmap=cmap)\n",
        "    plt.title(title)\n",
        "    plt.colorbar()\n",
        "    tick_marks = np.arange(len(classes))\n",
        "    plt.xticks(tick_marks, classes, rotation=45)\n",
        "    plt.yticks(tick_marks, classes)\n",
        "\n",
        "    fmt = '.2f' if normalize else 'd'\n",
        "    thresh = cm.max() / 2.\n",
        "    for i, j in itertools.product(range(cm.shape[0]), range(cm.shape[1])):\n",
        "        plt.text(j, i, format(cm[i, j], fmt),\n",
        "                 horizontalalignment=\"center\",\n",
        "                 color=\"white\" if cm[i, j] > thresh else \"black\")\n",
        "\n",
        "    plt.tight_layout()\n",
        "    plt.ylabel('True label')\n",
        "    plt.xlabel('Predicted label')"
      ],
      "execution_count": 20,
      "outputs": []
    },
    {
      "cell_type": "code",
      "metadata": {
        "id": "jo_bb26uulJ4",
        "colab": {
          "base_uri": "https://localhost:8080/",
          "height": 311
        },
        "outputId": "5c033998-0213-4f14-cf6d-cb4de7d8f578"
      },
      "source": [
        "class_names = ['Distinction', 'Fail', 'Pass', 'Withdrawn']\n",
        "\n",
        "plot_confusion_matrix(df_evaluation.loc['GradientBoostingClassifier', 'test']['Confusion Matrix'],\n",
        "                      classes=class_names,\n",
        "                      title='Normalized Gradient Boost Confusion Matrix on Test Split',\n",
        "                      normalize=True)"
      ],
      "execution_count": 72,
      "outputs": [
        {
          "output_type": "display_data",
          "data": {
            "image/png": "[encoded data removed]",
            "text/plain": [
              "<Figure size 432x288 with 2 Axes>"
            ]
          },
          "metadata": {
            "tags": [],
            "needs_background": "light"
          }
        }
      ]
    },
    {
      "cell_type": "code",
      "metadata": {
        "colab": {
          "base_uri": "https://localhost:8080/",
          "height": 311
        },
        "id": "nN8_h8Pfqc4V",
        "outputId": "8f3296b0-d4b9-4b58-8236-8200e312bfb2"
      },
      "source": [
        "plot_confusion_matrix(df_evaluation.loc['RandomForestClassifier', 'test']['Confusion Matrix'],\r\n",
        "                      classes=class_names,\r\n",
        "                      title=' Normalized Random Forest Confusion Matrix on Test Split',\r\n",
        "                      normalize=True)"
      ],
      "execution_count": 76,
      "outputs": [
        {
          "output_type": "display_data",
          "data": {
            "image/png": "[encoded data removed]",
            "text/plain": [
              "<Figure size 432x288 with 2 Axes>"
            ]
          },
          "metadata": {
            "tags": [],
            "needs_background": "light"
          }
        }
      ]
    },
    {
      "cell_type": "markdown",
      "metadata": {
        "id": "6EpnQp2nZoqc"
      },
      "source": [
        "Both estimator had problems on distinction and fail labels. They misclassifed them as pass and withdrawn respectively. Which actually makes sense. So I'll work on these and and compare the results again with tuned hyperparamaters with bayesian optimization"
      ]
    },
    {
      "cell_type": "markdown",
      "metadata": {
        "id": "LgKQQygdOB42"
      },
      "source": [
        "# Hyperparameter Tuning\r\n",
        "I'll use Bayesian Optimization for hyperparameter tuning.\r\n"
      ]
    },
    {
      "cell_type": "code",
      "metadata": {
        "colab": {
          "base_uri": "https://localhost:8080/"
        },
        "id": "9c9oqcwLihGO",
        "outputId": "a8ac250a-8ea9-453d-eefe-71d8d1f9f317"
      },
      "source": [
        "pip install bayesian-optimization"
      ],
      "execution_count": 23,
      "outputs": [
        {
          "output_type": "stream",
          "text": [
            "Collecting bayesian-optimization\n",
            "  Downloading https://files.pythonhosted.org/packages/bb/7a/fd8059a3881d3ab37ac8f72f56b73937a14e8bb14a9733e68cc8b17dbe3c/bayesian-optimization-1.2.0.tar.gz\n",
            "Requirement already satisfied: numpy>=1.9.0 in /usr/local/lib/python3.7/dist-packages (from bayesian-optimization) (1.19.5)\n",
            "Requirement already satisfied: scipy>=0.14.0 in /usr/local/lib/python3.7/dist-packages (from bayesian-optimization) (1.4.1)\n",
            "Requirement already satisfied: scikit-learn>=0.18.0 in /usr/local/lib/python3.7/dist-packages (from bayesian-optimization) (0.22.2.post1)\n",
            "Requirement already satisfied: joblib>=0.11 in /usr/local/lib/python3.7/dist-packages (from scikit-learn>=0.18.0->bayesian-optimization) (1.0.1)\n",
            "Building wheels for collected packages: bayesian-optimization\n",
            "  Building wheel for bayesian-optimization (setup.py) ... \u001b[?25l\u001b[?25hdone\n",
            "  Created wheel for bayesian-optimization: filename=bayesian_optimization-1.2.0-cp37-none-any.whl size=11687 sha256=4ca7e250fa3f1da4af2a6e3190c811d86aba84f2888ef55c92b6db9ff1c17125\n",
            "  Stored in directory: /root/.cache/pip/wheels/5a/56/ae/e0e3c1fc1954dc3ec712e2df547235ed072b448094d8f94aec\n",
            "Successfully built bayesian-optimization\n",
            "Installing collected packages: bayesian-optimization\n",
            "Successfully installed bayesian-optimization-1.2.0\n"
          ],
          "name": "stdout"
        }
      ]
    },
    {
      "cell_type": "code",
      "metadata": {
        "id": "DvKJ_35Otcv4"
      },
      "source": [
        "from bayes_opt import BayesianOptimization"
      ],
      "execution_count": 24,
      "outputs": []
    },
    {
      "cell_type": "markdown",
      "metadata": {
        "id": "cMH9pRx8iyAz"
      },
      "source": [
        "## Random Forest Tuning\n",
        "---\n",
        "\n",
        "<div class=\"span5 alert alert-info\">\n",
        "TODO: Explain what you will do\n",
        "<div>\n",
        "\n",
        "---"
      ]
    },
    {
      "cell_type": "code",
      "metadata": {
        "id": "koP6bwW1xcI6"
      },
      "source": [
        "\"\"\"Resource: https://github.com/fmfn/BayesianOptimization/blob/master/examples/sklearn_example.py\r\n",
        "tuned accordingly to this problem's needs\"\"\"\r\n",
        "def rfc_cv(n_estimators, criterion, min_samples_split, max_features, data, targets):\r\n",
        "    \"\"\"Random Forest cross validation.\r\n",
        "    This function will instantiate a random forest classifier with parameters\r\n",
        "    n_estimators, min_samples_split, and max_features. Combined with data and\r\n",
        "    targets this will in turn be used to perform cross validation. The result\r\n",
        "    of cross validation is returned.\r\n",
        "    Our goal is to find combinations of n_estimators, min_samples_split, and\r\n",
        "    max_features that minimzes the log loss.\r\n",
        "    \"\"\"\r\n",
        "    estimator = RandomForestClassifier(\r\n",
        "        n_estimators=n_estimators,\r\n",
        "        criterion=criterion,\r\n",
        "        min_samples_split=min_samples_split,\r\n",
        "        max_features=max_features,\r\n",
        "        n_jobs=-1\r\n",
        "    )\r\n",
        "    scorer = make_scorer(matthews_corrcoef)\r\n",
        "\r\n",
        "    cval = cross_val_score(estimator, data, targets,\r\n",
        "                           scoring=scorer, cv=4)\r\n",
        "    return cval.mean()\r\n",
        "\r\n",
        "    \r\n",
        "def optimize_rfc(data, targets):\r\n",
        "    \"\"\"Apply Bayesian Optimization to Random Forest parameters.\"\"\"\r\n",
        "    def rfc_crossval(n_estimators, criterion, min_samples_split, max_features):\r\n",
        "        \"\"\"Wrapper of RandomForest cross validation.\r\n",
        "        Notice how we ensure n_estimators and min_samples_split are casted\r\n",
        "        to integer before we pass them along. Moreover, to avoid max_features\r\n",
        "        taking values outside the (0, 1) range, we also ensure it is capped\r\n",
        "        accordingly.\r\n",
        "        \"\"\"\r\n",
        "        if int(criterion) == 1:\r\n",
        "          criterion = 'gini'\r\n",
        "        elif int(criterion) == 2:\r\n",
        "          criterion = 'entropy'\r\n",
        "        else:\r\n",
        "            raise MyError(\"Criterion is out of bounds. Must be either 1 or 2\")\r\n",
        "\r\n",
        "        return rfc_cv(\r\n",
        "            n_estimators=int(n_estimators),\r\n",
        "            criterion=criterion,\r\n",
        "            min_samples_split=int(min_samples_split),\r\n",
        "            max_features=max(min(max_features, 0.999), 1e-3),\r\n",
        "            data=data,\r\n",
        "            targets=targets,\r\n",
        "        )\r\n",
        "\r\n",
        "    optimizer = BayesianOptimization(\r\n",
        "        f=rfc_crossval,\r\n",
        "        pbounds={\r\n",
        "            \"n_estimators\": (100, 500),\r\n",
        "            \"criterion\": (1, 3),\r\n",
        "            \"min_samples_split\": (10, 50),\r\n",
        "            \"max_features\": (0.1, 0.999),\r\n",
        "        },\r\n",
        "        verbose=2\r\n",
        "    )\r\n",
        "    optimizer.maximize(init_points=2, n_iter=10)\r\n",
        "\r\n",
        "    print(\"Final result:\", optimizer.max)"
      ],
      "execution_count": 25,
      "outputs": []
    },
    {
      "cell_type": "code",
      "metadata": {
        "id": "fNHtgIXhPtSr"
      },
      "source": [
        "# Create the column transformer and fit it to X_train\n",
        "col_transformer = X_preprocessor().fit(X_train)\n",
        "\n",
        "# Transform X_train\n",
        "X_train_transformed = col_transformer.transform(X_train)"
      ],
      "execution_count": 26,
      "outputs": []
    },
    {
      "cell_type": "code",
      "metadata": {
        "colab": {
          "base_uri": "https://localhost:8080/"
        },
        "id": "nPHz2PoHP1vV",
        "outputId": "4cc2db35-153d-4fea-da9b-3faba63c0d20"
      },
      "source": [
        "optimize_rfc(X_train_transformed, y_train)"
      ],
      "execution_count": 27,
      "outputs": [
        {
          "output_type": "stream",
          "text": [
            "|   iter    |  target   | criterion | max_fe... | min_sa... | n_esti... |\n",
            "-------------------------------------------------------------------------\n",
            "| \u001b[0m 1       \u001b[0m | \u001b[0m 0.5922  \u001b[0m | \u001b[0m 1.608   \u001b[0m | \u001b[0m 0.3537  \u001b[0m | \u001b[0m 11.88   \u001b[0m | \u001b[0m 285.1   \u001b[0m |\n",
            "| \u001b[0m 2       \u001b[0m | \u001b[0m 0.5902  \u001b[0m | \u001b[0m 2.316   \u001b[0m | \u001b[0m 0.5441  \u001b[0m | \u001b[0m 36.2    \u001b[0m | \u001b[0m 301.0   \u001b[0m |\n",
            "| \u001b[0m 3       \u001b[0m | \u001b[0m 0.5839  \u001b[0m | \u001b[0m 2.995   \u001b[0m | \u001b[0m 0.8605  \u001b[0m | \u001b[0m 48.89   \u001b[0m | \u001b[0m 100.1   \u001b[0m |\n",
            "| \u001b[95m 4       \u001b[0m | \u001b[95m 0.5933  \u001b[0m | \u001b[95m 2.483   \u001b[0m | \u001b[95m 0.158   \u001b[0m | \u001b[95m 10.14   \u001b[0m | \u001b[95m 498.9   \u001b[0m |\n",
            "| \u001b[0m 5       \u001b[0m | \u001b[0m 0.5921  \u001b[0m | \u001b[0m 2.878   \u001b[0m | \u001b[0m 0.5453  \u001b[0m | \u001b[0m 10.21   \u001b[0m | \u001b[0m 497.7   \u001b[0m |\n",
            "| \u001b[0m 6       \u001b[0m | \u001b[0m 0.5839  \u001b[0m | \u001b[0m 1.279   \u001b[0m | \u001b[0m 0.8746  \u001b[0m | \u001b[0m 49.03   \u001b[0m | \u001b[0m 499.9   \u001b[0m |\n",
            "| \u001b[0m 7       \u001b[0m | \u001b[0m 0.5848  \u001b[0m | \u001b[0m 1.589   \u001b[0m | \u001b[0m 0.8451  \u001b[0m | \u001b[0m 10.04   \u001b[0m | \u001b[0m 281.4   \u001b[0m |\n",
            "| \u001b[95m 8       \u001b[0m | \u001b[95m 0.5943  \u001b[0m | \u001b[95m 1.409   \u001b[0m | \u001b[95m 0.3088  \u001b[0m | \u001b[95m 10.45   \u001b[0m | \u001b[95m 388.1   \u001b[0m |\n",
            "| \u001b[95m 9       \u001b[0m | \u001b[95m 0.5944  \u001b[0m | \u001b[95m 2.741   \u001b[0m | \u001b[95m 0.1802  \u001b[0m | \u001b[95m 10.52   \u001b[0m | \u001b[95m 414.2   \u001b[0m |\n",
            "| \u001b[0m 10      \u001b[0m | \u001b[0m 0.5935  \u001b[0m | \u001b[0m 1.017   \u001b[0m | \u001b[0m 0.2844  \u001b[0m | \u001b[0m 11.0    \u001b[0m | \u001b[0m 422.5   \u001b[0m |\n",
            "| \u001b[0m 11      \u001b[0m | \u001b[0m 0.5939  \u001b[0m | \u001b[0m 2.987   \u001b[0m | \u001b[0m 0.3416  \u001b[0m | \u001b[0m 11.56   \u001b[0m | \u001b[0m 415.5   \u001b[0m |\n",
            "| \u001b[0m 12      \u001b[0m | \u001b[0m 0.5923  \u001b[0m | \u001b[0m 2.97    \u001b[0m | \u001b[0m 0.3557  \u001b[0m | \u001b[0m 10.2    \u001b[0m | \u001b[0m 433.1   \u001b[0m |\n",
            "=========================================================================\n",
            "Final result: {'target': 0.5944306456568277, 'params': {'criterion': 2.7407903217228653, 'max_features': 0.18017789707379445, 'min_samples_split': 10.523465063078014, 'n_estimators': 414.2031516037412}}\n"
          ],
          "name": "stdout"
        }
      ]
    },
    {
      "cell_type": "code",
      "metadata": {
        "id": "IZb2ak6SV137"
      },
      "source": [
        "# Build the tuned random forest with tuned hyperparameters\r\n",
        "best_rf = RandomForestClassifier(n_estimators=414, \r\n",
        "                                 criterion = 'entropy',\r\n",
        "                                 max_features=0.1802,\r\n",
        "                                 min_samples_split=10,\r\n",
        "                                 n_jobs=-1)"
      ],
      "execution_count": 94,
      "outputs": []
    },
    {
      "cell_type": "code",
      "metadata": {
        "colab": {
          "base_uri": "https://localhost:8080/"
        },
        "id": "DgzaWNh5V6G1",
        "outputId": "3afd9ae5-2390-4c6b-c42f-06b800b0fe72"
      },
      "source": [
        "# Fit estimator to train data\r\n",
        "best_rf.fit(X_train_transformed, y_train)"
      ],
      "execution_count": 95,
      "outputs": [
        {
          "output_type": "execute_result",
          "data": {
            "text/plain": [
              "RandomForestClassifier(bootstrap=True, ccp_alpha=0.0, class_weight=None,\n",
              "                       criterion='entropy', max_depth=None, max_features=0.1802,\n",
              "                       max_leaf_nodes=None, max_samples=None,\n",
              "                       min_impurity_decrease=0.0, min_impurity_split=None,\n",
              "                       min_samples_leaf=1, min_samples_split=10,\n",
              "                       min_weight_fraction_leaf=0.0, n_estimators=414,\n",
              "                       n_jobs=-1, oob_score=False, random_state=None, verbose=0,\n",
              "                       warm_start=False)"
            ]
          },
          "metadata": {
            "tags": []
          },
          "execution_count": 95
        }
      ]
    },
    {
      "cell_type": "code",
      "metadata": {
        "id": "qtQNh2nsV7PE"
      },
      "source": [
        "# Transform X test\r\n",
        "X_test_transformed = col_transformer.transform(X_test)\r\n",
        "\r\n",
        "# Predict y_test\r\n",
        "rf_y_pred_test = best_rf.predict(X_test_transformed)"
      ],
      "execution_count": 96,
      "outputs": []
    },
    {
      "cell_type": "markdown",
      "metadata": {
        "id": "sulgG-ZBqvid"
      },
      "source": [
        "### Changes of te metrics after hyperparameter tuning"
      ]
    },
    {
      "cell_type": "code",
      "metadata": {
        "id": "HhfDkTjmzrb5"
      },
      "source": [
        "# Compute the accuracy and MCC of Best RF\n",
        "rf_accuracy = accuracy_score(y_test, rf_y_pred_test)\n",
        "rf_mcc = matthews_corrcoef(y_test, rf_y_pred_test)"
      ],
      "execution_count": 97,
      "outputs": []
    },
    {
      "cell_type": "code",
      "metadata": {
        "colab": {
          "base_uri": "https://localhost:8080/"
        },
        "id": "bTZwsncQZ4ub",
        "outputId": "16cadc9b-f13a-4917-f452-3b1e1bf20e16"
      },
      "source": [
        "# Accuracy Change\r\n",
        "rf_accuracy - df_evaluation.loc['RandomForestClassifier', 'test']['Accuracy']"
      ],
      "execution_count": 98,
      "outputs": [
        {
          "output_type": "execute_result",
          "data": {
            "text/plain": [
              "0.006759247880053998"
            ]
          },
          "metadata": {
            "tags": []
          },
          "execution_count": 98
        }
      ]
    },
    {
      "cell_type": "code",
      "metadata": {
        "colab": {
          "base_uri": "https://localhost:8080/"
        },
        "id": "l8KyPo-5qhjC",
        "outputId": "a131c1c1-8aa9-4168-e0f8-eca009e0d4ac"
      },
      "source": [
        "# MCC Change\r\n",
        "rf_mcc - df_evaluation.loc['RandomForestClassifier', 'test']['MCC']"
      ],
      "execution_count": 99,
      "outputs": [
        {
          "output_type": "execute_result",
          "data": {
            "text/plain": [
              "0.010319611797146688"
            ]
          },
          "metadata": {
            "tags": []
          },
          "execution_count": 99
        }
      ]
    },
    {
      "cell_type": "code",
      "metadata": {
        "colab": {
          "base_uri": "https://localhost:8080/"
        },
        "id": "bsoFLfjNtW4f",
        "outputId": "22ca0b5d-1395-4eba-9949-446d87909853"
      },
      "source": [
        "# Final Metrics\r\n",
        "rf_accuracy, rf_mcc"
      ],
      "execution_count": 107,
      "outputs": [
        {
          "output_type": "execute_result",
          "data": {
            "text/plain": [
              "(0.7143910532137151, 0.5891124647055381)"
            ]
          },
          "metadata": {
            "tags": []
          },
          "execution_count": 107
        }
      ]
    },
    {
      "cell_type": "markdown",
      "metadata": {
        "id": "gVZdcg8mi6FU"
      },
      "source": [
        "## Gradient Boost Tuning"
      ]
    },
    {
      "cell_type": "markdown",
      "metadata": {
        "id": "MgKKczy4odm4"
      },
      "source": [
        "---\n",
        "\n",
        "TODO: Comment the functions and explain what do they do\n",
        "\n",
        "---"
      ]
    },
    {
      "cell_type": "code",
      "metadata": {
        "id": "gn8l5C_rXC6O"
      },
      "source": [
        "def gbc_cv(n_estimators, learning_rate, min_samples_split, max_features, data, targets):\n",
        "    estimator = GradientBoostingClassifier(\n",
        "        n_estimators=n_estimators,\n",
        "        learning_rate=learning_rate,\n",
        "        min_samples_split=min_samples_split,\n",
        "        max_features=max_features\n",
        "    )\n",
        "    \n",
        "    scorer = make_scorer(matthews_corrcoef)\n",
        "\n",
        "    cval = cross_val_score(estimator, data, targets,\n",
        "                           scoring=scorer, cv=4)\n",
        "    return cval.mean()\n",
        "\n",
        "    \n",
        "def optimize_gbc(data, targets):\n",
        "    def gbc_crossval(n_estimators, learning_rate, min_samples_split, max_features):\n",
        "        \n",
        "        return gbc_cv(\n",
        "            n_estimators=int(n_estimators),\n",
        "            learning_rate=learning_rate,\n",
        "            min_samples_split=int(min_samples_split),\n",
        "            max_features=max(min(max_features, 0.999), 1e-3),\n",
        "            data=data,\n",
        "            targets=targets,\n",
        "        )\n",
        "\n",
        "    optimizer = BayesianOptimization(\n",
        "        f=gbc_crossval,\n",
        "        pbounds={\n",
        "            \"n_estimators\": (100, 500),\n",
        "            \"learning_rate\": (0.1, 1),\n",
        "            \"min_samples_split\": (10, 50),\n",
        "            \"max_features\": (0.1, 0.999),\n",
        "        },\n",
        "        verbose=2\n",
        "    )\n",
        "    optimizer.maximize(init_points=2, n_iter=10)\n",
        "\n",
        "    print(\"Final result:\", optimizer.max)"
      ],
      "execution_count": 30,
      "outputs": []
    },
    {
      "cell_type": "code",
      "metadata": {
        "colab": {
          "base_uri": "https://localhost:8080/"
        },
        "id": "W_Xc-3Esk5P4",
        "outputId": "24773015-28ea-418c-bbde-0e438abcfa1b"
      },
      "source": [
        "optimize_gbc(X_train_transformed, y_train)"
      ],
      "execution_count": 31,
      "outputs": [
        {
          "output_type": "stream",
          "text": [
            "|   iter    |  target   | learni... | max_fe... | min_sa... | n_esti... |\n",
            "-------------------------------------------------------------------------\n",
            "| \u001b[0m 1       \u001b[0m | \u001b[0m 0.56    \u001b[0m | \u001b[0m 0.9956  \u001b[0m | \u001b[0m 0.405   \u001b[0m | \u001b[0m 15.44   \u001b[0m | \u001b[0m 112.5   \u001b[0m |\n",
            "| \u001b[95m 2       \u001b[0m | \u001b[95m 0.5838  \u001b[0m | \u001b[95m 0.4546  \u001b[0m | \u001b[95m 0.5688  \u001b[0m | \u001b[95m 35.53   \u001b[0m | \u001b[95m 263.0   \u001b[0m |\n",
            "| \u001b[0m 3       \u001b[0m | \u001b[0m 0.5749  \u001b[0m | \u001b[0m 0.4216  \u001b[0m | \u001b[0m 0.7538  \u001b[0m | \u001b[0m 12.38   \u001b[0m | \u001b[0m 498.8   \u001b[0m |\n",
            "| \u001b[95m 4       \u001b[0m | \u001b[95m 0.5944  \u001b[0m | \u001b[95m 0.1389  \u001b[0m | \u001b[95m 0.5787  \u001b[0m | \u001b[95m 37.63   \u001b[0m | \u001b[95m 266.4   \u001b[0m |\n",
            "| \u001b[0m 5       \u001b[0m | \u001b[0m 0.574   \u001b[0m | \u001b[0m 0.4225  \u001b[0m | \u001b[0m 0.3894  \u001b[0m | \u001b[0m 49.97   \u001b[0m | \u001b[0m 422.4   \u001b[0m |\n",
            "| \u001b[0m 6       \u001b[0m | \u001b[0m 0.5609  \u001b[0m | \u001b[0m 0.914   \u001b[0m | \u001b[0m 0.5809  \u001b[0m | \u001b[0m 49.93   \u001b[0m | \u001b[0m 104.9   \u001b[0m |\n",
            "| \u001b[0m 7       \u001b[0m | \u001b[0m 0.5843  \u001b[0m | \u001b[0m 0.3014  \u001b[0m | \u001b[0m 0.8391  \u001b[0m | \u001b[0m 10.16   \u001b[0m | \u001b[0m 361.8   \u001b[0m |\n",
            "| \u001b[0m 8       \u001b[0m | \u001b[0m 0.553   \u001b[0m | \u001b[0m 0.8656  \u001b[0m | \u001b[0m 0.6608  \u001b[0m | \u001b[0m 49.82   \u001b[0m | \u001b[0m 334.0   \u001b[0m |\n",
            "| \u001b[0m 9       \u001b[0m | \u001b[0m 0.5547  \u001b[0m | \u001b[0m 0.8006  \u001b[0m | \u001b[0m 0.8487  \u001b[0m | \u001b[0m 49.88   \u001b[0m | \u001b[0m 499.4   \u001b[0m |\n",
            "| \u001b[0m 10      \u001b[0m | \u001b[0m 0.5921  \u001b[0m | \u001b[0m 0.2077  \u001b[0m | \u001b[0m 0.6928  \u001b[0m | \u001b[0m 49.9    \u001b[0m | \u001b[0m 184.7   \u001b[0m |\n",
            "| \u001b[0m 11      \u001b[0m | \u001b[0m 0.5938  \u001b[0m | \u001b[0m 0.1604  \u001b[0m | \u001b[0m 0.5091  \u001b[0m | \u001b[0m 10.37   \u001b[0m | \u001b[0m 440.4   \u001b[0m |\n",
            "| \u001b[0m 12      \u001b[0m | \u001b[0m 0.5622  \u001b[0m | \u001b[0m 0.6454  \u001b[0m | \u001b[0m 0.9804  \u001b[0m | \u001b[0m 49.81   \u001b[0m | \u001b[0m 245.1   \u001b[0m |\n",
            "=========================================================================\n",
            "Final result: {'target': 0.5943903924227465, 'params': {'learning_rate': 0.13888236619035807, 'max_features': 0.5786612892900626, 'min_samples_split': 37.631652467198435, 'n_estimators': 266.4410215231289}}\n"
          ],
          "name": "stdout"
        }
      ]
    },
    {
      "cell_type": "code",
      "metadata": {
        "id": "UQlAuQaklGDA"
      },
      "source": [
        "# Build the tuned Gradient Boosting Classifer\r\n",
        "best_gb = GradientBoostingClassifier(learning_rate= 0.1389, \r\n",
        "                                     max_features= 0.5787, \r\n",
        "                                     min_samples_split= 37,\r\n",
        "                                     n_estimators= 266)"
      ],
      "execution_count": 100,
      "outputs": []
    },
    {
      "cell_type": "code",
      "metadata": {
        "colab": {
          "base_uri": "https://localhost:8080/"
        },
        "id": "pBIU_yiD0nx9",
        "outputId": "16c76d03-c4d7-4f37-bb64-f3a09c467b67"
      },
      "source": [
        "# Fit Estimator to train data\r\n",
        "best_gb.fit(X_train_transformed, y_train)"
      ],
      "execution_count": 101,
      "outputs": [
        {
          "output_type": "execute_result",
          "data": {
            "text/plain": [
              "GradientBoostingClassifier(ccp_alpha=0.0, criterion='friedman_mse', init=None,\n",
              "                           learning_rate=0.1389, loss='deviance', max_depth=3,\n",
              "                           max_features=0.5787, max_leaf_nodes=None,\n",
              "                           min_impurity_decrease=0.0, min_impurity_split=None,\n",
              "                           min_samples_leaf=1, min_samples_split=37,\n",
              "                           min_weight_fraction_leaf=0.0, n_estimators=266,\n",
              "                           n_iter_no_change=None, presort='deprecated',\n",
              "                           random_state=None, subsample=1.0, tol=0.0001,\n",
              "                           validation_fraction=0.1, verbose=0,\n",
              "                           warm_start=False)"
            ]
          },
          "metadata": {
            "tags": []
          },
          "execution_count": 101
        }
      ]
    },
    {
      "cell_type": "code",
      "metadata": {
        "id": "61aweMpU0rSt"
      },
      "source": [
        "# Predict y_test\r\n",
        "gb_y_pred_test = best_gb.predict(X_test_transformed)"
      ],
      "execution_count": 102,
      "outputs": []
    },
    {
      "cell_type": "markdown",
      "metadata": {
        "id": "bcveWqtlrkD5"
      },
      "source": [
        "### Changes of metrics after hyperparameter tuning"
      ]
    },
    {
      "cell_type": "code",
      "metadata": {
        "id": "bxOPVLN12MEX"
      },
      "source": [
        "# Compute the mecric for tuned Gradient Boosting\n",
        "gb_accuracy = accuracy_score(y_test, gb_y_pred_test)\n",
        "gb_mcc = matthews_corrcoef(y_test, gb_y_pred_test)"
      ],
      "execution_count": 103,
      "outputs": []
    },
    {
      "cell_type": "code",
      "metadata": {
        "colab": {
          "base_uri": "https://localhost:8080/"
        },
        "id": "54QvEP1UQT9b",
        "outputId": "3964493f-6207-4ca5-aa35-ab279c1c07e2"
      },
      "source": [
        "# Accuracy Change\r\n",
        "gb_accuracy - df_evaluation.loc['GradientBoostingClassifier', 'test']['Accuracy']"
      ],
      "execution_count": 104,
      "outputs": [
        {
          "output_type": "execute_result",
          "data": {
            "text/plain": [
              "0.0040555487280324876"
            ]
          },
          "metadata": {
            "tags": []
          },
          "execution_count": 104
        }
      ]
    },
    {
      "cell_type": "code",
      "metadata": {
        "colab": {
          "base_uri": "https://localhost:8080/"
        },
        "id": "LgtlxRgqsPby",
        "outputId": "e285c342-2c01-426e-a25e-411ab2784f83"
      },
      "source": [
        "# MCC Cnage\r\n",
        "gb_mcc - df_evaluation.loc['GradientBoostingClassifier', 'test']['MCC']"
      ],
      "execution_count": 105,
      "outputs": [
        {
          "output_type": "execute_result",
          "data": {
            "text/plain": [
              "0.005648400261429987"
            ]
          },
          "metadata": {
            "tags": []
          },
          "execution_count": 105
        }
      ]
    },
    {
      "cell_type": "code",
      "metadata": {
        "colab": {
          "base_uri": "https://localhost:8080/"
        },
        "id": "8fgufeDeseJN",
        "outputId": "bc78103f-4b8d-4e33-833c-3248c788185b"
      },
      "source": [
        "# Final metrics\r\n",
        "gb_accuracy, gb_mcc"
      ],
      "execution_count": 106,
      "outputs": [
        {
          "output_type": "execute_result",
          "data": {
            "text/plain": [
              "(0.7199213469337594, 0.5969379232347135)"
            ]
          },
          "metadata": {
            "tags": []
          },
          "execution_count": 106
        }
      ]
    },
    {
      "cell_type": "code",
      "metadata": {
        "id": "ZoDNJBixtU8b"
      },
      "source": [
        ""
      ],
      "execution_count": null,
      "outputs": []
    }
  ]
}
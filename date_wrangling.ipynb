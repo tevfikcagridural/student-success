{
  "nbformat": 4,
  "nbformat_minor": 0,
  "metadata": {
    "colab": {
      "name": "[Tevfik Çağrı Dural] - Capstone 2 .ipynb",
      "provenance": [],
      "authorship_tag": "ABX9TyOVTBWmhmqZ3a2yfbiulDUv",
      "include_colab_link": true
    },
    "kernelspec": {
      "name": "python3",
      "display_name": "Python 3"
    }
  },
  "cells": [
    {
      "cell_type": "markdown",
      "metadata": {
        "id": "view-in-github",
        "colab_type": "text"
      },
      "source": [
        "<a href=\"https://colab.research.google.com/github/tevfikcagridural/student-success/blob/master/date_wrangling.ipynb\" target=\"_parent\"><img src=\"https://colab.research.google.com/assets/colab-badge.svg\" alt=\"Open In Colab\"/></a>"
      ]
    },
    {
      "cell_type": "markdown",
      "metadata": {
        "id": "uiY2BrSxiIr_"
      },
      "source": [
        "## Imports"
      ]
    },
    {
      "cell_type": "code",
      "metadata": {
        "id": "mKrgDu8iI3rk"
      },
      "source": [
        "from google.colab import drive\n",
        "import pandas as pd "
      ],
      "execution_count": null,
      "outputs": []
    },
    {
      "cell_type": "markdown",
      "metadata": {
        "id": "KJM9jWdRsTRT"
      },
      "source": [
        "## Setting up Google Drive connection"
      ]
    },
    {
      "cell_type": "code",
      "metadata": {
        "id": "-WkmLXZjkblJ",
        "colab": {
          "base_uri": "https://localhost:8080/"
        },
        "outputId": "ef525f8d-751e-4558-e97a-5884f54e5c26"
      },
      "source": [
        "drive.mount('/gdrive')"
      ],
      "execution_count": null,
      "outputs": [
        {
          "output_type": "stream",
          "text": [
            "Mounted at /gdrive\n"
          ],
          "name": "stdout"
        }
      ]
    },
    {
      "cell_type": "markdown",
      "metadata": {
        "id": "eGXlt5-4skZB"
      },
      "source": [
        "## Importing the data"
      ]
    },
    {
      "cell_type": "code",
      "metadata": {
        "id": "JVuV4wuyJSny"
      },
      "source": [
        "data_folder =  '/gdrive/My Drive/Data Science Career Track/Unit 7/capstone_two_project_folder/data/'"
      ],
      "execution_count": null,
      "outputs": []
    },
    {
      "cell_type": "code",
      "metadata": {
        "id": "goTAABH1hCYy"
      },
      "source": [
        "file_assessments  = data_folder + 'assessments.csv'\n",
        "file_courses = data_folder + 'courses.csv'\n",
        "file_student_assessment = data_folder + 'studentAssessment.csv'\n",
        "file_student_info = data_folder + 'studentInfo.csv'\n",
        "file_student_register = data_folder + 'studentRegistration.csv'\n",
        "file_student_vle = data_folder + 'studentVle.csv'\n",
        "file_vle = data_folder + 'vle.csv'"
      ],
      "execution_count": null,
      "outputs": []
    },
    {
      "cell_type": "code",
      "metadata": {
        "id": "UAUHWTHvj_TV"
      },
      "source": [
        "assessments = pd.read_csv(file_assessments)\n",
        "courses = pd.read_csv(file_courses)\n",
        "student_assessment = pd.read_csv(file_student_assessment)\n",
        "student_info = pd.read_csv(file_student_info)\n",
        "student_register = pd.read_csv(file_student_register)\n",
        "student_vle = pd.read_csv(file_student_vle)\n",
        "vle = pd.read_csv(file_vle)"
      ],
      "execution_count": null,
      "outputs": []
    },
    {
      "cell_type": "markdown",
      "metadata": {
        "id": "1LOwKmSk6xWf"
      },
      "source": [
        "## Eyeballing on the data"
      ]
    },
    {
      "cell_type": "code",
      "metadata": {
        "colab": {
          "base_uri": "https://localhost:8080/",
          "height": 206
        },
        "id": "J4OA5EJ95RYY",
        "outputId": "a25deacd-ffc5-48fe-c477-b6f33a8edff2"
      },
      "source": [
        "assessments.head()"
      ],
      "execution_count": null,
      "outputs": [
        {
          "output_type": "execute_result",
          "data": {
            "text/html": [
              "<div>\n",
              "<style scoped>\n",
              "    .dataframe tbody tr th:only-of-type {\n",
              "        vertical-align: middle;\n",
              "    }\n",
              "\n",
              "    .dataframe tbody tr th {\n",
              "        vertical-align: top;\n",
              "    }\n",
              "\n",
              "    .dataframe thead th {\n",
              "        text-align: right;\n",
              "    }\n",
              "</style>\n",
              "<table border=\"1\" class=\"dataframe\">\n",
              "  <thead>\n",
              "    <tr style=\"text-align: right;\">\n",
              "      <th></th>\n",
              "      <th>code_module</th>\n",
              "      <th>code_presentation</th>\n",
              "      <th>id_assessment</th>\n",
              "      <th>assessment_type</th>\n",
              "      <th>date</th>\n",
              "      <th>weight</th>\n",
              "    </tr>\n",
              "  </thead>\n",
              "  <tbody>\n",
              "    <tr>\n",
              "      <th>0</th>\n",
              "      <td>AAA</td>\n",
              "      <td>2013J</td>\n",
              "      <td>1752</td>\n",
              "      <td>TMA</td>\n",
              "      <td>19.0</td>\n",
              "      <td>10.0</td>\n",
              "    </tr>\n",
              "    <tr>\n",
              "      <th>1</th>\n",
              "      <td>AAA</td>\n",
              "      <td>2013J</td>\n",
              "      <td>1753</td>\n",
              "      <td>TMA</td>\n",
              "      <td>54.0</td>\n",
              "      <td>20.0</td>\n",
              "    </tr>\n",
              "    <tr>\n",
              "      <th>2</th>\n",
              "      <td>AAA</td>\n",
              "      <td>2013J</td>\n",
              "      <td>1754</td>\n",
              "      <td>TMA</td>\n",
              "      <td>117.0</td>\n",
              "      <td>20.0</td>\n",
              "    </tr>\n",
              "    <tr>\n",
              "      <th>3</th>\n",
              "      <td>AAA</td>\n",
              "      <td>2013J</td>\n",
              "      <td>1755</td>\n",
              "      <td>TMA</td>\n",
              "      <td>166.0</td>\n",
              "      <td>20.0</td>\n",
              "    </tr>\n",
              "    <tr>\n",
              "      <th>4</th>\n",
              "      <td>AAA</td>\n",
              "      <td>2013J</td>\n",
              "      <td>1756</td>\n",
              "      <td>TMA</td>\n",
              "      <td>215.0</td>\n",
              "      <td>30.0</td>\n",
              "    </tr>\n",
              "  </tbody>\n",
              "</table>\n",
              "</div>"
            ],
            "text/plain": [
              "  code_module code_presentation  id_assessment assessment_type   date  weight\n",
              "0         AAA             2013J           1752             TMA   19.0    10.0\n",
              "1         AAA             2013J           1753             TMA   54.0    20.0\n",
              "2         AAA             2013J           1754             TMA  117.0    20.0\n",
              "3         AAA             2013J           1755             TMA  166.0    20.0\n",
              "4         AAA             2013J           1756             TMA  215.0    30.0"
            ]
          },
          "metadata": {
            "tags": []
          },
          "execution_count": 7
        }
      ]
    },
    {
      "cell_type": "code",
      "metadata": {
        "colab": {
          "base_uri": "https://localhost:8080/",
          "height": 206
        },
        "id": "yTIChlTZ5Tfk",
        "outputId": "56bd0209-4adc-42f6-f908-6fe567963035"
      },
      "source": [
        "courses.head()"
      ],
      "execution_count": null,
      "outputs": [
        {
          "output_type": "execute_result",
          "data": {
            "text/html": [
              "<div>\n",
              "<style scoped>\n",
              "    .dataframe tbody tr th:only-of-type {\n",
              "        vertical-align: middle;\n",
              "    }\n",
              "\n",
              "    .dataframe tbody tr th {\n",
              "        vertical-align: top;\n",
              "    }\n",
              "\n",
              "    .dataframe thead th {\n",
              "        text-align: right;\n",
              "    }\n",
              "</style>\n",
              "<table border=\"1\" class=\"dataframe\">\n",
              "  <thead>\n",
              "    <tr style=\"text-align: right;\">\n",
              "      <th></th>\n",
              "      <th>code_module</th>\n",
              "      <th>code_presentation</th>\n",
              "      <th>module_presentation_length</th>\n",
              "    </tr>\n",
              "  </thead>\n",
              "  <tbody>\n",
              "    <tr>\n",
              "      <th>0</th>\n",
              "      <td>AAA</td>\n",
              "      <td>2013J</td>\n",
              "      <td>268</td>\n",
              "    </tr>\n",
              "    <tr>\n",
              "      <th>1</th>\n",
              "      <td>AAA</td>\n",
              "      <td>2014J</td>\n",
              "      <td>269</td>\n",
              "    </tr>\n",
              "    <tr>\n",
              "      <th>2</th>\n",
              "      <td>BBB</td>\n",
              "      <td>2013J</td>\n",
              "      <td>268</td>\n",
              "    </tr>\n",
              "    <tr>\n",
              "      <th>3</th>\n",
              "      <td>BBB</td>\n",
              "      <td>2014J</td>\n",
              "      <td>262</td>\n",
              "    </tr>\n",
              "    <tr>\n",
              "      <th>4</th>\n",
              "      <td>BBB</td>\n",
              "      <td>2013B</td>\n",
              "      <td>240</td>\n",
              "    </tr>\n",
              "  </tbody>\n",
              "</table>\n",
              "</div>"
            ],
            "text/plain": [
              "  code_module code_presentation  module_presentation_length\n",
              "0         AAA             2013J                         268\n",
              "1         AAA             2014J                         269\n",
              "2         BBB             2013J                         268\n",
              "3         BBB             2014J                         262\n",
              "4         BBB             2013B                         240"
            ]
          },
          "metadata": {
            "tags": []
          },
          "execution_count": 8
        }
      ]
    },
    {
      "cell_type": "code",
      "metadata": {
        "colab": {
          "base_uri": "https://localhost:8080/",
          "height": 206
        },
        "id": "kDTIa2E75VmZ",
        "outputId": "4e8a2200-1e1c-4828-a252-15d5a07b885f"
      },
      "source": [
        "student_assessment.head()"
      ],
      "execution_count": null,
      "outputs": [
        {
          "output_type": "execute_result",
          "data": {
            "text/html": [
              "<div>\n",
              "<style scoped>\n",
              "    .dataframe tbody tr th:only-of-type {\n",
              "        vertical-align: middle;\n",
              "    }\n",
              "\n",
              "    .dataframe tbody tr th {\n",
              "        vertical-align: top;\n",
              "    }\n",
              "\n",
              "    .dataframe thead th {\n",
              "        text-align: right;\n",
              "    }\n",
              "</style>\n",
              "<table border=\"1\" class=\"dataframe\">\n",
              "  <thead>\n",
              "    <tr style=\"text-align: right;\">\n",
              "      <th></th>\n",
              "      <th>id_assessment</th>\n",
              "      <th>id_student</th>\n",
              "      <th>date_submitted</th>\n",
              "      <th>is_banked</th>\n",
              "      <th>score</th>\n",
              "    </tr>\n",
              "  </thead>\n",
              "  <tbody>\n",
              "    <tr>\n",
              "      <th>0</th>\n",
              "      <td>1752</td>\n",
              "      <td>11391</td>\n",
              "      <td>18</td>\n",
              "      <td>0</td>\n",
              "      <td>78.0</td>\n",
              "    </tr>\n",
              "    <tr>\n",
              "      <th>1</th>\n",
              "      <td>1752</td>\n",
              "      <td>28400</td>\n",
              "      <td>22</td>\n",
              "      <td>0</td>\n",
              "      <td>70.0</td>\n",
              "    </tr>\n",
              "    <tr>\n",
              "      <th>2</th>\n",
              "      <td>1752</td>\n",
              "      <td>31604</td>\n",
              "      <td>17</td>\n",
              "      <td>0</td>\n",
              "      <td>72.0</td>\n",
              "    </tr>\n",
              "    <tr>\n",
              "      <th>3</th>\n",
              "      <td>1752</td>\n",
              "      <td>32885</td>\n",
              "      <td>26</td>\n",
              "      <td>0</td>\n",
              "      <td>69.0</td>\n",
              "    </tr>\n",
              "    <tr>\n",
              "      <th>4</th>\n",
              "      <td>1752</td>\n",
              "      <td>38053</td>\n",
              "      <td>19</td>\n",
              "      <td>0</td>\n",
              "      <td>79.0</td>\n",
              "    </tr>\n",
              "  </tbody>\n",
              "</table>\n",
              "</div>"
            ],
            "text/plain": [
              "   id_assessment  id_student  date_submitted  is_banked  score\n",
              "0           1752       11391              18          0   78.0\n",
              "1           1752       28400              22          0   70.0\n",
              "2           1752       31604              17          0   72.0\n",
              "3           1752       32885              26          0   69.0\n",
              "4           1752       38053              19          0   79.0"
            ]
          },
          "metadata": {
            "tags": []
          },
          "execution_count": 9
        }
      ]
    },
    {
      "cell_type": "code",
      "metadata": {
        "colab": {
          "base_uri": "https://localhost:8080/"
        },
        "id": "wJxyzmpuAyvp",
        "outputId": "554d409d-62f0-4d35-f9d3-5991fccc6fc8"
      },
      "source": [
        "student_info.info()"
      ],
      "execution_count": null,
      "outputs": [
        {
          "output_type": "stream",
          "text": [
            "<class 'pandas.core.frame.DataFrame'>\n",
            "RangeIndex: 32593 entries, 0 to 32592\n",
            "Data columns (total 12 columns):\n",
            " #   Column                Non-Null Count  Dtype \n",
            "---  ------                --------------  ----- \n",
            " 0   code_module           32593 non-null  object\n",
            " 1   code_presentation     32593 non-null  object\n",
            " 2   id_student            32593 non-null  int64 \n",
            " 3   gender                32593 non-null  object\n",
            " 4   region                32593 non-null  object\n",
            " 5   highest_education     32593 non-null  object\n",
            " 6   imd_band              31482 non-null  object\n",
            " 7   age_band              32593 non-null  object\n",
            " 8   num_of_prev_attempts  32593 non-null  int64 \n",
            " 9   studied_credits       32593 non-null  int64 \n",
            " 10  disability            32593 non-null  object\n",
            " 11  final_result          32593 non-null  object\n",
            "dtypes: int64(3), object(9)\n",
            "memory usage: 3.0+ MB\n"
          ],
          "name": "stdout"
        }
      ]
    },
    {
      "cell_type": "code",
      "metadata": {
        "colab": {
          "base_uri": "https://localhost:8080/",
          "height": 206
        },
        "id": "zDr358eY5Xj7",
        "outputId": "924208be-5d5b-41ef-ff1e-37baa1c584a3"
      },
      "source": [
        "student_info.head()"
      ],
      "execution_count": null,
      "outputs": [
        {
          "output_type": "execute_result",
          "data": {
            "text/html": [
              "<div>\n",
              "<style scoped>\n",
              "    .dataframe tbody tr th:only-of-type {\n",
              "        vertical-align: middle;\n",
              "    }\n",
              "\n",
              "    .dataframe tbody tr th {\n",
              "        vertical-align: top;\n",
              "    }\n",
              "\n",
              "    .dataframe thead th {\n",
              "        text-align: right;\n",
              "    }\n",
              "</style>\n",
              "<table border=\"1\" class=\"dataframe\">\n",
              "  <thead>\n",
              "    <tr style=\"text-align: right;\">\n",
              "      <th></th>\n",
              "      <th>code_module</th>\n",
              "      <th>code_presentation</th>\n",
              "      <th>id_student</th>\n",
              "      <th>gender</th>\n",
              "      <th>region</th>\n",
              "      <th>highest_education</th>\n",
              "      <th>imd_band</th>\n",
              "      <th>age_band</th>\n",
              "      <th>num_of_prev_attempts</th>\n",
              "      <th>studied_credits</th>\n",
              "      <th>disability</th>\n",
              "      <th>final_result</th>\n",
              "    </tr>\n",
              "  </thead>\n",
              "  <tbody>\n",
              "    <tr>\n",
              "      <th>0</th>\n",
              "      <td>AAA</td>\n",
              "      <td>2013J</td>\n",
              "      <td>11391</td>\n",
              "      <td>M</td>\n",
              "      <td>East Anglian Region</td>\n",
              "      <td>HE Qualification</td>\n",
              "      <td>90-100%</td>\n",
              "      <td>55&lt;=</td>\n",
              "      <td>0</td>\n",
              "      <td>240</td>\n",
              "      <td>N</td>\n",
              "      <td>Pass</td>\n",
              "    </tr>\n",
              "    <tr>\n",
              "      <th>1</th>\n",
              "      <td>AAA</td>\n",
              "      <td>2013J</td>\n",
              "      <td>28400</td>\n",
              "      <td>F</td>\n",
              "      <td>Scotland</td>\n",
              "      <td>HE Qualification</td>\n",
              "      <td>20-30%</td>\n",
              "      <td>35-55</td>\n",
              "      <td>0</td>\n",
              "      <td>60</td>\n",
              "      <td>N</td>\n",
              "      <td>Pass</td>\n",
              "    </tr>\n",
              "    <tr>\n",
              "      <th>2</th>\n",
              "      <td>AAA</td>\n",
              "      <td>2013J</td>\n",
              "      <td>30268</td>\n",
              "      <td>F</td>\n",
              "      <td>North Western Region</td>\n",
              "      <td>A Level or Equivalent</td>\n",
              "      <td>30-40%</td>\n",
              "      <td>35-55</td>\n",
              "      <td>0</td>\n",
              "      <td>60</td>\n",
              "      <td>Y</td>\n",
              "      <td>Withdrawn</td>\n",
              "    </tr>\n",
              "    <tr>\n",
              "      <th>3</th>\n",
              "      <td>AAA</td>\n",
              "      <td>2013J</td>\n",
              "      <td>31604</td>\n",
              "      <td>F</td>\n",
              "      <td>South East Region</td>\n",
              "      <td>A Level or Equivalent</td>\n",
              "      <td>50-60%</td>\n",
              "      <td>35-55</td>\n",
              "      <td>0</td>\n",
              "      <td>60</td>\n",
              "      <td>N</td>\n",
              "      <td>Pass</td>\n",
              "    </tr>\n",
              "    <tr>\n",
              "      <th>4</th>\n",
              "      <td>AAA</td>\n",
              "      <td>2013J</td>\n",
              "      <td>32885</td>\n",
              "      <td>F</td>\n",
              "      <td>West Midlands Region</td>\n",
              "      <td>Lower Than A Level</td>\n",
              "      <td>50-60%</td>\n",
              "      <td>0-35</td>\n",
              "      <td>0</td>\n",
              "      <td>60</td>\n",
              "      <td>N</td>\n",
              "      <td>Pass</td>\n",
              "    </tr>\n",
              "  </tbody>\n",
              "</table>\n",
              "</div>"
            ],
            "text/plain": [
              "  code_module code_presentation  ...  disability final_result\n",
              "0         AAA             2013J  ...           N         Pass\n",
              "1         AAA             2013J  ...           N         Pass\n",
              "2         AAA             2013J  ...           Y    Withdrawn\n",
              "3         AAA             2013J  ...           N         Pass\n",
              "4         AAA             2013J  ...           N         Pass\n",
              "\n",
              "[5 rows x 12 columns]"
            ]
          },
          "metadata": {
            "tags": []
          },
          "execution_count": 11
        }
      ]
    },
    {
      "cell_type": "code",
      "metadata": {
        "colab": {
          "base_uri": "https://localhost:8080/",
          "height": 206
        },
        "id": "_JOnI3lo5Z0r",
        "outputId": "55c88873-7f20-41c7-fe6d-a161e9d9d150"
      },
      "source": [
        "student_register.head()"
      ],
      "execution_count": null,
      "outputs": [
        {
          "output_type": "execute_result",
          "data": {
            "text/html": [
              "<div>\n",
              "<style scoped>\n",
              "    .dataframe tbody tr th:only-of-type {\n",
              "        vertical-align: middle;\n",
              "    }\n",
              "\n",
              "    .dataframe tbody tr th {\n",
              "        vertical-align: top;\n",
              "    }\n",
              "\n",
              "    .dataframe thead th {\n",
              "        text-align: right;\n",
              "    }\n",
              "</style>\n",
              "<table border=\"1\" class=\"dataframe\">\n",
              "  <thead>\n",
              "    <tr style=\"text-align: right;\">\n",
              "      <th></th>\n",
              "      <th>code_module</th>\n",
              "      <th>code_presentation</th>\n",
              "      <th>id_student</th>\n",
              "      <th>date_registration</th>\n",
              "      <th>date_unregistration</th>\n",
              "    </tr>\n",
              "  </thead>\n",
              "  <tbody>\n",
              "    <tr>\n",
              "      <th>0</th>\n",
              "      <td>AAA</td>\n",
              "      <td>2013J</td>\n",
              "      <td>11391</td>\n",
              "      <td>-159.0</td>\n",
              "      <td>NaN</td>\n",
              "    </tr>\n",
              "    <tr>\n",
              "      <th>1</th>\n",
              "      <td>AAA</td>\n",
              "      <td>2013J</td>\n",
              "      <td>28400</td>\n",
              "      <td>-53.0</td>\n",
              "      <td>NaN</td>\n",
              "    </tr>\n",
              "    <tr>\n",
              "      <th>2</th>\n",
              "      <td>AAA</td>\n",
              "      <td>2013J</td>\n",
              "      <td>30268</td>\n",
              "      <td>-92.0</td>\n",
              "      <td>12.0</td>\n",
              "    </tr>\n",
              "    <tr>\n",
              "      <th>3</th>\n",
              "      <td>AAA</td>\n",
              "      <td>2013J</td>\n",
              "      <td>31604</td>\n",
              "      <td>-52.0</td>\n",
              "      <td>NaN</td>\n",
              "    </tr>\n",
              "    <tr>\n",
              "      <th>4</th>\n",
              "      <td>AAA</td>\n",
              "      <td>2013J</td>\n",
              "      <td>32885</td>\n",
              "      <td>-176.0</td>\n",
              "      <td>NaN</td>\n",
              "    </tr>\n",
              "  </tbody>\n",
              "</table>\n",
              "</div>"
            ],
            "text/plain": [
              "  code_module code_presentation  ...  date_registration  date_unregistration\n",
              "0         AAA             2013J  ...             -159.0                  NaN\n",
              "1         AAA             2013J  ...              -53.0                  NaN\n",
              "2         AAA             2013J  ...              -92.0                 12.0\n",
              "3         AAA             2013J  ...              -52.0                  NaN\n",
              "4         AAA             2013J  ...             -176.0                  NaN\n",
              "\n",
              "[5 rows x 5 columns]"
            ]
          },
          "metadata": {
            "tags": []
          },
          "execution_count": 12
        }
      ]
    },
    {
      "cell_type": "code",
      "metadata": {
        "colab": {
          "base_uri": "https://localhost:8080/",
          "height": 206
        },
        "id": "Vt7tGgCR5daB",
        "outputId": "cc6c1c08-7ca6-4704-ea9c-22840c540358"
      },
      "source": [
        "student_vle.head()"
      ],
      "execution_count": null,
      "outputs": [
        {
          "output_type": "execute_result",
          "data": {
            "text/html": [
              "<div>\n",
              "<style scoped>\n",
              "    .dataframe tbody tr th:only-of-type {\n",
              "        vertical-align: middle;\n",
              "    }\n",
              "\n",
              "    .dataframe tbody tr th {\n",
              "        vertical-align: top;\n",
              "    }\n",
              "\n",
              "    .dataframe thead th {\n",
              "        text-align: right;\n",
              "    }\n",
              "</style>\n",
              "<table border=\"1\" class=\"dataframe\">\n",
              "  <thead>\n",
              "    <tr style=\"text-align: right;\">\n",
              "      <th></th>\n",
              "      <th>code_module</th>\n",
              "      <th>code_presentation</th>\n",
              "      <th>id_student</th>\n",
              "      <th>id_site</th>\n",
              "      <th>date</th>\n",
              "      <th>sum_click</th>\n",
              "    </tr>\n",
              "  </thead>\n",
              "  <tbody>\n",
              "    <tr>\n",
              "      <th>0</th>\n",
              "      <td>AAA</td>\n",
              "      <td>2013J</td>\n",
              "      <td>28400</td>\n",
              "      <td>546652</td>\n",
              "      <td>-10</td>\n",
              "      <td>4</td>\n",
              "    </tr>\n",
              "    <tr>\n",
              "      <th>1</th>\n",
              "      <td>AAA</td>\n",
              "      <td>2013J</td>\n",
              "      <td>28400</td>\n",
              "      <td>546652</td>\n",
              "      <td>-10</td>\n",
              "      <td>1</td>\n",
              "    </tr>\n",
              "    <tr>\n",
              "      <th>2</th>\n",
              "      <td>AAA</td>\n",
              "      <td>2013J</td>\n",
              "      <td>28400</td>\n",
              "      <td>546652</td>\n",
              "      <td>-10</td>\n",
              "      <td>1</td>\n",
              "    </tr>\n",
              "    <tr>\n",
              "      <th>3</th>\n",
              "      <td>AAA</td>\n",
              "      <td>2013J</td>\n",
              "      <td>28400</td>\n",
              "      <td>546614</td>\n",
              "      <td>-10</td>\n",
              "      <td>11</td>\n",
              "    </tr>\n",
              "    <tr>\n",
              "      <th>4</th>\n",
              "      <td>AAA</td>\n",
              "      <td>2013J</td>\n",
              "      <td>28400</td>\n",
              "      <td>546714</td>\n",
              "      <td>-10</td>\n",
              "      <td>1</td>\n",
              "    </tr>\n",
              "  </tbody>\n",
              "</table>\n",
              "</div>"
            ],
            "text/plain": [
              "  code_module code_presentation  id_student  id_site  date  sum_click\n",
              "0         AAA             2013J       28400   546652   -10          4\n",
              "1         AAA             2013J       28400   546652   -10          1\n",
              "2         AAA             2013J       28400   546652   -10          1\n",
              "3         AAA             2013J       28400   546614   -10         11\n",
              "4         AAA             2013J       28400   546714   -10          1"
            ]
          },
          "metadata": {
            "tags": []
          },
          "execution_count": 13
        }
      ]
    },
    {
      "cell_type": "code",
      "metadata": {
        "colab": {
          "base_uri": "https://localhost:8080/",
          "height": 206
        },
        "id": "UAeaZq-p5ii2",
        "outputId": "4bf8c6ed-8a32-4820-fe8e-16ba0c2c8d62"
      },
      "source": [
        "vle.head()"
      ],
      "execution_count": null,
      "outputs": [
        {
          "output_type": "execute_result",
          "data": {
            "text/html": [
              "<div>\n",
              "<style scoped>\n",
              "    .dataframe tbody tr th:only-of-type {\n",
              "        vertical-align: middle;\n",
              "    }\n",
              "\n",
              "    .dataframe tbody tr th {\n",
              "        vertical-align: top;\n",
              "    }\n",
              "\n",
              "    .dataframe thead th {\n",
              "        text-align: right;\n",
              "    }\n",
              "</style>\n",
              "<table border=\"1\" class=\"dataframe\">\n",
              "  <thead>\n",
              "    <tr style=\"text-align: right;\">\n",
              "      <th></th>\n",
              "      <th>id_site</th>\n",
              "      <th>code_module</th>\n",
              "      <th>code_presentation</th>\n",
              "      <th>activity_type</th>\n",
              "      <th>week_from</th>\n",
              "      <th>week_to</th>\n",
              "    </tr>\n",
              "  </thead>\n",
              "  <tbody>\n",
              "    <tr>\n",
              "      <th>0</th>\n",
              "      <td>546943</td>\n",
              "      <td>AAA</td>\n",
              "      <td>2013J</td>\n",
              "      <td>resource</td>\n",
              "      <td>NaN</td>\n",
              "      <td>NaN</td>\n",
              "    </tr>\n",
              "    <tr>\n",
              "      <th>1</th>\n",
              "      <td>546712</td>\n",
              "      <td>AAA</td>\n",
              "      <td>2013J</td>\n",
              "      <td>oucontent</td>\n",
              "      <td>NaN</td>\n",
              "      <td>NaN</td>\n",
              "    </tr>\n",
              "    <tr>\n",
              "      <th>2</th>\n",
              "      <td>546998</td>\n",
              "      <td>AAA</td>\n",
              "      <td>2013J</td>\n",
              "      <td>resource</td>\n",
              "      <td>NaN</td>\n",
              "      <td>NaN</td>\n",
              "    </tr>\n",
              "    <tr>\n",
              "      <th>3</th>\n",
              "      <td>546888</td>\n",
              "      <td>AAA</td>\n",
              "      <td>2013J</td>\n",
              "      <td>url</td>\n",
              "      <td>NaN</td>\n",
              "      <td>NaN</td>\n",
              "    </tr>\n",
              "    <tr>\n",
              "      <th>4</th>\n",
              "      <td>547035</td>\n",
              "      <td>AAA</td>\n",
              "      <td>2013J</td>\n",
              "      <td>resource</td>\n",
              "      <td>NaN</td>\n",
              "      <td>NaN</td>\n",
              "    </tr>\n",
              "  </tbody>\n",
              "</table>\n",
              "</div>"
            ],
            "text/plain": [
              "   id_site code_module code_presentation activity_type  week_from  week_to\n",
              "0   546943         AAA             2013J      resource        NaN      NaN\n",
              "1   546712         AAA             2013J     oucontent        NaN      NaN\n",
              "2   546998         AAA             2013J      resource        NaN      NaN\n",
              "3   546888         AAA             2013J           url        NaN      NaN\n",
              "4   547035         AAA             2013J      resource        NaN      NaN"
            ]
          },
          "metadata": {
            "tags": []
          },
          "execution_count": 14
        }
      ]
    },
    {
      "cell_type": "code",
      "metadata": {
        "colab": {
          "base_uri": "https://localhost:8080/"
        },
        "id": "WV5sjNJg5j-p",
        "outputId": "4dac913f-35f6-4355-f002-59f57ee7b38b"
      },
      "source": [
        "vle.info()"
      ],
      "execution_count": null,
      "outputs": [
        {
          "output_type": "stream",
          "text": [
            "<class 'pandas.core.frame.DataFrame'>\n",
            "RangeIndex: 6364 entries, 0 to 6363\n",
            "Data columns (total 6 columns):\n",
            " #   Column             Non-Null Count  Dtype  \n",
            "---  ------             --------------  -----  \n",
            " 0   id_site            6364 non-null   int64  \n",
            " 1   code_module        6364 non-null   object \n",
            " 2   code_presentation  6364 non-null   object \n",
            " 3   activity_type      6364 non-null   object \n",
            " 4   week_from          1121 non-null   float64\n",
            " 5   week_to            1121 non-null   float64\n",
            "dtypes: float64(2), int64(1), object(3)\n",
            "memory usage: 298.4+ KB\n"
          ],
          "name": "stdout"
        }
      ]
    },
    {
      "cell_type": "markdown",
      "metadata": {
        "id": "aLGYdlt6_aZo"
      },
      "source": [
        "## Data Merge\n",
        "I will merge all the tables as each row is for each student. However, `num_of_prev_attemts` colums rises a question here.  \n",
        "  \n",
        "Should each row considered as another person or their former interaction informations whould be added on their final attempt.\n",
        "Eventhough the second option sounds more logical data does not provide any information about relationships between rows. So, basically even if their `num_of_revattmepts > 1` we don't know which one is the former attempt. More, it can be that the students 2nd attempt -if they took it before 2013J- and the former attempts may not be in the data. An example `ìd_student = 23629`"
      ]
    },
    {
      "cell_type": "code",
      "metadata": {
        "id": "E4U--DAPFS6M"
      },
      "source": [
        "pd.concat?"
      ],
      "execution_count": null,
      "outputs": []
    },
    {
      "cell_type": "code",
      "metadata": {
        "id": "JKciGSVdFdEO"
      },
      "source": [
        ""
      ],
      "execution_count": null,
      "outputs": []
    }
  ]
}